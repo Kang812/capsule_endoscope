{
 "cells": [
  {
   "cell_type": "markdown",
   "id": "10046158",
   "metadata": {},
   "source": [
    "### import"
   ]
  },
  {
   "cell_type": "code",
   "execution_count": 1,
   "id": "4a9a250e",
   "metadata": {},
   "outputs": [],
   "source": [
    "from mmdet.datasets.builder import DATASETS\n",
    "from mmdet.datasets import CocoDataset\n",
    "from mmdet.datasets import build_dataset\n",
    "from mmdet.models import build_detector\n",
    "from mmdet.apis import train_detector\n",
    "from mmcv import Config"
   ]
  },
  {
   "cell_type": "code",
   "execution_count": 2,
   "id": "291d2da8",
   "metadata": {},
   "outputs": [],
   "source": [
    "# 데이터 셋 등록\n",
    "@DATASETS.register_module(force = True)\n",
    "class CapsuleDataset(CocoDataset):\n",
    "    CLASSES = (\"01_ulcer\", \"02_mass\", \"04_lymph\", \"05_bleeding\")"
   ]
  },
  {
   "cell_type": "code",
   "execution_count": 3,
   "id": "56aaf8a9",
   "metadata": {},
   "outputs": [],
   "source": [
    "# config file, checkpoints 파일 경로 셋팅\n",
    "config_file = \"/home/bgw2001/mmdetection/configs/faster_rcnn/faster_rcnn_r50_fpn_1x_coco.py\"\n",
    "checkpoints_file = \"/home/bgw2001/mmdetection/checkpoints/faster_rcnn_r50_fpn_1x_coco_20200130-047c8118.pth\""
   ]
  },
  {
   "cell_type": "code",
   "execution_count": 4,
   "id": "274c964a",
   "metadata": {},
   "outputs": [
    {
     "name": "stdout",
     "output_type": "stream",
     "text": [
      "model = dict(\n",
      "    type='FasterRCNN',\n",
      "    backbone=dict(\n",
      "        type='ResNet',\n",
      "        depth=50,\n",
      "        num_stages=4,\n",
      "        out_indices=(0, 1, 2, 3),\n",
      "        frozen_stages=1,\n",
      "        norm_cfg=dict(type='BN', requires_grad=True),\n",
      "        norm_eval=True,\n",
      "        style='pytorch',\n",
      "        init_cfg=dict(type='Pretrained', checkpoint='torchvision://resnet50')),\n",
      "    neck=dict(\n",
      "        type='FPN',\n",
      "        in_channels=[256, 512, 1024, 2048],\n",
      "        out_channels=256,\n",
      "        num_outs=5),\n",
      "    rpn_head=dict(\n",
      "        type='RPNHead',\n",
      "        in_channels=256,\n",
      "        feat_channels=256,\n",
      "        anchor_generator=dict(\n",
      "            type='AnchorGenerator',\n",
      "            scales=[8],\n",
      "            ratios=[0.5, 1.0, 2.0],\n",
      "            strides=[4, 8, 16, 32, 64]),\n",
      "        bbox_coder=dict(\n",
      "            type='DeltaXYWHBBoxCoder',\n",
      "            target_means=[0.0, 0.0, 0.0, 0.0],\n",
      "            target_stds=[1.0, 1.0, 1.0, 1.0]),\n",
      "        loss_cls=dict(\n",
      "            type='CrossEntropyLoss', use_sigmoid=True, loss_weight=1.0),\n",
      "        loss_bbox=dict(type='L1Loss', loss_weight=1.0)),\n",
      "    roi_head=dict(\n",
      "        type='StandardRoIHead',\n",
      "        bbox_roi_extractor=dict(\n",
      "            type='SingleRoIExtractor',\n",
      "            roi_layer=dict(type='RoIAlign', output_size=7, sampling_ratio=0),\n",
      "            out_channels=256,\n",
      "            featmap_strides=[4, 8, 16, 32]),\n",
      "        bbox_head=dict(\n",
      "            type='Shared2FCBBoxHead',\n",
      "            in_channels=256,\n",
      "            fc_out_channels=1024,\n",
      "            roi_feat_size=7,\n",
      "            num_classes=80,\n",
      "            bbox_coder=dict(\n",
      "                type='DeltaXYWHBBoxCoder',\n",
      "                target_means=[0.0, 0.0, 0.0, 0.0],\n",
      "                target_stds=[0.1, 0.1, 0.2, 0.2]),\n",
      "            reg_class_agnostic=False,\n",
      "            loss_cls=dict(\n",
      "                type='CrossEntropyLoss', use_sigmoid=False, loss_weight=1.0),\n",
      "            loss_bbox=dict(type='L1Loss', loss_weight=1.0))),\n",
      "    train_cfg=dict(\n",
      "        rpn=dict(\n",
      "            assigner=dict(\n",
      "                type='MaxIoUAssigner',\n",
      "                pos_iou_thr=0.7,\n",
      "                neg_iou_thr=0.3,\n",
      "                min_pos_iou=0.3,\n",
      "                match_low_quality=True,\n",
      "                ignore_iof_thr=-1),\n",
      "            sampler=dict(\n",
      "                type='RandomSampler',\n",
      "                num=256,\n",
      "                pos_fraction=0.5,\n",
      "                neg_pos_ub=-1,\n",
      "                add_gt_as_proposals=False),\n",
      "            allowed_border=-1,\n",
      "            pos_weight=-1,\n",
      "            debug=False),\n",
      "        rpn_proposal=dict(\n",
      "            nms_pre=2000,\n",
      "            max_per_img=1000,\n",
      "            nms=dict(type='nms', iou_threshold=0.7),\n",
      "            min_bbox_size=0),\n",
      "        rcnn=dict(\n",
      "            assigner=dict(\n",
      "                type='MaxIoUAssigner',\n",
      "                pos_iou_thr=0.5,\n",
      "                neg_iou_thr=0.5,\n",
      "                min_pos_iou=0.5,\n",
      "                match_low_quality=False,\n",
      "                ignore_iof_thr=-1),\n",
      "            sampler=dict(\n",
      "                type='RandomSampler',\n",
      "                num=512,\n",
      "                pos_fraction=0.25,\n",
      "                neg_pos_ub=-1,\n",
      "                add_gt_as_proposals=True),\n",
      "            pos_weight=-1,\n",
      "            debug=False)),\n",
      "    test_cfg=dict(\n",
      "        rpn=dict(\n",
      "            nms_pre=1000,\n",
      "            max_per_img=1000,\n",
      "            nms=dict(type='nms', iou_threshold=0.7),\n",
      "            min_bbox_size=0),\n",
      "        rcnn=dict(\n",
      "            score_thr=0.05,\n",
      "            nms=dict(type='nms', iou_threshold=0.5),\n",
      "            max_per_img=100)))\n",
      "dataset_type = 'CocoDataset'\n",
      "data_root = 'data/coco/'\n",
      "img_norm_cfg = dict(\n",
      "    mean=[123.675, 116.28, 103.53], std=[58.395, 57.12, 57.375], to_rgb=True)\n",
      "train_pipeline = [\n",
      "    dict(type='LoadImageFromFile'),\n",
      "    dict(type='LoadAnnotations', with_bbox=True),\n",
      "    dict(type='Resize', img_scale=(1333, 800), keep_ratio=True),\n",
      "    dict(type='RandomFlip', flip_ratio=0.5),\n",
      "    dict(\n",
      "        type='Normalize',\n",
      "        mean=[123.675, 116.28, 103.53],\n",
      "        std=[58.395, 57.12, 57.375],\n",
      "        to_rgb=True),\n",
      "    dict(type='Pad', size_divisor=32),\n",
      "    dict(type='DefaultFormatBundle'),\n",
      "    dict(type='Collect', keys=['img', 'gt_bboxes', 'gt_labels'])\n",
      "]\n",
      "test_pipeline = [\n",
      "    dict(type='LoadImageFromFile'),\n",
      "    dict(\n",
      "        type='MultiScaleFlipAug',\n",
      "        img_scale=(1333, 800),\n",
      "        flip=False,\n",
      "        transforms=[\n",
      "            dict(type='Resize', keep_ratio=True),\n",
      "            dict(type='RandomFlip'),\n",
      "            dict(\n",
      "                type='Normalize',\n",
      "                mean=[123.675, 116.28, 103.53],\n",
      "                std=[58.395, 57.12, 57.375],\n",
      "                to_rgb=True),\n",
      "            dict(type='Pad', size_divisor=32),\n",
      "            dict(type='ImageToTensor', keys=['img']),\n",
      "            dict(type='Collect', keys=['img'])\n",
      "        ])\n",
      "]\n",
      "data = dict(\n",
      "    samples_per_gpu=2,\n",
      "    workers_per_gpu=2,\n",
      "    train=dict(\n",
      "        type='CocoDataset',\n",
      "        ann_file='data/coco/annotations/instances_train2017.json',\n",
      "        img_prefix='data/coco/train2017/',\n",
      "        pipeline=[\n",
      "            dict(type='LoadImageFromFile'),\n",
      "            dict(type='LoadAnnotations', with_bbox=True),\n",
      "            dict(type='Resize', img_scale=(1333, 800), keep_ratio=True),\n",
      "            dict(type='RandomFlip', flip_ratio=0.5),\n",
      "            dict(\n",
      "                type='Normalize',\n",
      "                mean=[123.675, 116.28, 103.53],\n",
      "                std=[58.395, 57.12, 57.375],\n",
      "                to_rgb=True),\n",
      "            dict(type='Pad', size_divisor=32),\n",
      "            dict(type='DefaultFormatBundle'),\n",
      "            dict(type='Collect', keys=['img', 'gt_bboxes', 'gt_labels'])\n",
      "        ]),\n",
      "    val=dict(\n",
      "        type='CocoDataset',\n",
      "        ann_file='data/coco/annotations/instances_val2017.json',\n",
      "        img_prefix='data/coco/val2017/',\n",
      "        pipeline=[\n",
      "            dict(type='LoadImageFromFile'),\n",
      "            dict(\n",
      "                type='MultiScaleFlipAug',\n",
      "                img_scale=(1333, 800),\n",
      "                flip=False,\n",
      "                transforms=[\n",
      "                    dict(type='Resize', keep_ratio=True),\n",
      "                    dict(type='RandomFlip'),\n",
      "                    dict(\n",
      "                        type='Normalize',\n",
      "                        mean=[123.675, 116.28, 103.53],\n",
      "                        std=[58.395, 57.12, 57.375],\n",
      "                        to_rgb=True),\n",
      "                    dict(type='Pad', size_divisor=32),\n",
      "                    dict(type='ImageToTensor', keys=['img']),\n",
      "                    dict(type='Collect', keys=['img'])\n",
      "                ])\n",
      "        ]),\n",
      "    test=dict(\n",
      "        type='CocoDataset',\n",
      "        ann_file='data/coco/annotations/instances_val2017.json',\n",
      "        img_prefix='data/coco/val2017/',\n",
      "        pipeline=[\n",
      "            dict(type='LoadImageFromFile'),\n",
      "            dict(\n",
      "                type='MultiScaleFlipAug',\n",
      "                img_scale=(1333, 800),\n",
      "                flip=False,\n",
      "                transforms=[\n",
      "                    dict(type='Resize', keep_ratio=True),\n",
      "                    dict(type='RandomFlip'),\n",
      "                    dict(\n",
      "                        type='Normalize',\n",
      "                        mean=[123.675, 116.28, 103.53],\n",
      "                        std=[58.395, 57.12, 57.375],\n",
      "                        to_rgb=True),\n",
      "                    dict(type='Pad', size_divisor=32),\n",
      "                    dict(type='ImageToTensor', keys=['img']),\n",
      "                    dict(type='Collect', keys=['img'])\n",
      "                ])\n",
      "        ]))\n",
      "evaluation = dict(interval=1, metric='bbox')\n",
      "optimizer = dict(type='SGD', lr=0.02, momentum=0.9, weight_decay=0.0001)\n",
      "optimizer_config = dict(grad_clip=None)\n",
      "lr_config = dict(\n",
      "    policy='step',\n",
      "    warmup='linear',\n",
      "    warmup_iters=500,\n",
      "    warmup_ratio=0.001,\n",
      "    step=[8, 11])\n",
      "runner = dict(type='EpochBasedRunner', max_epochs=12)\n",
      "checkpoint_config = dict(interval=1)\n",
      "log_config = dict(interval=50, hooks=[dict(type='TextLoggerHook')])\n",
      "custom_hooks = [dict(type='NumClassCheckHook')]\n",
      "dist_params = dict(backend='nccl')\n",
      "log_level = 'INFO'\n",
      "load_from = None\n",
      "resume_from = None\n",
      "workflow = [('train', 1)]\n",
      "\n"
     ]
    }
   ],
   "source": [
    "cfg = Config.fromfile(config_file)\n",
    "print(cfg.pretty_text)"
   ]
  },
  {
   "cell_type": "code",
   "execution_count": 5,
   "id": "a9a79ef0",
   "metadata": {},
   "outputs": [],
   "source": [
    "from mmdet.apis import set_random_seed\n",
    "\n",
    "## config file setting\n",
    "cfg.seed = 0\n",
    "set_random_seed(0, deterministic=False)\n",
    "\n",
    "cfg.model.roi_head.bbox_head.num_classes = 4\n",
    "\n",
    "cfg.dataset_type = \"CapsuleDataset\"\n",
    "\n",
    "cfg.dataset_type = 'CapsuleDataset'\n",
    "cfg.data_root = \"/media/bgw2001/One Touch/project/HardCover_ObjectDetection/data/images/\"\n",
    "\n",
    "cfg.data.train.type = 'CapsuleDataset'\n",
    "cfg.data.train.data_root = \"/media/bgw2001/One Touch/project/HardCover_ObjectDetection/data/images/\"\n",
    "cfg.data.train.ann_file = \"train.json\"\n",
    "cfg.data.train.img_prefix = \"train\"\n",
    "\n",
    "cfg.data.val.type = 'CapsuleDataset'\n",
    "cfg.data.val.data_root = \"/media/bgw2001/One Touch/project/HardCover_ObjectDetection/data/images/\"\n",
    "cfg.data.val.ann_file = \"valid.json\"\n",
    "cfg.data.val.img_prefix = \"valid\"\n",
    "\n",
    "cfg.data.test.type = 'CapsuleDataset'\n",
    "cfg.data.test.data_root = \"/media/bgw2001/One Touch/project/HardCover_ObjectDetection/data/images/\"\n",
    "cfg.data.test.ann_file = \"test.json\"\n",
    "cfg.data.test.img_prefix = \"test\"\n",
    "\n",
    "cfg.evaluation.interval = 1\n",
    "cfg.optimizer.lr = 0.01\n",
    "\n",
    "cfg.lr_config.policy = 'step'\n",
    "cfg.lr_config.warmup = None\n",
    "cfg.lr_config.step = [16, 22]\n",
    "cfg.lr_config.gamma = 0.1\n",
    "\n",
    "\n",
    "cfg.log_config.interval = 100\n",
    "cfg.runner.max_epochs = 25\n",
    "\n",
    "cfg.checkpoint_config.interval = 1\n",
    "\n",
    "cfg.load_from = \"/home/bgw2001/mmdetection/checkpoints/faster_rcnn_r50_fpn_1x_coco_20200130-047c8118.pth\"\n",
    "cfg.work_dir = \"/home/bgw2001/mmdetection/work_dir/\"\n",
    "\n",
    "cfg.gpu_ids = range(1)\n",
    "cfg.data.samples_per_gpu = 8\n",
    "\n",
    "albu_train_transforms = [\n",
    "    dict(\n",
    "        type='HorizontalFlip',\n",
    "        p=0.5)\n",
    "]\n",
    "\n",
    "train_pipeline = [\n",
    "    dict(type='LoadImageFromFile'),\n",
    "    dict(type='LoadAnnotations', with_bbox=True, with_mask=True),\n",
    "    dict(type='Resize', img_scale=(1333, 800), keep_ratio=True),\n",
    "    dict(type='RandomFlip', flip_ratio=0.5),\n",
    "    dict(\n",
    "        type='Albu',\n",
    "        transforms=albu_train_transforms,\n",
    "        bbox_params=dict(\n",
    "        type='BboxParams',\n",
    "        format='pascal_voc',\n",
    "        label_fields=['gt_labels'],\n",
    "        min_visibility=0.0,\n",
    "        filter_lost_elements=True),\n",
    "        keymap=dict(img='image', gt_bboxes='bboxes'),\n",
    "        update_pad_shape=False,\n",
    "        skip_img_without_anno=True),\n",
    "    dict(\n",
    "        type='Normalize',\n",
    "        mean=[123.675, 116.28, 103.53],\n",
    "        std=[58.395, 57.12, 57.375],\n",
    "        to_rgb=True),\n",
    "    dict(type='Pad', size_divisor=32),\n",
    "    dict(type='DefaultFormatBundle'),\n",
    "    dict(type='Collect', keys=['img', 'gt_bboxes', 'gt_labels'])\n",
    "]\n",
    "\n",
    "cfg.train_pipeline = train_pipeline\n",
    "cfg.data.train.pipeline = train_pipeline"
   ]
  },
  {
   "cell_type": "code",
   "execution_count": 6,
   "id": "ed441e67",
   "metadata": {},
   "outputs": [
    {
     "name": "stdout",
     "output_type": "stream",
     "text": [
      "model = dict(\n",
      "    type='FasterRCNN',\n",
      "    backbone=dict(\n",
      "        type='ResNet',\n",
      "        depth=50,\n",
      "        num_stages=4,\n",
      "        out_indices=(0, 1, 2, 3),\n",
      "        frozen_stages=1,\n",
      "        norm_cfg=dict(type='BN', requires_grad=True),\n",
      "        norm_eval=True,\n",
      "        style='pytorch',\n",
      "        init_cfg=dict(type='Pretrained', checkpoint='torchvision://resnet50')),\n",
      "    neck=dict(\n",
      "        type='FPN',\n",
      "        in_channels=[256, 512, 1024, 2048],\n",
      "        out_channels=256,\n",
      "        num_outs=5),\n",
      "    rpn_head=dict(\n",
      "        type='RPNHead',\n",
      "        in_channels=256,\n",
      "        feat_channels=256,\n",
      "        anchor_generator=dict(\n",
      "            type='AnchorGenerator',\n",
      "            scales=[8],\n",
      "            ratios=[0.5, 1.0, 2.0],\n",
      "            strides=[4, 8, 16, 32, 64]),\n",
      "        bbox_coder=dict(\n",
      "            type='DeltaXYWHBBoxCoder',\n",
      "            target_means=[0.0, 0.0, 0.0, 0.0],\n",
      "            target_stds=[1.0, 1.0, 1.0, 1.0]),\n",
      "        loss_cls=dict(\n",
      "            type='CrossEntropyLoss', use_sigmoid=True, loss_weight=1.0),\n",
      "        loss_bbox=dict(type='L1Loss', loss_weight=1.0)),\n",
      "    roi_head=dict(\n",
      "        type='StandardRoIHead',\n",
      "        bbox_roi_extractor=dict(\n",
      "            type='SingleRoIExtractor',\n",
      "            roi_layer=dict(type='RoIAlign', output_size=7, sampling_ratio=0),\n",
      "            out_channels=256,\n",
      "            featmap_strides=[4, 8, 16, 32]),\n",
      "        bbox_head=dict(\n",
      "            type='Shared2FCBBoxHead',\n",
      "            in_channels=256,\n",
      "            fc_out_channels=1024,\n",
      "            roi_feat_size=7,\n",
      "            num_classes=4,\n",
      "            bbox_coder=dict(\n",
      "                type='DeltaXYWHBBoxCoder',\n",
      "                target_means=[0.0, 0.0, 0.0, 0.0],\n",
      "                target_stds=[0.1, 0.1, 0.2, 0.2]),\n",
      "            reg_class_agnostic=False,\n",
      "            loss_cls=dict(\n",
      "                type='CrossEntropyLoss', use_sigmoid=False, loss_weight=1.0),\n",
      "            loss_bbox=dict(type='L1Loss', loss_weight=1.0))),\n",
      "    train_cfg=dict(\n",
      "        rpn=dict(\n",
      "            assigner=dict(\n",
      "                type='MaxIoUAssigner',\n",
      "                pos_iou_thr=0.7,\n",
      "                neg_iou_thr=0.3,\n",
      "                min_pos_iou=0.3,\n",
      "                match_low_quality=True,\n",
      "                ignore_iof_thr=-1),\n",
      "            sampler=dict(\n",
      "                type='RandomSampler',\n",
      "                num=256,\n",
      "                pos_fraction=0.5,\n",
      "                neg_pos_ub=-1,\n",
      "                add_gt_as_proposals=False),\n",
      "            allowed_border=-1,\n",
      "            pos_weight=-1,\n",
      "            debug=False),\n",
      "        rpn_proposal=dict(\n",
      "            nms_pre=2000,\n",
      "            max_per_img=1000,\n",
      "            nms=dict(type='nms', iou_threshold=0.7),\n",
      "            min_bbox_size=0),\n",
      "        rcnn=dict(\n",
      "            assigner=dict(\n",
      "                type='MaxIoUAssigner',\n",
      "                pos_iou_thr=0.5,\n",
      "                neg_iou_thr=0.5,\n",
      "                min_pos_iou=0.5,\n",
      "                match_low_quality=False,\n",
      "                ignore_iof_thr=-1),\n",
      "            sampler=dict(\n",
      "                type='RandomSampler',\n",
      "                num=512,\n",
      "                pos_fraction=0.25,\n",
      "                neg_pos_ub=-1,\n",
      "                add_gt_as_proposals=True),\n",
      "            pos_weight=-1,\n",
      "            debug=False)),\n",
      "    test_cfg=dict(\n",
      "        rpn=dict(\n",
      "            nms_pre=1000,\n",
      "            max_per_img=1000,\n",
      "            nms=dict(type='nms', iou_threshold=0.7),\n",
      "            min_bbox_size=0),\n",
      "        rcnn=dict(\n",
      "            score_thr=0.05,\n",
      "            nms=dict(type='nms', iou_threshold=0.5),\n",
      "            max_per_img=100)))\n",
      "dataset_type = 'CapsuleDataset'\n",
      "data_root = '/media/bgw2001/One Touch/project/HardCover_ObjectDetection/data/images/'\n",
      "img_norm_cfg = dict(\n",
      "    mean=[123.675, 116.28, 103.53], std=[58.395, 57.12, 57.375], to_rgb=True)\n",
      "train_pipeline = [\n",
      "    dict(type='LoadImageFromFile'),\n",
      "    dict(type='LoadAnnotations', with_bbox=True, with_mask=True),\n",
      "    dict(type='Resize', img_scale=(1333, 800), keep_ratio=True),\n",
      "    dict(type='RandomFlip', flip_ratio=0.5),\n",
      "    dict(\n",
      "        type='Albu',\n",
      "        transforms=[dict(type='HorizontalFlip', p=0.5)],\n",
      "        bbox_params=dict(\n",
      "            type='BboxParams',\n",
      "            format='pascal_voc',\n",
      "            label_fields=['gt_labels'],\n",
      "            min_visibility=0.0,\n",
      "            filter_lost_elements=True),\n",
      "        keymap=dict(img='image', gt_bboxes='bboxes'),\n",
      "        update_pad_shape=False,\n",
      "        skip_img_without_anno=True),\n",
      "    dict(\n",
      "        type='Normalize',\n",
      "        mean=[123.675, 116.28, 103.53],\n",
      "        std=[58.395, 57.12, 57.375],\n",
      "        to_rgb=True),\n",
      "    dict(type='Pad', size_divisor=32),\n",
      "    dict(type='DefaultFormatBundle'),\n",
      "    dict(type='Collect', keys=['img', 'gt_bboxes', 'gt_labels'])\n",
      "]\n",
      "test_pipeline = [\n",
      "    dict(type='LoadImageFromFile'),\n",
      "    dict(\n",
      "        type='MultiScaleFlipAug',\n",
      "        img_scale=(1333, 800),\n",
      "        flip=False,\n",
      "        transforms=[\n",
      "            dict(type='Resize', keep_ratio=True),\n",
      "            dict(type='RandomFlip'),\n",
      "            dict(\n",
      "                type='Normalize',\n",
      "                mean=[123.675, 116.28, 103.53],\n",
      "                std=[58.395, 57.12, 57.375],\n",
      "                to_rgb=True),\n",
      "            dict(type='Pad', size_divisor=32),\n",
      "            dict(type='ImageToTensor', keys=['img']),\n",
      "            dict(type='Collect', keys=['img'])\n",
      "        ])\n",
      "]\n",
      "data = dict(\n",
      "    samples_per_gpu=8,\n",
      "    workers_per_gpu=2,\n",
      "    train=dict(\n",
      "        type='CapsuleDataset',\n",
      "        ann_file='train.json',\n",
      "        img_prefix='train',\n",
      "        pipeline=[\n",
      "            dict(type='LoadImageFromFile'),\n",
      "            dict(type='LoadAnnotations', with_bbox=True, with_mask=True),\n",
      "            dict(type='Resize', img_scale=(1333, 800), keep_ratio=True),\n",
      "            dict(type='RandomFlip', flip_ratio=0.5),\n",
      "            dict(\n",
      "                type='Albu',\n",
      "                transforms=[dict(type='HorizontalFlip', p=0.5)],\n",
      "                bbox_params=dict(\n",
      "                    type='BboxParams',\n",
      "                    format='pascal_voc',\n",
      "                    label_fields=['gt_labels'],\n",
      "                    min_visibility=0.0,\n",
      "                    filter_lost_elements=True),\n",
      "                keymap=dict(img='image', gt_bboxes='bboxes'),\n",
      "                update_pad_shape=False,\n",
      "                skip_img_without_anno=True),\n",
      "            dict(\n",
      "                type='Normalize',\n",
      "                mean=[123.675, 116.28, 103.53],\n",
      "                std=[58.395, 57.12, 57.375],\n",
      "                to_rgb=True),\n",
      "            dict(type='Pad', size_divisor=32),\n",
      "            dict(type='DefaultFormatBundle'),\n",
      "            dict(type='Collect', keys=['img', 'gt_bboxes', 'gt_labels'])\n",
      "        ],\n",
      "        data_root=\n",
      "        '/media/bgw2001/One Touch/project/HardCover_ObjectDetection/data/images/'\n",
      "    ),\n",
      "    val=dict(\n",
      "        type='CapsuleDataset',\n",
      "        ann_file='valid.json',\n",
      "        img_prefix='valid',\n",
      "        pipeline=[\n",
      "            dict(type='LoadImageFromFile'),\n",
      "            dict(\n",
      "                type='MultiScaleFlipAug',\n",
      "                img_scale=(1333, 800),\n",
      "                flip=False,\n",
      "                transforms=[\n",
      "                    dict(type='Resize', keep_ratio=True),\n",
      "                    dict(type='RandomFlip'),\n",
      "                    dict(\n",
      "                        type='Normalize',\n",
      "                        mean=[123.675, 116.28, 103.53],\n",
      "                        std=[58.395, 57.12, 57.375],\n",
      "                        to_rgb=True),\n",
      "                    dict(type='Pad', size_divisor=32),\n",
      "                    dict(type='ImageToTensor', keys=['img']),\n",
      "                    dict(type='Collect', keys=['img'])\n",
      "                ])\n",
      "        ],\n",
      "        data_root=\n",
      "        '/media/bgw2001/One Touch/project/HardCover_ObjectDetection/data/images/'\n",
      "    ),\n",
      "    test=dict(\n",
      "        type='CapsuleDataset',\n",
      "        ann_file='test.json',\n",
      "        img_prefix='test',\n",
      "        pipeline=[\n",
      "            dict(type='LoadImageFromFile'),\n",
      "            dict(\n",
      "                type='MultiScaleFlipAug',\n",
      "                img_scale=(1333, 800),\n",
      "                flip=False,\n",
      "                transforms=[\n",
      "                    dict(type='Resize', keep_ratio=True),\n",
      "                    dict(type='RandomFlip'),\n",
      "                    dict(\n",
      "                        type='Normalize',\n",
      "                        mean=[123.675, 116.28, 103.53],\n",
      "                        std=[58.395, 57.12, 57.375],\n",
      "                        to_rgb=True),\n",
      "                    dict(type='Pad', size_divisor=32),\n",
      "                    dict(type='ImageToTensor', keys=['img']),\n",
      "                    dict(type='Collect', keys=['img'])\n",
      "                ])\n",
      "        ],\n",
      "        data_root=\n",
      "        '/media/bgw2001/One Touch/project/HardCover_ObjectDetection/data/images/'\n",
      "    ))\n",
      "evaluation = dict(interval=1, metric='bbox')\n",
      "optimizer = dict(type='SGD', lr=0.01, momentum=0.9, weight_decay=0.0001)\n",
      "optimizer_config = dict(grad_clip=None)\n",
      "lr_config = dict(\n",
      "    policy='step',\n",
      "    warmup=None,\n",
      "    warmup_iters=500,\n",
      "    warmup_ratio=0.001,\n",
      "    step=[16, 22],\n",
      "    gamma=0.1)\n",
      "runner = dict(type='EpochBasedRunner', max_epochs=25)\n",
      "checkpoint_config = dict(interval=1)\n",
      "log_config = dict(interval=100, hooks=[dict(type='TextLoggerHook')])\n",
      "custom_hooks = [dict(type='NumClassCheckHook')]\n",
      "dist_params = dict(backend='nccl')\n",
      "log_level = 'INFO'\n",
      "load_from = '/home/bgw2001/mmdetection/checkpoints/faster_rcnn_r50_fpn_1x_coco_20200130-047c8118.pth'\n",
      "resume_from = None\n",
      "workflow = [('train', 1)]\n",
      "seed = 0\n",
      "work_dir = '/home/bgw2001/mmdetection/work_dir/'\n",
      "gpu_ids = range(0, 1)\n",
      "\n"
     ]
    }
   ],
   "source": [
    "print(cfg.pretty_text)"
   ]
  },
  {
   "cell_type": "code",
   "execution_count": 7,
   "id": "a2d6e1e1",
   "metadata": {},
   "outputs": [
    {
     "name": "stdout",
     "output_type": "stream",
     "text": [
      "loading annotations into memory...\n",
      "Done (t=0.39s)\n",
      "creating index...\n",
      "index created!\n"
     ]
    }
   ],
   "source": [
    "datasets = [build_dataset(cfg.data.train)]"
   ]
  },
  {
   "cell_type": "code",
   "execution_count": 8,
   "id": "6f1b91a4",
   "metadata": {},
   "outputs": [
    {
     "data": {
      "text/plain": [
       "\n",
       "CapsuleDataset Train dataset with number of images 37573, and instance counts: \n",
       "+--------------+-------+-------------+-------+--------------+-------+-----------------+-------+---------------+-------+\n",
       "| category     | count | category    | count | category     | count | category        | count | category      | count |\n",
       "+--------------+-------+-------------+-------+--------------+-------+-----------------+-------+---------------+-------+\n",
       "| 0 [01_ulcer] | 23439 | 1 [02_mass] | 5795  | 2 [04_lymph] | 7156  | 3 [05_bleeding] | 11815 | -1 background | 0     |\n",
       "+--------------+-------+-------------+-------+--------------+-------+-----------------+-------+---------------+-------+"
      ]
     },
     "execution_count": 8,
     "metadata": {},
     "output_type": "execute_result"
    }
   ],
   "source": [
    "datasets[0]"
   ]
  },
  {
   "cell_type": "code",
   "execution_count": 9,
   "id": "c36e299c",
   "metadata": {},
   "outputs": [
    {
     "data": {
      "text/plain": [
       "('01_ulcer', '02_mass', '04_lymph', '05_bleeding')"
      ]
     },
     "execution_count": 9,
     "metadata": {},
     "output_type": "execute_result"
    }
   ],
   "source": [
    "datasets[0].CLASSES"
   ]
  },
  {
   "cell_type": "code",
   "execution_count": 10,
   "id": "32b6c666",
   "metadata": {},
   "outputs": [
    {
     "name": "stdout",
     "output_type": "stream",
     "text": [
      "('01_ulcer', '02_mass', '04_lymph', '05_bleeding')\n"
     ]
    }
   ],
   "source": [
    "model = build_detector(cfg.model, train_cfg=cfg.get('train_cfg'), test_cfg = cfg.get('test_cfg'))\n",
    "model.CLASSES = datasets[0].CLASSES\n",
    "print(model.CLASSES)"
   ]
  },
  {
   "cell_type": "code",
   "execution_count": 11,
   "id": "133459fa",
   "metadata": {
    "scrolled": true
   },
   "outputs": [
    {
     "name": "stderr",
     "output_type": "stream",
     "text": [
      "2021-11-28 18:44:00,599 - mmdet - INFO - load checkpoint from /home/bgw2001/mmdetection/checkpoints/faster_rcnn_r50_fpn_1x_coco_20200130-047c8118.pth\n",
      "2021-11-28 18:44:00,600 - mmdet - INFO - Use load_from_local loader\n"
     ]
    },
    {
     "name": "stdout",
     "output_type": "stream",
     "text": [
      "loading annotations into memory...\n",
      "Done (t=0.08s)\n",
      "creating index...\n",
      "index created!\n"
     ]
    },
    {
     "name": "stderr",
     "output_type": "stream",
     "text": [
      "2021-11-28 18:44:00,707 - mmdet - WARNING - The model and loaded state dict do not match exactly\n",
      "\n",
      "size mismatch for roi_head.bbox_head.fc_cls.weight: copying a param with shape torch.Size([81, 1024]) from checkpoint, the shape in current model is torch.Size([5, 1024]).\n",
      "size mismatch for roi_head.bbox_head.fc_cls.bias: copying a param with shape torch.Size([81]) from checkpoint, the shape in current model is torch.Size([5]).\n",
      "size mismatch for roi_head.bbox_head.fc_reg.weight: copying a param with shape torch.Size([320, 1024]) from checkpoint, the shape in current model is torch.Size([16, 1024]).\n",
      "size mismatch for roi_head.bbox_head.fc_reg.bias: copying a param with shape torch.Size([320]) from checkpoint, the shape in current model is torch.Size([16]).\n",
      "2021-11-28 18:44:00,710 - mmdet - INFO - Start running, host: bgw2001@bgw2001-All-Series, work_dir: /home/bgw2001/mmdetection/work_dir\n",
      "2021-11-28 18:44:00,711 - mmdet - INFO - Hooks will be executed in the following order:\n",
      "before_run:\n",
      "(VERY_HIGH   ) StepLrUpdaterHook                  \n",
      "(NORMAL      ) CheckpointHook                     \n",
      "(LOW         ) EvalHook                           \n",
      "(VERY_LOW    ) TextLoggerHook                     \n",
      " -------------------- \n",
      "before_train_epoch:\n",
      "(VERY_HIGH   ) StepLrUpdaterHook                  \n",
      "(NORMAL      ) NumClassCheckHook                  \n",
      "(LOW         ) IterTimerHook                      \n",
      "(LOW         ) EvalHook                           \n",
      "(VERY_LOW    ) TextLoggerHook                     \n",
      " -------------------- \n",
      "before_train_iter:\n",
      "(VERY_HIGH   ) StepLrUpdaterHook                  \n",
      "(LOW         ) IterTimerHook                      \n",
      "(LOW         ) EvalHook                           \n",
      " -------------------- \n",
      "after_train_iter:\n",
      "(ABOVE_NORMAL) OptimizerHook                      \n",
      "(NORMAL      ) CheckpointHook                     \n",
      "(LOW         ) IterTimerHook                      \n",
      "(LOW         ) EvalHook                           \n",
      "(VERY_LOW    ) TextLoggerHook                     \n",
      " -------------------- \n",
      "after_train_epoch:\n",
      "(NORMAL      ) CheckpointHook                     \n",
      "(LOW         ) EvalHook                           \n",
      "(VERY_LOW    ) TextLoggerHook                     \n",
      " -------------------- \n",
      "before_val_epoch:\n",
      "(NORMAL      ) NumClassCheckHook                  \n",
      "(LOW         ) IterTimerHook                      \n",
      "(VERY_LOW    ) TextLoggerHook                     \n",
      " -------------------- \n",
      "before_val_iter:\n",
      "(LOW         ) IterTimerHook                      \n",
      " -------------------- \n",
      "after_val_iter:\n",
      "(LOW         ) IterTimerHook                      \n",
      " -------------------- \n",
      "after_val_epoch:\n",
      "(VERY_LOW    ) TextLoggerHook                     \n",
      " -------------------- \n",
      "2021-11-28 18:44:00,712 - mmdet - INFO - workflow: [('train', 1)], max: 25 epochs\n",
      "/home/bgw2001/anaconda3/envs/py3.8/lib/python3.8/site-packages/torch/nn/functional.py:718: UserWarning: Named tensors and all their associated APIs are an experimental feature and subject to change. Please do not use them for anything important until they are released as stable. (Triggered internally at  /pytorch/c10/core/TensorImpl.h:1156.)\n",
      "  return torch.max_pool2d(input, kernel_size, stride, padding, dilation, ceil_mode)\n",
      "2021-11-28 18:45:42,956 - mmdet - INFO - Epoch [1][100/4697]\tlr: 1.000e-02, eta: 1 day, 9:14:47, time: 1.020, data_time: 0.033, memory: 8318, loss_rpn_cls: 0.0323, loss_rpn_bbox: 0.0088, loss_cls: 0.1734, acc: 96.1797, loss_bbox: 0.1119, loss: 0.3263\n",
      "2021-11-28 18:47:26,939 - mmdet - INFO - Epoch [1][200/4697]\tlr: 1.000e-02, eta: 1 day, 9:32:39, time: 1.040, data_time: 0.013, memory: 8318, loss_rpn_cls: 0.0180, loss_rpn_bbox: 0.0079, loss_cls: 0.1628, acc: 96.2415, loss_bbox: 0.1270, loss: 0.3157\n",
      "2021-11-28 18:49:10,286 - mmdet - INFO - Epoch [1][300/4697]\tlr: 1.000e-02, eta: 1 day, 9:33:06, time: 1.033, data_time: 0.014, memory: 8318, loss_rpn_cls: 0.0180, loss_rpn_bbox: 0.0078, loss_cls: 0.1501, acc: 96.2451, loss_bbox: 0.1176, loss: 0.2934\n",
      "2021-11-28 18:50:53,501 - mmdet - INFO - Epoch [1][400/4697]\tlr: 1.000e-02, eta: 1 day, 9:31:49, time: 1.032, data_time: 0.014, memory: 8318, loss_rpn_cls: 0.0172, loss_rpn_bbox: 0.0081, loss_cls: 0.1458, acc: 96.0598, loss_bbox: 0.1219, loss: 0.2930\n",
      "2021-11-28 18:52:38,685 - mmdet - INFO - Epoch [1][500/4697]\tlr: 1.000e-02, eta: 1 day, 9:38:01, time: 1.052, data_time: 0.014, memory: 8318, loss_rpn_cls: 0.0144, loss_rpn_bbox: 0.0074, loss_cls: 0.1350, acc: 95.9497, loss_bbox: 0.1249, loss: 0.2816\n",
      "2021-11-28 18:54:22,886 - mmdet - INFO - Epoch [1][600/4697]\tlr: 1.000e-02, eta: 1 day, 9:38:23, time: 1.042, data_time: 0.013, memory: 8318, loss_rpn_cls: 0.0140, loss_rpn_bbox: 0.0076, loss_cls: 0.1337, acc: 95.9429, loss_bbox: 0.1278, loss: 0.2830\n",
      "2021-11-28 18:56:05,096 - mmdet - INFO - Epoch [1][700/4697]\tlr: 1.000e-02, eta: 1 day, 9:32:38, time: 1.022, data_time: 0.013, memory: 8318, loss_rpn_cls: 0.0133, loss_rpn_bbox: 0.0074, loss_cls: 0.1360, acc: 95.8228, loss_bbox: 0.1277, loss: 0.2845\n",
      "2021-11-28 18:57:45,048 - mmdet - INFO - Epoch [1][800/4697]\tlr: 1.000e-02, eta: 1 day, 9:22:23, time: 1.000, data_time: 0.013, memory: 8318, loss_rpn_cls: 0.0150, loss_rpn_bbox: 0.0074, loss_cls: 0.1295, acc: 96.0376, loss_bbox: 0.1191, loss: 0.2710\n",
      "2021-11-28 18:59:24,863 - mmdet - INFO - Epoch [1][900/4697]\tlr: 1.000e-02, eta: 1 day, 9:13:46, time: 0.998, data_time: 0.013, memory: 8318, loss_rpn_cls: 0.0135, loss_rpn_bbox: 0.0071, loss_cls: 0.1292, acc: 95.9370, loss_bbox: 0.1223, loss: 0.2721\n",
      "2021-11-28 19:01:04,535 - mmdet - INFO - Epoch [1][1000/4697]\tlr: 1.000e-02, eta: 1 day, 9:06:15, time: 0.997, data_time: 0.013, memory: 8318, loss_rpn_cls: 0.0133, loss_rpn_bbox: 0.0071, loss_cls: 0.1261, acc: 96.0955, loss_bbox: 0.1196, loss: 0.2661\n",
      "2021-11-28 19:02:44,367 - mmdet - INFO - Epoch [1][1100/4697]\tlr: 1.000e-02, eta: 1 day, 9:00:05, time: 0.998, data_time: 0.013, memory: 8318, loss_rpn_cls: 0.0129, loss_rpn_bbox: 0.0073, loss_cls: 0.1245, acc: 95.9321, loss_bbox: 0.1219, loss: 0.2667\n",
      "2021-11-28 19:04:24,118 - mmdet - INFO - Epoch [1][1200/4697]\tlr: 1.000e-02, eta: 1 day, 8:54:32, time: 0.997, data_time: 0.013, memory: 8318, loss_rpn_cls: 0.0125, loss_rpn_bbox: 0.0075, loss_cls: 0.1246, acc: 95.9739, loss_bbox: 0.1231, loss: 0.2678\n",
      "2021-11-28 19:06:04,053 - mmdet - INFO - Epoch [1][1300/4697]\tlr: 1.000e-02, eta: 1 day, 8:49:52, time: 0.999, data_time: 0.013, memory: 8318, loss_rpn_cls: 0.0120, loss_rpn_bbox: 0.0072, loss_cls: 0.1218, acc: 96.0166, loss_bbox: 0.1204, loss: 0.2613\n",
      "2021-11-28 19:07:45,735 - mmdet - INFO - Epoch [1][1400/4697]\tlr: 1.000e-02, eta: 1 day, 8:47:57, time: 1.016, data_time: 0.013, memory: 8318, loss_rpn_cls: 0.0126, loss_rpn_bbox: 0.0073, loss_cls: 0.1197, acc: 96.1340, loss_bbox: 0.1194, loss: 0.2590\n",
      "2021-11-28 19:09:25,733 - mmdet - INFO - Epoch [1][1500/4697]\tlr: 1.000e-02, eta: 1 day, 8:44:03, time: 1.001, data_time: 0.014, memory: 8318, loss_rpn_cls: 0.0118, loss_rpn_bbox: 0.0072, loss_cls: 0.1248, acc: 95.9939, loss_bbox: 0.1247, loss: 0.2685\n",
      "2021-11-28 19:11:05,131 - mmdet - INFO - Epoch [1][1600/4697]\tlr: 1.000e-02, eta: 1 day, 8:39:38, time: 0.994, data_time: 0.013, memory: 8318, loss_rpn_cls: 0.0108, loss_rpn_bbox: 0.0070, loss_cls: 0.1236, acc: 96.0435, loss_bbox: 0.1193, loss: 0.2607\n",
      "2021-11-28 19:12:44,757 - mmdet - INFO - Epoch [1][1700/4697]\tlr: 1.000e-02, eta: 1 day, 8:35:48, time: 0.996, data_time: 0.013, memory: 8318, loss_rpn_cls: 0.0115, loss_rpn_bbox: 0.0071, loss_cls: 0.1238, acc: 95.9351, loss_bbox: 0.1246, loss: 0.2671\n",
      "2021-11-28 19:14:24,670 - mmdet - INFO - Epoch [1][1800/4697]\tlr: 1.000e-02, eta: 1 day, 8:32:30, time: 0.999, data_time: 0.014, memory: 8318, loss_rpn_cls: 0.0110, loss_rpn_bbox: 0.0067, loss_cls: 0.1189, acc: 96.1553, loss_bbox: 0.1180, loss: 0.2547\n",
      "2021-11-28 19:16:04,401 - mmdet - INFO - Epoch [1][1900/4697]\tlr: 1.000e-02, eta: 1 day, 8:29:13, time: 0.997, data_time: 0.013, memory: 8318, loss_rpn_cls: 0.0108, loss_rpn_bbox: 0.0068, loss_cls: 0.1142, acc: 96.1973, loss_bbox: 0.1149, loss: 0.2466\n",
      "2021-11-28 19:17:44,138 - mmdet - INFO - Epoch [1][2000/4697]\tlr: 1.000e-02, eta: 1 day, 8:26:05, time: 0.997, data_time: 0.013, memory: 8318, loss_rpn_cls: 0.0127, loss_rpn_bbox: 0.0079, loss_cls: 0.1247, acc: 95.9373, loss_bbox: 0.1241, loss: 0.2694\n"
     ]
    },
    {
     "name": "stderr",
     "output_type": "stream",
     "text": [
      "2021-11-28 19:19:23,816 - mmdet - INFO - Epoch [1][2100/4697]\tlr: 1.000e-02, eta: 1 day, 8:23:02, time: 0.997, data_time: 0.013, memory: 8318, loss_rpn_cls: 0.0106, loss_rpn_bbox: 0.0068, loss_cls: 0.1238, acc: 95.9102, loss_bbox: 0.1225, loss: 0.2637\n",
      "2021-11-28 19:21:03,611 - mmdet - INFO - Epoch [1][2200/4697]\tlr: 1.000e-02, eta: 1 day, 8:20:13, time: 0.998, data_time: 0.013, memory: 8318, loss_rpn_cls: 0.0104, loss_rpn_bbox: 0.0070, loss_cls: 0.1210, acc: 96.0664, loss_bbox: 0.1201, loss: 0.2584\n",
      "2021-11-28 19:22:43,434 - mmdet - INFO - Epoch [1][2300/4697]\tlr: 1.000e-02, eta: 1 day, 8:17:32, time: 0.998, data_time: 0.013, memory: 8318, loss_rpn_cls: 0.0114, loss_rpn_bbox: 0.0070, loss_cls: 0.1145, acc: 96.1621, loss_bbox: 0.1187, loss: 0.2516\n",
      "2021-11-28 19:24:23,484 - mmdet - INFO - Epoch [1][2400/4697]\tlr: 1.000e-02, eta: 1 day, 8:15:06, time: 1.000, data_time: 0.013, memory: 8318, loss_rpn_cls: 0.0109, loss_rpn_bbox: 0.0071, loss_cls: 0.1205, acc: 95.9946, loss_bbox: 0.1187, loss: 0.2572\n",
      "2021-11-28 19:26:03,012 - mmdet - INFO - Epoch [1][2500/4697]\tlr: 1.000e-02, eta: 1 day, 8:12:20, time: 0.995, data_time: 0.013, memory: 8318, loss_rpn_cls: 0.0101, loss_rpn_bbox: 0.0069, loss_cls: 0.1122, acc: 96.2849, loss_bbox: 0.1154, loss: 0.2447\n",
      "2021-11-28 19:27:43,468 - mmdet - INFO - Epoch [1][2600/4697]\tlr: 1.000e-02, eta: 1 day, 8:10:20, time: 1.005, data_time: 0.013, memory: 8318, loss_rpn_cls: 0.0112, loss_rpn_bbox: 0.0069, loss_cls: 0.1139, acc: 96.1924, loss_bbox: 0.1183, loss: 0.2503\n",
      "2021-11-28 19:29:23,539 - mmdet - INFO - Epoch [1][2700/4697]\tlr: 1.000e-02, eta: 1 day, 8:08:06, time: 1.001, data_time: 0.013, memory: 8318, loss_rpn_cls: 0.0102, loss_rpn_bbox: 0.0069, loss_cls: 0.1172, acc: 96.0547, loss_bbox: 0.1222, loss: 0.2564\n",
      "2021-11-28 19:31:03,320 - mmdet - INFO - Epoch [1][2800/4697]\tlr: 1.000e-02, eta: 1 day, 8:05:42, time: 0.998, data_time: 0.013, memory: 8318, loss_rpn_cls: 0.0104, loss_rpn_bbox: 0.0066, loss_cls: 0.1085, acc: 96.3091, loss_bbox: 0.1148, loss: 0.2404\n",
      "2021-11-28 19:32:43,518 - mmdet - INFO - Epoch [1][2900/4697]\tlr: 1.000e-02, eta: 1 day, 8:03:37, time: 1.002, data_time: 0.013, memory: 8318, loss_rpn_cls: 0.0106, loss_rpn_bbox: 0.0070, loss_cls: 0.1213, acc: 95.9773, loss_bbox: 0.1218, loss: 0.2607\n",
      "2021-11-28 19:34:23,646 - mmdet - INFO - Epoch [1][3000/4697]\tlr: 1.000e-02, eta: 1 day, 8:01:31, time: 1.001, data_time: 0.013, memory: 8318, loss_rpn_cls: 0.0102, loss_rpn_bbox: 0.0070, loss_cls: 0.1177, acc: 96.0867, loss_bbox: 0.1203, loss: 0.2551\n",
      "2021-11-28 19:36:03,287 - mmdet - INFO - Epoch [1][3100/4697]\tlr: 1.000e-02, eta: 1 day, 7:59:09, time: 0.996, data_time: 0.013, memory: 8318, loss_rpn_cls: 0.0104, loss_rpn_bbox: 0.0066, loss_cls: 0.1178, acc: 96.0576, loss_bbox: 0.1192, loss: 0.2541\n",
      "2021-11-28 19:37:43,096 - mmdet - INFO - Epoch [1][3200/4697]\tlr: 1.000e-02, eta: 1 day, 7:56:56, time: 0.998, data_time: 0.013, memory: 8318, loss_rpn_cls: 0.0110, loss_rpn_bbox: 0.0069, loss_cls: 0.1208, acc: 95.8833, loss_bbox: 0.1231, loss: 0.2617\n",
      "2021-11-28 19:39:22,835 - mmdet - INFO - Epoch [1][3300/4697]\tlr: 1.000e-02, eta: 1 day, 7:54:42, time: 0.997, data_time: 0.013, memory: 8318, loss_rpn_cls: 0.0105, loss_rpn_bbox: 0.0068, loss_cls: 0.1163, acc: 96.0969, loss_bbox: 0.1208, loss: 0.2544\n",
      "2021-11-28 19:41:02,843 - mmdet - INFO - Epoch [1][3400/4697]\tlr: 1.000e-02, eta: 1 day, 7:52:40, time: 1.000, data_time: 0.013, memory: 8318, loss_rpn_cls: 0.0105, loss_rpn_bbox: 0.0068, loss_cls: 0.1213, acc: 95.7876, loss_bbox: 0.1271, loss: 0.2658\n",
      "2021-11-28 19:42:43,169 - mmdet - INFO - Epoch [1][3500/4697]\tlr: 1.000e-02, eta: 1 day, 7:50:49, time: 1.003, data_time: 0.013, memory: 8318, loss_rpn_cls: 0.0111, loss_rpn_bbox: 0.0070, loss_cls: 0.1141, acc: 96.1506, loss_bbox: 0.1201, loss: 0.2524\n",
      "2021-11-28 19:44:23,056 - mmdet - INFO - Epoch [1][3600/4697]\tlr: 1.000e-02, eta: 1 day, 7:48:44, time: 0.999, data_time: 0.013, memory: 8318, loss_rpn_cls: 0.0103, loss_rpn_bbox: 0.0070, loss_cls: 0.1180, acc: 95.9822, loss_bbox: 0.1195, loss: 0.2548\n",
      "2021-11-28 19:46:03,536 - mmdet - INFO - Epoch [1][3700/4697]\tlr: 1.000e-02, eta: 1 day, 7:47:00, time: 1.005, data_time: 0.013, memory: 8318, loss_rpn_cls: 0.0104, loss_rpn_bbox: 0.0070, loss_cls: 0.1199, acc: 95.9155, loss_bbox: 0.1248, loss: 0.2622\n",
      "2021-11-28 19:47:43,631 - mmdet - INFO - Epoch [1][3800/4697]\tlr: 1.000e-02, eta: 1 day, 7:45:03, time: 1.001, data_time: 0.013, memory: 8318, loss_rpn_cls: 0.0097, loss_rpn_bbox: 0.0063, loss_cls: 0.1160, acc: 96.0464, loss_bbox: 0.1185, loss: 0.2505\n",
      "2021-11-28 19:49:23,897 - mmdet - INFO - Epoch [1][3900/4697]\tlr: 1.000e-02, eta: 1 day, 7:43:13, time: 1.003, data_time: 0.013, memory: 8318, loss_rpn_cls: 0.0092, loss_rpn_bbox: 0.0068, loss_cls: 0.1108, acc: 96.1619, loss_bbox: 0.1175, loss: 0.2443\n",
      "2021-11-28 19:51:03,856 - mmdet - INFO - Epoch [1][4000/4697]\tlr: 1.000e-02, eta: 1 day, 7:41:15, time: 1.000, data_time: 0.013, memory: 8318, loss_rpn_cls: 0.0098, loss_rpn_bbox: 0.0068, loss_cls: 0.1124, acc: 96.1873, loss_bbox: 0.1142, loss: 0.2433\n",
      "2021-11-28 19:52:43,805 - mmdet - INFO - Epoch [1][4100/4697]\tlr: 1.000e-02, eta: 1 day, 7:39:17, time: 0.999, data_time: 0.013, memory: 8318, loss_rpn_cls: 0.0086, loss_rpn_bbox: 0.0067, loss_cls: 0.1114, acc: 96.1304, loss_bbox: 0.1184, loss: 0.2451\n",
      "2021-11-28 19:54:23,528 - mmdet - INFO - Epoch [1][4200/4697]\tlr: 1.000e-02, eta: 1 day, 7:37:14, time: 0.997, data_time: 0.013, memory: 8318, loss_rpn_cls: 0.0095, loss_rpn_bbox: 0.0069, loss_cls: 0.1152, acc: 96.0276, loss_bbox: 0.1223, loss: 0.2539\n",
      "2021-11-28 19:56:03,559 - mmdet - INFO - Epoch [1][4300/4697]\tlr: 1.000e-02, eta: 1 day, 7:35:20, time: 1.000, data_time: 0.013, memory: 8318, loss_rpn_cls: 0.0092, loss_rpn_bbox: 0.0066, loss_cls: 0.1131, acc: 96.1248, loss_bbox: 0.1228, loss: 0.2517\n",
      "2021-11-28 19:57:42,897 - mmdet - INFO - Epoch [1][4400/4697]\tlr: 1.000e-02, eta: 1 day, 7:33:09, time: 0.993, data_time: 0.013, memory: 8318, loss_rpn_cls: 0.0101, loss_rpn_bbox: 0.0067, loss_cls: 0.1125, acc: 96.1484, loss_bbox: 0.1173, loss: 0.2466\n",
      "2021-11-28 19:59:22,543 - mmdet - INFO - Epoch [1][4500/4697]\tlr: 1.000e-02, eta: 1 day, 7:31:07, time: 0.996, data_time: 0.013, memory: 8318, loss_rpn_cls: 0.0089, loss_rpn_bbox: 0.0066, loss_cls: 0.1117, acc: 96.1045, loss_bbox: 0.1190, loss: 0.2462\n",
      "2021-11-28 20:01:02,479 - mmdet - INFO - Epoch [1][4600/4697]\tlr: 1.000e-02, eta: 1 day, 7:29:13, time: 0.999, data_time: 0.013, memory: 8318, loss_rpn_cls: 0.0095, loss_rpn_bbox: 0.0067, loss_cls: 0.1136, acc: 96.1951, loss_bbox: 0.1200, loss: 0.2499\n",
      "2021-11-28 20:02:39,387 - mmdet - INFO - Saving checkpoint at 1 epochs\n"
     ]
    },
    {
     "name": "stdout",
     "output_type": "stream",
     "text": [
      "[>>>>>>>>>>>>>>>>>>>>>>>>] 12524/12524, 16.4 task/s, elapsed: 765s, ETA:     0s"
     ]
    },
    {
     "name": "stderr",
     "output_type": "stream",
     "text": [
      "2021-11-28 20:15:26,676 - mmdet - INFO - Evaluating bbox...\n"
     ]
    },
    {
     "name": "stdout",
     "output_type": "stream",
     "text": [
      "Loading and preparing results...\n",
      "DONE (t=0.29s)\n",
      "creating index...\n",
      "index created!\n",
      "Running per image evaluation...\n",
      "Evaluate annotation type *bbox*\n",
      "DONE (t=8.75s).\n",
      "Accumulating evaluation results...\n",
      "DONE (t=3.25s).\n",
      " Average Precision  (AP) @[ IoU=0.50:0.95 | area=   all | maxDets=100 ] = 0.304\n",
      " Average Precision  (AP) @[ IoU=0.50      | area=   all | maxDets=1000 ] = 0.613\n",
      " Average Precision  (AP) @[ IoU=0.75      | area=   all | maxDets=1000 ] = 0.272\n",
      " Average Precision  (AP) @[ IoU=0.50:0.95 | area= small | maxDets=1000 ] = 0.107\n",
      " Average Precision  (AP) @[ IoU=0.50:0.95 | area=medium | maxDets=1000 ] = 0.308\n",
      " Average Precision  (AP) @[ IoU=0.50:0.95 | area= large | maxDets=1000 ] = 0.280\n",
      " Average Recall     (AR) @[ IoU=0.50:0.95 | area=   all | maxDets=100 ] = 0.506\n",
      " Average Recall     (AR) @[ IoU=0.50:0.95 | area=   all | maxDets=300 ] = 0.506\n",
      " Average Recall     (AR) @[ IoU=0.50:0.95 | area=   all | maxDets=1000 ] = 0.506\n",
      " Average Recall     (AR) @[ IoU=0.50:0.95 | area= small | maxDets=1000 ] = 0.168\n",
      " Average Recall     (AR) @[ IoU=0.50:0.95 | area=medium | maxDets=1000 ] = 0.507\n",
      " Average Recall     (AR) @[ IoU=0.50:0.95 | area= large | maxDets=1000 ] = 0.486\n"
     ]
    },
    {
     "name": "stderr",
     "output_type": "stream",
     "text": [
      "2021-11-28 20:15:39,714 - mmdet - INFO - Epoch(val) [1][12524]\tbbox_mAP: 0.3040, bbox_mAP_50: 0.6130, bbox_mAP_75: 0.2720, bbox_mAP_s: 0.1070, bbox_mAP_m: 0.3080, bbox_mAP_l: 0.2800, bbox_mAP_copypaste: 0.304 0.613 0.272 0.107 0.308 0.280\n",
      "2021-11-28 20:17:26,095 - mmdet - INFO - Epoch [2][100/4697]\tlr: 1.000e-02, eta: 1 day, 6:50:01, time: 1.062, data_time: 0.034, memory: 8318, loss_rpn_cls: 0.0092, loss_rpn_bbox: 0.0068, loss_cls: 0.1135, acc: 96.0308, loss_bbox: 0.1212, loss: 0.2507\n",
      "2021-11-28 20:19:08,018 - mmdet - INFO - Epoch [2][200/4697]\tlr: 1.000e-02, eta: 1 day, 6:49:40, time: 1.019, data_time: 0.013, memory: 8318, loss_rpn_cls: 0.0086, loss_rpn_bbox: 0.0070, loss_cls: 0.1161, acc: 95.9971, loss_bbox: 0.1236, loss: 0.2552\n",
      "2021-11-28 20:20:48,267 - mmdet - INFO - Epoch [2][300/4697]\tlr: 1.000e-02, eta: 1 day, 6:48:38, time: 1.002, data_time: 0.013, memory: 8318, loss_rpn_cls: 0.0081, loss_rpn_bbox: 0.0064, loss_cls: 0.1098, acc: 96.0813, loss_bbox: 0.1213, loss: 0.2455\n",
      "2021-11-28 20:22:28,512 - mmdet - INFO - Epoch [2][400/4697]\tlr: 1.000e-02, eta: 1 day, 6:47:34, time: 1.002, data_time: 0.013, memory: 8318, loss_rpn_cls: 0.0084, loss_rpn_bbox: 0.0065, loss_cls: 0.1093, acc: 96.1033, loss_bbox: 0.1190, loss: 0.2432\n",
      "2021-11-28 20:24:08,312 - mmdet - INFO - Epoch [2][500/4697]\tlr: 1.000e-02, eta: 1 day, 6:46:19, time: 0.998, data_time: 0.013, memory: 8318, loss_rpn_cls: 0.0101, loss_rpn_bbox: 0.0069, loss_cls: 0.1138, acc: 96.0398, loss_bbox: 0.1227, loss: 0.2535\n",
      "2021-11-28 20:25:48,358 - mmdet - INFO - Epoch [2][600/4697]\tlr: 1.000e-02, eta: 1 day, 6:45:09, time: 1.001, data_time: 0.013, memory: 8318, loss_rpn_cls: 0.0090, loss_rpn_bbox: 0.0067, loss_cls: 0.1091, acc: 96.2083, loss_bbox: 0.1174, loss: 0.2421\n",
      "2021-11-28 20:27:28,371 - mmdet - INFO - Epoch [2][700/4697]\tlr: 1.000e-02, eta: 1 day, 6:43:57, time: 1.000, data_time: 0.013, memory: 8318, loss_rpn_cls: 0.0084, loss_rpn_bbox: 0.0064, loss_cls: 0.1056, acc: 96.3433, loss_bbox: 0.1148, loss: 0.2351\n",
      "2021-11-28 20:29:08,698 - mmdet - INFO - Epoch [2][800/4697]\tlr: 1.000e-02, eta: 1 day, 6:42:50, time: 1.003, data_time: 0.013, memory: 8318, loss_rpn_cls: 0.0082, loss_rpn_bbox: 0.0064, loss_cls: 0.1070, acc: 96.1899, loss_bbox: 0.1161, loss: 0.2377\n",
      "2021-11-28 20:30:48,747 - mmdet - INFO - Epoch [2][900/4697]\tlr: 1.000e-02, eta: 1 day, 6:41:36, time: 1.000, data_time: 0.013, memory: 8318, loss_rpn_cls: 0.0081, loss_rpn_bbox: 0.0067, loss_cls: 0.1088, acc: 96.1033, loss_bbox: 0.1162, loss: 0.2398\n",
      "2021-11-28 20:32:28,356 - mmdet - INFO - Epoch [2][1000/4697]\tlr: 1.000e-02, eta: 1 day, 6:40:13, time: 0.996, data_time: 0.013, memory: 8318, loss_rpn_cls: 0.0093, loss_rpn_bbox: 0.0068, loss_cls: 0.1064, acc: 96.2031, loss_bbox: 0.1141, loss: 0.2366\n",
      "2021-11-28 20:34:08,055 - mmdet - INFO - Epoch [2][1100/4697]\tlr: 1.000e-02, eta: 1 day, 6:38:51, time: 0.997, data_time: 0.013, memory: 8318, loss_rpn_cls: 0.0086, loss_rpn_bbox: 0.0067, loss_cls: 0.1073, acc: 96.1975, loss_bbox: 0.1172, loss: 0.2398\n",
      "2021-11-28 20:35:47,976 - mmdet - INFO - Epoch [2][1200/4697]\tlr: 1.000e-02, eta: 1 day, 6:37:33, time: 0.999, data_time: 0.013, memory: 8318, loss_rpn_cls: 0.0085, loss_rpn_bbox: 0.0064, loss_cls: 0.1071, acc: 96.2065, loss_bbox: 0.1173, loss: 0.2393\n",
      "2021-11-28 20:37:27,820 - mmdet - INFO - Epoch [2][1300/4697]\tlr: 1.000e-02, eta: 1 day, 6:36:12, time: 0.998, data_time: 0.013, memory: 8318, loss_rpn_cls: 0.0089, loss_rpn_bbox: 0.0065, loss_cls: 0.1091, acc: 96.2505, loss_bbox: 0.1167, loss: 0.2412\n",
      "2021-11-28 20:39:07,619 - mmdet - INFO - Epoch [2][1400/4697]\tlr: 1.000e-02, eta: 1 day, 6:34:50, time: 0.998, data_time: 0.013, memory: 8318, loss_rpn_cls: 0.0077, loss_rpn_bbox: 0.0068, loss_cls: 0.1111, acc: 96.0085, loss_bbox: 0.1247, loss: 0.2503\n",
      "2021-11-28 20:40:47,244 - mmdet - INFO - Epoch [2][1500/4697]\tlr: 1.000e-02, eta: 1 day, 6:33:25, time: 0.996, data_time: 0.013, memory: 8318, loss_rpn_cls: 0.0099, loss_rpn_bbox: 0.0071, loss_cls: 0.1171, acc: 95.9316, loss_bbox: 0.1239, loss: 0.2580\n",
      "2021-11-28 20:42:27,105 - mmdet - INFO - Epoch [2][1600/4697]\tlr: 1.000e-02, eta: 1 day, 6:32:03, time: 0.999, data_time: 0.013, memory: 8318, loss_rpn_cls: 0.0084, loss_rpn_bbox: 0.0065, loss_cls: 0.1101, acc: 96.0649, loss_bbox: 0.1189, loss: 0.2439\n",
      "2021-11-28 20:44:07,204 - mmdet - INFO - Epoch [2][1700/4697]\tlr: 1.000e-02, eta: 1 day, 6:30:44, time: 1.001, data_time: 0.013, memory: 8318, loss_rpn_cls: 0.0081, loss_rpn_bbox: 0.0066, loss_cls: 0.1128, acc: 96.0334, loss_bbox: 0.1209, loss: 0.2484\n",
      "2021-11-28 20:45:47,082 - mmdet - INFO - Epoch [2][1800/4697]\tlr: 1.000e-02, eta: 1 day, 6:29:22, time: 0.999, data_time: 0.013, memory: 8318, loss_rpn_cls: 0.0086, loss_rpn_bbox: 0.0068, loss_cls: 0.1087, acc: 96.1013, loss_bbox: 0.1226, loss: 0.2468\n",
      "2021-11-28 20:47:26,843 - mmdet - INFO - Epoch [2][1900/4697]\tlr: 1.000e-02, eta: 1 day, 6:27:56, time: 0.998, data_time: 0.013, memory: 8318, loss_rpn_cls: 0.0083, loss_rpn_bbox: 0.0067, loss_cls: 0.1094, acc: 96.1814, loss_bbox: 0.1189, loss: 0.2434\n",
      "2021-11-28 20:49:06,877 - mmdet - INFO - Epoch [2][2000/4697]\tlr: 1.000e-02, eta: 1 day, 6:26:35, time: 1.000, data_time: 0.013, memory: 8318, loss_rpn_cls: 0.0086, loss_rpn_bbox: 0.0062, loss_cls: 0.1041, acc: 96.3445, loss_bbox: 0.1123, loss: 0.2312\n",
      "2021-11-28 20:50:46,788 - mmdet - INFO - Epoch [2][2100/4697]\tlr: 1.000e-02, eta: 1 day, 6:25:11, time: 0.999, data_time: 0.013, memory: 8318, loss_rpn_cls: 0.0080, loss_rpn_bbox: 0.0065, loss_cls: 0.1040, acc: 96.2954, loss_bbox: 0.1167, loss: 0.2352\n",
      "2021-11-28 20:52:26,657 - mmdet - INFO - Epoch [2][2200/4697]\tlr: 1.000e-02, eta: 1 day, 6:23:46, time: 0.999, data_time: 0.013, memory: 8318, loss_rpn_cls: 0.0087, loss_rpn_bbox: 0.0066, loss_cls: 0.1056, acc: 96.2422, loss_bbox: 0.1163, loss: 0.2373\n",
      "2021-11-28 20:54:06,618 - mmdet - INFO - Epoch [2][2300/4697]\tlr: 1.000e-02, eta: 1 day, 6:22:22, time: 1.000, data_time: 0.013, memory: 8318, loss_rpn_cls: 0.0080, loss_rpn_bbox: 0.0065, loss_cls: 0.1090, acc: 96.1096, loss_bbox: 0.1206, loss: 0.2441\n",
      "2021-11-28 20:55:46,256 - mmdet - INFO - Epoch [2][2400/4697]\tlr: 1.000e-02, eta: 1 day, 6:20:53, time: 0.996, data_time: 0.013, memory: 8318, loss_rpn_cls: 0.0085, loss_rpn_bbox: 0.0062, loss_cls: 0.1097, acc: 96.0454, loss_bbox: 0.1203, loss: 0.2447\n",
      "2021-11-28 20:57:25,881 - mmdet - INFO - Epoch [2][2500/4697]\tlr: 1.000e-02, eta: 1 day, 6:19:23, time: 0.996, data_time: 0.013, memory: 8318, loss_rpn_cls: 0.0090, loss_rpn_bbox: 0.0065, loss_cls: 0.1112, acc: 96.0474, loss_bbox: 0.1181, loss: 0.2448\n",
      "2021-11-28 20:59:06,037 - mmdet - INFO - Epoch [2][2600/4697]\tlr: 1.000e-02, eta: 1 day, 6:18:01, time: 1.002, data_time: 0.013, memory: 8318, loss_rpn_cls: 0.0085, loss_rpn_bbox: 0.0066, loss_cls: 0.1075, acc: 96.2302, loss_bbox: 0.1169, loss: 0.2394\n",
      "2021-11-28 21:00:46,159 - mmdet - INFO - Epoch [2][2700/4697]\tlr: 1.000e-02, eta: 1 day, 6:16:38, time: 1.001, data_time: 0.013, memory: 8318, loss_rpn_cls: 0.0088, loss_rpn_bbox: 0.0067, loss_cls: 0.1090, acc: 96.1489, loss_bbox: 0.1192, loss: 0.2437\n",
      "2021-11-28 21:02:26,192 - mmdet - INFO - Epoch [2][2800/4697]\tlr: 1.000e-02, eta: 1 day, 6:15:13, time: 1.000, data_time: 0.013, memory: 8318, loss_rpn_cls: 0.0074, loss_rpn_bbox: 0.0063, loss_cls: 0.1064, acc: 96.1506, loss_bbox: 0.1175, loss: 0.2377\n",
      "2021-11-28 21:04:05,990 - mmdet - INFO - Epoch [2][2900/4697]\tlr: 1.000e-02, eta: 1 day, 6:13:44, time: 0.998, data_time: 0.013, memory: 8318, loss_rpn_cls: 0.0085, loss_rpn_bbox: 0.0064, loss_cls: 0.1105, acc: 96.1370, loss_bbox: 0.1216, loss: 0.2469\n",
      "2021-11-28 21:05:45,643 - mmdet - INFO - Epoch [2][3000/4697]\tlr: 1.000e-02, eta: 1 day, 6:12:13, time: 0.997, data_time: 0.013, memory: 8318, loss_rpn_cls: 0.0089, loss_rpn_bbox: 0.0064, loss_cls: 0.1079, acc: 96.2078, loss_bbox: 0.1159, loss: 0.2392\n",
      "2021-11-28 21:07:25,143 - mmdet - INFO - Epoch [2][3100/4697]\tlr: 1.000e-02, eta: 1 day, 6:10:40, time: 0.995, data_time: 0.013, memory: 8318, loss_rpn_cls: 0.0078, loss_rpn_bbox: 0.0062, loss_cls: 0.1037, acc: 96.2478, loss_bbox: 0.1181, loss: 0.2358\n",
      "2021-11-28 21:09:04,938 - mmdet - INFO - Epoch [2][3200/4697]\tlr: 1.000e-02, eta: 1 day, 6:09:11, time: 0.998, data_time: 0.013, memory: 8318, loss_rpn_cls: 0.0092, loss_rpn_bbox: 0.0066, loss_cls: 0.1084, acc: 96.2197, loss_bbox: 0.1181, loss: 0.2423\n"
     ]
    },
    {
     "name": "stderr",
     "output_type": "stream",
     "text": [
      "2021-11-28 21:10:45,118 - mmdet - INFO - Epoch [2][3300/4697]\tlr: 1.000e-02, eta: 1 day, 6:07:46, time: 1.002, data_time: 0.013, memory: 8318, loss_rpn_cls: 0.0081, loss_rpn_bbox: 0.0065, loss_cls: 0.1088, acc: 96.1687, loss_bbox: 0.1196, loss: 0.2430\n",
      "2021-11-28 21:12:25,083 - mmdet - INFO - Epoch [2][3400/4697]\tlr: 1.000e-02, eta: 1 day, 6:06:18, time: 1.000, data_time: 0.013, memory: 8318, loss_rpn_cls: 0.0077, loss_rpn_bbox: 0.0064, loss_cls: 0.1047, acc: 96.2388, loss_bbox: 0.1171, loss: 0.2358\n",
      "2021-11-28 21:14:05,397 - mmdet - INFO - Epoch [2][3500/4697]\tlr: 1.000e-02, eta: 1 day, 6:04:55, time: 1.003, data_time: 0.013, memory: 8318, loss_rpn_cls: 0.0081, loss_rpn_bbox: 0.0066, loss_cls: 0.1086, acc: 96.2163, loss_bbox: 0.1202, loss: 0.2434\n",
      "2021-11-28 21:15:47,509 - mmdet - INFO - Epoch [2][3600/4697]\tlr: 1.000e-02, eta: 1 day, 6:03:55, time: 1.021, data_time: 0.014, memory: 8318, loss_rpn_cls: 0.0080, loss_rpn_bbox: 0.0066, loss_cls: 0.1073, acc: 96.2090, loss_bbox: 0.1171, loss: 0.2391\n",
      "2021-11-28 21:17:27,300 - mmdet - INFO - Epoch [2][3700/4697]\tlr: 1.000e-02, eta: 1 day, 6:02:24, time: 0.998, data_time: 0.013, memory: 8318, loss_rpn_cls: 0.0079, loss_rpn_bbox: 0.0061, loss_cls: 0.1074, acc: 96.2947, loss_bbox: 0.1142, loss: 0.2357\n",
      "2021-11-28 21:19:07,619 - mmdet - INFO - Epoch [2][3800/4697]\tlr: 1.000e-02, eta: 1 day, 6:00:59, time: 1.003, data_time: 0.013, memory: 8318, loss_rpn_cls: 0.0085, loss_rpn_bbox: 0.0064, loss_cls: 0.1087, acc: 96.0962, loss_bbox: 0.1207, loss: 0.2444\n",
      "2021-11-28 21:20:47,922 - mmdet - INFO - Epoch [2][3900/4697]\tlr: 1.000e-02, eta: 1 day, 5:59:34, time: 1.003, data_time: 0.013, memory: 8318, loss_rpn_cls: 0.0076, loss_rpn_bbox: 0.0067, loss_cls: 0.1054, acc: 96.2292, loss_bbox: 0.1214, loss: 0.2412\n",
      "2021-11-28 21:22:28,344 - mmdet - INFO - Epoch [2][4000/4697]\tlr: 1.000e-02, eta: 1 day, 5:58:09, time: 1.004, data_time: 0.013, memory: 8318, loss_rpn_cls: 0.0091, loss_rpn_bbox: 0.0067, loss_cls: 0.1094, acc: 96.1758, loss_bbox: 0.1189, loss: 0.2441\n",
      "2021-11-28 21:24:09,229 - mmdet - INFO - Epoch [2][4100/4697]\tlr: 1.000e-02, eta: 1 day, 5:56:51, time: 1.009, data_time: 0.013, memory: 8318, loss_rpn_cls: 0.0077, loss_rpn_bbox: 0.0065, loss_cls: 0.1114, acc: 95.9744, loss_bbox: 0.1230, loss: 0.2486\n",
      "2021-11-28 21:25:49,697 - mmdet - INFO - Epoch [2][4200/4697]\tlr: 1.000e-02, eta: 1 day, 5:55:26, time: 1.005, data_time: 0.013, memory: 8318, loss_rpn_cls: 0.0087, loss_rpn_bbox: 0.0065, loss_cls: 0.1085, acc: 96.1709, loss_bbox: 0.1147, loss: 0.2384\n",
      "2021-11-28 21:27:29,921 - mmdet - INFO - Epoch [2][4300/4697]\tlr: 1.000e-02, eta: 1 day, 5:53:59, time: 1.002, data_time: 0.013, memory: 8318, loss_rpn_cls: 0.0085, loss_rpn_bbox: 0.0061, loss_cls: 0.1080, acc: 96.2244, loss_bbox: 0.1169, loss: 0.2395\n",
      "2021-11-28 21:29:10,302 - mmdet - INFO - Epoch [2][4400/4697]\tlr: 1.000e-02, eta: 1 day, 5:52:32, time: 1.004, data_time: 0.013, memory: 8318, loss_rpn_cls: 0.0082, loss_rpn_bbox: 0.0063, loss_cls: 0.1058, acc: 96.2664, loss_bbox: 0.1184, loss: 0.2388\n",
      "2021-11-28 21:30:50,681 - mmdet - INFO - Epoch [2][4500/4697]\tlr: 1.000e-02, eta: 1 day, 5:51:06, time: 1.004, data_time: 0.013, memory: 8318, loss_rpn_cls: 0.0086, loss_rpn_bbox: 0.0066, loss_cls: 0.1148, acc: 96.0015, loss_bbox: 0.1179, loss: 0.2478\n",
      "2021-11-28 21:32:30,876 - mmdet - INFO - Epoch [2][4600/4697]\tlr: 1.000e-02, eta: 1 day, 5:49:37, time: 1.002, data_time: 0.013, memory: 8318, loss_rpn_cls: 0.0074, loss_rpn_bbox: 0.0064, loss_cls: 0.1012, acc: 96.3328, loss_bbox: 0.1104, loss: 0.2253\n",
      "2021-11-28 21:34:07,986 - mmdet - INFO - Saving checkpoint at 2 epochs\n"
     ]
    },
    {
     "name": "stdout",
     "output_type": "stream",
     "text": [
      "[>>>>>>>>>>>>>>>>>>>>>>>>] 12524/12524, 15.4 task/s, elapsed: 813s, ETA:     0s"
     ]
    },
    {
     "name": "stderr",
     "output_type": "stream",
     "text": [
      "2021-11-28 21:47:43,845 - mmdet - INFO - Evaluating bbox...\n"
     ]
    },
    {
     "name": "stdout",
     "output_type": "stream",
     "text": [
      "Loading and preparing results...\n",
      "DONE (t=0.30s)\n",
      "creating index...\n",
      "index created!\n",
      "Running per image evaluation...\n",
      "Evaluate annotation type *bbox*\n",
      "DONE (t=9.07s).\n",
      "Accumulating evaluation results...\n",
      "DONE (t=3.18s).\n",
      " Average Precision  (AP) @[ IoU=0.50:0.95 | area=   all | maxDets=100 ] = 0.346\n",
      " Average Precision  (AP) @[ IoU=0.50      | area=   all | maxDets=1000 ] = 0.670\n",
      " Average Precision  (AP) @[ IoU=0.75      | area=   all | maxDets=1000 ] = 0.320\n",
      " Average Precision  (AP) @[ IoU=0.50:0.95 | area= small | maxDets=1000 ] = 0.095\n",
      " Average Precision  (AP) @[ IoU=0.50:0.95 | area=medium | maxDets=1000 ] = 0.339\n",
      " Average Precision  (AP) @[ IoU=0.50:0.95 | area= large | maxDets=1000 ] = 0.335\n",
      " Average Recall     (AR) @[ IoU=0.50:0.95 | area=   all | maxDets=100 ] = 0.538\n",
      " Average Recall     (AR) @[ IoU=0.50:0.95 | area=   all | maxDets=300 ] = 0.538\n",
      " Average Recall     (AR) @[ IoU=0.50:0.95 | area=   all | maxDets=1000 ] = 0.538\n",
      " Average Recall     (AR) @[ IoU=0.50:0.95 | area= small | maxDets=1000 ] = 0.181\n",
      " Average Recall     (AR) @[ IoU=0.50:0.95 | area=medium | maxDets=1000 ] = 0.527\n",
      " Average Recall     (AR) @[ IoU=0.50:0.95 | area= large | maxDets=1000 ] = 0.538\n"
     ]
    },
    {
     "name": "stderr",
     "output_type": "stream",
     "text": [
      "2021-11-28 21:47:57,137 - mmdet - INFO - Epoch(val) [2][12524]\tbbox_mAP: 0.3460, bbox_mAP_50: 0.6700, bbox_mAP_75: 0.3200, bbox_mAP_s: 0.0950, bbox_mAP_m: 0.3390, bbox_mAP_l: 0.3350, bbox_mAP_copypaste: 0.346 0.670 0.320 0.095 0.339 0.335\n",
      "2021-11-28 21:49:40,854 - mmdet - INFO - Epoch [3][100/4697]\tlr: 1.000e-02, eta: 1 day, 5:28:54, time: 1.035, data_time: 0.034, memory: 8318, loss_rpn_cls: 0.0078, loss_rpn_bbox: 0.0067, loss_cls: 0.1058, acc: 96.2117, loss_bbox: 0.1190, loss: 0.2393\n",
      "2021-11-28 21:51:21,837 - mmdet - INFO - Epoch [3][200/4697]\tlr: 1.000e-02, eta: 1 day, 5:27:46, time: 1.010, data_time: 0.013, memory: 8318, loss_rpn_cls: 0.0081, loss_rpn_bbox: 0.0068, loss_cls: 0.1063, acc: 96.1782, loss_bbox: 0.1187, loss: 0.2399\n",
      "2021-11-28 21:53:02,027 - mmdet - INFO - Epoch [3][300/4697]\tlr: 1.000e-02, eta: 1 day, 5:26:28, time: 1.002, data_time: 0.013, memory: 8318, loss_rpn_cls: 0.0070, loss_rpn_bbox: 0.0063, loss_cls: 0.1012, acc: 96.2634, loss_bbox: 0.1202, loss: 0.2347\n",
      "2021-11-28 21:54:42,167 - mmdet - INFO - Epoch [3][400/4697]\tlr: 1.000e-02, eta: 1 day, 5:25:09, time: 1.001, data_time: 0.013, memory: 8318, loss_rpn_cls: 0.0070, loss_rpn_bbox: 0.0062, loss_cls: 0.1034, acc: 96.2400, loss_bbox: 0.1152, loss: 0.2318\n",
      "2021-11-28 21:56:22,519 - mmdet - INFO - Epoch [3][500/4697]\tlr: 1.000e-02, eta: 1 day, 5:23:51, time: 1.004, data_time: 0.013, memory: 8318, loss_rpn_cls: 0.0067, loss_rpn_bbox: 0.0062, loss_cls: 0.1014, acc: 96.2761, loss_bbox: 0.1177, loss: 0.2320\n",
      "2021-11-28 21:58:03,027 - mmdet - INFO - Epoch [3][600/4697]\tlr: 1.000e-02, eta: 1 day, 5:22:35, time: 1.005, data_time: 0.013, memory: 8318, loss_rpn_cls: 0.0075, loss_rpn_bbox: 0.0063, loss_cls: 0.1005, acc: 96.3374, loss_bbox: 0.1140, loss: 0.2281\n",
      "2021-11-28 21:59:43,438 - mmdet - INFO - Epoch [3][700/4697]\tlr: 1.000e-02, eta: 1 day, 5:21:18, time: 1.004, data_time: 0.013, memory: 8318, loss_rpn_cls: 0.0070, loss_rpn_bbox: 0.0062, loss_cls: 0.1007, acc: 96.2883, loss_bbox: 0.1136, loss: 0.2275\n",
      "2021-11-28 22:01:23,552 - mmdet - INFO - Epoch [3][800/4697]\tlr: 1.000e-02, eta: 1 day, 5:19:57, time: 1.001, data_time: 0.013, memory: 8318, loss_rpn_cls: 0.0072, loss_rpn_bbox: 0.0064, loss_cls: 0.1012, acc: 96.3049, loss_bbox: 0.1151, loss: 0.2299\n",
      "2021-11-28 22:03:04,137 - mmdet - INFO - Epoch [3][900/4697]\tlr: 1.000e-02, eta: 1 day, 5:18:40, time: 1.006, data_time: 0.013, memory: 8318, loss_rpn_cls: 0.0075, loss_rpn_bbox: 0.0061, loss_cls: 0.1016, acc: 96.3042, loss_bbox: 0.1158, loss: 0.2310\n",
      "2021-11-28 22:04:44,300 - mmdet - INFO - Epoch [3][1000/4697]\tlr: 1.000e-02, eta: 1 day, 5:17:19, time: 1.002, data_time: 0.013, memory: 8318, loss_rpn_cls: 0.0073, loss_rpn_bbox: 0.0062, loss_cls: 0.1053, acc: 96.2065, loss_bbox: 0.1134, loss: 0.2322\n",
      "2021-11-28 22:06:24,172 - mmdet - INFO - Epoch [3][1100/4697]\tlr: 1.000e-02, eta: 1 day, 5:15:54, time: 0.999, data_time: 0.013, memory: 8318, loss_rpn_cls: 0.0079, loss_rpn_bbox: 0.0061, loss_cls: 0.1058, acc: 96.2419, loss_bbox: 0.1156, loss: 0.2353\n",
      "2021-11-28 22:08:04,267 - mmdet - INFO - Epoch [3][1200/4697]\tlr: 1.000e-02, eta: 1 day, 5:14:32, time: 1.001, data_time: 0.013, memory: 8318, loss_rpn_cls: 0.0071, loss_rpn_bbox: 0.0065, loss_cls: 0.1003, acc: 96.3987, loss_bbox: 0.1124, loss: 0.2262\n",
      "2021-11-28 22:09:44,654 - mmdet - INFO - Epoch [3][1300/4697]\tlr: 1.000e-02, eta: 1 day, 5:13:12, time: 1.004, data_time: 0.013, memory: 8318, loss_rpn_cls: 0.0075, loss_rpn_bbox: 0.0063, loss_cls: 0.1071, acc: 96.1396, loss_bbox: 0.1181, loss: 0.2390\n",
      "2021-11-28 22:11:24,676 - mmdet - INFO - Epoch [3][1400/4697]\tlr: 1.000e-02, eta: 1 day, 5:11:47, time: 1.000, data_time: 0.013, memory: 8318, loss_rpn_cls: 0.0092, loss_rpn_bbox: 0.0065, loss_cls: 0.1037, acc: 96.3430, loss_bbox: 0.1139, loss: 0.2333\n",
      "2021-11-28 22:13:05,222 - mmdet - INFO - Epoch [3][1500/4697]\tlr: 1.000e-02, eta: 1 day, 5:10:28, time: 1.005, data_time: 0.013, memory: 8318, loss_rpn_cls: 0.0078, loss_rpn_bbox: 0.0065, loss_cls: 0.1013, acc: 96.3206, loss_bbox: 0.1135, loss: 0.2290\n",
      "2021-11-28 22:14:45,700 - mmdet - INFO - Epoch [3][1600/4697]\tlr: 1.000e-02, eta: 1 day, 5:09:08, time: 1.005, data_time: 0.013, memory: 8318, loss_rpn_cls: 0.0070, loss_rpn_bbox: 0.0059, loss_cls: 0.0994, acc: 96.4355, loss_bbox: 0.1117, loss: 0.2240\n",
      "2021-11-28 22:16:26,106 - mmdet - INFO - Epoch [3][1700/4697]\tlr: 1.000e-02, eta: 1 day, 5:07:46, time: 1.004, data_time: 0.013, memory: 8318, loss_rpn_cls: 0.0075, loss_rpn_bbox: 0.0062, loss_cls: 0.1030, acc: 96.3274, loss_bbox: 0.1132, loss: 0.2301\n",
      "2021-11-28 22:18:06,362 - mmdet - INFO - Epoch [3][1800/4697]\tlr: 1.000e-02, eta: 1 day, 5:06:23, time: 1.003, data_time: 0.013, memory: 8318, loss_rpn_cls: 0.0073, loss_rpn_bbox: 0.0065, loss_cls: 0.1034, acc: 96.3069, loss_bbox: 0.1142, loss: 0.2315\n",
      "2021-11-28 22:19:46,539 - mmdet - INFO - Epoch [3][1900/4697]\tlr: 1.000e-02, eta: 1 day, 5:04:59, time: 1.002, data_time: 0.013, memory: 8318, loss_rpn_cls: 0.0078, loss_rpn_bbox: 0.0064, loss_cls: 0.1028, acc: 96.3030, loss_bbox: 0.1125, loss: 0.2296\n",
      "2021-11-28 22:21:26,462 - mmdet - INFO - Epoch [3][2000/4697]\tlr: 1.000e-02, eta: 1 day, 5:03:32, time: 0.999, data_time: 0.013, memory: 8318, loss_rpn_cls: 0.0070, loss_rpn_bbox: 0.0063, loss_cls: 0.1007, acc: 96.3245, loss_bbox: 0.1144, loss: 0.2284\n",
      "2021-11-28 22:23:06,864 - mmdet - INFO - Epoch [3][2100/4697]\tlr: 1.000e-02, eta: 1 day, 5:02:10, time: 1.004, data_time: 0.013, memory: 8318, loss_rpn_cls: 0.0072, loss_rpn_bbox: 0.0063, loss_cls: 0.0989, acc: 96.3508, loss_bbox: 0.1126, loss: 0.2250\n",
      "2021-11-28 22:24:47,414 - mmdet - INFO - Epoch [3][2200/4697]\tlr: 1.000e-02, eta: 1 day, 5:00:48, time: 1.006, data_time: 0.013, memory: 8318, loss_rpn_cls: 0.0073, loss_rpn_bbox: 0.0059, loss_cls: 0.0956, acc: 96.5720, loss_bbox: 0.1064, loss: 0.2151\n",
      "2021-11-28 22:26:27,733 - mmdet - INFO - Epoch [3][2300/4697]\tlr: 1.000e-02, eta: 1 day, 4:59:24, time: 1.003, data_time: 0.013, memory: 8318, loss_rpn_cls: 0.0065, loss_rpn_bbox: 0.0060, loss_cls: 0.0976, acc: 96.4097, loss_bbox: 0.1121, loss: 0.2222\n",
      "2021-11-28 22:28:08,243 - mmdet - INFO - Epoch [3][2400/4697]\tlr: 1.000e-02, eta: 1 day, 4:58:02, time: 1.005, data_time: 0.013, memory: 8318, loss_rpn_cls: 0.0071, loss_rpn_bbox: 0.0061, loss_cls: 0.0979, acc: 96.4636, loss_bbox: 0.1084, loss: 0.2195\n",
      "2021-11-28 22:29:48,707 - mmdet - INFO - Epoch [3][2500/4697]\tlr: 1.000e-02, eta: 1 day, 4:56:38, time: 1.005, data_time: 0.013, memory: 8318, loss_rpn_cls: 0.0073, loss_rpn_bbox: 0.0059, loss_cls: 0.0980, acc: 96.5088, loss_bbox: 0.1115, loss: 0.2228\n",
      "2021-11-28 22:31:29,005 - mmdet - INFO - Epoch [3][2600/4697]\tlr: 1.000e-02, eta: 1 day, 4:55:13, time: 1.003, data_time: 0.013, memory: 8318, loss_rpn_cls: 0.0089, loss_rpn_bbox: 0.0065, loss_cls: 0.1020, acc: 96.3669, loss_bbox: 0.1138, loss: 0.2312\n",
      "2021-11-28 22:33:09,735 - mmdet - INFO - Epoch [3][2700/4697]\tlr: 1.000e-02, eta: 1 day, 4:53:52, time: 1.007, data_time: 0.013, memory: 8318, loss_rpn_cls: 0.0064, loss_rpn_bbox: 0.0061, loss_cls: 0.0987, acc: 96.3613, loss_bbox: 0.1157, loss: 0.2269\n",
      "2021-11-28 22:34:50,109 - mmdet - INFO - Epoch [3][2800/4697]\tlr: 1.000e-02, eta: 1 day, 4:52:27, time: 1.004, data_time: 0.013, memory: 8318, loss_rpn_cls: 0.0072, loss_rpn_bbox: 0.0063, loss_cls: 0.1067, acc: 96.1523, loss_bbox: 0.1185, loss: 0.2387\n",
      "2021-11-28 22:36:30,537 - mmdet - INFO - Epoch [3][2900/4697]\tlr: 1.000e-02, eta: 1 day, 4:51:02, time: 1.004, data_time: 0.013, memory: 8318, loss_rpn_cls: 0.0078, loss_rpn_bbox: 0.0068, loss_cls: 0.1042, acc: 96.1948, loss_bbox: 0.1195, loss: 0.2383\n",
      "2021-11-28 22:38:10,747 - mmdet - INFO - Epoch [3][3000/4697]\tlr: 1.000e-02, eta: 1 day, 4:49:35, time: 1.002, data_time: 0.013, memory: 8318, loss_rpn_cls: 0.0094, loss_rpn_bbox: 0.0065, loss_cls: 0.1007, acc: 96.3552, loss_bbox: 0.1135, loss: 0.2300\n",
      "2021-11-28 22:39:51,130 - mmdet - INFO - Epoch [3][3100/4697]\tlr: 1.000e-02, eta: 1 day, 4:48:10, time: 1.004, data_time: 0.013, memory: 8318, loss_rpn_cls: 0.0076, loss_rpn_bbox: 0.0062, loss_cls: 0.1047, acc: 96.1948, loss_bbox: 0.1173, loss: 0.2358\n",
      "2021-11-28 22:41:30,974 - mmdet - INFO - Epoch [3][3200/4697]\tlr: 1.000e-02, eta: 1 day, 4:46:39, time: 0.998, data_time: 0.013, memory: 8318, loss_rpn_cls: 0.0071, loss_rpn_bbox: 0.0062, loss_cls: 0.1028, acc: 96.2397, loss_bbox: 0.1173, loss: 0.2333\n"
     ]
    },
    {
     "name": "stderr",
     "output_type": "stream",
     "text": [
      "2021-11-28 22:43:11,550 - mmdet - INFO - Epoch [3][3300/4697]\tlr: 1.000e-02, eta: 1 day, 4:45:15, time: 1.006, data_time: 0.013, memory: 8318, loss_rpn_cls: 0.0078, loss_rpn_bbox: 0.0068, loss_cls: 0.1101, acc: 96.0342, loss_bbox: 0.1199, loss: 0.2447\n",
      "2021-11-28 22:44:51,861 - mmdet - INFO - Epoch [3][3400/4697]\tlr: 1.000e-02, eta: 1 day, 4:43:48, time: 1.003, data_time: 0.013, memory: 8318, loss_rpn_cls: 0.0073, loss_rpn_bbox: 0.0062, loss_cls: 0.1004, acc: 96.4387, loss_bbox: 0.1115, loss: 0.2253\n",
      "2021-11-28 22:46:32,250 - mmdet - INFO - Epoch [3][3500/4697]\tlr: 1.000e-02, eta: 1 day, 4:42:22, time: 1.004, data_time: 0.013, memory: 8318, loss_rpn_cls: 0.0072, loss_rpn_bbox: 0.0066, loss_cls: 0.1051, acc: 96.2727, loss_bbox: 0.1151, loss: 0.2340\n",
      "2021-11-28 22:48:12,889 - mmdet - INFO - Epoch [3][3600/4697]\tlr: 1.000e-02, eta: 1 day, 4:40:57, time: 1.006, data_time: 0.013, memory: 8318, loss_rpn_cls: 0.0072, loss_rpn_bbox: 0.0063, loss_cls: 0.1037, acc: 96.2539, loss_bbox: 0.1173, loss: 0.2345\n",
      "2021-11-28 22:49:53,116 - mmdet - INFO - Epoch [3][3700/4697]\tlr: 1.000e-02, eta: 1 day, 4:39:29, time: 1.002, data_time: 0.013, memory: 8318, loss_rpn_cls: 0.0062, loss_rpn_bbox: 0.0063, loss_cls: 0.1028, acc: 96.2161, loss_bbox: 0.1195, loss: 0.2347\n",
      "2021-11-28 22:51:33,155 - mmdet - INFO - Epoch [3][3800/4697]\tlr: 1.000e-02, eta: 1 day, 4:37:59, time: 1.000, data_time: 0.013, memory: 8318, loss_rpn_cls: 0.0080, loss_rpn_bbox: 0.0065, loss_cls: 0.1063, acc: 96.1382, loss_bbox: 0.1182, loss: 0.2389\n",
      "2021-11-28 22:53:13,971 - mmdet - INFO - Epoch [3][3900/4697]\tlr: 1.000e-02, eta: 1 day, 4:36:36, time: 1.008, data_time: 0.013, memory: 8318, loss_rpn_cls: 0.0075, loss_rpn_bbox: 0.0064, loss_cls: 0.0990, acc: 96.3945, loss_bbox: 0.1165, loss: 0.2293\n",
      "2021-11-28 22:54:54,333 - mmdet - INFO - Epoch [3][4000/4697]\tlr: 1.000e-02, eta: 1 day, 4:35:08, time: 1.004, data_time: 0.013, memory: 8318, loss_rpn_cls: 0.0081, loss_rpn_bbox: 0.0066, loss_cls: 0.1049, acc: 96.1648, loss_bbox: 0.1197, loss: 0.2393\n",
      "2021-11-28 22:56:35,320 - mmdet - INFO - Epoch [3][4100/4697]\tlr: 1.000e-02, eta: 1 day, 4:33:45, time: 1.010, data_time: 0.013, memory: 8318, loss_rpn_cls: 0.0072, loss_rpn_bbox: 0.0062, loss_cls: 0.1051, acc: 96.2415, loss_bbox: 0.1180, loss: 0.2365\n",
      "2021-11-28 22:58:15,814 - mmdet - INFO - Epoch [3][4200/4697]\tlr: 1.000e-02, eta: 1 day, 4:32:18, time: 1.005, data_time: 0.013, memory: 8318, loss_rpn_cls: 0.0065, loss_rpn_bbox: 0.0060, loss_cls: 0.0980, acc: 96.3782, loss_bbox: 0.1134, loss: 0.2239\n",
      "2021-11-28 22:59:57,040 - mmdet - INFO - Epoch [3][4300/4697]\tlr: 1.000e-02, eta: 1 day, 4:30:56, time: 1.012, data_time: 0.013, memory: 8318, loss_rpn_cls: 0.0075, loss_rpn_bbox: 0.0063, loss_cls: 0.1009, acc: 96.4202, loss_bbox: 0.1145, loss: 0.2292\n",
      "2021-11-28 23:01:38,248 - mmdet - INFO - Epoch [3][4400/4697]\tlr: 1.000e-02, eta: 1 day, 4:29:34, time: 1.012, data_time: 0.013, memory: 8318, loss_rpn_cls: 0.0071, loss_rpn_bbox: 0.0065, loss_cls: 0.1005, acc: 96.3384, loss_bbox: 0.1138, loss: 0.2279\n",
      "2021-11-28 23:03:18,491 - mmdet - INFO - Epoch [3][4500/4697]\tlr: 1.000e-02, eta: 1 day, 4:28:04, time: 1.002, data_time: 0.013, memory: 8318, loss_rpn_cls: 0.0073, loss_rpn_bbox: 0.0063, loss_cls: 0.1046, acc: 96.2466, loss_bbox: 0.1156, loss: 0.2338\n",
      "2021-11-28 23:04:59,140 - mmdet - INFO - Epoch [3][4600/4697]\tlr: 1.000e-02, eta: 1 day, 4:26:38, time: 1.006, data_time: 0.013, memory: 8318, loss_rpn_cls: 0.0073, loss_rpn_bbox: 0.0061, loss_cls: 0.1001, acc: 96.2837, loss_bbox: 0.1119, loss: 0.2253\n",
      "2021-11-28 23:06:36,256 - mmdet - INFO - Saving checkpoint at 3 epochs\n"
     ]
    },
    {
     "name": "stdout",
     "output_type": "stream",
     "text": [
      "[>>>>>>>>>>>>>>>>>>>>>>>>] 12524/12524, 15.1 task/s, elapsed: 829s, ETA:     0s"
     ]
    },
    {
     "name": "stderr",
     "output_type": "stream",
     "text": [
      "2021-11-28 23:20:27,041 - mmdet - INFO - Evaluating bbox...\n"
     ]
    },
    {
     "name": "stdout",
     "output_type": "stream",
     "text": [
      "Loading and preparing results...\n",
      "DONE (t=0.08s)\n",
      "creating index...\n",
      "index created!\n",
      "Running per image evaluation...\n",
      "Evaluate annotation type *bbox*\n",
      "DONE (t=7.25s).\n",
      "Accumulating evaluation results...\n",
      "DONE (t=2.62s).\n",
      " Average Precision  (AP) @[ IoU=0.50:0.95 | area=   all | maxDets=100 ] = 0.364\n",
      " Average Precision  (AP) @[ IoU=0.50      | area=   all | maxDets=1000 ] = 0.703\n",
      " Average Precision  (AP) @[ IoU=0.75      | area=   all | maxDets=1000 ] = 0.340\n",
      " Average Precision  (AP) @[ IoU=0.50:0.95 | area= small | maxDets=1000 ] = 0.141\n",
      " Average Precision  (AP) @[ IoU=0.50:0.95 | area=medium | maxDets=1000 ] = 0.361\n",
      " Average Precision  (AP) @[ IoU=0.50:0.95 | area= large | maxDets=1000 ] = 0.344\n",
      " Average Recall     (AR) @[ IoU=0.50:0.95 | area=   all | maxDets=100 ] = 0.539\n",
      " Average Recall     (AR) @[ IoU=0.50:0.95 | area=   all | maxDets=300 ] = 0.539\n",
      " Average Recall     (AR) @[ IoU=0.50:0.95 | area=   all | maxDets=1000 ] = 0.539\n",
      " Average Recall     (AR) @[ IoU=0.50:0.95 | area= small | maxDets=1000 ] = 0.279\n",
      " Average Recall     (AR) @[ IoU=0.50:0.95 | area=medium | maxDets=1000 ] = 0.543\n",
      " Average Recall     (AR) @[ IoU=0.50:0.95 | area= large | maxDets=1000 ] = 0.518\n"
     ]
    },
    {
     "name": "stderr",
     "output_type": "stream",
     "text": [
      "2021-11-28 23:20:37,773 - mmdet - INFO - Epoch(val) [3][12524]\tbbox_mAP: 0.3640, bbox_mAP_50: 0.7030, bbox_mAP_75: 0.3400, bbox_mAP_s: 0.1410, bbox_mAP_m: 0.3610, bbox_mAP_l: 0.3440, bbox_mAP_copypaste: 0.364 0.703 0.340 0.141 0.361 0.344\n",
      "2021-11-28 23:22:20,199 - mmdet - INFO - Epoch [4][100/4697]\tlr: 1.000e-02, eta: 1 day, 4:12:08, time: 1.022, data_time: 0.033, memory: 8318, loss_rpn_cls: 0.0070, loss_rpn_bbox: 0.0057, loss_cls: 0.0935, acc: 96.5610, loss_bbox: 0.1080, loss: 0.2141\n",
      "2021-11-28 23:24:00,801 - mmdet - INFO - Epoch [4][200/4697]\tlr: 1.000e-02, eta: 1 day, 4:10:45, time: 1.006, data_time: 0.012, memory: 8318, loss_rpn_cls: 0.0062, loss_rpn_bbox: 0.0060, loss_cls: 0.0965, acc: 96.3943, loss_bbox: 0.1098, loss: 0.2184\n",
      "2021-11-28 23:25:41,231 - mmdet - INFO - Epoch [4][300/4697]\tlr: 1.000e-02, eta: 1 day, 4:09:22, time: 1.004, data_time: 0.013, memory: 8318, loss_rpn_cls: 0.0068, loss_rpn_bbox: 0.0060, loss_cls: 0.0990, acc: 96.3303, loss_bbox: 0.1127, loss: 0.2244\n",
      "2021-11-28 23:27:21,753 - mmdet - INFO - Epoch [4][400/4697]\tlr: 1.000e-02, eta: 1 day, 4:07:59, time: 1.005, data_time: 0.013, memory: 8318, loss_rpn_cls: 0.0062, loss_rpn_bbox: 0.0059, loss_cls: 0.0978, acc: 96.3259, loss_bbox: 0.1143, loss: 0.2243\n",
      "2021-11-28 23:29:02,234 - mmdet - INFO - Epoch [4][500/4697]\tlr: 1.000e-02, eta: 1 day, 4:06:35, time: 1.005, data_time: 0.013, memory: 8318, loss_rpn_cls: 0.0073, loss_rpn_bbox: 0.0063, loss_cls: 0.0992, acc: 96.3135, loss_bbox: 0.1154, loss: 0.2282\n",
      "2021-11-28 23:30:43,032 - mmdet - INFO - Epoch [4][600/4697]\tlr: 1.000e-02, eta: 1 day, 4:05:13, time: 1.008, data_time: 0.013, memory: 8318, loss_rpn_cls: 0.0069, loss_rpn_bbox: 0.0061, loss_cls: 0.0993, acc: 96.3176, loss_bbox: 0.1152, loss: 0.2275\n",
      "2021-11-28 23:32:24,258 - mmdet - INFO - Epoch [4][700/4697]\tlr: 1.000e-02, eta: 1 day, 4:03:54, time: 1.012, data_time: 0.013, memory: 8318, loss_rpn_cls: 0.0068, loss_rpn_bbox: 0.0060, loss_cls: 0.1007, acc: 96.3223, loss_bbox: 0.1136, loss: 0.2271\n",
      "2021-11-28 23:34:05,030 - mmdet - INFO - Epoch [4][800/4697]\tlr: 1.000e-02, eta: 1 day, 4:02:32, time: 1.008, data_time: 0.013, memory: 8318, loss_rpn_cls: 0.0073, loss_rpn_bbox: 0.0062, loss_cls: 0.0913, acc: 96.5752, loss_bbox: 0.1102, loss: 0.2150\n",
      "2021-11-28 23:35:45,569 - mmdet - INFO - Epoch [4][900/4697]\tlr: 1.000e-02, eta: 1 day, 4:01:08, time: 1.005, data_time: 0.013, memory: 8318, loss_rpn_cls: 0.0066, loss_rpn_bbox: 0.0062, loss_cls: 0.1009, acc: 96.3423, loss_bbox: 0.1132, loss: 0.2270\n",
      "2021-11-28 23:37:25,845 - mmdet - INFO - Epoch [4][1000/4697]\tlr: 1.000e-02, eta: 1 day, 3:59:42, time: 1.003, data_time: 0.013, memory: 8318, loss_rpn_cls: 0.0069, loss_rpn_bbox: 0.0063, loss_cls: 0.0994, acc: 96.2810, loss_bbox: 0.1154, loss: 0.2280\n",
      "2021-11-28 23:39:06,446 - mmdet - INFO - Epoch [4][1100/4697]\tlr: 1.000e-02, eta: 1 day, 3:58:17, time: 1.006, data_time: 0.013, memory: 8318, loss_rpn_cls: 0.0060, loss_rpn_bbox: 0.0061, loss_cls: 0.0996, acc: 96.2561, loss_bbox: 0.1186, loss: 0.2304\n",
      "2021-11-28 23:40:47,810 - mmdet - INFO - Epoch [4][1200/4697]\tlr: 1.000e-02, eta: 1 day, 3:56:58, time: 1.014, data_time: 0.013, memory: 8318, loss_rpn_cls: 0.0065, loss_rpn_bbox: 0.0062, loss_cls: 0.0982, acc: 96.4338, loss_bbox: 0.1123, loss: 0.2232\n",
      "2021-11-28 23:42:28,243 - mmdet - INFO - Epoch [4][1300/4697]\tlr: 1.000e-02, eta: 1 day, 3:55:32, time: 1.004, data_time: 0.013, memory: 8318, loss_rpn_cls: 0.0070, loss_rpn_bbox: 0.0062, loss_cls: 0.1044, acc: 96.1538, loss_bbox: 0.1210, loss: 0.2386\n",
      "2021-11-28 23:44:08,620 - mmdet - INFO - Epoch [4][1400/4697]\tlr: 1.000e-02, eta: 1 day, 3:54:06, time: 1.004, data_time: 0.013, memory: 8318, loss_rpn_cls: 0.0066, loss_rpn_bbox: 0.0063, loss_cls: 0.1010, acc: 96.3320, loss_bbox: 0.1158, loss: 0.2298\n",
      "2021-11-28 23:45:49,014 - mmdet - INFO - Epoch [4][1500/4697]\tlr: 1.000e-02, eta: 1 day, 3:52:39, time: 1.004, data_time: 0.013, memory: 8318, loss_rpn_cls: 0.0067, loss_rpn_bbox: 0.0064, loss_cls: 0.0961, acc: 96.4412, loss_bbox: 0.1156, loss: 0.2248\n",
      "2021-11-28 23:47:29,414 - mmdet - INFO - Epoch [4][1600/4697]\tlr: 1.000e-02, eta: 1 day, 3:51:13, time: 1.004, data_time: 0.013, memory: 8318, loss_rpn_cls: 0.0069, loss_rpn_bbox: 0.0060, loss_cls: 0.0989, acc: 96.3464, loss_bbox: 0.1159, loss: 0.2277\n",
      "2021-11-28 23:49:09,927 - mmdet - INFO - Epoch [4][1700/4697]\tlr: 1.000e-02, eta: 1 day, 3:49:47, time: 1.005, data_time: 0.013, memory: 8318, loss_rpn_cls: 0.0063, loss_rpn_bbox: 0.0061, loss_cls: 0.0965, acc: 96.4238, loss_bbox: 0.1101, loss: 0.2190\n",
      "2021-11-28 23:50:50,288 - mmdet - INFO - Epoch [4][1800/4697]\tlr: 1.000e-02, eta: 1 day, 3:48:20, time: 1.004, data_time: 0.013, memory: 8318, loss_rpn_cls: 0.0065, loss_rpn_bbox: 0.0063, loss_cls: 0.0972, acc: 96.4172, loss_bbox: 0.1119, loss: 0.2220\n",
      "2021-11-28 23:52:30,555 - mmdet - INFO - Epoch [4][1900/4697]\tlr: 1.000e-02, eta: 1 day, 3:46:52, time: 1.003, data_time: 0.013, memory: 8318, loss_rpn_cls: 0.0078, loss_rpn_bbox: 0.0062, loss_cls: 0.1007, acc: 96.2900, loss_bbox: 0.1163, loss: 0.2310\n",
      "2021-11-28 23:54:10,714 - mmdet - INFO - Epoch [4][2000/4697]\tlr: 1.000e-02, eta: 1 day, 3:45:23, time: 1.002, data_time: 0.013, memory: 8318, loss_rpn_cls: 0.0065, loss_rpn_bbox: 0.0058, loss_cls: 0.0938, acc: 96.5144, loss_bbox: 0.1078, loss: 0.2139\n",
      "2021-11-28 23:55:50,813 - mmdet - INFO - Epoch [4][2100/4697]\tlr: 1.000e-02, eta: 1 day, 3:43:54, time: 1.001, data_time: 0.013, memory: 8318, loss_rpn_cls: 0.0062, loss_rpn_bbox: 0.0060, loss_cls: 0.0989, acc: 96.4478, loss_bbox: 0.1134, loss: 0.2244\n",
      "2021-11-28 23:57:31,223 - mmdet - INFO - Epoch [4][2200/4697]\tlr: 1.000e-02, eta: 1 day, 3:42:26, time: 1.004, data_time: 0.013, memory: 8318, loss_rpn_cls: 0.0069, loss_rpn_bbox: 0.0065, loss_cls: 0.1006, acc: 96.2854, loss_bbox: 0.1190, loss: 0.2331\n",
      "2021-11-28 23:59:11,632 - mmdet - INFO - Epoch [4][2300/4697]\tlr: 1.000e-02, eta: 1 day, 3:40:58, time: 1.004, data_time: 0.013, memory: 8318, loss_rpn_cls: 0.0065, loss_rpn_bbox: 0.0060, loss_cls: 0.0951, acc: 96.5105, loss_bbox: 0.1135, loss: 0.2211\n",
      "2021-11-29 00:00:51,436 - mmdet - INFO - Epoch [4][2400/4697]\tlr: 1.000e-02, eta: 1 day, 3:39:27, time: 0.998, data_time: 0.013, memory: 8318, loss_rpn_cls: 0.0072, loss_rpn_bbox: 0.0064, loss_cls: 0.0994, acc: 96.3618, loss_bbox: 0.1122, loss: 0.2252\n",
      "2021-11-29 00:02:31,315 - mmdet - INFO - Epoch [4][2500/4697]\tlr: 1.000e-02, eta: 1 day, 3:37:56, time: 0.999, data_time: 0.013, memory: 8318, loss_rpn_cls: 0.0072, loss_rpn_bbox: 0.0065, loss_cls: 0.0992, acc: 96.3472, loss_bbox: 0.1136, loss: 0.2266\n",
      "2021-11-29 00:04:12,346 - mmdet - INFO - Epoch [4][2600/4697]\tlr: 1.000e-02, eta: 1 day, 3:36:31, time: 1.010, data_time: 0.013, memory: 8318, loss_rpn_cls: 0.0071, loss_rpn_bbox: 0.0063, loss_cls: 0.1021, acc: 96.2246, loss_bbox: 0.1186, loss: 0.2341\n",
      "2021-11-29 00:05:52,656 - mmdet - INFO - Epoch [4][2700/4697]\tlr: 1.000e-02, eta: 1 day, 3:35:03, time: 1.003, data_time: 0.013, memory: 8318, loss_rpn_cls: 0.0065, loss_rpn_bbox: 0.0063, loss_cls: 0.0992, acc: 96.3723, loss_bbox: 0.1139, loss: 0.2259\n",
      "2021-11-29 00:07:33,061 - mmdet - INFO - Epoch [4][2800/4697]\tlr: 1.000e-02, eta: 1 day, 3:33:34, time: 1.004, data_time: 0.014, memory: 8318, loss_rpn_cls: 0.0069, loss_rpn_bbox: 0.0066, loss_cls: 0.1016, acc: 96.2368, loss_bbox: 0.1201, loss: 0.2352\n",
      "2021-11-29 00:09:13,176 - mmdet - INFO - Epoch [4][2900/4697]\tlr: 1.000e-02, eta: 1 day, 3:32:04, time: 1.001, data_time: 0.014, memory: 8318, loss_rpn_cls: 0.0076, loss_rpn_bbox: 0.0062, loss_cls: 0.0998, acc: 96.3083, loss_bbox: 0.1137, loss: 0.2272\n",
      "2021-11-29 00:10:53,723 - mmdet - INFO - Epoch [4][3000/4697]\tlr: 1.000e-02, eta: 1 day, 3:30:36, time: 1.005, data_time: 0.013, memory: 8318, loss_rpn_cls: 0.0073, loss_rpn_bbox: 0.0061, loss_cls: 0.1036, acc: 96.2612, loss_bbox: 0.1183, loss: 0.2353\n",
      "2021-11-29 00:12:33,896 - mmdet - INFO - Epoch [4][3100/4697]\tlr: 1.000e-02, eta: 1 day, 3:29:06, time: 1.002, data_time: 0.013, memory: 8318, loss_rpn_cls: 0.0066, loss_rpn_bbox: 0.0063, loss_cls: 0.0983, acc: 96.3870, loss_bbox: 0.1149, loss: 0.2262\n",
      "2021-11-29 00:14:13,972 - mmdet - INFO - Epoch [4][3200/4697]\tlr: 1.000e-02, eta: 1 day, 3:27:35, time: 1.001, data_time: 0.013, memory: 8318, loss_rpn_cls: 0.0061, loss_rpn_bbox: 0.0062, loss_cls: 0.0946, acc: 96.4873, loss_bbox: 0.1110, loss: 0.2179\n"
     ]
    },
    {
     "name": "stderr",
     "output_type": "stream",
     "text": [
      "2021-11-29 00:15:54,205 - mmdet - INFO - Epoch [4][3300/4697]\tlr: 1.000e-02, eta: 1 day, 3:26:05, time: 1.002, data_time: 0.013, memory: 8318, loss_rpn_cls: 0.0079, loss_rpn_bbox: 0.0060, loss_cls: 0.0996, acc: 96.4062, loss_bbox: 0.1134, loss: 0.2268\n",
      "2021-11-29 00:17:34,285 - mmdet - INFO - Epoch [4][3400/4697]\tlr: 1.000e-02, eta: 1 day, 3:24:34, time: 1.001, data_time: 0.013, memory: 8318, loss_rpn_cls: 0.0072, loss_rpn_bbox: 0.0064, loss_cls: 0.0996, acc: 96.4370, loss_bbox: 0.1115, loss: 0.2247\n",
      "2021-11-29 00:19:14,616 - mmdet - INFO - Epoch [4][3500/4697]\tlr: 1.000e-02, eta: 1 day, 3:23:04, time: 1.003, data_time: 0.013, memory: 8318, loss_rpn_cls: 0.0066, loss_rpn_bbox: 0.0060, loss_cls: 0.0966, acc: 96.4446, loss_bbox: 0.1124, loss: 0.2217\n",
      "2021-11-29 00:20:55,004 - mmdet - INFO - Epoch [4][3600/4697]\tlr: 1.000e-02, eta: 1 day, 3:21:35, time: 1.004, data_time: 0.013, memory: 8318, loss_rpn_cls: 0.0068, loss_rpn_bbox: 0.0063, loss_cls: 0.0999, acc: 96.3677, loss_bbox: 0.1160, loss: 0.2290\n",
      "2021-11-29 00:22:37,564 - mmdet - INFO - Epoch [4][3700/4697]\tlr: 1.000e-02, eta: 1 day, 3:20:17, time: 1.026, data_time: 0.013, memory: 8318, loss_rpn_cls: 0.0067, loss_rpn_bbox: 0.0064, loss_cls: 0.0973, acc: 96.4246, loss_bbox: 0.1142, loss: 0.2246\n",
      "2021-11-29 00:24:17,628 - mmdet - INFO - Epoch [4][3800/4697]\tlr: 1.000e-02, eta: 1 day, 3:18:46, time: 1.001, data_time: 0.013, memory: 8318, loss_rpn_cls: 0.0067, loss_rpn_bbox: 0.0064, loss_cls: 0.1020, acc: 96.1824, loss_bbox: 0.1201, loss: 0.2352\n",
      "2021-11-29 00:25:57,864 - mmdet - INFO - Epoch [4][3900/4697]\tlr: 1.000e-02, eta: 1 day, 3:17:15, time: 1.002, data_time: 0.014, memory: 8318, loss_rpn_cls: 0.0065, loss_rpn_bbox: 0.0061, loss_cls: 0.1003, acc: 96.2830, loss_bbox: 0.1147, loss: 0.2276\n",
      "2021-11-29 00:27:39,083 - mmdet - INFO - Epoch [4][4000/4697]\tlr: 1.000e-02, eta: 1 day, 3:15:49, time: 1.012, data_time: 0.013, memory: 8318, loss_rpn_cls: 0.0071, loss_rpn_bbox: 0.0060, loss_cls: 0.0943, acc: 96.6138, loss_bbox: 0.1061, loss: 0.2135\n",
      "2021-11-29 00:29:19,546 - mmdet - INFO - Epoch [4][4100/4697]\tlr: 1.000e-02, eta: 1 day, 3:14:20, time: 1.005, data_time: 0.013, memory: 8318, loss_rpn_cls: 0.0066, loss_rpn_bbox: 0.0060, loss_cls: 0.0978, acc: 96.4734, loss_bbox: 0.1109, loss: 0.2212\n",
      "2021-11-29 00:30:59,705 - mmdet - INFO - Epoch [4][4200/4697]\tlr: 1.000e-02, eta: 1 day, 3:12:48, time: 1.002, data_time: 0.013, memory: 8318, loss_rpn_cls: 0.0068, loss_rpn_bbox: 0.0062, loss_cls: 0.1041, acc: 96.1841, loss_bbox: 0.1179, loss: 0.2349\n",
      "2021-11-29 00:32:39,812 - mmdet - INFO - Epoch [4][4300/4697]\tlr: 1.000e-02, eta: 1 day, 3:11:16, time: 1.001, data_time: 0.013, memory: 8318, loss_rpn_cls: 0.0076, loss_rpn_bbox: 0.0065, loss_cls: 0.1025, acc: 96.3247, loss_bbox: 0.1139, loss: 0.2305\n",
      "2021-11-29 00:34:19,919 - mmdet - INFO - Epoch [4][4400/4697]\tlr: 1.000e-02, eta: 1 day, 3:09:44, time: 1.001, data_time: 0.013, memory: 8318, loss_rpn_cls: 0.0072, loss_rpn_bbox: 0.0063, loss_cls: 0.0993, acc: 96.3647, loss_bbox: 0.1139, loss: 0.2267\n",
      "2021-11-29 00:35:59,823 - mmdet - INFO - Epoch [4][4500/4697]\tlr: 1.000e-02, eta: 1 day, 3:08:11, time: 0.999, data_time: 0.013, memory: 8318, loss_rpn_cls: 0.0067, loss_rpn_bbox: 0.0065, loss_cls: 0.0991, acc: 96.3801, loss_bbox: 0.1144, loss: 0.2268\n",
      "2021-11-29 00:37:40,188 - mmdet - INFO - Epoch [4][4600/4697]\tlr: 1.000e-02, eta: 1 day, 3:06:40, time: 1.004, data_time: 0.013, memory: 8318, loss_rpn_cls: 0.0068, loss_rpn_bbox: 0.0060, loss_cls: 0.0968, acc: 96.4724, loss_bbox: 0.1104, loss: 0.2200\n",
      "2021-11-29 00:39:17,513 - mmdet - INFO - Saving checkpoint at 4 epochs\n"
     ]
    },
    {
     "name": "stdout",
     "output_type": "stream",
     "text": [
      "[>>>>>>>>>>>>>>>>>>>>>>>>] 12524/12524, 16.5 task/s, elapsed: 757s, ETA:     0s"
     ]
    },
    {
     "name": "stderr",
     "output_type": "stream",
     "text": [
      "2021-11-29 00:51:57,069 - mmdet - INFO - Evaluating bbox...\n"
     ]
    },
    {
     "name": "stdout",
     "output_type": "stream",
     "text": [
      "Loading and preparing results...\n",
      "DONE (t=0.29s)\n",
      "creating index...\n",
      "index created!\n",
      "Running per image evaluation...\n",
      "Evaluate annotation type *bbox*\n",
      "DONE (t=8.00s).\n",
      "Accumulating evaluation results...\n",
      "DONE (t=2.89s).\n",
      " Average Precision  (AP) @[ IoU=0.50:0.95 | area=   all | maxDets=100 ] = 0.361\n",
      " Average Precision  (AP) @[ IoU=0.50      | area=   all | maxDets=1000 ] = 0.693\n",
      " Average Precision  (AP) @[ IoU=0.75      | area=   all | maxDets=1000 ] = 0.332\n",
      " Average Precision  (AP) @[ IoU=0.50:0.95 | area= small | maxDets=1000 ] = 0.120\n",
      " Average Precision  (AP) @[ IoU=0.50:0.95 | area=medium | maxDets=1000 ] = 0.348\n",
      " Average Precision  (AP) @[ IoU=0.50:0.95 | area= large | maxDets=1000 ] = 0.351\n",
      " Average Recall     (AR) @[ IoU=0.50:0.95 | area=   all | maxDets=100 ] = 0.535\n",
      " Average Recall     (AR) @[ IoU=0.50:0.95 | area=   all | maxDets=300 ] = 0.535\n",
      " Average Recall     (AR) @[ IoU=0.50:0.95 | area=   all | maxDets=1000 ] = 0.535\n",
      " Average Recall     (AR) @[ IoU=0.50:0.95 | area= small | maxDets=1000 ] = 0.188\n",
      " Average Recall     (AR) @[ IoU=0.50:0.95 | area=medium | maxDets=1000 ] = 0.519\n",
      " Average Recall     (AR) @[ IoU=0.50:0.95 | area= large | maxDets=1000 ] = 0.542\n"
     ]
    },
    {
     "name": "stderr",
     "output_type": "stream",
     "text": [
      "2021-11-29 00:52:08,883 - mmdet - INFO - Epoch(val) [4][12524]\tbbox_mAP: 0.3610, bbox_mAP_50: 0.6930, bbox_mAP_75: 0.3320, bbox_mAP_s: 0.1200, bbox_mAP_m: 0.3480, bbox_mAP_l: 0.3510, bbox_mAP_copypaste: 0.361 0.693 0.332 0.120 0.348 0.351\n",
      "2021-11-29 00:53:51,988 - mmdet - INFO - Epoch [5][100/4697]\tlr: 1.000e-02, eta: 1 day, 2:55:26, time: 1.029, data_time: 0.033, memory: 8318, loss_rpn_cls: 0.0066, loss_rpn_bbox: 0.0061, loss_cls: 0.0962, acc: 96.3689, loss_bbox: 0.1129, loss: 0.2218\n",
      "2021-11-29 00:55:32,446 - mmdet - INFO - Epoch [5][200/4697]\tlr: 1.000e-02, eta: 1 day, 2:53:59, time: 1.005, data_time: 0.013, memory: 8318, loss_rpn_cls: 0.0065, loss_rpn_bbox: 0.0061, loss_cls: 0.0948, acc: 96.4368, loss_bbox: 0.1112, loss: 0.2187\n",
      "2021-11-29 00:57:12,893 - mmdet - INFO - Epoch [5][300/4697]\tlr: 1.000e-02, eta: 1 day, 2:52:31, time: 1.004, data_time: 0.013, memory: 8318, loss_rpn_cls: 0.0060, loss_rpn_bbox: 0.0062, loss_cls: 0.0952, acc: 96.4595, loss_bbox: 0.1122, loss: 0.2195\n",
      "2021-11-29 00:58:53,159 - mmdet - INFO - Epoch [5][400/4697]\tlr: 1.000e-02, eta: 1 day, 2:51:02, time: 1.003, data_time: 0.013, memory: 8318, loss_rpn_cls: 0.0062, loss_rpn_bbox: 0.0060, loss_cls: 0.0939, acc: 96.5281, loss_bbox: 0.1110, loss: 0.2172\n",
      "2021-11-29 01:00:33,690 - mmdet - INFO - Epoch [5][500/4697]\tlr: 1.000e-02, eta: 1 day, 2:49:35, time: 1.005, data_time: 0.013, memory: 8318, loss_rpn_cls: 0.0057, loss_rpn_bbox: 0.0059, loss_cls: 0.0949, acc: 96.4067, loss_bbox: 0.1115, loss: 0.2180\n",
      "2021-11-29 01:02:14,637 - mmdet - INFO - Epoch [5][600/4697]\tlr: 1.000e-02, eta: 1 day, 2:48:09, time: 1.009, data_time: 0.013, memory: 8318, loss_rpn_cls: 0.0064, loss_rpn_bbox: 0.0061, loss_cls: 0.0983, acc: 96.3679, loss_bbox: 0.1145, loss: 0.2254\n",
      "2021-11-29 01:03:55,599 - mmdet - INFO - Epoch [5][700/4697]\tlr: 1.000e-02, eta: 1 day, 2:46:44, time: 1.010, data_time: 0.013, memory: 8318, loss_rpn_cls: 0.0065, loss_rpn_bbox: 0.0062, loss_cls: 0.0977, acc: 96.4004, loss_bbox: 0.1118, loss: 0.2222\n",
      "2021-11-29 01:05:36,513 - mmdet - INFO - Epoch [5][800/4697]\tlr: 1.000e-02, eta: 1 day, 2:45:18, time: 1.009, data_time: 0.013, memory: 8318, loss_rpn_cls: 0.0056, loss_rpn_bbox: 0.0060, loss_cls: 0.0935, acc: 96.5344, loss_bbox: 0.1116, loss: 0.2166\n",
      "2021-11-29 01:07:16,766 - mmdet - INFO - Epoch [5][900/4697]\tlr: 1.000e-02, eta: 1 day, 2:43:48, time: 1.003, data_time: 0.013, memory: 8318, loss_rpn_cls: 0.0066, loss_rpn_bbox: 0.0063, loss_cls: 0.0946, acc: 96.5181, loss_bbox: 0.1103, loss: 0.2178\n",
      "2021-11-29 01:08:57,127 - mmdet - INFO - Epoch [5][1000/4697]\tlr: 1.000e-02, eta: 1 day, 2:42:19, time: 1.004, data_time: 0.013, memory: 8318, loss_rpn_cls: 0.0063, loss_rpn_bbox: 0.0063, loss_cls: 0.0974, acc: 96.3699, loss_bbox: 0.1127, loss: 0.2227\n",
      "2021-11-29 01:10:37,437 - mmdet - INFO - Epoch [5][1100/4697]\tlr: 1.000e-02, eta: 1 day, 2:40:50, time: 1.003, data_time: 0.013, memory: 8318, loss_rpn_cls: 0.0067, loss_rpn_bbox: 0.0057, loss_cls: 0.0907, acc: 96.6699, loss_bbox: 0.1081, loss: 0.2112\n",
      "2021-11-29 01:12:17,312 - mmdet - INFO - Epoch [5][1200/4697]\tlr: 1.000e-02, eta: 1 day, 2:39:18, time: 0.999, data_time: 0.013, memory: 8318, loss_rpn_cls: 0.0061, loss_rpn_bbox: 0.0060, loss_cls: 0.0952, acc: 96.4951, loss_bbox: 0.1121, loss: 0.2194\n",
      "2021-11-29 01:13:57,438 - mmdet - INFO - Epoch [5][1300/4697]\tlr: 1.000e-02, eta: 1 day, 2:37:47, time: 1.001, data_time: 0.013, memory: 8318, loss_rpn_cls: 0.0064, loss_rpn_bbox: 0.0061, loss_cls: 0.0967, acc: 96.4434, loss_bbox: 0.1143, loss: 0.2236\n",
      "2021-11-29 01:15:37,482 - mmdet - INFO - Epoch [5][1400/4697]\tlr: 1.000e-02, eta: 1 day, 2:36:16, time: 1.000, data_time: 0.013, memory: 8318, loss_rpn_cls: 0.0064, loss_rpn_bbox: 0.0061, loss_cls: 0.0974, acc: 96.3999, loss_bbox: 0.1109, loss: 0.2208\n",
      "2021-11-29 01:17:17,268 - mmdet - INFO - Epoch [5][1500/4697]\tlr: 1.000e-02, eta: 1 day, 2:34:44, time: 0.998, data_time: 0.013, memory: 8318, loss_rpn_cls: 0.0068, loss_rpn_bbox: 0.0061, loss_cls: 0.0978, acc: 96.3574, loss_bbox: 0.1140, loss: 0.2245\n",
      "2021-11-29 01:18:57,302 - mmdet - INFO - Epoch [5][1600/4697]\tlr: 1.000e-02, eta: 1 day, 2:33:13, time: 1.000, data_time: 0.013, memory: 8318, loss_rpn_cls: 0.0058, loss_rpn_bbox: 0.0061, loss_cls: 0.0987, acc: 96.2773, loss_bbox: 0.1194, loss: 0.2300\n",
      "2021-11-29 01:20:37,375 - mmdet - INFO - Epoch [5][1700/4697]\tlr: 1.000e-02, eta: 1 day, 2:31:42, time: 1.001, data_time: 0.013, memory: 8318, loss_rpn_cls: 0.0058, loss_rpn_bbox: 0.0058, loss_cls: 0.0915, acc: 96.5288, loss_bbox: 0.1103, loss: 0.2134\n",
      "2021-11-29 01:22:17,359 - mmdet - INFO - Epoch [5][1800/4697]\tlr: 1.000e-02, eta: 1 day, 2:30:10, time: 1.000, data_time: 0.013, memory: 8318, loss_rpn_cls: 0.0069, loss_rpn_bbox: 0.0061, loss_cls: 0.0972, acc: 96.4292, loss_bbox: 0.1133, loss: 0.2236\n",
      "2021-11-29 01:23:57,250 - mmdet - INFO - Epoch [5][1900/4697]\tlr: 1.000e-02, eta: 1 day, 2:28:38, time: 0.999, data_time: 0.013, memory: 8318, loss_rpn_cls: 0.0065, loss_rpn_bbox: 0.0062, loss_cls: 0.0922, acc: 96.5930, loss_bbox: 0.1087, loss: 0.2135\n",
      "2021-11-29 01:25:37,101 - mmdet - INFO - Epoch [5][2000/4697]\tlr: 1.000e-02, eta: 1 day, 2:27:05, time: 0.998, data_time: 0.013, memory: 8318, loss_rpn_cls: 0.0066, loss_rpn_bbox: 0.0060, loss_cls: 0.0946, acc: 96.4856, loss_bbox: 0.1107, loss: 0.2178\n",
      "2021-11-29 01:27:17,256 - mmdet - INFO - Epoch [5][2100/4697]\tlr: 1.000e-02, eta: 1 day, 2:25:34, time: 1.002, data_time: 0.013, memory: 8318, loss_rpn_cls: 0.0061, loss_rpn_bbox: 0.0060, loss_cls: 0.0939, acc: 96.5364, loss_bbox: 0.1081, loss: 0.2141\n",
      "2021-11-29 01:28:57,870 - mmdet - INFO - Epoch [5][2200/4697]\tlr: 1.000e-02, eta: 1 day, 2:24:05, time: 1.006, data_time: 0.013, memory: 8318, loss_rpn_cls: 0.0060, loss_rpn_bbox: 0.0059, loss_cls: 0.0991, acc: 96.3730, loss_bbox: 0.1131, loss: 0.2242\n",
      "2021-11-29 01:30:38,048 - mmdet - INFO - Epoch [5][2300/4697]\tlr: 1.000e-02, eta: 1 day, 2:22:34, time: 1.002, data_time: 0.013, memory: 8318, loss_rpn_cls: 0.0066, loss_rpn_bbox: 0.0063, loss_cls: 0.0915, acc: 96.6599, loss_bbox: 0.1076, loss: 0.2119\n",
      "2021-11-29 01:32:18,286 - mmdet - INFO - Epoch [5][2400/4697]\tlr: 1.000e-02, eta: 1 day, 2:21:03, time: 1.002, data_time: 0.013, memory: 8318, loss_rpn_cls: 0.0063, loss_rpn_bbox: 0.0061, loss_cls: 0.0927, acc: 96.5566, loss_bbox: 0.1096, loss: 0.2147\n",
      "2021-11-29 01:33:58,284 - mmdet - INFO - Epoch [5][2500/4697]\tlr: 1.000e-02, eta: 1 day, 2:19:31, time: 1.000, data_time: 0.013, memory: 8318, loss_rpn_cls: 0.0071, loss_rpn_bbox: 0.0060, loss_cls: 0.0944, acc: 96.4387, loss_bbox: 0.1107, loss: 0.2182\n",
      "2021-11-29 01:35:38,283 - mmdet - INFO - Epoch [5][2600/4697]\tlr: 1.000e-02, eta: 1 day, 2:17:59, time: 1.000, data_time: 0.013, memory: 8318, loss_rpn_cls: 0.0059, loss_rpn_bbox: 0.0060, loss_cls: 0.0939, acc: 96.5247, loss_bbox: 0.1091, loss: 0.2149\n",
      "2021-11-29 01:37:18,055 - mmdet - INFO - Epoch [5][2700/4697]\tlr: 1.000e-02, eta: 1 day, 2:16:26, time: 0.998, data_time: 0.013, memory: 8318, loss_rpn_cls: 0.0066, loss_rpn_bbox: 0.0061, loss_cls: 0.1011, acc: 96.3008, loss_bbox: 0.1142, loss: 0.2280\n",
      "2021-11-29 01:38:58,454 - mmdet - INFO - Epoch [5][2800/4697]\tlr: 1.000e-02, eta: 1 day, 2:14:55, time: 1.004, data_time: 0.013, memory: 8318, loss_rpn_cls: 0.0066, loss_rpn_bbox: 0.0061, loss_cls: 0.0941, acc: 96.5110, loss_bbox: 0.1093, loss: 0.2160\n",
      "2021-11-29 01:40:38,954 - mmdet - INFO - Epoch [5][2900/4697]\tlr: 1.000e-02, eta: 1 day, 2:13:25, time: 1.005, data_time: 0.013, memory: 8318, loss_rpn_cls: 0.0063, loss_rpn_bbox: 0.0059, loss_cls: 0.0933, acc: 96.5493, loss_bbox: 0.1116, loss: 0.2171\n",
      "2021-11-29 01:42:19,154 - mmdet - INFO - Epoch [5][3000/4697]\tlr: 1.000e-02, eta: 1 day, 2:11:53, time: 1.002, data_time: 0.013, memory: 8318, loss_rpn_cls: 0.0063, loss_rpn_bbox: 0.0061, loss_cls: 0.0896, acc: 96.6284, loss_bbox: 0.1075, loss: 0.2096\n",
      "2021-11-29 01:43:59,528 - mmdet - INFO - Epoch [5][3100/4697]\tlr: 1.000e-02, eta: 1 day, 2:10:22, time: 1.004, data_time: 0.013, memory: 8318, loss_rpn_cls: 0.0060, loss_rpn_bbox: 0.0060, loss_cls: 0.0936, acc: 96.5481, loss_bbox: 0.1111, loss: 0.2168\n",
      "2021-11-29 01:45:40,204 - mmdet - INFO - Epoch [5][3200/4697]\tlr: 1.000e-02, eta: 1 day, 2:08:52, time: 1.007, data_time: 0.013, memory: 8318, loss_rpn_cls: 0.0060, loss_rpn_bbox: 0.0058, loss_cls: 0.0940, acc: 96.5544, loss_bbox: 0.1102, loss: 0.2161\n"
     ]
    },
    {
     "name": "stderr",
     "output_type": "stream",
     "text": [
      "2021-11-29 01:47:20,748 - mmdet - INFO - Epoch [5][3300/4697]\tlr: 1.000e-02, eta: 1 day, 2:07:22, time: 1.005, data_time: 0.013, memory: 8318, loss_rpn_cls: 0.0059, loss_rpn_bbox: 0.0061, loss_cls: 0.0892, acc: 96.6809, loss_bbox: 0.1073, loss: 0.2085\n",
      "2021-11-29 01:49:01,068 - mmdet - INFO - Epoch [5][3400/4697]\tlr: 1.000e-02, eta: 1 day, 2:05:51, time: 1.003, data_time: 0.013, memory: 8318, loss_rpn_cls: 0.0066, loss_rpn_bbox: 0.0062, loss_cls: 0.0959, acc: 96.4954, loss_bbox: 0.1085, loss: 0.2171\n",
      "2021-11-29 01:50:41,556 - mmdet - INFO - Epoch [5][3500/4697]\tlr: 1.000e-02, eta: 1 day, 2:04:20, time: 1.005, data_time: 0.013, memory: 8318, loss_rpn_cls: 0.0065, loss_rpn_bbox: 0.0061, loss_cls: 0.0920, acc: 96.5974, loss_bbox: 0.1067, loss: 0.2112\n",
      "2021-11-29 01:52:22,090 - mmdet - INFO - Epoch [5][3600/4697]\tlr: 1.000e-02, eta: 1 day, 2:02:49, time: 1.005, data_time: 0.013, memory: 8318, loss_rpn_cls: 0.0071, loss_rpn_bbox: 0.0063, loss_cls: 0.0956, acc: 96.4353, loss_bbox: 0.1110, loss: 0.2199\n",
      "2021-11-29 01:54:02,508 - mmdet - INFO - Epoch [5][3700/4697]\tlr: 1.000e-02, eta: 1 day, 2:01:18, time: 1.004, data_time: 0.013, memory: 8318, loss_rpn_cls: 0.0062, loss_rpn_bbox: 0.0062, loss_cls: 0.0934, acc: 96.5132, loss_bbox: 0.1102, loss: 0.2160\n",
      "2021-11-29 01:55:42,822 - mmdet - INFO - Epoch [5][3800/4697]\tlr: 1.000e-02, eta: 1 day, 1:59:46, time: 1.003, data_time: 0.013, memory: 8318, loss_rpn_cls: 0.0061, loss_rpn_bbox: 0.0060, loss_cls: 0.0956, acc: 96.4341, loss_bbox: 0.1097, loss: 0.2174\n",
      "2021-11-29 01:57:23,404 - mmdet - INFO - Epoch [5][3900/4697]\tlr: 1.000e-02, eta: 1 day, 1:58:15, time: 1.006, data_time: 0.013, memory: 8318, loss_rpn_cls: 0.0061, loss_rpn_bbox: 0.0059, loss_cls: 0.0999, acc: 96.3037, loss_bbox: 0.1116, loss: 0.2235\n",
      "2021-11-29 01:59:04,053 - mmdet - INFO - Epoch [5][4000/4697]\tlr: 1.000e-02, eta: 1 day, 1:56:45, time: 1.006, data_time: 0.013, memory: 8318, loss_rpn_cls: 0.0066, loss_rpn_bbox: 0.0061, loss_cls: 0.0961, acc: 96.4058, loss_bbox: 0.1140, loss: 0.2228\n",
      "2021-11-29 02:00:44,490 - mmdet - INFO - Epoch [5][4100/4697]\tlr: 1.000e-02, eta: 1 day, 1:55:13, time: 1.004, data_time: 0.013, memory: 8318, loss_rpn_cls: 0.0065, loss_rpn_bbox: 0.0062, loss_cls: 0.0981, acc: 96.4011, loss_bbox: 0.1146, loss: 0.2254\n",
      "2021-11-29 02:02:25,007 - mmdet - INFO - Epoch [5][4200/4697]\tlr: 1.000e-02, eta: 1 day, 1:53:42, time: 1.005, data_time: 0.013, memory: 8318, loss_rpn_cls: 0.0065, loss_rpn_bbox: 0.0061, loss_cls: 0.1032, acc: 96.1726, loss_bbox: 0.1179, loss: 0.2336\n",
      "2021-11-29 02:04:05,389 - mmdet - INFO - Epoch [5][4300/4697]\tlr: 1.000e-02, eta: 1 day, 1:52:10, time: 1.004, data_time: 0.013, memory: 8318, loss_rpn_cls: 0.0064, loss_rpn_bbox: 0.0062, loss_cls: 0.0948, acc: 96.5061, loss_bbox: 0.1119, loss: 0.2194\n",
      "2021-11-29 02:05:45,591 - mmdet - INFO - Epoch [5][4400/4697]\tlr: 1.000e-02, eta: 1 day, 1:50:37, time: 1.002, data_time: 0.013, memory: 8318, loss_rpn_cls: 0.0060, loss_rpn_bbox: 0.0059, loss_cls: 0.0893, acc: 96.6694, loss_bbox: 0.1057, loss: 0.2070\n",
      "2021-11-29 02:07:25,661 - mmdet - INFO - Epoch [5][4500/4697]\tlr: 1.000e-02, eta: 1 day, 1:49:04, time: 1.001, data_time: 0.013, memory: 8318, loss_rpn_cls: 0.0063, loss_rpn_bbox: 0.0059, loss_cls: 0.0937, acc: 96.5149, loss_bbox: 0.1096, loss: 0.2155\n",
      "2021-11-29 02:09:05,434 - mmdet - INFO - Epoch [5][4600/4697]\tlr: 1.000e-02, eta: 1 day, 1:47:30, time: 0.998, data_time: 0.013, memory: 8318, loss_rpn_cls: 0.0076, loss_rpn_bbox: 0.0065, loss_cls: 0.0962, acc: 96.3594, loss_bbox: 0.1129, loss: 0.2232\n",
      "2021-11-29 02:10:42,149 - mmdet - INFO - Saving checkpoint at 5 epochs\n"
     ]
    },
    {
     "name": "stdout",
     "output_type": "stream",
     "text": [
      "[>>>>>>>>>>>>>>>>>>>>>>>>] 12524/12524, 16.5 task/s, elapsed: 758s, ETA:     0s"
     ]
    },
    {
     "name": "stderr",
     "output_type": "stream",
     "text": [
      "2021-11-29 02:23:22,180 - mmdet - INFO - Evaluating bbox...\n"
     ]
    },
    {
     "name": "stdout",
     "output_type": "stream",
     "text": [
      "Loading and preparing results...\n",
      "DONE (t=0.31s)\n",
      "creating index...\n",
      "index created!\n",
      "Running per image evaluation...\n",
      "Evaluate annotation type *bbox*\n",
      "DONE (t=8.13s).\n",
      "Accumulating evaluation results...\n",
      "DONE (t=2.54s).\n",
      " Average Precision  (AP) @[ IoU=0.50:0.95 | area=   all | maxDets=100 ] = 0.377\n",
      " Average Precision  (AP) @[ IoU=0.50      | area=   all | maxDets=1000 ] = 0.722\n",
      " Average Precision  (AP) @[ IoU=0.75      | area=   all | maxDets=1000 ] = 0.357\n",
      " Average Precision  (AP) @[ IoU=0.50:0.95 | area= small | maxDets=1000 ] = 0.128\n",
      " Average Precision  (AP) @[ IoU=0.50:0.95 | area=medium | maxDets=1000 ] = 0.372\n",
      " Average Precision  (AP) @[ IoU=0.50:0.95 | area= large | maxDets=1000 ] = 0.359\n",
      " Average Recall     (AR) @[ IoU=0.50:0.95 | area=   all | maxDets=100 ] = 0.549\n",
      " Average Recall     (AR) @[ IoU=0.50:0.95 | area=   all | maxDets=300 ] = 0.549\n",
      " Average Recall     (AR) @[ IoU=0.50:0.95 | area=   all | maxDets=1000 ] = 0.549\n",
      " Average Recall     (AR) @[ IoU=0.50:0.95 | area= small | maxDets=1000 ] = 0.239\n",
      " Average Recall     (AR) @[ IoU=0.50:0.95 | area=medium | maxDets=1000 ] = 0.554\n",
      " Average Recall     (AR) @[ IoU=0.50:0.95 | area= large | maxDets=1000 ] = 0.538\n"
     ]
    },
    {
     "name": "stderr",
     "output_type": "stream",
     "text": [
      "2021-11-29 02:23:33,809 - mmdet - INFO - Epoch(val) [5][12524]\tbbox_mAP: 0.3770, bbox_mAP_50: 0.7220, bbox_mAP_75: 0.3570, bbox_mAP_s: 0.1280, bbox_mAP_m: 0.3720, bbox_mAP_l: 0.3590, bbox_mAP_copypaste: 0.377 0.722 0.357 0.128 0.372 0.359\n",
      "2021-11-29 02:25:16,367 - mmdet - INFO - Epoch [6][100/4697]\tlr: 1.000e-02, eta: 1 day, 1:38:08, time: 1.024, data_time: 0.033, memory: 8318, loss_rpn_cls: 0.0047, loss_rpn_bbox: 0.0057, loss_cls: 0.0867, acc: 96.6868, loss_bbox: 0.1096, loss: 0.2066\n",
      "2021-11-29 02:26:56,492 - mmdet - INFO - Epoch [6][200/4697]\tlr: 1.000e-02, eta: 1 day, 1:36:37, time: 1.001, data_time: 0.012, memory: 8318, loss_rpn_cls: 0.0057, loss_rpn_bbox: 0.0062, loss_cls: 0.0940, acc: 96.4944, loss_bbox: 0.1101, loss: 0.2160\n",
      "2021-11-29 02:28:36,513 - mmdet - INFO - Epoch [6][300/4697]\tlr: 1.000e-02, eta: 1 day, 1:35:05, time: 1.000, data_time: 0.013, memory: 8318, loss_rpn_cls: 0.0060, loss_rpn_bbox: 0.0060, loss_cls: 0.0907, acc: 96.5950, loss_bbox: 0.1093, loss: 0.2121\n",
      "2021-11-29 02:30:16,525 - mmdet - INFO - Epoch [6][400/4697]\tlr: 1.000e-02, eta: 1 day, 1:33:33, time: 1.000, data_time: 0.013, memory: 8318, loss_rpn_cls: 0.0069, loss_rpn_bbox: 0.0061, loss_cls: 0.0919, acc: 96.5146, loss_bbox: 0.1127, loss: 0.2177\n",
      "2021-11-29 02:31:56,882 - mmdet - INFO - Epoch [6][500/4697]\tlr: 1.000e-02, eta: 1 day, 1:32:03, time: 1.004, data_time: 0.013, memory: 8318, loss_rpn_cls: 0.0057, loss_rpn_bbox: 0.0058, loss_cls: 0.0887, acc: 96.6384, loss_bbox: 0.1089, loss: 0.2091\n",
      "2021-11-29 02:33:36,705 - mmdet - INFO - Epoch [6][600/4697]\tlr: 1.000e-02, eta: 1 day, 1:30:30, time: 0.998, data_time: 0.013, memory: 8318, loss_rpn_cls: 0.0068, loss_rpn_bbox: 0.0060, loss_cls: 0.0912, acc: 96.6162, loss_bbox: 0.1076, loss: 0.2116\n",
      "2021-11-29 02:35:17,113 - mmdet - INFO - Epoch [6][700/4697]\tlr: 1.000e-02, eta: 1 day, 1:28:59, time: 1.004, data_time: 0.013, memory: 8318, loss_rpn_cls: 0.0060, loss_rpn_bbox: 0.0062, loss_cls: 0.0967, acc: 96.3560, loss_bbox: 0.1146, loss: 0.2236\n",
      "2021-11-29 02:36:57,391 - mmdet - INFO - Epoch [6][800/4697]\tlr: 1.000e-02, eta: 1 day, 1:27:28, time: 1.003, data_time: 0.013, memory: 8318, loss_rpn_cls: 0.0053, loss_rpn_bbox: 0.0058, loss_cls: 0.0951, acc: 96.4441, loss_bbox: 0.1131, loss: 0.2195\n",
      "2021-11-29 02:38:37,574 - mmdet - INFO - Epoch [6][900/4697]\tlr: 1.000e-02, eta: 1 day, 1:25:57, time: 1.002, data_time: 0.013, memory: 8318, loss_rpn_cls: 0.0063, loss_rpn_bbox: 0.0061, loss_cls: 0.0980, acc: 96.3008, loss_bbox: 0.1152, loss: 0.2255\n",
      "2021-11-29 02:40:17,769 - mmdet - INFO - Epoch [6][1000/4697]\tlr: 1.000e-02, eta: 1 day, 1:24:25, time: 1.002, data_time: 0.013, memory: 8318, loss_rpn_cls: 0.0062, loss_rpn_bbox: 0.0062, loss_cls: 0.0952, acc: 96.4417, loss_bbox: 0.1133, loss: 0.2209\n",
      "2021-11-29 02:41:57,873 - mmdet - INFO - Epoch [6][1100/4697]\tlr: 1.000e-02, eta: 1 day, 1:22:53, time: 1.001, data_time: 0.013, memory: 8318, loss_rpn_cls: 0.0059, loss_rpn_bbox: 0.0063, loss_cls: 0.0951, acc: 96.4189, loss_bbox: 0.1148, loss: 0.2221\n",
      "2021-11-29 02:43:38,091 - mmdet - INFO - Epoch [6][1200/4697]\tlr: 1.000e-02, eta: 1 day, 1:21:21, time: 1.002, data_time: 0.013, memory: 8318, loss_rpn_cls: 0.0060, loss_rpn_bbox: 0.0060, loss_cls: 0.0955, acc: 96.4565, loss_bbox: 0.1113, loss: 0.2188\n",
      "2021-11-29 02:45:18,067 - mmdet - INFO - Epoch [6][1300/4697]\tlr: 1.000e-02, eta: 1 day, 1:19:49, time: 1.000, data_time: 0.013, memory: 8318, loss_rpn_cls: 0.0063, loss_rpn_bbox: 0.0059, loss_cls: 0.0956, acc: 96.4792, loss_bbox: 0.1141, loss: 0.2218\n",
      "2021-11-29 02:46:58,184 - mmdet - INFO - Epoch [6][1400/4697]\tlr: 1.000e-02, eta: 1 day, 1:18:16, time: 1.001, data_time: 0.013, memory: 8318, loss_rpn_cls: 0.0057, loss_rpn_bbox: 0.0060, loss_cls: 0.0941, acc: 96.4790, loss_bbox: 0.1121, loss: 0.2179\n",
      "2021-11-29 02:48:38,356 - mmdet - INFO - Epoch [6][1500/4697]\tlr: 1.000e-02, eta: 1 day, 1:16:44, time: 1.002, data_time: 0.013, memory: 8318, loss_rpn_cls: 0.0054, loss_rpn_bbox: 0.0061, loss_cls: 0.0925, acc: 96.5444, loss_bbox: 0.1109, loss: 0.2149\n",
      "2021-11-29 02:50:18,855 - mmdet - INFO - Epoch [6][1600/4697]\tlr: 1.000e-02, eta: 1 day, 1:15:14, time: 1.005, data_time: 0.013, memory: 8318, loss_rpn_cls: 0.0058, loss_rpn_bbox: 0.0058, loss_cls: 0.0942, acc: 96.4744, loss_bbox: 0.1129, loss: 0.2187\n",
      "2021-11-29 02:51:59,195 - mmdet - INFO - Epoch [6][1700/4697]\tlr: 1.000e-02, eta: 1 day, 1:13:42, time: 1.003, data_time: 0.013, memory: 8318, loss_rpn_cls: 0.0057, loss_rpn_bbox: 0.0058, loss_cls: 0.0922, acc: 96.5044, loss_bbox: 0.1120, loss: 0.2156\n",
      "2021-11-29 02:53:39,490 - mmdet - INFO - Epoch [6][1800/4697]\tlr: 1.000e-02, eta: 1 day, 1:12:10, time: 1.003, data_time: 0.013, memory: 8318, loss_rpn_cls: 0.0062, loss_rpn_bbox: 0.0060, loss_cls: 0.0910, acc: 96.5823, loss_bbox: 0.1080, loss: 0.2112\n",
      "2021-11-29 02:55:20,181 - mmdet - INFO - Epoch [6][1900/4697]\tlr: 1.000e-02, eta: 1 day, 1:10:40, time: 1.007, data_time: 0.013, memory: 8318, loss_rpn_cls: 0.0068, loss_rpn_bbox: 0.0062, loss_cls: 0.0929, acc: 96.6133, loss_bbox: 0.1098, loss: 0.2156\n",
      "2021-11-29 02:57:00,610 - mmdet - INFO - Epoch [6][2000/4697]\tlr: 1.000e-02, eta: 1 day, 1:09:08, time: 1.004, data_time: 0.013, memory: 8318, loss_rpn_cls: 0.0062, loss_rpn_bbox: 0.0061, loss_cls: 0.0972, acc: 96.4741, loss_bbox: 0.1109, loss: 0.2204\n",
      "2021-11-29 02:58:41,135 - mmdet - INFO - Epoch [6][2100/4697]\tlr: 1.000e-02, eta: 1 day, 1:07:37, time: 1.005, data_time: 0.013, memory: 8318, loss_rpn_cls: 0.0055, loss_rpn_bbox: 0.0059, loss_cls: 0.0919, acc: 96.5283, loss_bbox: 0.1118, loss: 0.2150\n",
      "2021-11-29 03:00:21,768 - mmdet - INFO - Epoch [6][2200/4697]\tlr: 1.000e-02, eta: 1 day, 1:06:06, time: 1.006, data_time: 0.013, memory: 8318, loss_rpn_cls: 0.0063, loss_rpn_bbox: 0.0058, loss_cls: 0.0930, acc: 96.5303, loss_bbox: 0.1118, loss: 0.2169\n",
      "2021-11-29 03:02:02,814 - mmdet - INFO - Epoch [6][2300/4697]\tlr: 1.000e-02, eta: 1 day, 1:04:37, time: 1.010, data_time: 0.013, memory: 8318, loss_rpn_cls: 0.0063, loss_rpn_bbox: 0.0060, loss_cls: 0.0953, acc: 96.4565, loss_bbox: 0.1116, loss: 0.2193\n",
      "2021-11-29 03:03:43,705 - mmdet - INFO - Epoch [6][2400/4697]\tlr: 1.000e-02, eta: 1 day, 1:03:07, time: 1.009, data_time: 0.013, memory: 8318, loss_rpn_cls: 0.0069, loss_rpn_bbox: 0.0059, loss_cls: 0.0890, acc: 96.6733, loss_bbox: 0.1095, loss: 0.2112\n",
      "2021-11-29 03:05:23,953 - mmdet - INFO - Epoch [6][2500/4697]\tlr: 1.000e-02, eta: 1 day, 1:01:34, time: 1.002, data_time: 0.013, memory: 8318, loss_rpn_cls: 0.0063, loss_rpn_bbox: 0.0062, loss_cls: 0.0926, acc: 96.5630, loss_bbox: 0.1110, loss: 0.2162\n",
      "2021-11-29 03:07:04,125 - mmdet - INFO - Epoch [6][2600/4697]\tlr: 1.000e-02, eta: 1 day, 1:00:01, time: 1.002, data_time: 0.013, memory: 8318, loss_rpn_cls: 0.0057, loss_rpn_bbox: 0.0059, loss_cls: 0.0936, acc: 96.5415, loss_bbox: 0.1100, loss: 0.2152\n",
      "2021-11-29 03:08:44,752 - mmdet - INFO - Epoch [6][2700/4697]\tlr: 1.000e-02, eta: 1 day, 0:58:30, time: 1.006, data_time: 0.013, memory: 8318, loss_rpn_cls: 0.0058, loss_rpn_bbox: 0.0063, loss_cls: 0.0931, acc: 96.5022, loss_bbox: 0.1120, loss: 0.2171\n",
      "2021-11-29 03:10:25,044 - mmdet - INFO - Epoch [6][2800/4697]\tlr: 1.000e-02, eta: 1 day, 0:56:58, time: 1.003, data_time: 0.013, memory: 8318, loss_rpn_cls: 0.0060, loss_rpn_bbox: 0.0060, loss_cls: 0.0936, acc: 96.4766, loss_bbox: 0.1099, loss: 0.2155\n",
      "2021-11-29 03:12:05,280 - mmdet - INFO - Epoch [6][2900/4697]\tlr: 1.000e-02, eta: 1 day, 0:55:25, time: 1.002, data_time: 0.013, memory: 8318, loss_rpn_cls: 0.0063, loss_rpn_bbox: 0.0060, loss_cls: 0.0978, acc: 96.3918, loss_bbox: 0.1145, loss: 0.2247\n",
      "2021-11-29 03:13:45,771 - mmdet - INFO - Epoch [6][3000/4697]\tlr: 1.000e-02, eta: 1 day, 0:53:53, time: 1.005, data_time: 0.013, memory: 8318, loss_rpn_cls: 0.0067, loss_rpn_bbox: 0.0062, loss_cls: 0.0961, acc: 96.4836, loss_bbox: 0.1130, loss: 0.2220\n",
      "2021-11-29 03:15:26,061 - mmdet - INFO - Epoch [6][3100/4697]\tlr: 1.000e-02, eta: 1 day, 0:52:20, time: 1.003, data_time: 0.013, memory: 8318, loss_rpn_cls: 0.0062, loss_rpn_bbox: 0.0060, loss_cls: 0.0899, acc: 96.6663, loss_bbox: 0.1062, loss: 0.2083\n",
      "2021-11-29 03:17:06,270 - mmdet - INFO - Epoch [6][3200/4697]\tlr: 1.000e-02, eta: 1 day, 0:50:47, time: 1.002, data_time: 0.013, memory: 8318, loss_rpn_cls: 0.0055, loss_rpn_bbox: 0.0060, loss_cls: 0.0937, acc: 96.4915, loss_bbox: 0.1106, loss: 0.2158\n"
     ]
    },
    {
     "name": "stderr",
     "output_type": "stream",
     "text": [
      "2021-11-29 03:18:46,569 - mmdet - INFO - Epoch [6][3300/4697]\tlr: 1.000e-02, eta: 1 day, 0:49:15, time: 1.003, data_time: 0.013, memory: 8318, loss_rpn_cls: 0.0061, loss_rpn_bbox: 0.0056, loss_cls: 0.0929, acc: 96.4980, loss_bbox: 0.1095, loss: 0.2141\n",
      "2021-11-29 03:20:26,503 - mmdet - INFO - Epoch [6][3400/4697]\tlr: 1.000e-02, eta: 1 day, 0:47:41, time: 0.999, data_time: 0.013, memory: 8318, loss_rpn_cls: 0.0057, loss_rpn_bbox: 0.0059, loss_cls: 0.0917, acc: 96.6182, loss_bbox: 0.1057, loss: 0.2090\n",
      "2021-11-29 03:22:06,678 - mmdet - INFO - Epoch [6][3500/4697]\tlr: 1.000e-02, eta: 1 day, 0:46:07, time: 1.002, data_time: 0.013, memory: 8318, loss_rpn_cls: 0.0064, loss_rpn_bbox: 0.0058, loss_cls: 0.0925, acc: 96.5583, loss_bbox: 0.1107, loss: 0.2155\n",
      "2021-11-29 03:23:47,013 - mmdet - INFO - Epoch [6][3600/4697]\tlr: 1.000e-02, eta: 1 day, 0:44:35, time: 1.003, data_time: 0.013, memory: 8318, loss_rpn_cls: 0.0056, loss_rpn_bbox: 0.0060, loss_cls: 0.0921, acc: 96.5640, loss_bbox: 0.1116, loss: 0.2152\n",
      "2021-11-29 03:25:27,162 - mmdet - INFO - Epoch [6][3700/4697]\tlr: 1.000e-02, eta: 1 day, 0:43:01, time: 1.001, data_time: 0.014, memory: 8318, loss_rpn_cls: 0.0059, loss_rpn_bbox: 0.0057, loss_cls: 0.0882, acc: 96.7505, loss_bbox: 0.1041, loss: 0.2039\n",
      "2021-11-29 03:27:07,384 - mmdet - INFO - Epoch [6][3800/4697]\tlr: 1.000e-02, eta: 1 day, 0:41:28, time: 1.002, data_time: 0.013, memory: 8318, loss_rpn_cls: 0.0067, loss_rpn_bbox: 0.0063, loss_cls: 0.0931, acc: 96.4956, loss_bbox: 0.1094, loss: 0.2156\n",
      "2021-11-29 03:28:47,821 - mmdet - INFO - Epoch [6][3900/4697]\tlr: 1.000e-02, eta: 1 day, 0:39:55, time: 1.004, data_time: 0.013, memory: 8318, loss_rpn_cls: 0.0063, loss_rpn_bbox: 0.0059, loss_cls: 0.0939, acc: 96.4629, loss_bbox: 0.1102, loss: 0.2164\n",
      "2021-11-29 03:30:27,986 - mmdet - INFO - Epoch [6][4000/4697]\tlr: 1.000e-02, eta: 1 day, 0:38:22, time: 1.002, data_time: 0.013, memory: 8318, loss_rpn_cls: 0.0068, loss_rpn_bbox: 0.0061, loss_cls: 0.0920, acc: 96.6008, loss_bbox: 0.1124, loss: 0.2172\n",
      "2021-11-29 03:32:07,976 - mmdet - INFO - Epoch [6][4100/4697]\tlr: 1.000e-02, eta: 1 day, 0:36:48, time: 1.000, data_time: 0.013, memory: 8318, loss_rpn_cls: 0.0057, loss_rpn_bbox: 0.0060, loss_cls: 0.0922, acc: 96.5657, loss_bbox: 0.1103, loss: 0.2142\n",
      "2021-11-29 03:33:48,583 - mmdet - INFO - Epoch [6][4200/4697]\tlr: 1.000e-02, eta: 1 day, 0:35:15, time: 1.006, data_time: 0.013, memory: 8318, loss_rpn_cls: 0.0055, loss_rpn_bbox: 0.0060, loss_cls: 0.0968, acc: 96.4246, loss_bbox: 0.1143, loss: 0.2226\n",
      "2021-11-29 03:35:28,889 - mmdet - INFO - Epoch [6][4300/4697]\tlr: 1.000e-02, eta: 1 day, 0:33:42, time: 1.003, data_time: 0.013, memory: 8318, loss_rpn_cls: 0.0063, loss_rpn_bbox: 0.0060, loss_cls: 0.0917, acc: 96.5706, loss_bbox: 0.1109, loss: 0.2150\n",
      "2021-11-29 03:37:08,728 - mmdet - INFO - Epoch [6][4400/4697]\tlr: 1.000e-02, eta: 1 day, 0:32:07, time: 0.998, data_time: 0.013, memory: 8318, loss_rpn_cls: 0.0062, loss_rpn_bbox: 0.0063, loss_cls: 0.0920, acc: 96.6023, loss_bbox: 0.1095, loss: 0.2140\n",
      "2021-11-29 03:38:48,964 - mmdet - INFO - Epoch [6][4500/4697]\tlr: 1.000e-02, eta: 1 day, 0:30:34, time: 1.002, data_time: 0.013, memory: 8318, loss_rpn_cls: 0.0058, loss_rpn_bbox: 0.0062, loss_cls: 0.0946, acc: 96.4722, loss_bbox: 0.1117, loss: 0.2182\n",
      "2021-11-29 03:40:29,170 - mmdet - INFO - Epoch [6][4600/4697]\tlr: 1.000e-02, eta: 1 day, 0:29:00, time: 1.002, data_time: 0.013, memory: 8318, loss_rpn_cls: 0.0059, loss_rpn_bbox: 0.0059, loss_cls: 0.0880, acc: 96.6746, loss_bbox: 0.1083, loss: 0.2081\n",
      "2021-11-29 03:42:06,417 - mmdet - INFO - Saving checkpoint at 6 epochs\n"
     ]
    },
    {
     "name": "stdout",
     "output_type": "stream",
     "text": [
      "[>>>>>>>>>>>>>>>>>>>>>>>>] 12524/12524, 16.5 task/s, elapsed: 761s, ETA:     0s"
     ]
    },
    {
     "name": "stderr",
     "output_type": "stream",
     "text": [
      "2021-11-29 03:54:48,729 - mmdet - INFO - Evaluating bbox...\n"
     ]
    },
    {
     "name": "stdout",
     "output_type": "stream",
     "text": [
      "Loading and preparing results...\n",
      "DONE (t=0.27s)\n",
      "creating index...\n",
      "index created!\n",
      "Running per image evaluation...\n",
      "Evaluate annotation type *bbox*\n",
      "DONE (t=7.75s).\n",
      "Accumulating evaluation results...\n",
      "DONE (t=2.86s).\n",
      " Average Precision  (AP) @[ IoU=0.50:0.95 | area=   all | maxDets=100 ] = 0.389\n",
      " Average Precision  (AP) @[ IoU=0.50      | area=   all | maxDets=1000 ] = 0.740\n",
      " Average Precision  (AP) @[ IoU=0.75      | area=   all | maxDets=1000 ] = 0.363\n",
      " Average Precision  (AP) @[ IoU=0.50:0.95 | area= small | maxDets=1000 ] = 0.155\n",
      " Average Precision  (AP) @[ IoU=0.50:0.95 | area=medium | maxDets=1000 ] = 0.386\n",
      " Average Precision  (AP) @[ IoU=0.50:0.95 | area= large | maxDets=1000 ] = 0.376\n",
      " Average Recall     (AR) @[ IoU=0.50:0.95 | area=   all | maxDets=100 ] = 0.557\n",
      " Average Recall     (AR) @[ IoU=0.50:0.95 | area=   all | maxDets=300 ] = 0.557\n",
      " Average Recall     (AR) @[ IoU=0.50:0.95 | area=   all | maxDets=1000 ] = 0.557\n",
      " Average Recall     (AR) @[ IoU=0.50:0.95 | area= small | maxDets=1000 ] = 0.239\n",
      " Average Recall     (AR) @[ IoU=0.50:0.95 | area=medium | maxDets=1000 ] = 0.553\n",
      " Average Recall     (AR) @[ IoU=0.50:0.95 | area= large | maxDets=1000 ] = 0.560\n"
     ]
    },
    {
     "name": "stderr",
     "output_type": "stream",
     "text": [
      "2021-11-29 03:55:00,233 - mmdet - INFO - Epoch(val) [6][12524]\tbbox_mAP: 0.3890, bbox_mAP_50: 0.7400, bbox_mAP_75: 0.3630, bbox_mAP_s: 0.1550, bbox_mAP_m: 0.3860, bbox_mAP_l: 0.3760, bbox_mAP_copypaste: 0.389 0.740 0.363 0.155 0.386 0.376\n",
      "2021-11-29 03:56:42,597 - mmdet - INFO - Epoch [7][100/4697]\tlr: 1.000e-02, eta: 1 day, 0:20:55, time: 1.022, data_time: 0.033, memory: 8318, loss_rpn_cls: 0.0061, loss_rpn_bbox: 0.0057, loss_cls: 0.0890, acc: 96.5969, loss_bbox: 0.1071, loss: 0.2079\n",
      "2021-11-29 03:58:22,872 - mmdet - INFO - Epoch [7][200/4697]\tlr: 1.000e-02, eta: 1 day, 0:19:23, time: 1.003, data_time: 0.013, memory: 8318, loss_rpn_cls: 0.0053, loss_rpn_bbox: 0.0061, loss_cls: 0.0863, acc: 96.7092, loss_bbox: 0.1075, loss: 0.2052\n",
      "2021-11-29 04:00:03,009 - mmdet - INFO - Epoch [7][300/4697]\tlr: 1.000e-02, eta: 1 day, 0:17:50, time: 1.001, data_time: 0.013, memory: 8318, loss_rpn_cls: 0.0056, loss_rpn_bbox: 0.0057, loss_cls: 0.0870, acc: 96.6887, loss_bbox: 0.1040, loss: 0.2023\n",
      "2021-11-29 04:01:43,541 - mmdet - INFO - Epoch [7][400/4697]\tlr: 1.000e-02, eta: 1 day, 0:16:19, time: 1.005, data_time: 0.013, memory: 8318, loss_rpn_cls: 0.0049, loss_rpn_bbox: 0.0059, loss_cls: 0.0920, acc: 96.5190, loss_bbox: 0.1124, loss: 0.2151\n",
      "2021-11-29 04:03:23,800 - mmdet - INFO - Epoch [7][500/4697]\tlr: 1.000e-02, eta: 1 day, 0:14:46, time: 1.003, data_time: 0.013, memory: 8318, loss_rpn_cls: 0.0059, loss_rpn_bbox: 0.0060, loss_cls: 0.0911, acc: 96.5979, loss_bbox: 0.1095, loss: 0.2126\n",
      "2021-11-29 04:05:03,895 - mmdet - INFO - Epoch [7][600/4697]\tlr: 1.000e-02, eta: 1 day, 0:13:13, time: 1.001, data_time: 0.013, memory: 8318, loss_rpn_cls: 0.0058, loss_rpn_bbox: 0.0059, loss_cls: 0.0897, acc: 96.6108, loss_bbox: 0.1085, loss: 0.2100\n",
      "2021-11-29 04:06:43,846 - mmdet - INFO - Epoch [7][700/4697]\tlr: 1.000e-02, eta: 1 day, 0:11:40, time: 0.999, data_time: 0.013, memory: 8318, loss_rpn_cls: 0.0070, loss_rpn_bbox: 0.0062, loss_cls: 0.0920, acc: 96.5242, loss_bbox: 0.1114, loss: 0.2166\n",
      "2021-11-29 04:08:24,195 - mmdet - INFO - Epoch [7][800/4697]\tlr: 1.000e-02, eta: 1 day, 0:10:07, time: 1.003, data_time: 0.013, memory: 8318, loss_rpn_cls: 0.0058, loss_rpn_bbox: 0.0062, loss_cls: 0.0953, acc: 96.3701, loss_bbox: 0.1151, loss: 0.2224\n",
      "2021-11-29 04:10:05,069 - mmdet - INFO - Epoch [7][900/4697]\tlr: 1.000e-02, eta: 1 day, 0:08:36, time: 1.009, data_time: 0.013, memory: 8318, loss_rpn_cls: 0.0053, loss_rpn_bbox: 0.0056, loss_cls: 0.0911, acc: 96.5344, loss_bbox: 0.1121, loss: 0.2140\n",
      "2021-11-29 04:11:45,531 - mmdet - INFO - Epoch [7][1000/4697]\tlr: 1.000e-02, eta: 1 day, 0:07:04, time: 1.005, data_time: 0.013, memory: 8318, loss_rpn_cls: 0.0048, loss_rpn_bbox: 0.0054, loss_cls: 0.0825, acc: 96.8596, loss_bbox: 0.1009, loss: 0.1935\n",
      "2021-11-29 04:13:25,891 - mmdet - INFO - Epoch [7][1100/4697]\tlr: 1.000e-02, eta: 1 day, 0:05:32, time: 1.004, data_time: 0.013, memory: 8318, loss_rpn_cls: 0.0049, loss_rpn_bbox: 0.0059, loss_cls: 0.0917, acc: 96.5208, loss_bbox: 0.1110, loss: 0.2134\n",
      "2021-11-29 04:15:06,370 - mmdet - INFO - Epoch [7][1200/4697]\tlr: 1.000e-02, eta: 1 day, 0:04:00, time: 1.005, data_time: 0.013, memory: 8318, loss_rpn_cls: 0.0050, loss_rpn_bbox: 0.0057, loss_cls: 0.0837, acc: 96.8369, loss_bbox: 0.1044, loss: 0.1987\n",
      "2021-11-29 04:16:47,058 - mmdet - INFO - Epoch [7][1300/4697]\tlr: 1.000e-02, eta: 1 day, 0:02:28, time: 1.007, data_time: 0.013, memory: 8318, loss_rpn_cls: 0.0059, loss_rpn_bbox: 0.0061, loss_cls: 0.0899, acc: 96.5908, loss_bbox: 0.1084, loss: 0.2104\n",
      "2021-11-29 04:18:27,259 - mmdet - INFO - Epoch [7][1400/4697]\tlr: 1.000e-02, eta: 1 day, 0:00:55, time: 1.002, data_time: 0.013, memory: 8318, loss_rpn_cls: 0.0052, loss_rpn_bbox: 0.0058, loss_cls: 0.0868, acc: 96.6824, loss_bbox: 0.1076, loss: 0.2054\n",
      "2021-11-29 04:20:07,227 - mmdet - INFO - Epoch [7][1500/4697]\tlr: 1.000e-02, eta: 23:59:21, time: 1.000, data_time: 0.013, memory: 8318, loss_rpn_cls: 0.0061, loss_rpn_bbox: 0.0059, loss_cls: 0.0904, acc: 96.6399, loss_bbox: 0.1070, loss: 0.2094\n",
      "2021-11-29 04:21:47,632 - mmdet - INFO - Epoch [7][1600/4697]\tlr: 1.000e-02, eta: 23:57:49, time: 1.004, data_time: 0.013, memory: 8318, loss_rpn_cls: 0.0058, loss_rpn_bbox: 0.0061, loss_cls: 0.0936, acc: 96.4675, loss_bbox: 0.1123, loss: 0.2178\n",
      "2021-11-29 04:23:28,435 - mmdet - INFO - Epoch [7][1700/4697]\tlr: 1.000e-02, eta: 23:56:17, time: 1.008, data_time: 0.013, memory: 8318, loss_rpn_cls: 0.0050, loss_rpn_bbox: 0.0057, loss_cls: 0.0899, acc: 96.5344, loss_bbox: 0.1097, loss: 0.2104\n",
      "2021-11-29 04:25:08,960 - mmdet - INFO - Epoch [7][1800/4697]\tlr: 1.000e-02, eta: 23:54:45, time: 1.005, data_time: 0.013, memory: 8318, loss_rpn_cls: 0.0055, loss_rpn_bbox: 0.0061, loss_cls: 0.0939, acc: 96.4661, loss_bbox: 0.1132, loss: 0.2187\n",
      "2021-11-29 04:26:49,409 - mmdet - INFO - Epoch [7][1900/4697]\tlr: 1.000e-02, eta: 23:53:12, time: 1.004, data_time: 0.013, memory: 8318, loss_rpn_cls: 0.0050, loss_rpn_bbox: 0.0059, loss_cls: 0.0890, acc: 96.5779, loss_bbox: 0.1085, loss: 0.2085\n",
      "2021-11-29 04:28:29,730 - mmdet - INFO - Epoch [7][2000/4697]\tlr: 1.000e-02, eta: 23:51:39, time: 1.003, data_time: 0.013, memory: 8318, loss_rpn_cls: 0.0054, loss_rpn_bbox: 0.0058, loss_cls: 0.0929, acc: 96.5159, loss_bbox: 0.1085, loss: 0.2127\n",
      "2021-11-29 04:30:10,571 - mmdet - INFO - Epoch [7][2100/4697]\tlr: 1.000e-02, eta: 23:50:07, time: 1.008, data_time: 0.013, memory: 8318, loss_rpn_cls: 0.0059, loss_rpn_bbox: 0.0061, loss_cls: 0.0937, acc: 96.4995, loss_bbox: 0.1118, loss: 0.2175\n",
      "2021-11-29 04:31:51,158 - mmdet - INFO - Epoch [7][2200/4697]\tlr: 1.000e-02, eta: 23:48:35, time: 1.006, data_time: 0.013, memory: 8318, loss_rpn_cls: 0.0053, loss_rpn_bbox: 0.0061, loss_cls: 0.0888, acc: 96.6282, loss_bbox: 0.1079, loss: 0.2080\n",
      "2021-11-29 04:33:31,032 - mmdet - INFO - Epoch [7][2300/4697]\tlr: 1.000e-02, eta: 23:47:00, time: 0.999, data_time: 0.013, memory: 8318, loss_rpn_cls: 0.0062, loss_rpn_bbox: 0.0062, loss_cls: 0.0874, acc: 96.7180, loss_bbox: 0.1066, loss: 0.2065\n",
      "2021-11-29 04:35:10,624 - mmdet - INFO - Epoch [7][2400/4697]\tlr: 1.000e-02, eta: 23:45:25, time: 0.996, data_time: 0.013, memory: 8318, loss_rpn_cls: 0.0063, loss_rpn_bbox: 0.0057, loss_cls: 0.0921, acc: 96.5552, loss_bbox: 0.1084, loss: 0.2126\n",
      "2021-11-29 04:36:50,691 - mmdet - INFO - Epoch [7][2500/4697]\tlr: 1.000e-02, eta: 23:43:51, time: 1.001, data_time: 0.013, memory: 8318, loss_rpn_cls: 0.0054, loss_rpn_bbox: 0.0058, loss_cls: 0.0877, acc: 96.6912, loss_bbox: 0.1067, loss: 0.2055\n",
      "2021-11-29 04:38:31,074 - mmdet - INFO - Epoch [7][2600/4697]\tlr: 1.000e-02, eta: 23:42:18, time: 1.004, data_time: 0.013, memory: 8318, loss_rpn_cls: 0.0055, loss_rpn_bbox: 0.0057, loss_cls: 0.0869, acc: 96.8062, loss_bbox: 0.1039, loss: 0.2020\n",
      "2021-11-29 04:40:11,008 - mmdet - INFO - Epoch [7][2700/4697]\tlr: 1.000e-02, eta: 23:40:44, time: 0.999, data_time: 0.013, memory: 8318, loss_rpn_cls: 0.0066, loss_rpn_bbox: 0.0062, loss_cls: 0.0917, acc: 96.5818, loss_bbox: 0.1089, loss: 0.2134\n",
      "2021-11-29 04:41:51,012 - mmdet - INFO - Epoch [7][2800/4697]\tlr: 1.000e-02, eta: 23:39:09, time: 1.000, data_time: 0.013, memory: 8318, loss_rpn_cls: 0.0069, loss_rpn_bbox: 0.0061, loss_cls: 0.0932, acc: 96.6128, loss_bbox: 0.1065, loss: 0.2127\n",
      "2021-11-29 04:43:30,735 - mmdet - INFO - Epoch [7][2900/4697]\tlr: 1.000e-02, eta: 23:37:34, time: 0.997, data_time: 0.013, memory: 8318, loss_rpn_cls: 0.0059, loss_rpn_bbox: 0.0058, loss_cls: 0.0911, acc: 96.5957, loss_bbox: 0.1080, loss: 0.2108\n",
      "2021-11-29 04:45:10,554 - mmdet - INFO - Epoch [7][3000/4697]\tlr: 1.000e-02, eta: 23:35:59, time: 0.998, data_time: 0.013, memory: 8318, loss_rpn_cls: 0.0056, loss_rpn_bbox: 0.0057, loss_cls: 0.0913, acc: 96.5637, loss_bbox: 0.1053, loss: 0.2079\n",
      "2021-11-29 04:46:50,691 - mmdet - INFO - Epoch [7][3100/4697]\tlr: 1.000e-02, eta: 23:34:25, time: 1.001, data_time: 0.013, memory: 8318, loss_rpn_cls: 0.0055, loss_rpn_bbox: 0.0058, loss_cls: 0.0933, acc: 96.4783, loss_bbox: 0.1124, loss: 0.2170\n",
      "2021-11-29 04:48:30,833 - mmdet - INFO - Epoch [7][3200/4697]\tlr: 1.000e-02, eta: 23:32:51, time: 1.001, data_time: 0.013, memory: 8318, loss_rpn_cls: 0.0061, loss_rpn_bbox: 0.0060, loss_cls: 0.0909, acc: 96.6333, loss_bbox: 0.1072, loss: 0.2101\n",
      "2021-11-29 04:50:11,060 - mmdet - INFO - Epoch [7][3300/4697]\tlr: 1.000e-02, eta: 23:31:17, time: 1.002, data_time: 0.013, memory: 8318, loss_rpn_cls: 0.0060, loss_rpn_bbox: 0.0058, loss_cls: 0.0871, acc: 96.7092, loss_bbox: 0.1072, loss: 0.2061\n"
     ]
    },
    {
     "name": "stderr",
     "output_type": "stream",
     "text": [
      "2021-11-29 04:51:51,120 - mmdet - INFO - Epoch [7][3400/4697]\tlr: 1.000e-02, eta: 23:29:43, time: 1.001, data_time: 0.013, memory: 8318, loss_rpn_cls: 0.0060, loss_rpn_bbox: 0.0060, loss_cls: 0.0913, acc: 96.6062, loss_bbox: 0.1105, loss: 0.2138\n",
      "2021-11-29 04:53:31,402 - mmdet - INFO - Epoch [7][3500/4697]\tlr: 1.000e-02, eta: 23:28:09, time: 1.003, data_time: 0.013, memory: 8318, loss_rpn_cls: 0.0062, loss_rpn_bbox: 0.0060, loss_cls: 0.0960, acc: 96.4202, loss_bbox: 0.1143, loss: 0.2224\n",
      "2021-11-29 04:55:11,375 - mmdet - INFO - Epoch [7][3600/4697]\tlr: 1.000e-02, eta: 23:26:34, time: 1.000, data_time: 0.013, memory: 8318, loss_rpn_cls: 0.0058, loss_rpn_bbox: 0.0061, loss_cls: 0.0917, acc: 96.5669, loss_bbox: 0.1095, loss: 0.2131\n",
      "2021-11-29 04:56:51,158 - mmdet - INFO - Epoch [7][3700/4697]\tlr: 1.000e-02, eta: 23:24:59, time: 0.998, data_time: 0.013, memory: 8318, loss_rpn_cls: 0.0058, loss_rpn_bbox: 0.0060, loss_cls: 0.0933, acc: 96.4902, loss_bbox: 0.1092, loss: 0.2143\n",
      "2021-11-29 04:58:31,405 - mmdet - INFO - Epoch [7][3800/4697]\tlr: 1.000e-02, eta: 23:23:25, time: 1.002, data_time: 0.013, memory: 8318, loss_rpn_cls: 0.0060, loss_rpn_bbox: 0.0063, loss_cls: 0.0957, acc: 96.4270, loss_bbox: 0.1130, loss: 0.2209\n",
      "2021-11-29 05:00:12,256 - mmdet - INFO - Epoch [7][3900/4697]\tlr: 1.000e-02, eta: 23:21:53, time: 1.009, data_time: 0.013, memory: 8318, loss_rpn_cls: 0.0059, loss_rpn_bbox: 0.0061, loss_cls: 0.0894, acc: 96.5891, loss_bbox: 0.1071, loss: 0.2085\n",
      "2021-11-29 05:01:53,014 - mmdet - INFO - Epoch [7][4000/4697]\tlr: 1.000e-02, eta: 23:20:20, time: 1.008, data_time: 0.014, memory: 8318, loss_rpn_cls: 0.0068, loss_rpn_bbox: 0.0061, loss_cls: 0.0916, acc: 96.6870, loss_bbox: 0.1068, loss: 0.2112\n",
      "2021-11-29 05:03:33,549 - mmdet - INFO - Epoch [7][4100/4697]\tlr: 1.000e-02, eta: 23:18:47, time: 1.005, data_time: 0.013, memory: 8318, loss_rpn_cls: 0.0056, loss_rpn_bbox: 0.0059, loss_cls: 0.0859, acc: 96.7627, loss_bbox: 0.1058, loss: 0.2031\n",
      "2021-11-29 05:05:13,510 - mmdet - INFO - Epoch [7][4200/4697]\tlr: 1.000e-02, eta: 23:17:12, time: 1.000, data_time: 0.013, memory: 8318, loss_rpn_cls: 0.0061, loss_rpn_bbox: 0.0061, loss_cls: 0.0931, acc: 96.5054, loss_bbox: 0.1127, loss: 0.2181\n",
      "2021-11-29 05:06:53,467 - mmdet - INFO - Epoch [7][4300/4697]\tlr: 1.000e-02, eta: 23:15:37, time: 1.000, data_time: 0.013, memory: 8318, loss_rpn_cls: 0.0061, loss_rpn_bbox: 0.0063, loss_cls: 0.0931, acc: 96.4915, loss_bbox: 0.1127, loss: 0.2181\n",
      "2021-11-29 05:08:33,701 - mmdet - INFO - Epoch [7][4400/4697]\tlr: 1.000e-02, eta: 23:14:02, time: 1.002, data_time: 0.013, memory: 8318, loss_rpn_cls: 0.0063, loss_rpn_bbox: 0.0057, loss_cls: 0.0928, acc: 96.5684, loss_bbox: 0.1092, loss: 0.2141\n",
      "2021-11-29 05:10:14,055 - mmdet - INFO - Epoch [7][4500/4697]\tlr: 1.000e-02, eta: 23:12:28, time: 1.004, data_time: 0.013, memory: 8318, loss_rpn_cls: 0.0052, loss_rpn_bbox: 0.0059, loss_cls: 0.0868, acc: 96.6804, loss_bbox: 0.1092, loss: 0.2070\n",
      "2021-11-29 05:11:54,610 - mmdet - INFO - Epoch [7][4600/4697]\tlr: 1.000e-02, eta: 23:10:55, time: 1.006, data_time: 0.013, memory: 8318, loss_rpn_cls: 0.0062, loss_rpn_bbox: 0.0061, loss_cls: 0.0973, acc: 96.2715, loss_bbox: 0.1140, loss: 0.2235\n",
      "2021-11-29 05:13:31,685 - mmdet - INFO - Saving checkpoint at 7 epochs\n"
     ]
    },
    {
     "name": "stdout",
     "output_type": "stream",
     "text": [
      "[>>>>>>>>>>>>>>>>>>>>>>>>] 12524/12524, 16.5 task/s, elapsed: 759s, ETA:     0s"
     ]
    },
    {
     "name": "stderr",
     "output_type": "stream",
     "text": [
      "2021-11-29 05:26:12,208 - mmdet - INFO - Evaluating bbox...\n"
     ]
    },
    {
     "name": "stdout",
     "output_type": "stream",
     "text": [
      "Loading and preparing results...\n",
      "DONE (t=0.27s)\n",
      "creating index...\n",
      "index created!\n",
      "Running per image evaluation...\n",
      "Evaluate annotation type *bbox*\n",
      "DONE (t=7.89s).\n",
      "Accumulating evaluation results...\n",
      "DONE (t=2.51s).\n",
      " Average Precision  (AP) @[ IoU=0.50:0.95 | area=   all | maxDets=100 ] = 0.371\n",
      " Average Precision  (AP) @[ IoU=0.50      | area=   all | maxDets=1000 ] = 0.721\n",
      " Average Precision  (AP) @[ IoU=0.75      | area=   all | maxDets=1000 ] = 0.346\n",
      " Average Precision  (AP) @[ IoU=0.50:0.95 | area= small | maxDets=1000 ] = 0.136\n",
      " Average Precision  (AP) @[ IoU=0.50:0.95 | area=medium | maxDets=1000 ] = 0.372\n",
      " Average Precision  (AP) @[ IoU=0.50:0.95 | area= large | maxDets=1000 ] = 0.349\n",
      " Average Recall     (AR) @[ IoU=0.50:0.95 | area=   all | maxDets=100 ] = 0.543\n",
      " Average Recall     (AR) @[ IoU=0.50:0.95 | area=   all | maxDets=300 ] = 0.543\n",
      " Average Recall     (AR) @[ IoU=0.50:0.95 | area=   all | maxDets=1000 ] = 0.543\n",
      " Average Recall     (AR) @[ IoU=0.50:0.95 | area= small | maxDets=1000 ] = 0.261\n",
      " Average Recall     (AR) @[ IoU=0.50:0.95 | area=medium | maxDets=1000 ] = 0.548\n",
      " Average Recall     (AR) @[ IoU=0.50:0.95 | area= large | maxDets=1000 ] = 0.530\n"
     ]
    },
    {
     "name": "stderr",
     "output_type": "stream",
     "text": [
      "2021-11-29 05:26:23,505 - mmdet - INFO - Epoch(val) [7][12524]\tbbox_mAP: 0.3710, bbox_mAP_50: 0.7210, bbox_mAP_75: 0.3460, bbox_mAP_s: 0.1360, bbox_mAP_m: 0.3720, bbox_mAP_l: 0.3490, bbox_mAP_copypaste: 0.371 0.721 0.346 0.136 0.372 0.349\n",
      "2021-11-29 05:28:05,839 - mmdet - INFO - Epoch [8][100/4697]\tlr: 1.000e-02, eta: 23:03:45, time: 1.021, data_time: 0.033, memory: 8318, loss_rpn_cls: 0.0052, loss_rpn_bbox: 0.0059, loss_cls: 0.0919, acc: 96.5273, loss_bbox: 0.1105, loss: 0.2135\n",
      "2021-11-29 05:29:45,933 - mmdet - INFO - Epoch [8][200/4697]\tlr: 1.000e-02, eta: 23:02:11, time: 1.001, data_time: 0.013, memory: 8318, loss_rpn_cls: 0.0053, loss_rpn_bbox: 0.0061, loss_cls: 0.0917, acc: 96.4976, loss_bbox: 0.1096, loss: 0.2127\n",
      "2021-11-29 05:31:26,097 - mmdet - INFO - Epoch [8][300/4697]\tlr: 1.000e-02, eta: 23:00:37, time: 1.002, data_time: 0.013, memory: 8318, loss_rpn_cls: 0.0056, loss_rpn_bbox: 0.0060, loss_cls: 0.0889, acc: 96.5962, loss_bbox: 0.1095, loss: 0.2100\n",
      "2021-11-29 05:33:06,383 - mmdet - INFO - Epoch [8][400/4697]\tlr: 1.000e-02, eta: 22:59:04, time: 1.003, data_time: 0.013, memory: 8318, loss_rpn_cls: 0.0057, loss_rpn_bbox: 0.0062, loss_cls: 0.0892, acc: 96.6301, loss_bbox: 0.1093, loss: 0.2104\n",
      "2021-11-29 05:34:46,090 - mmdet - INFO - Epoch [8][500/4697]\tlr: 1.000e-02, eta: 22:57:29, time: 0.997, data_time: 0.013, memory: 8318, loss_rpn_cls: 0.0055, loss_rpn_bbox: 0.0055, loss_cls: 0.0846, acc: 96.8291, loss_bbox: 0.1035, loss: 0.1990\n",
      "2021-11-29 05:36:26,185 - mmdet - INFO - Epoch [8][600/4697]\tlr: 1.000e-02, eta: 22:55:55, time: 1.001, data_time: 0.013, memory: 8318, loss_rpn_cls: 0.0056, loss_rpn_bbox: 0.0058, loss_cls: 0.0856, acc: 96.8284, loss_bbox: 0.1078, loss: 0.2047\n",
      "2021-11-29 05:38:06,282 - mmdet - INFO - Epoch [8][700/4697]\tlr: 1.000e-02, eta: 22:54:21, time: 1.001, data_time: 0.013, memory: 8318, loss_rpn_cls: 0.0057, loss_rpn_bbox: 0.0060, loss_cls: 0.0836, acc: 96.8162, loss_bbox: 0.1040, loss: 0.1993\n",
      "2021-11-29 05:39:46,925 - mmdet - INFO - Epoch [8][800/4697]\tlr: 1.000e-02, eta: 22:52:49, time: 1.006, data_time: 0.013, memory: 8318, loss_rpn_cls: 0.0054, loss_rpn_bbox: 0.0059, loss_cls: 0.0835, acc: 96.8684, loss_bbox: 0.1035, loss: 0.1983\n",
      "2021-11-29 05:41:27,697 - mmdet - INFO - Epoch [8][900/4697]\tlr: 1.000e-02, eta: 22:51:16, time: 1.008, data_time: 0.013, memory: 8318, loss_rpn_cls: 0.0055, loss_rpn_bbox: 0.0056, loss_cls: 0.0886, acc: 96.6379, loss_bbox: 0.1059, loss: 0.2056\n",
      "2021-11-29 05:43:08,375 - mmdet - INFO - Epoch [8][1000/4697]\tlr: 1.000e-02, eta: 22:49:44, time: 1.007, data_time: 0.013, memory: 8318, loss_rpn_cls: 0.0059, loss_rpn_bbox: 0.0060, loss_cls: 0.0886, acc: 96.5994, loss_bbox: 0.1101, loss: 0.2106\n",
      "2021-11-29 05:44:48,711 - mmdet - INFO - Epoch [8][1100/4697]\tlr: 1.000e-02, eta: 22:48:10, time: 1.003, data_time: 0.013, memory: 8318, loss_rpn_cls: 0.0052, loss_rpn_bbox: 0.0058, loss_cls: 0.0866, acc: 96.7498, loss_bbox: 0.1081, loss: 0.2056\n",
      "2021-11-29 05:46:28,803 - mmdet - INFO - Epoch [8][1200/4697]\tlr: 1.000e-02, eta: 22:46:36, time: 1.001, data_time: 0.013, memory: 8318, loss_rpn_cls: 0.0064, loss_rpn_bbox: 0.0064, loss_cls: 0.0882, acc: 96.5300, loss_bbox: 0.1106, loss: 0.2116\n",
      "2021-11-29 05:48:09,536 - mmdet - INFO - Epoch [8][1300/4697]\tlr: 1.000e-02, eta: 22:45:03, time: 1.007, data_time: 0.013, memory: 8318, loss_rpn_cls: 0.0052, loss_rpn_bbox: 0.0057, loss_cls: 0.0904, acc: 96.5618, loss_bbox: 0.1098, loss: 0.2110\n",
      "2021-11-29 05:49:49,681 - mmdet - INFO - Epoch [8][1400/4697]\tlr: 1.000e-02, eta: 22:43:29, time: 1.001, data_time: 0.013, memory: 8318, loss_rpn_cls: 0.0055, loss_rpn_bbox: 0.0060, loss_cls: 0.0902, acc: 96.5188, loss_bbox: 0.1136, loss: 0.2153\n",
      "2021-11-29 05:51:29,708 - mmdet - INFO - Epoch [8][1500/4697]\tlr: 1.000e-02, eta: 22:41:55, time: 1.000, data_time: 0.013, memory: 8318, loss_rpn_cls: 0.0052, loss_rpn_bbox: 0.0057, loss_cls: 0.0865, acc: 96.7139, loss_bbox: 0.1066, loss: 0.2040\n",
      "2021-11-29 05:53:09,610 - mmdet - INFO - Epoch [8][1600/4697]\tlr: 1.000e-02, eta: 22:40:20, time: 0.999, data_time: 0.013, memory: 8318, loss_rpn_cls: 0.0055, loss_rpn_bbox: 0.0060, loss_cls: 0.0899, acc: 96.5276, loss_bbox: 0.1116, loss: 0.2129\n",
      "2021-11-29 05:54:49,674 - mmdet - INFO - Epoch [8][1700/4697]\tlr: 1.000e-02, eta: 22:38:45, time: 1.001, data_time: 0.013, memory: 8318, loss_rpn_cls: 0.0053, loss_rpn_bbox: 0.0058, loss_cls: 0.0940, acc: 96.4102, loss_bbox: 0.1124, loss: 0.2176\n",
      "2021-11-29 05:56:29,871 - mmdet - INFO - Epoch [8][1800/4697]\tlr: 1.000e-02, eta: 22:37:11, time: 1.002, data_time: 0.013, memory: 8318, loss_rpn_cls: 0.0054, loss_rpn_bbox: 0.0060, loss_cls: 0.0919, acc: 96.5095, loss_bbox: 0.1129, loss: 0.2162\n",
      "2021-11-29 05:58:09,820 - mmdet - INFO - Epoch [8][1900/4697]\tlr: 1.000e-02, eta: 22:35:37, time: 0.999, data_time: 0.013, memory: 8318, loss_rpn_cls: 0.0057, loss_rpn_bbox: 0.0059, loss_cls: 0.0881, acc: 96.6865, loss_bbox: 0.1092, loss: 0.2088\n",
      "2021-11-29 05:59:49,694 - mmdet - INFO - Epoch [8][2000/4697]\tlr: 1.000e-02, eta: 22:34:02, time: 0.999, data_time: 0.013, memory: 8318, loss_rpn_cls: 0.0052, loss_rpn_bbox: 0.0057, loss_cls: 0.0896, acc: 96.6472, loss_bbox: 0.1097, loss: 0.2103\n",
      "2021-11-29 06:01:29,923 - mmdet - INFO - Epoch [8][2100/4697]\tlr: 1.000e-02, eta: 22:32:27, time: 1.002, data_time: 0.013, memory: 8318, loss_rpn_cls: 0.0054, loss_rpn_bbox: 0.0057, loss_cls: 0.0855, acc: 96.7302, loss_bbox: 0.1054, loss: 0.2021\n",
      "2021-11-29 06:03:10,547 - mmdet - INFO - Epoch [8][2200/4697]\tlr: 1.000e-02, eta: 22:30:54, time: 1.006, data_time: 0.013, memory: 8318, loss_rpn_cls: 0.0054, loss_rpn_bbox: 0.0056, loss_cls: 0.0888, acc: 96.6440, loss_bbox: 0.1071, loss: 0.2069\n",
      "2021-11-29 06:04:51,017 - mmdet - INFO - Epoch [8][2300/4697]\tlr: 1.000e-02, eta: 22:29:21, time: 1.005, data_time: 0.013, memory: 8318, loss_rpn_cls: 0.0050, loss_rpn_bbox: 0.0062, loss_cls: 0.0932, acc: 96.4111, loss_bbox: 0.1145, loss: 0.2189\n",
      "2021-11-29 06:06:30,880 - mmdet - INFO - Epoch [8][2400/4697]\tlr: 1.000e-02, eta: 22:27:45, time: 0.999, data_time: 0.013, memory: 8318, loss_rpn_cls: 0.0057, loss_rpn_bbox: 0.0058, loss_cls: 0.0895, acc: 96.5540, loss_bbox: 0.1082, loss: 0.2092\n",
      "2021-11-29 06:08:10,933 - mmdet - INFO - Epoch [8][2500/4697]\tlr: 1.000e-02, eta: 22:26:11, time: 1.001, data_time: 0.013, memory: 8318, loss_rpn_cls: 0.0056, loss_rpn_bbox: 0.0057, loss_cls: 0.0870, acc: 96.6775, loss_bbox: 0.1033, loss: 0.2016\n",
      "2021-11-29 06:09:51,088 - mmdet - INFO - Epoch [8][2600/4697]\tlr: 1.000e-02, eta: 22:24:36, time: 1.002, data_time: 0.013, memory: 8318, loss_rpn_cls: 0.0046, loss_rpn_bbox: 0.0055, loss_cls: 0.0859, acc: 96.7107, loss_bbox: 0.1097, loss: 0.2058\n",
      "2021-11-29 06:11:31,072 - mmdet - INFO - Epoch [8][2700/4697]\tlr: 1.000e-02, eta: 22:23:01, time: 1.000, data_time: 0.013, memory: 8318, loss_rpn_cls: 0.0052, loss_rpn_bbox: 0.0057, loss_cls: 0.0876, acc: 96.7434, loss_bbox: 0.1054, loss: 0.2039\n",
      "2021-11-29 06:13:11,242 - mmdet - INFO - Epoch [8][2800/4697]\tlr: 1.000e-02, eta: 22:21:27, time: 1.002, data_time: 0.013, memory: 8318, loss_rpn_cls: 0.0051, loss_rpn_bbox: 0.0055, loss_cls: 0.0883, acc: 96.7246, loss_bbox: 0.1050, loss: 0.2039\n",
      "2021-11-29 06:14:51,475 - mmdet - INFO - Epoch [8][2900/4697]\tlr: 1.000e-02, eta: 22:19:52, time: 1.002, data_time: 0.013, memory: 8318, loss_rpn_cls: 0.0062, loss_rpn_bbox: 0.0063, loss_cls: 0.0894, acc: 96.6660, loss_bbox: 0.1054, loss: 0.2074\n",
      "2021-11-29 06:16:31,095 - mmdet - INFO - Epoch [8][3000/4697]\tlr: 1.000e-02, eta: 22:18:16, time: 0.996, data_time: 0.013, memory: 8318, loss_rpn_cls: 0.0060, loss_rpn_bbox: 0.0057, loss_cls: 0.0885, acc: 96.6992, loss_bbox: 0.1043, loss: 0.2045\n",
      "2021-11-29 06:18:10,607 - mmdet - INFO - Epoch [8][3100/4697]\tlr: 1.000e-02, eta: 22:16:40, time: 0.995, data_time: 0.013, memory: 8318, loss_rpn_cls: 0.0052, loss_rpn_bbox: 0.0055, loss_cls: 0.0890, acc: 96.6401, loss_bbox: 0.1071, loss: 0.2069\n",
      "2021-11-29 06:19:50,777 - mmdet - INFO - Epoch [8][3200/4697]\tlr: 1.000e-02, eta: 22:15:06, time: 1.002, data_time: 0.013, memory: 8318, loss_rpn_cls: 0.0056, loss_rpn_bbox: 0.0057, loss_cls: 0.0888, acc: 96.5591, loss_bbox: 0.1069, loss: 0.2070\n",
      "2021-11-29 06:21:31,012 - mmdet - INFO - Epoch [8][3300/4697]\tlr: 1.000e-02, eta: 22:13:31, time: 1.002, data_time: 0.013, memory: 8318, loss_rpn_cls: 0.0058, loss_rpn_bbox: 0.0058, loss_cls: 0.0856, acc: 96.7368, loss_bbox: 0.1094, loss: 0.2066\n"
     ]
    },
    {
     "name": "stderr",
     "output_type": "stream",
     "text": [
      "2021-11-29 06:23:11,497 - mmdet - INFO - Epoch [8][3400/4697]\tlr: 1.000e-02, eta: 22:11:57, time: 1.005, data_time: 0.013, memory: 8318, loss_rpn_cls: 0.0062, loss_rpn_bbox: 0.0061, loss_cls: 0.0910, acc: 96.5364, loss_bbox: 0.1106, loss: 0.2139\n",
      "2021-11-29 06:24:51,901 - mmdet - INFO - Epoch [8][3500/4697]\tlr: 1.000e-02, eta: 22:10:23, time: 1.004, data_time: 0.013, memory: 8318, loss_rpn_cls: 0.0054, loss_rpn_bbox: 0.0059, loss_cls: 0.0893, acc: 96.5671, loss_bbox: 0.1093, loss: 0.2099\n",
      "2021-11-29 06:26:31,872 - mmdet - INFO - Epoch [8][3600/4697]\tlr: 1.000e-02, eta: 22:08:48, time: 1.000, data_time: 0.013, memory: 8318, loss_rpn_cls: 0.0051, loss_rpn_bbox: 0.0059, loss_cls: 0.0883, acc: 96.6665, loss_bbox: 0.1077, loss: 0.2070\n",
      "2021-11-29 06:28:11,938 - mmdet - INFO - Epoch [8][3700/4697]\tlr: 1.000e-02, eta: 22:07:13, time: 1.001, data_time: 0.013, memory: 8318, loss_rpn_cls: 0.0055, loss_rpn_bbox: 0.0058, loss_cls: 0.0885, acc: 96.5806, loss_bbox: 0.1069, loss: 0.2067\n",
      "2021-11-29 06:29:51,997 - mmdet - INFO - Epoch [8][3800/4697]\tlr: 1.000e-02, eta: 22:05:38, time: 1.001, data_time: 0.013, memory: 8318, loss_rpn_cls: 0.0058, loss_rpn_bbox: 0.0061, loss_cls: 0.0893, acc: 96.5962, loss_bbox: 0.1066, loss: 0.2078\n",
      "2021-11-29 06:31:32,390 - mmdet - INFO - Epoch [8][3900/4697]\tlr: 1.000e-02, eta: 22:04:03, time: 1.004, data_time: 0.013, memory: 8318, loss_rpn_cls: 0.0060, loss_rpn_bbox: 0.0061, loss_cls: 0.0907, acc: 96.6174, loss_bbox: 0.1102, loss: 0.2129\n",
      "2021-11-29 06:33:12,618 - mmdet - INFO - Epoch [8][4000/4697]\tlr: 1.000e-02, eta: 22:02:29, time: 1.002, data_time: 0.013, memory: 8318, loss_rpn_cls: 0.0059, loss_rpn_bbox: 0.0059, loss_cls: 0.0888, acc: 96.6711, loss_bbox: 0.1077, loss: 0.2083\n",
      "2021-11-29 06:34:52,693 - mmdet - INFO - Epoch [8][4100/4697]\tlr: 1.000e-02, eta: 22:00:53, time: 1.001, data_time: 0.014, memory: 8318, loss_rpn_cls: 0.0059, loss_rpn_bbox: 0.0060, loss_cls: 0.0907, acc: 96.6643, loss_bbox: 0.1079, loss: 0.2104\n",
      "2021-11-29 06:36:32,935 - mmdet - INFO - Epoch [8][4200/4697]\tlr: 1.000e-02, eta: 21:59:19, time: 1.002, data_time: 0.013, memory: 8318, loss_rpn_cls: 0.0054, loss_rpn_bbox: 0.0058, loss_cls: 0.0890, acc: 96.6438, loss_bbox: 0.1064, loss: 0.2067\n",
      "2021-11-29 06:38:13,206 - mmdet - INFO - Epoch [8][4300/4697]\tlr: 1.000e-02, eta: 21:57:44, time: 1.003, data_time: 0.013, memory: 8318, loss_rpn_cls: 0.0059, loss_rpn_bbox: 0.0060, loss_cls: 0.0884, acc: 96.6624, loss_bbox: 0.1090, loss: 0.2094\n",
      "2021-11-29 06:39:54,017 - mmdet - INFO - Epoch [8][4400/4697]\tlr: 1.000e-02, eta: 21:56:10, time: 1.008, data_time: 0.013, memory: 8318, loss_rpn_cls: 0.0056, loss_rpn_bbox: 0.0057, loss_cls: 0.0892, acc: 96.6169, loss_bbox: 0.1101, loss: 0.2107\n",
      "2021-11-29 06:41:34,749 - mmdet - INFO - Epoch [8][4500/4697]\tlr: 1.000e-02, eta: 21:54:36, time: 1.007, data_time: 0.013, memory: 8318, loss_rpn_cls: 0.0056, loss_rpn_bbox: 0.0058, loss_cls: 0.0950, acc: 96.3784, loss_bbox: 0.1135, loss: 0.2200\n",
      "2021-11-29 06:43:15,336 - mmdet - INFO - Epoch [8][4600/4697]\tlr: 1.000e-02, eta: 21:53:02, time: 1.006, data_time: 0.013, memory: 8318, loss_rpn_cls: 0.0063, loss_rpn_bbox: 0.0062, loss_cls: 0.0909, acc: 96.5894, loss_bbox: 0.1128, loss: 0.2161\n",
      "2021-11-29 06:44:52,706 - mmdet - INFO - Saving checkpoint at 8 epochs\n"
     ]
    },
    {
     "name": "stdout",
     "output_type": "stream",
     "text": [
      "[>>>>>>>>>>>>>>>>>>>>>>>>] 12524/12524, 16.5 task/s, elapsed: 758s, ETA:     0s"
     ]
    },
    {
     "name": "stderr",
     "output_type": "stream",
     "text": [
      "2021-11-29 06:57:32,392 - mmdet - INFO - Evaluating bbox...\n"
     ]
    },
    {
     "name": "stdout",
     "output_type": "stream",
     "text": [
      "Loading and preparing results...\n",
      "DONE (t=0.24s)\n",
      "creating index...\n",
      "index created!\n",
      "Running per image evaluation...\n",
      "Evaluate annotation type *bbox*\n",
      "DONE (t=6.90s).\n",
      "Accumulating evaluation results...\n"
     ]
    },
    {
     "name": "stderr",
     "output_type": "stream",
     "text": [
      "2021-11-29 06:57:41,828 - mmdet - INFO - Epoch(val) [8][12524]\tbbox_mAP: 0.3740, bbox_mAP_50: 0.7140, bbox_mAP_75: 0.3500, bbox_mAP_s: 0.1390, bbox_mAP_m: 0.3760, bbox_mAP_l: 0.3570, bbox_mAP_copypaste: 0.374 0.714 0.350 0.139 0.376 0.357\n"
     ]
    },
    {
     "name": "stdout",
     "output_type": "stream",
     "text": [
      "DONE (t=1.94s).\n",
      " Average Precision  (AP) @[ IoU=0.50:0.95 | area=   all | maxDets=100 ] = 0.374\n",
      " Average Precision  (AP) @[ IoU=0.50      | area=   all | maxDets=1000 ] = 0.714\n",
      " Average Precision  (AP) @[ IoU=0.75      | area=   all | maxDets=1000 ] = 0.350\n",
      " Average Precision  (AP) @[ IoU=0.50:0.95 | area= small | maxDets=1000 ] = 0.139\n",
      " Average Precision  (AP) @[ IoU=0.50:0.95 | area=medium | maxDets=1000 ] = 0.376\n",
      " Average Precision  (AP) @[ IoU=0.50:0.95 | area= large | maxDets=1000 ] = 0.357\n",
      " Average Recall     (AR) @[ IoU=0.50:0.95 | area=   all | maxDets=100 ] = 0.533\n",
      " Average Recall     (AR) @[ IoU=0.50:0.95 | area=   all | maxDets=300 ] = 0.533\n",
      " Average Recall     (AR) @[ IoU=0.50:0.95 | area=   all | maxDets=1000 ] = 0.533\n",
      " Average Recall     (AR) @[ IoU=0.50:0.95 | area= small | maxDets=1000 ] = 0.278\n",
      " Average Recall     (AR) @[ IoU=0.50:0.95 | area=medium | maxDets=1000 ] = 0.551\n",
      " Average Recall     (AR) @[ IoU=0.50:0.95 | area= large | maxDets=1000 ] = 0.500\n"
     ]
    },
    {
     "name": "stderr",
     "output_type": "stream",
     "text": [
      "2021-11-29 06:59:24,184 - mmdet - INFO - Epoch [9][100/4697]\tlr: 1.000e-02, eta: 21:46:33, time: 1.022, data_time: 0.033, memory: 8318, loss_rpn_cls: 0.0058, loss_rpn_bbox: 0.0060, loss_cls: 0.0884, acc: 96.6423, loss_bbox: 0.1062, loss: 0.2064\n",
      "2021-11-29 07:01:04,748 - mmdet - INFO - Epoch [9][200/4697]\tlr: 1.000e-02, eta: 21:45:00, time: 1.006, data_time: 0.013, memory: 8318, loss_rpn_cls: 0.0049, loss_rpn_bbox: 0.0056, loss_cls: 0.0876, acc: 96.6577, loss_bbox: 0.1052, loss: 0.2032\n",
      "2021-11-29 07:02:45,069 - mmdet - INFO - Epoch [9][300/4697]\tlr: 1.000e-02, eta: 21:43:26, time: 1.003, data_time: 0.013, memory: 8318, loss_rpn_cls: 0.0050, loss_rpn_bbox: 0.0059, loss_cls: 0.0855, acc: 96.7209, loss_bbox: 0.1058, loss: 0.2022\n",
      "2021-11-29 07:04:25,418 - mmdet - INFO - Epoch [9][400/4697]\tlr: 1.000e-02, eta: 21:41:52, time: 1.003, data_time: 0.013, memory: 8318, loss_rpn_cls: 0.0047, loss_rpn_bbox: 0.0058, loss_cls: 0.0844, acc: 96.7695, loss_bbox: 0.1077, loss: 0.2026\n",
      "2021-11-29 07:06:07,685 - mmdet - INFO - Epoch [9][500/4697]\tlr: 1.000e-02, eta: 21:40:22, time: 1.023, data_time: 0.013, memory: 8318, loss_rpn_cls: 0.0053, loss_rpn_bbox: 0.0058, loss_cls: 0.0888, acc: 96.5798, loss_bbox: 0.1101, loss: 0.2099\n",
      "2021-11-29 07:07:52,503 - mmdet - INFO - Epoch [9][600/4697]\tlr: 1.000e-02, eta: 21:38:57, time: 1.048, data_time: 0.014, memory: 8318, loss_rpn_cls: 0.0048, loss_rpn_bbox: 0.0056, loss_cls: 0.0860, acc: 96.7427, loss_bbox: 0.1038, loss: 0.2003\n",
      "2021-11-29 07:09:34,989 - mmdet - INFO - Epoch [9][700/4697]\tlr: 1.000e-02, eta: 21:37:27, time: 1.025, data_time: 0.014, memory: 8318, loss_rpn_cls: 0.0052, loss_rpn_bbox: 0.0057, loss_cls: 0.0834, acc: 96.7861, loss_bbox: 0.1067, loss: 0.2010\n",
      "2021-11-29 07:11:15,650 - mmdet - INFO - Epoch [9][800/4697]\tlr: 1.000e-02, eta: 21:35:53, time: 1.007, data_time: 0.013, memory: 8318, loss_rpn_cls: 0.0048, loss_rpn_bbox: 0.0060, loss_cls: 0.0877, acc: 96.6082, loss_bbox: 0.1108, loss: 0.2093\n",
      "2021-11-29 07:12:55,702 - mmdet - INFO - Epoch [9][900/4697]\tlr: 1.000e-02, eta: 21:34:19, time: 1.001, data_time: 0.013, memory: 8318, loss_rpn_cls: 0.0065, loss_rpn_bbox: 0.0061, loss_cls: 0.0895, acc: 96.5410, loss_bbox: 0.1099, loss: 0.2120\n",
      "2021-11-29 07:14:35,715 - mmdet - INFO - Epoch [9][1000/4697]\tlr: 1.000e-02, eta: 21:32:44, time: 1.000, data_time: 0.013, memory: 8318, loss_rpn_cls: 0.0052, loss_rpn_bbox: 0.0056, loss_cls: 0.0895, acc: 96.5657, loss_bbox: 0.1108, loss: 0.2112\n",
      "2021-11-29 07:16:15,715 - mmdet - INFO - Epoch [9][1100/4697]\tlr: 1.000e-02, eta: 21:31:09, time: 1.000, data_time: 0.013, memory: 8318, loss_rpn_cls: 0.0052, loss_rpn_bbox: 0.0056, loss_cls: 0.0886, acc: 96.6841, loss_bbox: 0.1074, loss: 0.2068\n",
      "2021-11-29 07:17:55,828 - mmdet - INFO - Epoch [9][1200/4697]\tlr: 1.000e-02, eta: 21:29:34, time: 1.001, data_time: 0.013, memory: 8318, loss_rpn_cls: 0.0052, loss_rpn_bbox: 0.0060, loss_cls: 0.0876, acc: 96.6147, loss_bbox: 0.1100, loss: 0.2090\n",
      "2021-11-29 07:19:35,992 - mmdet - INFO - Epoch [9][1300/4697]\tlr: 1.000e-02, eta: 21:27:59, time: 1.002, data_time: 0.013, memory: 8318, loss_rpn_cls: 0.0058, loss_rpn_bbox: 0.0058, loss_cls: 0.0885, acc: 96.6440, loss_bbox: 0.1066, loss: 0.2068\n",
      "2021-11-29 07:21:16,113 - mmdet - INFO - Epoch [9][1400/4697]\tlr: 1.000e-02, eta: 21:26:24, time: 1.001, data_time: 0.013, memory: 8318, loss_rpn_cls: 0.0049, loss_rpn_bbox: 0.0058, loss_cls: 0.0889, acc: 96.6362, loss_bbox: 0.1090, loss: 0.2085\n",
      "2021-11-29 07:22:56,240 - mmdet - INFO - Epoch [9][1500/4697]\tlr: 1.000e-02, eta: 21:24:49, time: 1.001, data_time: 0.013, memory: 8318, loss_rpn_cls: 0.0056, loss_rpn_bbox: 0.0056, loss_cls: 0.0901, acc: 96.5867, loss_bbox: 0.1094, loss: 0.2107\n",
      "2021-11-29 07:24:36,316 - mmdet - INFO - Epoch [9][1600/4697]\tlr: 1.000e-02, eta: 21:23:14, time: 1.001, data_time: 0.013, memory: 8318, loss_rpn_cls: 0.0057, loss_rpn_bbox: 0.0062, loss_cls: 0.0887, acc: 96.6448, loss_bbox: 0.1072, loss: 0.2077\n",
      "2021-11-29 07:26:15,996 - mmdet - INFO - Epoch [9][1700/4697]\tlr: 1.000e-02, eta: 21:21:38, time: 0.997, data_time: 0.013, memory: 8318, loss_rpn_cls: 0.0056, loss_rpn_bbox: 0.0058, loss_cls: 0.0857, acc: 96.7830, loss_bbox: 0.1054, loss: 0.2024\n",
      "2021-11-29 07:27:56,882 - mmdet - INFO - Epoch [9][1800/4697]\tlr: 1.000e-02, eta: 21:20:05, time: 1.009, data_time: 0.013, memory: 8318, loss_rpn_cls: 0.0050, loss_rpn_bbox: 0.0058, loss_cls: 0.0850, acc: 96.8130, loss_bbox: 0.1036, loss: 0.1995\n",
      "2021-11-29 07:29:37,735 - mmdet - INFO - Epoch [9][1900/4697]\tlr: 1.000e-02, eta: 21:18:31, time: 1.009, data_time: 0.013, memory: 8318, loss_rpn_cls: 0.0062, loss_rpn_bbox: 0.0058, loss_cls: 0.0860, acc: 96.7400, loss_bbox: 0.1080, loss: 0.2060\n",
      "2021-11-29 07:31:17,668 - mmdet - INFO - Epoch [9][2000/4697]\tlr: 1.000e-02, eta: 21:16:56, time: 0.999, data_time: 0.013, memory: 8318, loss_rpn_cls: 0.0049, loss_rpn_bbox: 0.0057, loss_cls: 0.0859, acc: 96.7361, loss_bbox: 0.1071, loss: 0.2035\n",
      "2021-11-29 07:32:57,882 - mmdet - INFO - Epoch [9][2100/4697]\tlr: 1.000e-02, eta: 21:15:21, time: 1.002, data_time: 0.013, memory: 8318, loss_rpn_cls: 0.0053, loss_rpn_bbox: 0.0058, loss_cls: 0.0864, acc: 96.6985, loss_bbox: 0.1060, loss: 0.2034\n",
      "2021-11-29 07:34:38,111 - mmdet - INFO - Epoch [9][2200/4697]\tlr: 1.000e-02, eta: 21:13:46, time: 1.002, data_time: 0.013, memory: 8318, loss_rpn_cls: 0.0053, loss_rpn_bbox: 0.0059, loss_cls: 0.0918, acc: 96.5020, loss_bbox: 0.1151, loss: 0.2182\n",
      "2021-11-29 07:36:18,622 - mmdet - INFO - Epoch [9][2300/4697]\tlr: 1.000e-02, eta: 21:12:12, time: 1.005, data_time: 0.013, memory: 8318, loss_rpn_cls: 0.0059, loss_rpn_bbox: 0.0059, loss_cls: 0.0878, acc: 96.6238, loss_bbox: 0.1091, loss: 0.2087\n",
      "2021-11-29 07:37:59,453 - mmdet - INFO - Epoch [9][2400/4697]\tlr: 1.000e-02, eta: 21:10:38, time: 1.008, data_time: 0.013, memory: 8318, loss_rpn_cls: 0.0051, loss_rpn_bbox: 0.0059, loss_cls: 0.0899, acc: 96.5859, loss_bbox: 0.1128, loss: 0.2137\n",
      "2021-11-29 07:39:40,022 - mmdet - INFO - Epoch [9][2500/4697]\tlr: 1.000e-02, eta: 21:09:03, time: 1.006, data_time: 0.013, memory: 8318, loss_rpn_cls: 0.0045, loss_rpn_bbox: 0.0059, loss_cls: 0.0845, acc: 96.8022, loss_bbox: 0.1055, loss: 0.2004\n",
      "2021-11-29 07:41:19,885 - mmdet - INFO - Epoch [9][2600/4697]\tlr: 1.000e-02, eta: 21:07:28, time: 0.999, data_time: 0.013, memory: 8318, loss_rpn_cls: 0.0047, loss_rpn_bbox: 0.0058, loss_cls: 0.0835, acc: 96.8118, loss_bbox: 0.1042, loss: 0.1981\n",
      "2021-11-29 07:42:59,814 - mmdet - INFO - Epoch [9][2700/4697]\tlr: 1.000e-02, eta: 21:05:52, time: 0.999, data_time: 0.013, memory: 8318, loss_rpn_cls: 0.0053, loss_rpn_bbox: 0.0059, loss_cls: 0.0880, acc: 96.6526, loss_bbox: 0.1057, loss: 0.2049\n",
      "2021-11-29 07:44:39,515 - mmdet - INFO - Epoch [9][2800/4697]\tlr: 1.000e-02, eta: 21:04:16, time: 0.997, data_time: 0.013, memory: 8318, loss_rpn_cls: 0.0052, loss_rpn_bbox: 0.0061, loss_cls: 0.0879, acc: 96.6914, loss_bbox: 0.1076, loss: 0.2068\n",
      "2021-11-29 07:46:19,487 - mmdet - INFO - Epoch [9][2900/4697]\tlr: 1.000e-02, eta: 21:02:41, time: 1.000, data_time: 0.013, memory: 8318, loss_rpn_cls: 0.0056, loss_rpn_bbox: 0.0056, loss_cls: 0.0839, acc: 96.9155, loss_bbox: 0.1019, loss: 0.1971\n",
      "2021-11-29 07:47:59,373 - mmdet - INFO - Epoch [9][3000/4697]\tlr: 1.000e-02, eta: 21:01:05, time: 0.999, data_time: 0.013, memory: 8318, loss_rpn_cls: 0.0050, loss_rpn_bbox: 0.0059, loss_cls: 0.0819, acc: 96.8357, loss_bbox: 0.1023, loss: 0.1951\n",
      "2021-11-29 07:49:39,397 - mmdet - INFO - Epoch [9][3100/4697]\tlr: 1.000e-02, eta: 20:59:29, time: 1.000, data_time: 0.013, memory: 8318, loss_rpn_cls: 0.0058, loss_rpn_bbox: 0.0058, loss_cls: 0.0892, acc: 96.6909, loss_bbox: 0.1064, loss: 0.2072\n",
      "2021-11-29 07:51:19,461 - mmdet - INFO - Epoch [9][3200/4697]\tlr: 1.000e-02, eta: 20:57:54, time: 1.001, data_time: 0.013, memory: 8318, loss_rpn_cls: 0.0055, loss_rpn_bbox: 0.0057, loss_cls: 0.0857, acc: 96.8145, loss_bbox: 0.1043, loss: 0.2011\n",
      "2021-11-29 07:52:59,701 - mmdet - INFO - Epoch [9][3300/4697]\tlr: 1.000e-02, eta: 20:56:19, time: 1.002, data_time: 0.013, memory: 8318, loss_rpn_cls: 0.0051, loss_rpn_bbox: 0.0058, loss_cls: 0.0865, acc: 96.6536, loss_bbox: 0.1073, loss: 0.2047\n",
      "2021-11-29 07:54:39,803 - mmdet - INFO - Epoch [9][3400/4697]\tlr: 1.000e-02, eta: 20:54:43, time: 1.001, data_time: 0.013, memory: 8318, loss_rpn_cls: 0.0051, loss_rpn_bbox: 0.0058, loss_cls: 0.0870, acc: 96.7183, loss_bbox: 0.1034, loss: 0.2014\n"
     ]
    },
    {
     "name": "stderr",
     "output_type": "stream",
     "text": [
      "2021-11-29 07:56:20,121 - mmdet - INFO - Epoch [9][3500/4697]\tlr: 1.000e-02, eta: 20:53:08, time: 1.003, data_time: 0.013, memory: 8318, loss_rpn_cls: 0.0056, loss_rpn_bbox: 0.0059, loss_cls: 0.0903, acc: 96.6057, loss_bbox: 0.1083, loss: 0.2101\n",
      "2021-11-29 07:58:00,158 - mmdet - INFO - Epoch [9][3600/4697]\tlr: 1.000e-02, eta: 20:51:33, time: 1.000, data_time: 0.013, memory: 8318, loss_rpn_cls: 0.0054, loss_rpn_bbox: 0.0058, loss_cls: 0.0863, acc: 96.7285, loss_bbox: 0.1069, loss: 0.2044\n",
      "2021-11-29 07:59:40,790 - mmdet - INFO - Epoch [9][3700/4697]\tlr: 1.000e-02, eta: 20:49:58, time: 1.006, data_time: 0.013, memory: 8318, loss_rpn_cls: 0.0058, loss_rpn_bbox: 0.0058, loss_cls: 0.0851, acc: 96.7468, loss_bbox: 0.1055, loss: 0.2022\n",
      "2021-11-29 08:01:21,173 - mmdet - INFO - Epoch [9][3800/4697]\tlr: 1.000e-02, eta: 20:48:23, time: 1.004, data_time: 0.013, memory: 8318, loss_rpn_cls: 0.0049, loss_rpn_bbox: 0.0057, loss_cls: 0.0856, acc: 96.7927, loss_bbox: 0.1043, loss: 0.2006\n",
      "2021-11-29 08:03:01,890 - mmdet - INFO - Epoch [9][3900/4697]\tlr: 1.000e-02, eta: 20:46:49, time: 1.007, data_time: 0.013, memory: 8318, loss_rpn_cls: 0.0058, loss_rpn_bbox: 0.0061, loss_cls: 0.0895, acc: 96.6318, loss_bbox: 0.1085, loss: 0.2100\n",
      "2021-11-29 08:04:42,563 - mmdet - INFO - Epoch [9][4000/4697]\tlr: 1.000e-02, eta: 20:45:14, time: 1.007, data_time: 0.013, memory: 8318, loss_rpn_cls: 0.0053, loss_rpn_bbox: 0.0058, loss_cls: 0.0896, acc: 96.6167, loss_bbox: 0.1092, loss: 0.2099\n",
      "2021-11-29 08:06:23,234 - mmdet - INFO - Epoch [9][4100/4697]\tlr: 1.000e-02, eta: 20:43:40, time: 1.007, data_time: 0.014, memory: 8318, loss_rpn_cls: 0.0058, loss_rpn_bbox: 0.0060, loss_cls: 0.0900, acc: 96.6992, loss_bbox: 0.1052, loss: 0.2071\n",
      "2021-11-29 08:08:03,597 - mmdet - INFO - Epoch [9][4200/4697]\tlr: 1.000e-02, eta: 20:42:04, time: 1.004, data_time: 0.013, memory: 8318, loss_rpn_cls: 0.0054, loss_rpn_bbox: 0.0058, loss_cls: 0.0874, acc: 96.6697, loss_bbox: 0.1090, loss: 0.2076\n",
      "2021-11-29 08:09:43,767 - mmdet - INFO - Epoch [9][4300/4697]\tlr: 1.000e-02, eta: 20:40:29, time: 1.002, data_time: 0.013, memory: 8318, loss_rpn_cls: 0.0051, loss_rpn_bbox: 0.0059, loss_cls: 0.0889, acc: 96.6450, loss_bbox: 0.1077, loss: 0.2075\n",
      "2021-11-29 08:11:24,191 - mmdet - INFO - Epoch [9][4400/4697]\tlr: 1.000e-02, eta: 20:38:54, time: 1.004, data_time: 0.013, memory: 8318, loss_rpn_cls: 0.0052, loss_rpn_bbox: 0.0056, loss_cls: 0.0803, acc: 96.8574, loss_bbox: 0.1023, loss: 0.1934\n",
      "2021-11-29 08:13:04,397 - mmdet - INFO - Epoch [9][4500/4697]\tlr: 1.000e-02, eta: 20:37:18, time: 1.002, data_time: 0.013, memory: 8318, loss_rpn_cls: 0.0048, loss_rpn_bbox: 0.0058, loss_cls: 0.0858, acc: 96.7117, loss_bbox: 0.1069, loss: 0.2032\n",
      "2021-11-29 08:14:44,633 - mmdet - INFO - Epoch [9][4600/4697]\tlr: 1.000e-02, eta: 20:35:43, time: 1.002, data_time: 0.013, memory: 8318, loss_rpn_cls: 0.0051, loss_rpn_bbox: 0.0060, loss_cls: 0.0887, acc: 96.6099, loss_bbox: 0.1099, loss: 0.2097\n",
      "2021-11-29 08:16:21,668 - mmdet - INFO - Saving checkpoint at 9 epochs\n"
     ]
    },
    {
     "name": "stdout",
     "output_type": "stream",
     "text": [
      "[>>>>>>>>>>>>>>>>>>>>>>>>] 12524/12524, 16.5 task/s, elapsed: 757s, ETA:     0s"
     ]
    },
    {
     "name": "stderr",
     "output_type": "stream",
     "text": [
      "2021-11-29 08:28:59,970 - mmdet - INFO - Evaluating bbox...\n"
     ]
    },
    {
     "name": "stdout",
     "output_type": "stream",
     "text": [
      "Loading and preparing results...\n",
      "DONE (t=0.24s)\n",
      "creating index...\n",
      "index created!\n",
      "Running per image evaluation...\n",
      "Evaluate annotation type *bbox*\n",
      "DONE (t=6.82s).\n",
      "Accumulating evaluation results...\n"
     ]
    },
    {
     "name": "stderr",
     "output_type": "stream",
     "text": [
      "2021-11-29 08:29:09,428 - mmdet - INFO - Epoch(val) [9][12524]\tbbox_mAP: 0.3820, bbox_mAP_50: 0.7290, bbox_mAP_75: 0.3610, bbox_mAP_s: 0.1430, bbox_mAP_m: 0.3780, bbox_mAP_l: 0.3670, bbox_mAP_copypaste: 0.382 0.729 0.361 0.143 0.378 0.367\n"
     ]
    },
    {
     "name": "stdout",
     "output_type": "stream",
     "text": [
      "DONE (t=1.90s).\n",
      " Average Precision  (AP) @[ IoU=0.50:0.95 | area=   all | maxDets=100 ] = 0.382\n",
      " Average Precision  (AP) @[ IoU=0.50      | area=   all | maxDets=1000 ] = 0.729\n",
      " Average Precision  (AP) @[ IoU=0.75      | area=   all | maxDets=1000 ] = 0.361\n",
      " Average Precision  (AP) @[ IoU=0.50:0.95 | area= small | maxDets=1000 ] = 0.143\n",
      " Average Precision  (AP) @[ IoU=0.50:0.95 | area=medium | maxDets=1000 ] = 0.378\n",
      " Average Precision  (AP) @[ IoU=0.50:0.95 | area= large | maxDets=1000 ] = 0.367\n",
      " Average Recall     (AR) @[ IoU=0.50:0.95 | area=   all | maxDets=100 ] = 0.542\n",
      " Average Recall     (AR) @[ IoU=0.50:0.95 | area=   all | maxDets=300 ] = 0.542\n",
      " Average Recall     (AR) @[ IoU=0.50:0.95 | area=   all | maxDets=1000 ] = 0.542\n",
      " Average Recall     (AR) @[ IoU=0.50:0.95 | area= small | maxDets=1000 ] = 0.280\n",
      " Average Recall     (AR) @[ IoU=0.50:0.95 | area=medium | maxDets=1000 ] = 0.549\n",
      " Average Recall     (AR) @[ IoU=0.50:0.95 | area= large | maxDets=1000 ] = 0.523\n"
     ]
    },
    {
     "name": "stderr",
     "output_type": "stream",
     "text": [
      "2021-11-29 08:30:52,258 - mmdet - INFO - Epoch [10][100/4697]\tlr: 1.000e-02, eta: 20:29:47, time: 1.026, data_time: 0.033, memory: 8318, loss_rpn_cls: 0.0055, loss_rpn_bbox: 0.0058, loss_cls: 0.0835, acc: 96.8118, loss_bbox: 0.1042, loss: 0.1990\n",
      "2021-11-29 08:32:32,603 - mmdet - INFO - Epoch [10][200/4697]\tlr: 1.000e-02, eta: 20:28:12, time: 1.003, data_time: 0.013, memory: 8318, loss_rpn_cls: 0.0044, loss_rpn_bbox: 0.0058, loss_cls: 0.0832, acc: 96.8181, loss_bbox: 0.1038, loss: 0.1972\n",
      "2021-11-29 08:34:12,699 - mmdet - INFO - Epoch [10][300/4697]\tlr: 1.000e-02, eta: 20:26:37, time: 1.001, data_time: 0.012, memory: 8318, loss_rpn_cls: 0.0047, loss_rpn_bbox: 0.0055, loss_cls: 0.0837, acc: 96.8096, loss_bbox: 0.1041, loss: 0.1981\n",
      "2021-11-29 08:35:53,386 - mmdet - INFO - Epoch [10][400/4697]\tlr: 1.000e-02, eta: 20:25:03, time: 1.007, data_time: 0.013, memory: 8318, loss_rpn_cls: 0.0051, loss_rpn_bbox: 0.0057, loss_cls: 0.0839, acc: 96.8054, loss_bbox: 0.1039, loss: 0.1986\n",
      "2021-11-29 08:37:33,537 - mmdet - INFO - Epoch [10][500/4697]\tlr: 1.000e-02, eta: 20:23:27, time: 1.002, data_time: 0.013, memory: 8318, loss_rpn_cls: 0.0054, loss_rpn_bbox: 0.0058, loss_cls: 0.0884, acc: 96.6042, loss_bbox: 0.1078, loss: 0.2074\n",
      "2021-11-29 08:39:13,976 - mmdet - INFO - Epoch [10][600/4697]\tlr: 1.000e-02, eta: 20:21:53, time: 1.004, data_time: 0.013, memory: 8318, loss_rpn_cls: 0.0054, loss_rpn_bbox: 0.0056, loss_cls: 0.0844, acc: 96.8420, loss_bbox: 0.1081, loss: 0.2035\n",
      "2021-11-29 08:40:54,790 - mmdet - INFO - Epoch [10][700/4697]\tlr: 1.000e-02, eta: 20:20:19, time: 1.008, data_time: 0.013, memory: 8318, loss_rpn_cls: 0.0051, loss_rpn_bbox: 0.0054, loss_cls: 0.0832, acc: 96.8826, loss_bbox: 0.1023, loss: 0.1960\n",
      "2021-11-29 08:42:35,264 - mmdet - INFO - Epoch [10][800/4697]\tlr: 1.000e-02, eta: 20:18:44, time: 1.005, data_time: 0.013, memory: 8318, loss_rpn_cls: 0.0046, loss_rpn_bbox: 0.0058, loss_cls: 0.0855, acc: 96.8242, loss_bbox: 0.1044, loss: 0.2003\n",
      "2021-11-29 08:44:15,660 - mmdet - INFO - Epoch [10][900/4697]\tlr: 1.000e-02, eta: 20:17:09, time: 1.004, data_time: 0.013, memory: 8318, loss_rpn_cls: 0.0046, loss_rpn_bbox: 0.0055, loss_cls: 0.0837, acc: 96.8203, loss_bbox: 0.1043, loss: 0.1982\n",
      "2021-11-29 08:45:56,284 - mmdet - INFO - Epoch [10][1000/4697]\tlr: 1.000e-02, eta: 20:15:35, time: 1.006, data_time: 0.013, memory: 8318, loss_rpn_cls: 0.0049, loss_rpn_bbox: 0.0057, loss_cls: 0.0829, acc: 96.8633, loss_bbox: 0.1034, loss: 0.1969\n",
      "2021-11-29 08:47:36,943 - mmdet - INFO - Epoch [10][1100/4697]\tlr: 1.000e-02, eta: 20:14:00, time: 1.007, data_time: 0.013, memory: 8318, loss_rpn_cls: 0.0051, loss_rpn_bbox: 0.0057, loss_cls: 0.0827, acc: 96.8093, loss_bbox: 0.1057, loss: 0.1992\n",
      "2021-11-29 08:49:17,756 - mmdet - INFO - Epoch [10][1200/4697]\tlr: 1.000e-02, eta: 20:12:26, time: 1.008, data_time: 0.013, memory: 8318, loss_rpn_cls: 0.0050, loss_rpn_bbox: 0.0055, loss_cls: 0.0841, acc: 96.7791, loss_bbox: 0.1069, loss: 0.2015\n",
      "2021-11-29 08:50:58,768 - mmdet - INFO - Epoch [10][1300/4697]\tlr: 1.000e-02, eta: 20:10:52, time: 1.010, data_time: 0.013, memory: 8318, loss_rpn_cls: 0.0043, loss_rpn_bbox: 0.0058, loss_cls: 0.0865, acc: 96.6748, loss_bbox: 0.1099, loss: 0.2066\n",
      "2021-11-29 08:52:39,376 - mmdet - INFO - Epoch [10][1400/4697]\tlr: 1.000e-02, eta: 20:09:18, time: 1.006, data_time: 0.013, memory: 8318, loss_rpn_cls: 0.0051, loss_rpn_bbox: 0.0057, loss_cls: 0.0837, acc: 96.7573, loss_bbox: 0.1101, loss: 0.2046\n",
      "2021-11-29 08:54:19,969 - mmdet - INFO - Epoch [10][1500/4697]\tlr: 1.000e-02, eta: 20:07:43, time: 1.006, data_time: 0.013, memory: 8318, loss_rpn_cls: 0.0052, loss_rpn_bbox: 0.0055, loss_cls: 0.0844, acc: 96.8059, loss_bbox: 0.1064, loss: 0.2014\n",
      "2021-11-29 08:56:01,282 - mmdet - INFO - Epoch [10][1600/4697]\tlr: 1.000e-02, eta: 20:06:09, time: 1.013, data_time: 0.013, memory: 8318, loss_rpn_cls: 0.0054, loss_rpn_bbox: 0.0057, loss_cls: 0.0855, acc: 96.7568, loss_bbox: 0.1073, loss: 0.2038\n",
      "2021-11-29 08:57:41,400 - mmdet - INFO - Epoch [10][1700/4697]\tlr: 1.000e-02, eta: 20:04:34, time: 1.001, data_time: 0.013, memory: 8318, loss_rpn_cls: 0.0048, loss_rpn_bbox: 0.0058, loss_cls: 0.0878, acc: 96.5771, loss_bbox: 0.1102, loss: 0.2086\n",
      "2021-11-29 08:59:30,219 - mmdet - INFO - Epoch [10][1800/4697]\tlr: 1.000e-02, eta: 20:03:13, time: 1.088, data_time: 0.014, memory: 8318, loss_rpn_cls: 0.0063, loss_rpn_bbox: 0.0060, loss_cls: 0.0882, acc: 96.6401, loss_bbox: 0.1084, loss: 0.2089\n",
      "2021-11-29 09:01:12,492 - mmdet - INFO - Epoch [10][1900/4697]\tlr: 1.000e-02, eta: 20:01:41, time: 1.023, data_time: 0.014, memory: 8318, loss_rpn_cls: 0.0056, loss_rpn_bbox: 0.0057, loss_cls: 0.0897, acc: 96.6001, loss_bbox: 0.1110, loss: 0.2121\n",
      "2021-11-29 09:02:52,546 - mmdet - INFO - Epoch [10][2000/4697]\tlr: 1.000e-02, eta: 20:00:05, time: 1.001, data_time: 0.013, memory: 8318, loss_rpn_cls: 0.0050, loss_rpn_bbox: 0.0059, loss_cls: 0.0876, acc: 96.6538, loss_bbox: 0.1079, loss: 0.2063\n",
      "2021-11-29 09:04:32,504 - mmdet - INFO - Epoch [10][2100/4697]\tlr: 1.000e-02, eta: 19:58:29, time: 1.000, data_time: 0.014, memory: 8318, loss_rpn_cls: 0.0061, loss_rpn_bbox: 0.0059, loss_cls: 0.0917, acc: 96.5813, loss_bbox: 0.1118, loss: 0.2155\n",
      "2021-11-29 09:06:12,736 - mmdet - INFO - Epoch [10][2200/4697]\tlr: 1.000e-02, eta: 19:56:54, time: 1.002, data_time: 0.013, memory: 8318, loss_rpn_cls: 0.0049, loss_rpn_bbox: 0.0057, loss_cls: 0.0882, acc: 96.6667, loss_bbox: 0.1089, loss: 0.2076\n",
      "2021-11-29 09:07:52,923 - mmdet - INFO - Epoch [10][2300/4697]\tlr: 1.000e-02, eta: 19:55:18, time: 1.002, data_time: 0.013, memory: 8318, loss_rpn_cls: 0.0061, loss_rpn_bbox: 0.0059, loss_cls: 0.0849, acc: 96.7808, loss_bbox: 0.1057, loss: 0.2026\n",
      "2021-11-29 09:09:32,927 - mmdet - INFO - Epoch [10][2400/4697]\tlr: 1.000e-02, eta: 19:53:42, time: 1.000, data_time: 0.013, memory: 8318, loss_rpn_cls: 0.0047, loss_rpn_bbox: 0.0057, loss_cls: 0.0878, acc: 96.6404, loss_bbox: 0.1107, loss: 0.2090\n",
      "2021-11-29 09:11:12,999 - mmdet - INFO - Epoch [10][2500/4697]\tlr: 1.000e-02, eta: 19:52:06, time: 1.001, data_time: 0.013, memory: 8318, loss_rpn_cls: 0.0050, loss_rpn_bbox: 0.0058, loss_cls: 0.0824, acc: 96.9187, loss_bbox: 0.1056, loss: 0.1988\n",
      "2021-11-29 09:12:53,359 - mmdet - INFO - Epoch [10][2600/4697]\tlr: 1.000e-02, eta: 19:50:31, time: 1.004, data_time: 0.013, memory: 8318, loss_rpn_cls: 0.0055, loss_rpn_bbox: 0.0059, loss_cls: 0.0846, acc: 96.8430, loss_bbox: 0.1030, loss: 0.1990\n",
      "2021-11-29 09:14:33,208 - mmdet - INFO - Epoch [10][2700/4697]\tlr: 1.000e-02, eta: 19:48:55, time: 0.998, data_time: 0.013, memory: 8318, loss_rpn_cls: 0.0051, loss_rpn_bbox: 0.0057, loss_cls: 0.0835, acc: 96.8093, loss_bbox: 0.1027, loss: 0.1971\n",
      "2021-11-29 09:16:15,373 - mmdet - INFO - Epoch [10][2800/4697]\tlr: 1.000e-02, eta: 19:47:22, time: 1.022, data_time: 0.013, memory: 8318, loss_rpn_cls: 0.0049, loss_rpn_bbox: 0.0057, loss_cls: 0.0894, acc: 96.6125, loss_bbox: 0.1084, loss: 0.2083\n",
      "2021-11-29 09:17:57,039 - mmdet - INFO - Epoch [10][2900/4697]\tlr: 1.000e-02, eta: 19:45:49, time: 1.017, data_time: 0.014, memory: 8318, loss_rpn_cls: 0.0057, loss_rpn_bbox: 0.0059, loss_cls: 0.0867, acc: 96.7095, loss_bbox: 0.1048, loss: 0.2032\n",
      "2021-11-29 09:19:37,634 - mmdet - INFO - Epoch [10][3000/4697]\tlr: 1.000e-02, eta: 19:44:14, time: 1.006, data_time: 0.013, memory: 8318, loss_rpn_cls: 0.0053, loss_rpn_bbox: 0.0057, loss_cls: 0.0891, acc: 96.6709, loss_bbox: 0.1031, loss: 0.2032\n",
      "2021-11-29 09:21:18,109 - mmdet - INFO - Epoch [10][3100/4697]\tlr: 1.000e-02, eta: 19:42:39, time: 1.005, data_time: 0.013, memory: 8318, loss_rpn_cls: 0.0050, loss_rpn_bbox: 0.0056, loss_cls: 0.0836, acc: 96.7656, loss_bbox: 0.1051, loss: 0.1992\n",
      "2021-11-29 09:22:58,640 - mmdet - INFO - Epoch [10][3200/4697]\tlr: 1.000e-02, eta: 19:41:03, time: 1.005, data_time: 0.013, memory: 8318, loss_rpn_cls: 0.0053, loss_rpn_bbox: 0.0063, loss_cls: 0.0869, acc: 96.7036, loss_bbox: 0.1065, loss: 0.2050\n",
      "2021-11-29 09:24:39,069 - mmdet - INFO - Epoch [10][3300/4697]\tlr: 1.000e-02, eta: 19:39:28, time: 1.004, data_time: 0.013, memory: 8318, loss_rpn_cls: 0.0056, loss_rpn_bbox: 0.0057, loss_cls: 0.0843, acc: 96.8345, loss_bbox: 0.1030, loss: 0.1986\n",
      "2021-11-29 09:26:19,776 - mmdet - INFO - Epoch [10][3400/4697]\tlr: 1.000e-02, eta: 19:37:53, time: 1.007, data_time: 0.013, memory: 8318, loss_rpn_cls: 0.0055, loss_rpn_bbox: 0.0058, loss_cls: 0.0876, acc: 96.6272, loss_bbox: 0.1077, loss: 0.2066\n"
     ]
    },
    {
     "name": "stderr",
     "output_type": "stream",
     "text": [
      "2021-11-29 09:28:00,218 - mmdet - INFO - Epoch [10][3500/4697]\tlr: 1.000e-02, eta: 19:36:17, time: 1.004, data_time: 0.013, memory: 8318, loss_rpn_cls: 0.0054, loss_rpn_bbox: 0.0057, loss_cls: 0.0843, acc: 96.8240, loss_bbox: 0.1038, loss: 0.1991\n",
      "2021-11-29 09:29:40,611 - mmdet - INFO - Epoch [10][3600/4697]\tlr: 1.000e-02, eta: 19:34:42, time: 1.004, data_time: 0.013, memory: 8318, loss_rpn_cls: 0.0059, loss_rpn_bbox: 0.0062, loss_cls: 0.0861, acc: 96.7092, loss_bbox: 0.1058, loss: 0.2040\n",
      "2021-11-29 09:31:20,587 - mmdet - INFO - Epoch [10][3700/4697]\tlr: 1.000e-02, eta: 19:33:06, time: 1.000, data_time: 0.013, memory: 8318, loss_rpn_cls: 0.0054, loss_rpn_bbox: 0.0059, loss_cls: 0.0851, acc: 96.7520, loss_bbox: 0.1071, loss: 0.2034\n",
      "2021-11-29 09:33:00,854 - mmdet - INFO - Epoch [10][3800/4697]\tlr: 1.000e-02, eta: 19:31:30, time: 1.003, data_time: 0.013, memory: 8318, loss_rpn_cls: 0.0052, loss_rpn_bbox: 0.0058, loss_cls: 0.0879, acc: 96.6577, loss_bbox: 0.1099, loss: 0.2087\n",
      "2021-11-29 09:34:41,135 - mmdet - INFO - Epoch [10][3900/4697]\tlr: 1.000e-02, eta: 19:29:54, time: 1.003, data_time: 0.013, memory: 8318, loss_rpn_cls: 0.0056, loss_rpn_bbox: 0.0057, loss_cls: 0.0872, acc: 96.7349, loss_bbox: 0.1068, loss: 0.2054\n",
      "2021-11-29 09:36:21,989 - mmdet - INFO - Epoch [10][4000/4697]\tlr: 1.000e-02, eta: 19:28:19, time: 1.009, data_time: 0.013, memory: 8318, loss_rpn_cls: 0.0051, loss_rpn_bbox: 0.0059, loss_cls: 0.0874, acc: 96.5781, loss_bbox: 0.1083, loss: 0.2067\n",
      "2021-11-29 09:38:02,336 - mmdet - INFO - Epoch [10][4100/4697]\tlr: 1.000e-02, eta: 19:26:43, time: 1.003, data_time: 0.013, memory: 8318, loss_rpn_cls: 0.0052, loss_rpn_bbox: 0.0059, loss_cls: 0.0866, acc: 96.6973, loss_bbox: 0.1054, loss: 0.2032\n",
      "2021-11-29 09:39:42,753 - mmdet - INFO - Epoch [10][4200/4697]\tlr: 1.000e-02, eta: 19:25:08, time: 1.004, data_time: 0.013, memory: 8318, loss_rpn_cls: 0.0051, loss_rpn_bbox: 0.0060, loss_cls: 0.0863, acc: 96.7378, loss_bbox: 0.1066, loss: 0.2039\n",
      "2021-11-29 09:41:23,196 - mmdet - INFO - Epoch [10][4300/4697]\tlr: 1.000e-02, eta: 19:23:32, time: 1.004, data_time: 0.013, memory: 8318, loss_rpn_cls: 0.0051, loss_rpn_bbox: 0.0056, loss_cls: 0.0890, acc: 96.5762, loss_bbox: 0.1077, loss: 0.2075\n",
      "2021-11-29 09:43:03,625 - mmdet - INFO - Epoch [10][4400/4697]\tlr: 1.000e-02, eta: 19:21:56, time: 1.004, data_time: 0.013, memory: 8318, loss_rpn_cls: 0.0052, loss_rpn_bbox: 0.0058, loss_cls: 0.0858, acc: 96.6965, loss_bbox: 0.1077, loss: 0.2045\n",
      "2021-11-29 09:44:44,366 - mmdet - INFO - Epoch [10][4500/4697]\tlr: 1.000e-02, eta: 19:20:21, time: 1.007, data_time: 0.013, memory: 8318, loss_rpn_cls: 0.0056, loss_rpn_bbox: 0.0060, loss_cls: 0.0898, acc: 96.5847, loss_bbox: 0.1084, loss: 0.2097\n",
      "2021-11-29 09:46:25,299 - mmdet - INFO - Epoch [10][4600/4697]\tlr: 1.000e-02, eta: 19:18:46, time: 1.009, data_time: 0.013, memory: 8318, loss_rpn_cls: 0.0055, loss_rpn_bbox: 0.0055, loss_cls: 0.0876, acc: 96.6765, loss_bbox: 0.1071, loss: 0.2056\n",
      "2021-11-29 09:48:02,406 - mmdet - INFO - Saving checkpoint at 10 epochs\n"
     ]
    },
    {
     "name": "stdout",
     "output_type": "stream",
     "text": [
      "[>>>>>>>>>>>>>>>>>>>>>>>>] 12524/12524, 15.5 task/s, elapsed: 809s, ETA:     0s"
     ]
    },
    {
     "name": "stderr",
     "output_type": "stream",
     "text": [
      "2021-11-29 10:01:33,591 - mmdet - INFO - Evaluating bbox...\n"
     ]
    },
    {
     "name": "stdout",
     "output_type": "stream",
     "text": [
      "Loading and preparing results...\n",
      "DONE (t=0.27s)\n",
      "creating index...\n",
      "index created!\n",
      "Running per image evaluation...\n",
      "Evaluate annotation type *bbox*\n",
      "DONE (t=8.18s).\n",
      "Accumulating evaluation results...\n",
      "DONE (t=2.58s).\n",
      " Average Precision  (AP) @[ IoU=0.50:0.95 | area=   all | maxDets=100 ] = 0.400\n",
      " Average Precision  (AP) @[ IoU=0.50      | area=   all | maxDets=1000 ] = 0.741\n",
      " Average Precision  (AP) @[ IoU=0.75      | area=   all | maxDets=1000 ] = 0.387\n",
      " Average Precision  (AP) @[ IoU=0.50:0.95 | area= small | maxDets=1000 ] = 0.159\n",
      " Average Precision  (AP) @[ IoU=0.50:0.95 | area=medium | maxDets=1000 ] = 0.389\n",
      " Average Precision  (AP) @[ IoU=0.50:0.95 | area= large | maxDets=1000 ] = 0.389\n",
      " Average Recall     (AR) @[ IoU=0.50:0.95 | area=   all | maxDets=100 ] = 0.570\n",
      " Average Recall     (AR) @[ IoU=0.50:0.95 | area=   all | maxDets=300 ] = 0.570\n",
      " Average Recall     (AR) @[ IoU=0.50:0.95 | area=   all | maxDets=1000 ] = 0.570\n",
      " Average Recall     (AR) @[ IoU=0.50:0.95 | area= small | maxDets=1000 ] = 0.278\n",
      " Average Recall     (AR) @[ IoU=0.50:0.95 | area=medium | maxDets=1000 ] = 0.568\n",
      " Average Recall     (AR) @[ IoU=0.50:0.95 | area= large | maxDets=1000 ] = 0.561\n"
     ]
    },
    {
     "name": "stderr",
     "output_type": "stream",
     "text": [
      "2021-11-29 10:01:45,250 - mmdet - INFO - Epoch(val) [10][12524]\tbbox_mAP: 0.4000, bbox_mAP_50: 0.7410, bbox_mAP_75: 0.3870, bbox_mAP_s: 0.1590, bbox_mAP_m: 0.3890, bbox_mAP_l: 0.3890, bbox_mAP_copypaste: 0.400 0.741 0.387 0.159 0.389 0.389\n",
      "2021-11-29 10:03:27,380 - mmdet - INFO - Epoch [11][100/4697]\tlr: 1.000e-02, eta: 19:13:14, time: 1.019, data_time: 0.033, memory: 8318, loss_rpn_cls: 0.0045, loss_rpn_bbox: 0.0053, loss_cls: 0.0805, acc: 96.8835, loss_bbox: 0.1026, loss: 0.1929\n",
      "2021-11-29 10:05:07,514 - mmdet - INFO - Epoch [11][200/4697]\tlr: 1.000e-02, eta: 19:11:39, time: 1.001, data_time: 0.013, memory: 8318, loss_rpn_cls: 0.0046, loss_rpn_bbox: 0.0054, loss_cls: 0.0796, acc: 96.9067, loss_bbox: 0.1033, loss: 0.1930\n",
      "2021-11-29 10:06:47,775 - mmdet - INFO - Epoch [11][300/4697]\tlr: 1.000e-02, eta: 19:10:03, time: 1.003, data_time: 0.012, memory: 8318, loss_rpn_cls: 0.0042, loss_rpn_bbox: 0.0059, loss_cls: 0.0795, acc: 96.9146, loss_bbox: 0.1056, loss: 0.1951\n",
      "2021-11-29 10:08:27,625 - mmdet - INFO - Epoch [11][400/4697]\tlr: 1.000e-02, eta: 19:08:27, time: 0.998, data_time: 0.013, memory: 8318, loss_rpn_cls: 0.0049, loss_rpn_bbox: 0.0056, loss_cls: 0.0828, acc: 96.7896, loss_bbox: 0.1032, loss: 0.1966\n",
      "2021-11-29 10:10:07,595 - mmdet - INFO - Epoch [11][500/4697]\tlr: 1.000e-02, eta: 19:06:51, time: 1.000, data_time: 0.013, memory: 8318, loss_rpn_cls: 0.0044, loss_rpn_bbox: 0.0056, loss_cls: 0.0834, acc: 96.7053, loss_bbox: 0.1035, loss: 0.1969\n",
      "2021-11-29 10:11:47,851 - mmdet - INFO - Epoch [11][600/4697]\tlr: 1.000e-02, eta: 19:05:15, time: 1.003, data_time: 0.012, memory: 8318, loss_rpn_cls: 0.0050, loss_rpn_bbox: 0.0059, loss_cls: 0.0875, acc: 96.6099, loss_bbox: 0.1105, loss: 0.2089\n",
      "2021-11-29 10:13:28,532 - mmdet - INFO - Epoch [11][700/4697]\tlr: 1.000e-02, eta: 19:03:40, time: 1.007, data_time: 0.013, memory: 8318, loss_rpn_cls: 0.0047, loss_rpn_bbox: 0.0058, loss_cls: 0.0862, acc: 96.6470, loss_bbox: 0.1076, loss: 0.2044\n",
      "2021-11-29 10:15:08,784 - mmdet - INFO - Epoch [11][800/4697]\tlr: 1.000e-02, eta: 19:02:05, time: 1.003, data_time: 0.013, memory: 8318, loss_rpn_cls: 0.0046, loss_rpn_bbox: 0.0055, loss_cls: 0.0888, acc: 96.5557, loss_bbox: 0.1084, loss: 0.2073\n",
      "2021-11-29 10:16:49,073 - mmdet - INFO - Epoch [11][900/4697]\tlr: 1.000e-02, eta: 19:00:29, time: 1.003, data_time: 0.013, memory: 8318, loss_rpn_cls: 0.0057, loss_rpn_bbox: 0.0056, loss_cls: 0.0839, acc: 96.8274, loss_bbox: 0.1037, loss: 0.1989\n",
      "2021-11-29 10:18:35,114 - mmdet - INFO - Epoch [11][1000/4697]\tlr: 1.000e-02, eta: 18:59:02, time: 1.060, data_time: 0.013, memory: 8318, loss_rpn_cls: 0.0046, loss_rpn_bbox: 0.0058, loss_cls: 0.0849, acc: 96.6421, loss_bbox: 0.1089, loss: 0.2042\n",
      "2021-11-29 10:20:18,256 - mmdet - INFO - Epoch [11][1100/4697]\tlr: 1.000e-02, eta: 18:57:30, time: 1.031, data_time: 0.013, memory: 8318, loss_rpn_cls: 0.0047, loss_rpn_bbox: 0.0055, loss_cls: 0.0864, acc: 96.6245, loss_bbox: 0.1060, loss: 0.2026\n",
      "2021-11-29 10:22:01,026 - mmdet - INFO - Epoch [11][1200/4697]\tlr: 1.000e-02, eta: 18:55:58, time: 1.028, data_time: 0.013, memory: 8318, loss_rpn_cls: 0.0047, loss_rpn_bbox: 0.0058, loss_cls: 0.0894, acc: 96.5874, loss_bbox: 0.1079, loss: 0.2078\n",
      "2021-11-29 10:23:40,854 - mmdet - INFO - Epoch [11][1300/4697]\tlr: 1.000e-02, eta: 18:54:22, time: 0.998, data_time: 0.013, memory: 8318, loss_rpn_cls: 0.0046, loss_rpn_bbox: 0.0057, loss_cls: 0.0834, acc: 96.8074, loss_bbox: 0.1075, loss: 0.2012\n",
      "2021-11-29 10:25:20,540 - mmdet - INFO - Epoch [11][1400/4697]\tlr: 1.000e-02, eta: 18:52:45, time: 0.997, data_time: 0.013, memory: 8318, loss_rpn_cls: 0.0065, loss_rpn_bbox: 0.0061, loss_cls: 0.0829, acc: 96.7983, loss_bbox: 0.1033, loss: 0.1988\n",
      "2021-11-29 10:27:00,448 - mmdet - INFO - Epoch [11][1500/4697]\tlr: 1.000e-02, eta: 18:51:09, time: 0.999, data_time: 0.013, memory: 8318, loss_rpn_cls: 0.0046, loss_rpn_bbox: 0.0058, loss_cls: 0.0876, acc: 96.5562, loss_bbox: 0.1112, loss: 0.2092\n",
      "2021-11-29 10:28:40,867 - mmdet - INFO - Epoch [11][1600/4697]\tlr: 1.000e-02, eta: 18:49:33, time: 1.004, data_time: 0.013, memory: 8318, loss_rpn_cls: 0.0050, loss_rpn_bbox: 0.0059, loss_cls: 0.0844, acc: 96.7556, loss_bbox: 0.1056, loss: 0.2008\n",
      "2021-11-29 10:30:21,148 - mmdet - INFO - Epoch [11][1700/4697]\tlr: 1.000e-02, eta: 18:47:57, time: 1.003, data_time: 0.013, memory: 8318, loss_rpn_cls: 0.0050, loss_rpn_bbox: 0.0057, loss_cls: 0.0834, acc: 96.8096, loss_bbox: 0.1063, loss: 0.2003\n",
      "2021-11-29 10:32:01,298 - mmdet - INFO - Epoch [11][1800/4697]\tlr: 1.000e-02, eta: 18:46:21, time: 1.001, data_time: 0.013, memory: 8318, loss_rpn_cls: 0.0046, loss_rpn_bbox: 0.0056, loss_cls: 0.0806, acc: 96.8982, loss_bbox: 0.1044, loss: 0.1952\n",
      "2021-11-29 10:33:41,764 - mmdet - INFO - Epoch [11][1900/4697]\tlr: 1.000e-02, eta: 18:44:46, time: 1.005, data_time: 0.013, memory: 8318, loss_rpn_cls: 0.0052, loss_rpn_bbox: 0.0055, loss_cls: 0.0862, acc: 96.7268, loss_bbox: 0.1064, loss: 0.2033\n",
      "2021-11-29 10:35:22,208 - mmdet - INFO - Epoch [11][2000/4697]\tlr: 1.000e-02, eta: 18:43:10, time: 1.004, data_time: 0.013, memory: 8318, loss_rpn_cls: 0.0048, loss_rpn_bbox: 0.0058, loss_cls: 0.0816, acc: 96.8748, loss_bbox: 0.1054, loss: 0.1976\n",
      "2021-11-29 10:37:03,349 - mmdet - INFO - Epoch [11][2100/4697]\tlr: 1.000e-02, eta: 18:41:36, time: 1.011, data_time: 0.013, memory: 8318, loss_rpn_cls: 0.0052, loss_rpn_bbox: 0.0057, loss_cls: 0.0839, acc: 96.8225, loss_bbox: 0.1048, loss: 0.1996\n",
      "2021-11-29 10:38:49,252 - mmdet - INFO - Epoch [11][2200/4697]\tlr: 1.000e-02, eta: 18:40:07, time: 1.059, data_time: 0.014, memory: 8318, loss_rpn_cls: 0.0046, loss_rpn_bbox: 0.0057, loss_cls: 0.0825, acc: 96.8206, loss_bbox: 0.1043, loss: 0.1970\n",
      "2021-11-29 10:40:30,003 - mmdet - INFO - Epoch [11][2300/4697]\tlr: 1.000e-02, eta: 18:38:32, time: 1.008, data_time: 0.013, memory: 8318, loss_rpn_cls: 0.0049, loss_rpn_bbox: 0.0055, loss_cls: 0.0861, acc: 96.6594, loss_bbox: 0.1082, loss: 0.2047\n",
      "2021-11-29 10:42:10,572 - mmdet - INFO - Epoch [11][2400/4697]\tlr: 1.000e-02, eta: 18:36:57, time: 1.006, data_time: 0.013, memory: 8318, loss_rpn_cls: 0.0056, loss_rpn_bbox: 0.0058, loss_cls: 0.0870, acc: 96.6438, loss_bbox: 0.1066, loss: 0.2049\n",
      "2021-11-29 10:43:51,032 - mmdet - INFO - Epoch [11][2500/4697]\tlr: 1.000e-02, eta: 18:35:21, time: 1.005, data_time: 0.013, memory: 8318, loss_rpn_cls: 0.0049, loss_rpn_bbox: 0.0057, loss_cls: 0.0855, acc: 96.7847, loss_bbox: 0.1085, loss: 0.2047\n",
      "2021-11-29 10:45:31,910 - mmdet - INFO - Epoch [11][2600/4697]\tlr: 1.000e-02, eta: 18:33:46, time: 1.009, data_time: 0.013, memory: 8318, loss_rpn_cls: 0.0052, loss_rpn_bbox: 0.0057, loss_cls: 0.0886, acc: 96.6648, loss_bbox: 0.1092, loss: 0.2087\n",
      "2021-11-29 10:47:12,613 - mmdet - INFO - Epoch [11][2700/4697]\tlr: 1.000e-02, eta: 18:32:10, time: 1.007, data_time: 0.013, memory: 8318, loss_rpn_cls: 0.0051, loss_rpn_bbox: 0.0060, loss_cls: 0.0844, acc: 96.8086, loss_bbox: 0.1047, loss: 0.2002\n",
      "2021-11-29 10:48:53,262 - mmdet - INFO - Epoch [11][2800/4697]\tlr: 1.000e-02, eta: 18:30:35, time: 1.006, data_time: 0.013, memory: 8318, loss_rpn_cls: 0.0049, loss_rpn_bbox: 0.0057, loss_cls: 0.0863, acc: 96.6553, loss_bbox: 0.1106, loss: 0.2075\n",
      "2021-11-29 10:50:34,309 - mmdet - INFO - Epoch [11][2900/4697]\tlr: 1.000e-02, eta: 18:29:00, time: 1.010, data_time: 0.013, memory: 8318, loss_rpn_cls: 0.0057, loss_rpn_bbox: 0.0059, loss_cls: 0.0902, acc: 96.5044, loss_bbox: 0.1125, loss: 0.2143\n",
      "2021-11-29 10:52:15,347 - mmdet - INFO - Epoch [11][3000/4697]\tlr: 1.000e-02, eta: 18:27:24, time: 1.010, data_time: 0.013, memory: 8318, loss_rpn_cls: 0.0052, loss_rpn_bbox: 0.0057, loss_cls: 0.0850, acc: 96.7583, loss_bbox: 0.1040, loss: 0.1999\n",
      "2021-11-29 10:53:55,821 - mmdet - INFO - Epoch [11][3100/4697]\tlr: 1.000e-02, eta: 18:25:49, time: 1.005, data_time: 0.013, memory: 8318, loss_rpn_cls: 0.0053, loss_rpn_bbox: 0.0059, loss_cls: 0.0852, acc: 96.7891, loss_bbox: 0.1036, loss: 0.2001\n",
      "2021-11-29 10:55:35,747 - mmdet - INFO - Epoch [11][3200/4697]\tlr: 1.000e-02, eta: 18:24:12, time: 0.999, data_time: 0.013, memory: 8318, loss_rpn_cls: 0.0051, loss_rpn_bbox: 0.0061, loss_cls: 0.0863, acc: 96.7170, loss_bbox: 0.1090, loss: 0.2064\n",
      "2021-11-29 10:57:15,714 - mmdet - INFO - Epoch [11][3300/4697]\tlr: 1.000e-02, eta: 18:22:35, time: 1.000, data_time: 0.013, memory: 8318, loss_rpn_cls: 0.0052, loss_rpn_bbox: 0.0056, loss_cls: 0.0884, acc: 96.6174, loss_bbox: 0.1109, loss: 0.2101\n"
     ]
    },
    {
     "name": "stderr",
     "output_type": "stream",
     "text": [
      "2021-11-29 10:58:56,383 - mmdet - INFO - Epoch [11][3400/4697]\tlr: 1.000e-02, eta: 18:21:00, time: 1.007, data_time: 0.013, memory: 8318, loss_rpn_cls: 0.0049, loss_rpn_bbox: 0.0055, loss_cls: 0.0853, acc: 96.7151, loss_bbox: 0.1082, loss: 0.2039\n",
      "2021-11-29 11:00:37,049 - mmdet - INFO - Epoch [11][3500/4697]\tlr: 1.000e-02, eta: 18:19:24, time: 1.007, data_time: 0.013, memory: 8318, loss_rpn_cls: 0.0054, loss_rpn_bbox: 0.0055, loss_cls: 0.0881, acc: 96.5991, loss_bbox: 0.1073, loss: 0.2064\n",
      "2021-11-29 11:02:17,289 - mmdet - INFO - Epoch [11][3600/4697]\tlr: 1.000e-02, eta: 18:17:48, time: 1.002, data_time: 0.013, memory: 8318, loss_rpn_cls: 0.0062, loss_rpn_bbox: 0.0059, loss_cls: 0.0861, acc: 96.7520, loss_bbox: 0.1066, loss: 0.2047\n",
      "2021-11-29 11:03:57,985 - mmdet - INFO - Epoch [11][3700/4697]\tlr: 1.000e-02, eta: 18:16:12, time: 1.007, data_time: 0.013, memory: 8318, loss_rpn_cls: 0.0051, loss_rpn_bbox: 0.0056, loss_cls: 0.0864, acc: 96.7234, loss_bbox: 0.1039, loss: 0.2010\n",
      "2021-11-29 11:05:38,764 - mmdet - INFO - Epoch [11][3800/4697]\tlr: 1.000e-02, eta: 18:14:37, time: 1.008, data_time: 0.013, memory: 8318, loss_rpn_cls: 0.0047, loss_rpn_bbox: 0.0059, loss_cls: 0.0844, acc: 96.7668, loss_bbox: 0.1063, loss: 0.2013\n",
      "2021-11-29 11:07:19,385 - mmdet - INFO - Epoch [11][3900/4697]\tlr: 1.000e-02, eta: 18:13:01, time: 1.006, data_time: 0.013, memory: 8318, loss_rpn_cls: 0.0049, loss_rpn_bbox: 0.0059, loss_cls: 0.0867, acc: 96.7522, loss_bbox: 0.1087, loss: 0.2061\n",
      "2021-11-29 11:08:59,770 - mmdet - INFO - Epoch [11][4000/4697]\tlr: 1.000e-02, eta: 18:11:25, time: 1.004, data_time: 0.013, memory: 8318, loss_rpn_cls: 0.0056, loss_rpn_bbox: 0.0060, loss_cls: 0.0850, acc: 96.8008, loss_bbox: 0.1032, loss: 0.1998\n",
      "2021-11-29 11:10:40,435 - mmdet - INFO - Epoch [11][4100/4697]\tlr: 1.000e-02, eta: 18:09:49, time: 1.007, data_time: 0.013, memory: 8318, loss_rpn_cls: 0.0054, loss_rpn_bbox: 0.0059, loss_cls: 0.0869, acc: 96.6545, loss_bbox: 0.1082, loss: 0.2065\n",
      "2021-11-29 11:12:20,633 - mmdet - INFO - Epoch [11][4200/4697]\tlr: 1.000e-02, eta: 18:08:13, time: 1.002, data_time: 0.013, memory: 8318, loss_rpn_cls: 0.0052, loss_rpn_bbox: 0.0062, loss_cls: 0.0897, acc: 96.5037, loss_bbox: 0.1136, loss: 0.2147\n",
      "2021-11-29 11:14:01,187 - mmdet - INFO - Epoch [11][4300/4697]\tlr: 1.000e-02, eta: 18:06:37, time: 1.006, data_time: 0.013, memory: 8318, loss_rpn_cls: 0.0055, loss_rpn_bbox: 0.0059, loss_cls: 0.0880, acc: 96.6387, loss_bbox: 0.1080, loss: 0.2073\n",
      "2021-11-29 11:15:41,487 - mmdet - INFO - Epoch [11][4400/4697]\tlr: 1.000e-02, eta: 18:05:00, time: 1.003, data_time: 0.013, memory: 8318, loss_rpn_cls: 0.0048, loss_rpn_bbox: 0.0055, loss_cls: 0.0813, acc: 96.8875, loss_bbox: 0.1046, loss: 0.1962\n",
      "2021-11-29 11:17:21,809 - mmdet - INFO - Epoch [11][4500/4697]\tlr: 1.000e-02, eta: 18:03:24, time: 1.003, data_time: 0.013, memory: 8318, loss_rpn_cls: 0.0051, loss_rpn_bbox: 0.0057, loss_cls: 0.0816, acc: 96.8967, loss_bbox: 0.1003, loss: 0.1928\n",
      "2021-11-29 11:19:02,748 - mmdet - INFO - Epoch [11][4600/4697]\tlr: 1.000e-02, eta: 18:01:48, time: 1.009, data_time: 0.013, memory: 8318, loss_rpn_cls: 0.0051, loss_rpn_bbox: 0.0055, loss_cls: 0.0831, acc: 96.9001, loss_bbox: 0.1014, loss: 0.1950\n",
      "2021-11-29 11:20:40,036 - mmdet - INFO - Saving checkpoint at 11 epochs\n"
     ]
    },
    {
     "name": "stdout",
     "output_type": "stream",
     "text": [
      "[>>>>>>>>>>>>>>>>>>>>>>>>] 12524/12524, 15.0 task/s, elapsed: 835s, ETA:     0s"
     ]
    },
    {
     "name": "stderr",
     "output_type": "stream",
     "text": [
      "2021-11-29 11:34:36,469 - mmdet - INFO - Evaluating bbox...\n"
     ]
    },
    {
     "name": "stdout",
     "output_type": "stream",
     "text": [
      "Loading and preparing results...\n",
      "DONE (t=0.26s)\n",
      "creating index...\n",
      "index created!\n",
      "Running per image evaluation...\n",
      "Evaluate annotation type *bbox*\n",
      "DONE (t=8.26s).\n",
      "Accumulating evaluation results...\n",
      "DONE (t=2.93s).\n",
      " Average Precision  (AP) @[ IoU=0.50:0.95 | area=   all | maxDets=100 ] = 0.403\n",
      " Average Precision  (AP) @[ IoU=0.50      | area=   all | maxDets=1000 ] = 0.752\n",
      " Average Precision  (AP) @[ IoU=0.75      | area=   all | maxDets=1000 ] = 0.390\n",
      " Average Precision  (AP) @[ IoU=0.50:0.95 | area= small | maxDets=1000 ] = 0.156\n",
      " Average Precision  (AP) @[ IoU=0.50:0.95 | area=medium | maxDets=1000 ] = 0.390\n",
      " Average Precision  (AP) @[ IoU=0.50:0.95 | area= large | maxDets=1000 ] = 0.392\n",
      " Average Recall     (AR) @[ IoU=0.50:0.95 | area=   all | maxDets=100 ] = 0.560\n",
      " Average Recall     (AR) @[ IoU=0.50:0.95 | area=   all | maxDets=300 ] = 0.560\n",
      " Average Recall     (AR) @[ IoU=0.50:0.95 | area=   all | maxDets=1000 ] = 0.560\n",
      " Average Recall     (AR) @[ IoU=0.50:0.95 | area= small | maxDets=1000 ] = 0.318\n",
      " Average Recall     (AR) @[ IoU=0.50:0.95 | area=medium | maxDets=1000 ] = 0.549\n",
      " Average Recall     (AR) @[ IoU=0.50:0.95 | area= large | maxDets=1000 ] = 0.558\n"
     ]
    },
    {
     "name": "stderr",
     "output_type": "stream",
     "text": [
      "2021-11-29 11:34:48,519 - mmdet - INFO - Epoch(val) [11][12524]\tbbox_mAP: 0.4030, bbox_mAP_50: 0.7520, bbox_mAP_75: 0.3900, bbox_mAP_s: 0.1560, bbox_mAP_m: 0.3900, bbox_mAP_l: 0.3920, bbox_mAP_copypaste: 0.403 0.752 0.390 0.156 0.390 0.392\n",
      "2021-11-29 11:36:31,931 - mmdet - INFO - Epoch [12][100/4697]\tlr: 1.000e-02, eta: 17:56:39, time: 1.032, data_time: 0.033, memory: 8318, loss_rpn_cls: 0.0042, loss_rpn_bbox: 0.0057, loss_cls: 0.0773, acc: 96.9636, loss_bbox: 0.0995, loss: 0.1867\n",
      "2021-11-29 11:38:12,398 - mmdet - INFO - Epoch [12][200/4697]\tlr: 1.000e-02, eta: 17:55:03, time: 1.005, data_time: 0.012, memory: 8318, loss_rpn_cls: 0.0044, loss_rpn_bbox: 0.0055, loss_cls: 0.0746, acc: 97.0879, loss_bbox: 0.1007, loss: 0.1853\n",
      "2021-11-29 11:39:52,843 - mmdet - INFO - Epoch [12][300/4697]\tlr: 1.000e-02, eta: 17:53:27, time: 1.004, data_time: 0.013, memory: 8318, loss_rpn_cls: 0.0046, loss_rpn_bbox: 0.0059, loss_cls: 0.0828, acc: 96.7371, loss_bbox: 0.1072, loss: 0.2006\n",
      "2021-11-29 11:41:33,107 - mmdet - INFO - Epoch [12][400/4697]\tlr: 1.000e-02, eta: 17:51:51, time: 1.003, data_time: 0.013, memory: 8318, loss_rpn_cls: 0.0047, loss_rpn_bbox: 0.0059, loss_cls: 0.0843, acc: 96.7427, loss_bbox: 0.1065, loss: 0.2014\n",
      "2021-11-29 11:43:13,103 - mmdet - INFO - Epoch [12][500/4697]\tlr: 1.000e-02, eta: 17:50:15, time: 1.000, data_time: 0.013, memory: 8318, loss_rpn_cls: 0.0053, loss_rpn_bbox: 0.0058, loss_cls: 0.0802, acc: 96.9597, loss_bbox: 0.1028, loss: 0.1940\n",
      "2021-11-29 11:44:53,377 - mmdet - INFO - Epoch [12][600/4697]\tlr: 1.000e-02, eta: 17:48:39, time: 1.003, data_time: 0.013, memory: 8318, loss_rpn_cls: 0.0042, loss_rpn_bbox: 0.0057, loss_cls: 0.0833, acc: 96.7844, loss_bbox: 0.1065, loss: 0.1997\n",
      "2021-11-29 11:46:33,723 - mmdet - INFO - Epoch [12][700/4697]\tlr: 1.000e-02, eta: 17:47:03, time: 1.003, data_time: 0.013, memory: 8318, loss_rpn_cls: 0.0044, loss_rpn_bbox: 0.0053, loss_cls: 0.0773, acc: 97.0254, loss_bbox: 0.1017, loss: 0.1888\n",
      "2021-11-29 11:48:14,345 - mmdet - INFO - Epoch [12][800/4697]\tlr: 1.000e-02, eta: 17:45:27, time: 1.006, data_time: 0.013, memory: 8318, loss_rpn_cls: 0.0042, loss_rpn_bbox: 0.0055, loss_cls: 0.0797, acc: 96.9041, loss_bbox: 0.1016, loss: 0.1910\n",
      "2021-11-29 11:49:54,574 - mmdet - INFO - Epoch [12][900/4697]\tlr: 1.000e-02, eta: 17:43:51, time: 1.002, data_time: 0.013, memory: 8318, loss_rpn_cls: 0.0051, loss_rpn_bbox: 0.0056, loss_cls: 0.0843, acc: 96.7380, loss_bbox: 0.1048, loss: 0.1997\n",
      "2021-11-29 11:51:34,713 - mmdet - INFO - Epoch [12][1000/4697]\tlr: 1.000e-02, eta: 17:42:15, time: 1.001, data_time: 0.013, memory: 8318, loss_rpn_cls: 0.0050, loss_rpn_bbox: 0.0057, loss_cls: 0.0816, acc: 96.8352, loss_bbox: 0.1042, loss: 0.1965\n",
      "2021-11-29 11:53:17,958 - mmdet - INFO - Epoch [12][1100/4697]\tlr: 1.000e-02, eta: 17:40:42, time: 1.032, data_time: 0.013, memory: 8318, loss_rpn_cls: 0.0044, loss_rpn_bbox: 0.0054, loss_cls: 0.0833, acc: 96.7817, loss_bbox: 0.1048, loss: 0.1980\n",
      "2021-11-29 11:54:58,168 - mmdet - INFO - Epoch [12][1200/4697]\tlr: 1.000e-02, eta: 17:39:06, time: 1.002, data_time: 0.013, memory: 8318, loss_rpn_cls: 0.0047, loss_rpn_bbox: 0.0058, loss_cls: 0.0834, acc: 96.7605, loss_bbox: 0.1052, loss: 0.1992\n",
      "2021-11-29 11:56:38,838 - mmdet - INFO - Epoch [12][1300/4697]\tlr: 1.000e-02, eta: 17:37:30, time: 1.007, data_time: 0.013, memory: 8318, loss_rpn_cls: 0.0044, loss_rpn_bbox: 0.0055, loss_cls: 0.0841, acc: 96.6992, loss_bbox: 0.1097, loss: 0.2037\n",
      "2021-11-29 11:58:18,639 - mmdet - INFO - Epoch [12][1400/4697]\tlr: 1.000e-02, eta: 17:35:53, time: 0.998, data_time: 0.013, memory: 8318, loss_rpn_cls: 0.0046, loss_rpn_bbox: 0.0059, loss_cls: 0.0807, acc: 96.8140, loss_bbox: 0.1013, loss: 0.1925\n",
      "2021-11-29 11:59:58,438 - mmdet - INFO - Epoch [12][1500/4697]\tlr: 1.000e-02, eta: 17:34:17, time: 0.998, data_time: 0.013, memory: 8318, loss_rpn_cls: 0.0046, loss_rpn_bbox: 0.0055, loss_cls: 0.0841, acc: 96.7576, loss_bbox: 0.1054, loss: 0.1996\n",
      "2021-11-29 12:01:38,415 - mmdet - INFO - Epoch [12][1600/4697]\tlr: 1.000e-02, eta: 17:32:40, time: 1.000, data_time: 0.013, memory: 8318, loss_rpn_cls: 0.0045, loss_rpn_bbox: 0.0057, loss_cls: 0.0837, acc: 96.7676, loss_bbox: 0.1063, loss: 0.2001\n",
      "2021-11-29 12:03:18,253 - mmdet - INFO - Epoch [12][1700/4697]\tlr: 1.000e-02, eta: 17:31:03, time: 0.998, data_time: 0.013, memory: 8318, loss_rpn_cls: 0.0050, loss_rpn_bbox: 0.0057, loss_cls: 0.0817, acc: 96.8010, loss_bbox: 0.1046, loss: 0.1970\n",
      "2021-11-29 12:04:58,544 - mmdet - INFO - Epoch [12][1800/4697]\tlr: 1.000e-02, eta: 17:29:27, time: 1.003, data_time: 0.013, memory: 8318, loss_rpn_cls: 0.0052, loss_rpn_bbox: 0.0059, loss_cls: 0.0825, acc: 96.8188, loss_bbox: 0.1069, loss: 0.2005\n",
      "2021-11-29 12:06:38,501 - mmdet - INFO - Epoch [12][1900/4697]\tlr: 1.000e-02, eta: 17:27:50, time: 1.000, data_time: 0.013, memory: 8318, loss_rpn_cls: 0.0055, loss_rpn_bbox: 0.0056, loss_cls: 0.0844, acc: 96.7300, loss_bbox: 0.1075, loss: 0.2030\n",
      "2021-11-29 12:08:18,579 - mmdet - INFO - Epoch [12][2000/4697]\tlr: 1.000e-02, eta: 17:26:14, time: 1.001, data_time: 0.013, memory: 8318, loss_rpn_cls: 0.0046, loss_rpn_bbox: 0.0056, loss_cls: 0.0823, acc: 96.8054, loss_bbox: 0.1049, loss: 0.1974\n",
      "2021-11-29 12:09:58,534 - mmdet - INFO - Epoch [12][2100/4697]\tlr: 1.000e-02, eta: 17:24:37, time: 1.000, data_time: 0.013, memory: 8318, loss_rpn_cls: 0.0053, loss_rpn_bbox: 0.0056, loss_cls: 0.0836, acc: 96.7947, loss_bbox: 0.1013, loss: 0.1958\n",
      "2021-11-29 12:11:38,888 - mmdet - INFO - Epoch [12][2200/4697]\tlr: 1.000e-02, eta: 17:23:01, time: 1.004, data_time: 0.013, memory: 8318, loss_rpn_cls: 0.0049, loss_rpn_bbox: 0.0057, loss_cls: 0.0802, acc: 96.9204, loss_bbox: 0.0993, loss: 0.1900\n",
      "2021-11-29 12:13:18,647 - mmdet - INFO - Epoch [12][2300/4697]\tlr: 1.000e-02, eta: 17:21:24, time: 0.998, data_time: 0.013, memory: 8318, loss_rpn_cls: 0.0059, loss_rpn_bbox: 0.0062, loss_cls: 0.0844, acc: 96.7607, loss_bbox: 0.1050, loss: 0.2014\n",
      "2021-11-29 12:14:58,717 - mmdet - INFO - Epoch [12][2400/4697]\tlr: 1.000e-02, eta: 17:19:47, time: 1.001, data_time: 0.013, memory: 8318, loss_rpn_cls: 0.0047, loss_rpn_bbox: 0.0057, loss_cls: 0.0834, acc: 96.7256, loss_bbox: 0.1086, loss: 0.2023\n",
      "2021-11-29 12:16:39,114 - mmdet - INFO - Epoch [12][2500/4697]\tlr: 1.000e-02, eta: 17:18:11, time: 1.004, data_time: 0.013, memory: 8318, loss_rpn_cls: 0.0048, loss_rpn_bbox: 0.0057, loss_cls: 0.0846, acc: 96.7324, loss_bbox: 0.1079, loss: 0.2029\n",
      "2021-11-29 12:18:19,490 - mmdet - INFO - Epoch [12][2600/4697]\tlr: 1.000e-02, eta: 17:16:35, time: 1.004, data_time: 0.013, memory: 8318, loss_rpn_cls: 0.0052, loss_rpn_bbox: 0.0054, loss_cls: 0.0846, acc: 96.8088, loss_bbox: 0.1037, loss: 0.1988\n",
      "2021-11-29 12:19:59,703 - mmdet - INFO - Epoch [12][2700/4697]\tlr: 1.000e-02, eta: 17:14:58, time: 1.002, data_time: 0.013, memory: 8318, loss_rpn_cls: 0.0054, loss_rpn_bbox: 0.0059, loss_cls: 0.0859, acc: 96.7705, loss_bbox: 0.1064, loss: 0.2035\n",
      "2021-11-29 12:21:39,569 - mmdet - INFO - Epoch [12][2800/4697]\tlr: 1.000e-02, eta: 17:13:22, time: 0.999, data_time: 0.013, memory: 8318, loss_rpn_cls: 0.0050, loss_rpn_bbox: 0.0058, loss_cls: 0.0825, acc: 96.8057, loss_bbox: 0.1041, loss: 0.1974\n",
      "2021-11-29 12:23:19,873 - mmdet - INFO - Epoch [12][2900/4697]\tlr: 1.000e-02, eta: 17:11:45, time: 1.003, data_time: 0.013, memory: 8318, loss_rpn_cls: 0.0046, loss_rpn_bbox: 0.0054, loss_cls: 0.0810, acc: 96.9097, loss_bbox: 0.1010, loss: 0.1919\n",
      "2021-11-29 12:24:59,518 - mmdet - INFO - Epoch [12][3000/4697]\tlr: 1.000e-02, eta: 17:10:08, time: 0.996, data_time: 0.013, memory: 8318, loss_rpn_cls: 0.0052, loss_rpn_bbox: 0.0055, loss_cls: 0.0815, acc: 96.8369, loss_bbox: 0.1032, loss: 0.1955\n",
      "2021-11-29 12:26:39,814 - mmdet - INFO - Epoch [12][3100/4697]\tlr: 1.000e-02, eta: 17:08:32, time: 1.003, data_time: 0.013, memory: 8318, loss_rpn_cls: 0.0047, loss_rpn_bbox: 0.0059, loss_cls: 0.0854, acc: 96.7305, loss_bbox: 0.1062, loss: 0.2021\n",
      "2021-11-29 12:28:19,920 - mmdet - INFO - Epoch [12][3200/4697]\tlr: 1.000e-02, eta: 17:06:55, time: 1.001, data_time: 0.013, memory: 8318, loss_rpn_cls: 0.0045, loss_rpn_bbox: 0.0057, loss_cls: 0.0835, acc: 96.7358, loss_bbox: 0.1079, loss: 0.2015\n",
      "2021-11-29 12:29:59,723 - mmdet - INFO - Epoch [12][3300/4697]\tlr: 1.000e-02, eta: 17:05:18, time: 0.998, data_time: 0.013, memory: 8318, loss_rpn_cls: 0.0045, loss_rpn_bbox: 0.0055, loss_cls: 0.0834, acc: 96.7739, loss_bbox: 0.1061, loss: 0.1995\n"
     ]
    },
    {
     "name": "stderr",
     "output_type": "stream",
     "text": [
      "2021-11-29 12:31:39,833 - mmdet - INFO - Epoch [12][3400/4697]\tlr: 1.000e-02, eta: 17:03:41, time: 1.001, data_time: 0.013, memory: 8318, loss_rpn_cls: 0.0049, loss_rpn_bbox: 0.0057, loss_cls: 0.0840, acc: 96.8408, loss_bbox: 0.1040, loss: 0.1986\n",
      "2021-11-29 12:33:20,060 - mmdet - INFO - Epoch [12][3500/4697]\tlr: 1.000e-02, eta: 17:02:05, time: 1.002, data_time: 0.013, memory: 8318, loss_rpn_cls: 0.0048, loss_rpn_bbox: 0.0055, loss_cls: 0.0824, acc: 96.8733, loss_bbox: 0.1013, loss: 0.1940\n",
      "2021-11-29 12:35:00,002 - mmdet - INFO - Epoch [12][3600/4697]\tlr: 1.000e-02, eta: 17:00:28, time: 0.999, data_time: 0.013, memory: 8318, loss_rpn_cls: 0.0048, loss_rpn_bbox: 0.0057, loss_cls: 0.0832, acc: 96.7595, loss_bbox: 0.1094, loss: 0.2031\n",
      "2021-11-29 12:36:39,888 - mmdet - INFO - Epoch [12][3700/4697]\tlr: 1.000e-02, eta: 16:58:51, time: 0.999, data_time: 0.013, memory: 8318, loss_rpn_cls: 0.0047, loss_rpn_bbox: 0.0058, loss_cls: 0.0839, acc: 96.7668, loss_bbox: 0.1060, loss: 0.2005\n",
      "2021-11-29 12:38:19,776 - mmdet - INFO - Epoch [12][3800/4697]\tlr: 1.000e-02, eta: 16:57:14, time: 0.999, data_time: 0.013, memory: 8318, loss_rpn_cls: 0.0052, loss_rpn_bbox: 0.0056, loss_cls: 0.0856, acc: 96.6851, loss_bbox: 0.1061, loss: 0.2025\n",
      "2021-11-29 12:40:00,004 - mmdet - INFO - Epoch [12][3900/4697]\tlr: 1.000e-02, eta: 16:55:37, time: 1.002, data_time: 0.013, memory: 8318, loss_rpn_cls: 0.0056, loss_rpn_bbox: 0.0058, loss_cls: 0.0864, acc: 96.7441, loss_bbox: 0.1051, loss: 0.2030\n",
      "2021-11-29 12:41:40,606 - mmdet - INFO - Epoch [12][4000/4697]\tlr: 1.000e-02, eta: 16:54:01, time: 1.006, data_time: 0.013, memory: 8318, loss_rpn_cls: 0.0043, loss_rpn_bbox: 0.0058, loss_cls: 0.0844, acc: 96.7292, loss_bbox: 0.1063, loss: 0.2008\n",
      "2021-11-29 12:43:20,654 - mmdet - INFO - Epoch [12][4100/4697]\tlr: 1.000e-02, eta: 16:52:24, time: 1.000, data_time: 0.013, memory: 8318, loss_rpn_cls: 0.0057, loss_rpn_bbox: 0.0057, loss_cls: 0.0849, acc: 96.7456, loss_bbox: 0.1051, loss: 0.2014\n",
      "2021-11-29 12:45:00,463 - mmdet - INFO - Epoch [12][4200/4697]\tlr: 1.000e-02, eta: 16:50:47, time: 0.998, data_time: 0.013, memory: 8318, loss_rpn_cls: 0.0051, loss_rpn_bbox: 0.0056, loss_cls: 0.0819, acc: 96.8132, loss_bbox: 0.1053, loss: 0.1979\n",
      "2021-11-29 12:46:40,555 - mmdet - INFO - Epoch [12][4300/4697]\tlr: 1.000e-02, eta: 16:49:10, time: 1.001, data_time: 0.013, memory: 8318, loss_rpn_cls: 0.0050, loss_rpn_bbox: 0.0056, loss_cls: 0.0853, acc: 96.7810, loss_bbox: 0.1037, loss: 0.1996\n",
      "2021-11-29 12:48:20,561 - mmdet - INFO - Epoch [12][4400/4697]\tlr: 1.000e-02, eta: 16:47:34, time: 1.000, data_time: 0.013, memory: 8318, loss_rpn_cls: 0.0051, loss_rpn_bbox: 0.0060, loss_cls: 0.0851, acc: 96.6814, loss_bbox: 0.1078, loss: 0.2040\n",
      "2021-11-29 12:50:00,490 - mmdet - INFO - Epoch [12][4500/4697]\tlr: 1.000e-02, eta: 16:45:57, time: 0.999, data_time: 0.013, memory: 8318, loss_rpn_cls: 0.0051, loss_rpn_bbox: 0.0058, loss_cls: 0.0841, acc: 96.7563, loss_bbox: 0.1056, loss: 0.2006\n",
      "2021-11-29 12:51:40,392 - mmdet - INFO - Epoch [12][4600/4697]\tlr: 1.000e-02, eta: 16:44:20, time: 0.999, data_time: 0.013, memory: 8318, loss_rpn_cls: 0.0046, loss_rpn_bbox: 0.0054, loss_cls: 0.0776, acc: 97.0210, loss_bbox: 0.0995, loss: 0.1870\n",
      "2021-11-29 12:53:17,559 - mmdet - INFO - Saving checkpoint at 12 epochs\n"
     ]
    },
    {
     "name": "stdout",
     "output_type": "stream",
     "text": [
      "[>>>>>>>>>>>>>>>>>>>>>>>>] 12524/12524, 16.5 task/s, elapsed: 760s, ETA:     0s"
     ]
    },
    {
     "name": "stderr",
     "output_type": "stream",
     "text": [
      "2021-11-29 13:05:58,937 - mmdet - INFO - Evaluating bbox...\n"
     ]
    },
    {
     "name": "stdout",
     "output_type": "stream",
     "text": [
      "Loading and preparing results...\n",
      "DONE (t=0.25s)\n",
      "creating index...\n",
      "index created!\n",
      "Running per image evaluation...\n",
      "Evaluate annotation type *bbox*\n",
      "DONE (t=7.05s).\n",
      "Accumulating evaluation results...\n"
     ]
    },
    {
     "name": "stderr",
     "output_type": "stream",
     "text": [
      "2021-11-29 13:06:08,613 - mmdet - INFO - Epoch(val) [12][12524]\tbbox_mAP: 0.4070, bbox_mAP_50: 0.7500, bbox_mAP_75: 0.3930, bbox_mAP_s: 0.1770, bbox_mAP_m: 0.3890, bbox_mAP_l: 0.4000, bbox_mAP_copypaste: 0.407 0.750 0.393 0.177 0.389 0.400\n"
     ]
    },
    {
     "name": "stdout",
     "output_type": "stream",
     "text": [
      "DONE (t=2.00s).\n",
      " Average Precision  (AP) @[ IoU=0.50:0.95 | area=   all | maxDets=100 ] = 0.407\n",
      " Average Precision  (AP) @[ IoU=0.50      | area=   all | maxDets=1000 ] = 0.750\n",
      " Average Precision  (AP) @[ IoU=0.75      | area=   all | maxDets=1000 ] = 0.393\n",
      " Average Precision  (AP) @[ IoU=0.50:0.95 | area= small | maxDets=1000 ] = 0.177\n",
      " Average Precision  (AP) @[ IoU=0.50:0.95 | area=medium | maxDets=1000 ] = 0.389\n",
      " Average Precision  (AP) @[ IoU=0.50:0.95 | area= large | maxDets=1000 ] = 0.400\n",
      " Average Recall     (AR) @[ IoU=0.50:0.95 | area=   all | maxDets=100 ] = 0.552\n",
      " Average Recall     (AR) @[ IoU=0.50:0.95 | area=   all | maxDets=300 ] = 0.552\n",
      " Average Recall     (AR) @[ IoU=0.50:0.95 | area=   all | maxDets=1000 ] = 0.552\n",
      " Average Recall     (AR) @[ IoU=0.50:0.95 | area= small | maxDets=1000 ] = 0.296\n",
      " Average Recall     (AR) @[ IoU=0.50:0.95 | area=medium | maxDets=1000 ] = 0.535\n",
      " Average Recall     (AR) @[ IoU=0.50:0.95 | area= large | maxDets=1000 ] = 0.556\n"
     ]
    },
    {
     "name": "stderr",
     "output_type": "stream",
     "text": [
      "2021-11-29 13:07:50,881 - mmdet - INFO - Epoch [13][100/4697]\tlr: 1.000e-02, eta: 16:39:26, time: 1.021, data_time: 0.034, memory: 8318, loss_rpn_cls: 0.0040, loss_rpn_bbox: 0.0055, loss_cls: 0.0745, acc: 97.0422, loss_bbox: 0.0996, loss: 0.1835\n",
      "2021-11-29 13:09:30,996 - mmdet - INFO - Epoch [13][200/4697]\tlr: 1.000e-02, eta: 16:37:50, time: 1.001, data_time: 0.012, memory: 8318, loss_rpn_cls: 0.0049, loss_rpn_bbox: 0.0059, loss_cls: 0.0807, acc: 96.8723, loss_bbox: 0.1043, loss: 0.1958\n",
      "2021-11-29 13:11:10,962 - mmdet - INFO - Epoch [13][300/4697]\tlr: 1.000e-02, eta: 16:36:13, time: 1.000, data_time: 0.012, memory: 8318, loss_rpn_cls: 0.0051, loss_rpn_bbox: 0.0058, loss_cls: 0.0778, acc: 97.0034, loss_bbox: 0.1027, loss: 0.1915\n",
      "2021-11-29 13:12:50,552 - mmdet - INFO - Epoch [13][400/4697]\tlr: 1.000e-02, eta: 16:34:36, time: 0.996, data_time: 0.013, memory: 8318, loss_rpn_cls: 0.0047, loss_rpn_bbox: 0.0056, loss_cls: 0.0772, acc: 97.0293, loss_bbox: 0.1002, loss: 0.1877\n",
      "2021-11-29 13:14:30,806 - mmdet - INFO - Epoch [13][500/4697]\tlr: 1.000e-02, eta: 16:32:59, time: 1.003, data_time: 0.013, memory: 8318, loss_rpn_cls: 0.0045, loss_rpn_bbox: 0.0055, loss_cls: 0.0773, acc: 97.0100, loss_bbox: 0.0988, loss: 0.1861\n",
      "2021-11-29 13:16:10,556 - mmdet - INFO - Epoch [13][600/4697]\tlr: 1.000e-02, eta: 16:31:23, time: 0.997, data_time: 0.013, memory: 8318, loss_rpn_cls: 0.0039, loss_rpn_bbox: 0.0053, loss_cls: 0.0749, acc: 97.0452, loss_bbox: 0.0958, loss: 0.1798\n",
      "2021-11-29 13:17:50,749 - mmdet - INFO - Epoch [13][700/4697]\tlr: 1.000e-02, eta: 16:29:46, time: 1.002, data_time: 0.013, memory: 8318, loss_rpn_cls: 0.0046, loss_rpn_bbox: 0.0058, loss_cls: 0.0825, acc: 96.8635, loss_bbox: 0.1043, loss: 0.1972\n",
      "2021-11-29 13:19:31,279 - mmdet - INFO - Epoch [13][800/4697]\tlr: 1.000e-02, eta: 16:28:10, time: 1.005, data_time: 0.013, memory: 8318, loss_rpn_cls: 0.0041, loss_rpn_bbox: 0.0055, loss_cls: 0.0760, acc: 97.0815, loss_bbox: 0.0993, loss: 0.1850\n",
      "2021-11-29 13:21:10,972 - mmdet - INFO - Epoch [13][900/4697]\tlr: 1.000e-02, eta: 16:26:33, time: 0.997, data_time: 0.013, memory: 8318, loss_rpn_cls: 0.0046, loss_rpn_bbox: 0.0054, loss_cls: 0.0764, acc: 97.0437, loss_bbox: 0.0994, loss: 0.1858\n",
      "2021-11-29 13:22:55,986 - mmdet - INFO - Epoch [13][1000/4697]\tlr: 1.000e-02, eta: 16:25:01, time: 1.050, data_time: 0.014, memory: 8318, loss_rpn_cls: 0.0047, loss_rpn_bbox: 0.0056, loss_cls: 0.0779, acc: 96.9861, loss_bbox: 0.1050, loss: 0.1932\n",
      "2021-11-29 13:24:36,917 - mmdet - INFO - Epoch [13][1100/4697]\tlr: 1.000e-02, eta: 16:23:26, time: 1.009, data_time: 0.013, memory: 8318, loss_rpn_cls: 0.0040, loss_rpn_bbox: 0.0057, loss_cls: 0.0775, acc: 96.9377, loss_bbox: 0.1035, loss: 0.1907\n",
      "2021-11-29 13:26:16,571 - mmdet - INFO - Epoch [13][1200/4697]\tlr: 1.000e-02, eta: 16:21:49, time: 0.997, data_time: 0.013, memory: 8318, loss_rpn_cls: 0.0041, loss_rpn_bbox: 0.0054, loss_cls: 0.0766, acc: 96.9863, loss_bbox: 0.1025, loss: 0.1886\n",
      "2021-11-29 13:27:56,141 - mmdet - INFO - Epoch [13][1300/4697]\tlr: 1.000e-02, eta: 16:20:11, time: 0.996, data_time: 0.013, memory: 8318, loss_rpn_cls: 0.0042, loss_rpn_bbox: 0.0056, loss_cls: 0.0790, acc: 96.9333, loss_bbox: 0.1040, loss: 0.1928\n",
      "2021-11-29 13:29:36,258 - mmdet - INFO - Epoch [13][1400/4697]\tlr: 1.000e-02, eta: 16:18:35, time: 1.001, data_time: 0.013, memory: 8318, loss_rpn_cls: 0.0048, loss_rpn_bbox: 0.0054, loss_cls: 0.0801, acc: 96.8982, loss_bbox: 0.1029, loss: 0.1932\n",
      "2021-11-29 13:31:17,120 - mmdet - INFO - Epoch [13][1500/4697]\tlr: 1.000e-02, eta: 16:16:59, time: 1.009, data_time: 0.013, memory: 8318, loss_rpn_cls: 0.0044, loss_rpn_bbox: 0.0058, loss_cls: 0.0790, acc: 96.8992, loss_bbox: 0.1014, loss: 0.1905\n",
      "2021-11-29 13:32:57,027 - mmdet - INFO - Epoch [13][1600/4697]\tlr: 1.000e-02, eta: 16:15:22, time: 0.999, data_time: 0.013, memory: 8318, loss_rpn_cls: 0.0044, loss_rpn_bbox: 0.0058, loss_cls: 0.0853, acc: 96.7136, loss_bbox: 0.1074, loss: 0.2029\n",
      "2021-11-29 13:34:37,028 - mmdet - INFO - Epoch [13][1700/4697]\tlr: 1.000e-02, eta: 16:13:45, time: 1.000, data_time: 0.013, memory: 8318, loss_rpn_cls: 0.0044, loss_rpn_bbox: 0.0056, loss_cls: 0.0783, acc: 96.9189, loss_bbox: 0.1012, loss: 0.1895\n",
      "2021-11-29 13:36:16,758 - mmdet - INFO - Epoch [13][1800/4697]\tlr: 1.000e-02, eta: 16:12:08, time: 0.997, data_time: 0.013, memory: 8318, loss_rpn_cls: 0.0052, loss_rpn_bbox: 0.0056, loss_cls: 0.0824, acc: 96.8608, loss_bbox: 0.1043, loss: 0.1975\n",
      "2021-11-29 13:37:56,694 - mmdet - INFO - Epoch [13][1900/4697]\tlr: 1.000e-02, eta: 16:10:31, time: 0.999, data_time: 0.013, memory: 8318, loss_rpn_cls: 0.0047, loss_rpn_bbox: 0.0052, loss_cls: 0.0764, acc: 96.9910, loss_bbox: 0.1014, loss: 0.1877\n",
      "2021-11-29 13:39:37,099 - mmdet - INFO - Epoch [13][2000/4697]\tlr: 1.000e-02, eta: 16:08:55, time: 1.004, data_time: 0.013, memory: 8318, loss_rpn_cls: 0.0038, loss_rpn_bbox: 0.0055, loss_cls: 0.0789, acc: 96.8994, loss_bbox: 0.1024, loss: 0.1906\n",
      "2021-11-29 13:41:16,997 - mmdet - INFO - Epoch [13][2100/4697]\tlr: 1.000e-02, eta: 16:07:18, time: 0.999, data_time: 0.013, memory: 8318, loss_rpn_cls: 0.0044, loss_rpn_bbox: 0.0053, loss_cls: 0.0816, acc: 96.9348, loss_bbox: 0.1034, loss: 0.1947\n",
      "2021-11-29 13:42:56,927 - mmdet - INFO - Epoch [13][2200/4697]\tlr: 1.000e-02, eta: 16:05:41, time: 0.999, data_time: 0.013, memory: 8318, loss_rpn_cls: 0.0046, loss_rpn_bbox: 0.0053, loss_cls: 0.0820, acc: 96.8469, loss_bbox: 0.1040, loss: 0.1959\n",
      "2021-11-29 13:44:37,288 - mmdet - INFO - Epoch [13][2300/4697]\tlr: 1.000e-02, eta: 16:04:04, time: 1.004, data_time: 0.013, memory: 8318, loss_rpn_cls: 0.0040, loss_rpn_bbox: 0.0057, loss_cls: 0.0813, acc: 96.8259, loss_bbox: 0.1062, loss: 0.1972\n",
      "2021-11-29 13:46:17,881 - mmdet - INFO - Epoch [13][2400/4697]\tlr: 1.000e-02, eta: 16:02:28, time: 1.006, data_time: 0.013, memory: 8318, loss_rpn_cls: 0.0045, loss_rpn_bbox: 0.0058, loss_cls: 0.0805, acc: 96.8032, loss_bbox: 0.1039, loss: 0.1947\n",
      "2021-11-29 13:47:59,057 - mmdet - INFO - Epoch [13][2500/4697]\tlr: 1.000e-02, eta: 16:00:52, time: 1.012, data_time: 0.013, memory: 8318, loss_rpn_cls: 0.0048, loss_rpn_bbox: 0.0056, loss_cls: 0.0805, acc: 96.8623, loss_bbox: 0.1018, loss: 0.1928\n",
      "2021-11-29 13:49:39,695 - mmdet - INFO - Epoch [13][2600/4697]\tlr: 1.000e-02, eta: 15:59:16, time: 1.006, data_time: 0.013, memory: 8318, loss_rpn_cls: 0.0045, loss_rpn_bbox: 0.0055, loss_cls: 0.0828, acc: 96.7354, loss_bbox: 0.1054, loss: 0.1982\n",
      "2021-11-29 13:51:19,424 - mmdet - INFO - Epoch [13][2700/4697]\tlr: 1.000e-02, eta: 15:57:39, time: 0.997, data_time: 0.013, memory: 8318, loss_rpn_cls: 0.0044, loss_rpn_bbox: 0.0055, loss_cls: 0.0817, acc: 96.8184, loss_bbox: 0.1047, loss: 0.1962\n",
      "2021-11-29 13:52:59,567 - mmdet - INFO - Epoch [13][2800/4697]\tlr: 1.000e-02, eta: 15:56:02, time: 1.001, data_time: 0.013, memory: 8318, loss_rpn_cls: 0.0051, loss_rpn_bbox: 0.0054, loss_cls: 0.0801, acc: 96.9177, loss_bbox: 0.1015, loss: 0.1921\n",
      "2021-11-29 13:54:40,046 - mmdet - INFO - Epoch [13][2900/4697]\tlr: 1.000e-02, eta: 15:54:26, time: 1.005, data_time: 0.013, memory: 8318, loss_rpn_cls: 0.0051, loss_rpn_bbox: 0.0057, loss_cls: 0.0802, acc: 96.9172, loss_bbox: 0.1039, loss: 0.1949\n",
      "2021-11-29 13:56:20,713 - mmdet - INFO - Epoch [13][3000/4697]\tlr: 1.000e-02, eta: 15:52:49, time: 1.007, data_time: 0.014, memory: 8318, loss_rpn_cls: 0.0049, loss_rpn_bbox: 0.0056, loss_cls: 0.0847, acc: 96.7256, loss_bbox: 0.1061, loss: 0.2013\n",
      "2021-11-29 13:58:01,147 - mmdet - INFO - Epoch [13][3100/4697]\tlr: 1.000e-02, eta: 15:51:13, time: 1.004, data_time: 0.013, memory: 8318, loss_rpn_cls: 0.0045, loss_rpn_bbox: 0.0054, loss_cls: 0.0824, acc: 96.8032, loss_bbox: 0.1065, loss: 0.1989\n",
      "2021-11-29 13:59:44,900 - mmdet - INFO - Epoch [13][3200/4697]\tlr: 1.000e-02, eta: 15:49:39, time: 1.038, data_time: 0.013, memory: 8318, loss_rpn_cls: 0.0049, loss_rpn_bbox: 0.0057, loss_cls: 0.0826, acc: 96.7795, loss_bbox: 0.1066, loss: 0.1998\n",
      "2021-11-29 14:01:25,404 - mmdet - INFO - Epoch [13][3300/4697]\tlr: 1.000e-02, eta: 15:48:03, time: 1.005, data_time: 0.013, memory: 8318, loss_rpn_cls: 0.0045, loss_rpn_bbox: 0.0060, loss_cls: 0.0870, acc: 96.6711, loss_bbox: 0.1085, loss: 0.2060\n",
      "2021-11-29 14:03:06,057 - mmdet - INFO - Epoch [13][3400/4697]\tlr: 1.000e-02, eta: 15:46:26, time: 1.007, data_time: 0.013, memory: 8318, loss_rpn_cls: 0.0049, loss_rpn_bbox: 0.0058, loss_cls: 0.0837, acc: 96.8030, loss_bbox: 0.1057, loss: 0.2002\n"
     ]
    },
    {
     "name": "stderr",
     "output_type": "stream",
     "text": [
      "2021-11-29 14:04:46,582 - mmdet - INFO - Epoch [13][3500/4697]\tlr: 1.000e-02, eta: 15:44:50, time: 1.005, data_time: 0.013, memory: 8318, loss_rpn_cls: 0.0047, loss_rpn_bbox: 0.0057, loss_cls: 0.0819, acc: 96.8503, loss_bbox: 0.1050, loss: 0.1973\n",
      "2021-11-29 14:06:27,201 - mmdet - INFO - Epoch [13][3600/4697]\tlr: 1.000e-02, eta: 15:43:13, time: 1.006, data_time: 0.013, memory: 8318, loss_rpn_cls: 0.0051, loss_rpn_bbox: 0.0057, loss_cls: 0.0836, acc: 96.7803, loss_bbox: 0.1036, loss: 0.1980\n",
      "2021-11-29 14:08:07,719 - mmdet - INFO - Epoch [13][3700/4697]\tlr: 1.000e-02, eta: 15:41:37, time: 1.005, data_time: 0.013, memory: 8318, loss_rpn_cls: 0.0043, loss_rpn_bbox: 0.0053, loss_cls: 0.0779, acc: 96.9768, loss_bbox: 0.1028, loss: 0.1904\n",
      "2021-11-29 14:09:47,767 - mmdet - INFO - Epoch [13][3800/4697]\tlr: 1.000e-02, eta: 15:40:00, time: 1.000, data_time: 0.013, memory: 8318, loss_rpn_cls: 0.0053, loss_rpn_bbox: 0.0061, loss_cls: 0.0837, acc: 96.7646, loss_bbox: 0.1069, loss: 0.2019\n",
      "2021-11-29 14:11:28,130 - mmdet - INFO - Epoch [13][3900/4697]\tlr: 1.000e-02, eta: 15:38:23, time: 1.004, data_time: 0.013, memory: 8318, loss_rpn_cls: 0.0048, loss_rpn_bbox: 0.0057, loss_cls: 0.0866, acc: 96.6819, loss_bbox: 0.1047, loss: 0.2019\n",
      "2021-11-29 14:13:08,514 - mmdet - INFO - Epoch [13][4000/4697]\tlr: 1.000e-02, eta: 15:36:46, time: 1.004, data_time: 0.013, memory: 8318, loss_rpn_cls: 0.0048, loss_rpn_bbox: 0.0055, loss_cls: 0.0853, acc: 96.7930, loss_bbox: 0.1049, loss: 0.2004\n",
      "2021-11-29 14:14:48,804 - mmdet - INFO - Epoch [13][4100/4697]\tlr: 1.000e-02, eta: 15:35:10, time: 1.003, data_time: 0.013, memory: 8318, loss_rpn_cls: 0.0052, loss_rpn_bbox: 0.0058, loss_cls: 0.0837, acc: 96.7300, loss_bbox: 0.1040, loss: 0.1987\n",
      "2021-11-29 14:16:29,019 - mmdet - INFO - Epoch [13][4200/4697]\tlr: 1.000e-02, eta: 15:33:33, time: 1.002, data_time: 0.013, memory: 8318, loss_rpn_cls: 0.0052, loss_rpn_bbox: 0.0055, loss_cls: 0.0845, acc: 96.7500, loss_bbox: 0.1059, loss: 0.2012\n",
      "2021-11-29 14:18:09,423 - mmdet - INFO - Epoch [13][4300/4697]\tlr: 1.000e-02, eta: 15:31:56, time: 1.004, data_time: 0.013, memory: 8318, loss_rpn_cls: 0.0046, loss_rpn_bbox: 0.0056, loss_cls: 0.0818, acc: 96.8511, loss_bbox: 0.1021, loss: 0.1941\n",
      "2021-11-29 14:19:50,034 - mmdet - INFO - Epoch [13][4400/4697]\tlr: 1.000e-02, eta: 15:30:19, time: 1.006, data_time: 0.013, memory: 8318, loss_rpn_cls: 0.0053, loss_rpn_bbox: 0.0058, loss_cls: 0.0863, acc: 96.6785, loss_bbox: 0.1081, loss: 0.2054\n",
      "2021-11-29 14:21:29,951 - mmdet - INFO - Epoch [13][4500/4697]\tlr: 1.000e-02, eta: 15:28:42, time: 0.999, data_time: 0.013, memory: 8318, loss_rpn_cls: 0.0048, loss_rpn_bbox: 0.0058, loss_cls: 0.0812, acc: 96.8481, loss_bbox: 0.1055, loss: 0.1974\n",
      "2021-11-29 14:23:09,671 - mmdet - INFO - Epoch [13][4600/4697]\tlr: 1.000e-02, eta: 15:27:05, time: 0.997, data_time: 0.013, memory: 8318, loss_rpn_cls: 0.0054, loss_rpn_bbox: 0.0062, loss_cls: 0.0819, acc: 96.8171, loss_bbox: 0.1049, loss: 0.1983\n",
      "2021-11-29 14:24:46,468 - mmdet - INFO - Saving checkpoint at 13 epochs\n"
     ]
    },
    {
     "name": "stdout",
     "output_type": "stream",
     "text": [
      "[>>>>>>>>>>>>>>>>>>>>>>>>] 12524/12524, 15.2 task/s, elapsed: 826s, ETA:     0s"
     ]
    },
    {
     "name": "stderr",
     "output_type": "stream",
     "text": [
      "2021-11-29 14:38:33,954 - mmdet - INFO - Evaluating bbox...\n"
     ]
    },
    {
     "name": "stdout",
     "output_type": "stream",
     "text": [
      "Loading and preparing results...\n",
      "DONE (t=0.22s)\n",
      "creating index...\n",
      "index created!\n",
      "Running per image evaluation...\n",
      "Evaluate annotation type *bbox*\n",
      "DONE (t=6.92s).\n",
      "Accumulating evaluation results...\n"
     ]
    },
    {
     "name": "stderr",
     "output_type": "stream",
     "text": [
      "2021-11-29 14:38:43,721 - mmdet - INFO - Epoch(val) [13][12524]\tbbox_mAP: 0.4020, bbox_mAP_50: 0.7480, bbox_mAP_75: 0.3940, bbox_mAP_s: 0.1320, bbox_mAP_m: 0.3910, bbox_mAP_l: 0.3940, bbox_mAP_copypaste: 0.402 0.748 0.394 0.132 0.391 0.394\n"
     ]
    },
    {
     "name": "stdout",
     "output_type": "stream",
     "text": [
      "DONE (t=2.25s).\n",
      " Average Precision  (AP) @[ IoU=0.50:0.95 | area=   all | maxDets=100 ] = 0.402\n",
      " Average Precision  (AP) @[ IoU=0.50      | area=   all | maxDets=1000 ] = 0.748\n",
      " Average Precision  (AP) @[ IoU=0.75      | area=   all | maxDets=1000 ] = 0.394\n",
      " Average Precision  (AP) @[ IoU=0.50:0.95 | area= small | maxDets=1000 ] = 0.132\n",
      " Average Precision  (AP) @[ IoU=0.50:0.95 | area=medium | maxDets=1000 ] = 0.391\n",
      " Average Precision  (AP) @[ IoU=0.50:0.95 | area= large | maxDets=1000 ] = 0.394\n",
      " Average Recall     (AR) @[ IoU=0.50:0.95 | area=   all | maxDets=100 ] = 0.553\n",
      " Average Recall     (AR) @[ IoU=0.50:0.95 | area=   all | maxDets=300 ] = 0.553\n",
      " Average Recall     (AR) @[ IoU=0.50:0.95 | area=   all | maxDets=1000 ] = 0.553\n",
      " Average Recall     (AR) @[ IoU=0.50:0.95 | area= small | maxDets=1000 ] = 0.197\n",
      " Average Recall     (AR) @[ IoU=0.50:0.95 | area=medium | maxDets=1000 ] = 0.545\n",
      " Average Recall     (AR) @[ IoU=0.50:0.95 | area= large | maxDets=1000 ] = 0.552\n"
     ]
    },
    {
     "name": "stderr",
     "output_type": "stream",
     "text": [
      "2021-11-29 14:40:26,212 - mmdet - INFO - Epoch [14][100/4697]\tlr: 1.000e-02, eta: 15:22:26, time: 1.023, data_time: 0.033, memory: 8318, loss_rpn_cls: 0.0035, loss_rpn_bbox: 0.0054, loss_cls: 0.0747, acc: 97.0750, loss_bbox: 0.1023, loss: 0.1859\n",
      "2021-11-29 14:42:06,604 - mmdet - INFO - Epoch [14][200/4697]\tlr: 1.000e-02, eta: 15:20:50, time: 1.004, data_time: 0.012, memory: 8318, loss_rpn_cls: 0.0044, loss_rpn_bbox: 0.0056, loss_cls: 0.0743, acc: 97.0918, loss_bbox: 0.0974, loss: 0.1818\n",
      "2021-11-29 14:43:47,850 - mmdet - INFO - Epoch [14][300/4697]\tlr: 1.000e-02, eta: 15:19:14, time: 1.012, data_time: 0.013, memory: 8318, loss_rpn_cls: 0.0044, loss_rpn_bbox: 0.0055, loss_cls: 0.0766, acc: 97.0234, loss_bbox: 0.0990, loss: 0.1856\n",
      "2021-11-29 14:45:27,540 - mmdet - INFO - Epoch [14][400/4697]\tlr: 1.000e-02, eta: 15:17:37, time: 0.997, data_time: 0.013, memory: 8318, loss_rpn_cls: 0.0045, loss_rpn_bbox: 0.0061, loss_cls: 0.0770, acc: 97.0137, loss_bbox: 0.1037, loss: 0.1912\n",
      "2021-11-29 14:47:07,814 - mmdet - INFO - Epoch [14][500/4697]\tlr: 1.000e-02, eta: 15:16:00, time: 1.003, data_time: 0.013, memory: 8318, loss_rpn_cls: 0.0039, loss_rpn_bbox: 0.0055, loss_cls: 0.0745, acc: 97.0505, loss_bbox: 0.1015, loss: 0.1854\n",
      "2021-11-29 14:48:48,445 - mmdet - INFO - Epoch [14][600/4697]\tlr: 1.000e-02, eta: 15:14:24, time: 1.006, data_time: 0.013, memory: 8318, loss_rpn_cls: 0.0045, loss_rpn_bbox: 0.0057, loss_cls: 0.0785, acc: 96.8804, loss_bbox: 0.1065, loss: 0.1952\n",
      "2021-11-29 14:50:29,064 - mmdet - INFO - Epoch [14][700/4697]\tlr: 1.000e-02, eta: 15:12:47, time: 1.006, data_time: 0.013, memory: 8318, loss_rpn_cls: 0.0041, loss_rpn_bbox: 0.0057, loss_cls: 0.0786, acc: 96.9141, loss_bbox: 0.1075, loss: 0.1959\n",
      "2021-11-29 14:52:09,378 - mmdet - INFO - Epoch [14][800/4697]\tlr: 1.000e-02, eta: 15:11:11, time: 1.003, data_time: 0.012, memory: 8318, loss_rpn_cls: 0.0039, loss_rpn_bbox: 0.0056, loss_cls: 0.0778, acc: 96.9661, loss_bbox: 0.1026, loss: 0.1899\n",
      "2021-11-29 14:53:50,006 - mmdet - INFO - Epoch [14][900/4697]\tlr: 1.000e-02, eta: 15:09:34, time: 1.006, data_time: 0.013, memory: 8318, loss_rpn_cls: 0.0044, loss_rpn_bbox: 0.0056, loss_cls: 0.0818, acc: 96.8323, loss_bbox: 0.1051, loss: 0.1969\n",
      "2021-11-29 14:55:29,849 - mmdet - INFO - Epoch [14][1000/4697]\tlr: 1.000e-02, eta: 15:07:57, time: 0.998, data_time: 0.013, memory: 8318, loss_rpn_cls: 0.0041, loss_rpn_bbox: 0.0054, loss_cls: 0.0796, acc: 96.9390, loss_bbox: 0.1006, loss: 0.1896\n",
      "2021-11-29 14:57:09,417 - mmdet - INFO - Epoch [14][1100/4697]\tlr: 1.000e-02, eta: 15:06:20, time: 0.996, data_time: 0.013, memory: 8318, loss_rpn_cls: 0.0038, loss_rpn_bbox: 0.0054, loss_cls: 0.0754, acc: 97.0549, loss_bbox: 0.0988, loss: 0.1834\n",
      "2021-11-29 14:58:49,340 - mmdet - INFO - Epoch [14][1200/4697]\tlr: 1.000e-02, eta: 15:04:43, time: 0.999, data_time: 0.013, memory: 8318, loss_rpn_cls: 0.0049, loss_rpn_bbox: 0.0058, loss_cls: 0.0808, acc: 96.8704, loss_bbox: 0.1015, loss: 0.1929\n",
      "2021-11-29 15:00:29,145 - mmdet - INFO - Epoch [14][1300/4697]\tlr: 1.000e-02, eta: 15:03:06, time: 0.998, data_time: 0.013, memory: 8318, loss_rpn_cls: 0.0051, loss_rpn_bbox: 0.0057, loss_cls: 0.0796, acc: 96.9316, loss_bbox: 0.1013, loss: 0.1917\n",
      "2021-11-29 15:02:09,623 - mmdet - INFO - Epoch [14][1400/4697]\tlr: 1.000e-02, eta: 15:01:29, time: 1.005, data_time: 0.013, memory: 8318, loss_rpn_cls: 0.0042, loss_rpn_bbox: 0.0059, loss_cls: 0.0780, acc: 96.8879, loss_bbox: 0.1037, loss: 0.1918\n",
      "2021-11-29 15:03:50,078 - mmdet - INFO - Epoch [14][1500/4697]\tlr: 1.000e-02, eta: 14:59:53, time: 1.005, data_time: 0.013, memory: 8318, loss_rpn_cls: 0.0040, loss_rpn_bbox: 0.0054, loss_cls: 0.0779, acc: 96.9414, loss_bbox: 0.1038, loss: 0.1912\n",
      "2021-11-29 15:05:31,713 - mmdet - INFO - Epoch [14][1600/4697]\tlr: 1.000e-02, eta: 14:58:17, time: 1.016, data_time: 0.013, memory: 8318, loss_rpn_cls: 0.0041, loss_rpn_bbox: 0.0055, loss_cls: 0.0795, acc: 96.8979, loss_bbox: 0.1047, loss: 0.1938\n",
      "2021-11-29 15:07:11,849 - mmdet - INFO - Epoch [14][1700/4697]\tlr: 1.000e-02, eta: 14:56:40, time: 1.001, data_time: 0.013, memory: 8318, loss_rpn_cls: 0.0043, loss_rpn_bbox: 0.0057, loss_cls: 0.0822, acc: 96.8027, loss_bbox: 0.1064, loss: 0.1987\n",
      "2021-11-29 15:08:51,649 - mmdet - INFO - Epoch [14][1800/4697]\tlr: 1.000e-02, eta: 14:55:03, time: 0.998, data_time: 0.013, memory: 8318, loss_rpn_cls: 0.0049, loss_rpn_bbox: 0.0058, loss_cls: 0.0859, acc: 96.7307, loss_bbox: 0.1084, loss: 0.2050\n",
      "2021-11-29 15:10:31,637 - mmdet - INFO - Epoch [14][1900/4697]\tlr: 1.000e-02, eta: 14:53:26, time: 1.000, data_time: 0.013, memory: 8318, loss_rpn_cls: 0.0047, loss_rpn_bbox: 0.0056, loss_cls: 0.0787, acc: 96.9387, loss_bbox: 0.1038, loss: 0.1927\n",
      "2021-11-29 15:12:11,408 - mmdet - INFO - Epoch [14][2000/4697]\tlr: 1.000e-02, eta: 14:51:48, time: 0.998, data_time: 0.013, memory: 8318, loss_rpn_cls: 0.0046, loss_rpn_bbox: 0.0054, loss_cls: 0.0837, acc: 96.8071, loss_bbox: 0.1079, loss: 0.2016\n",
      "2021-11-29 15:13:51,294 - mmdet - INFO - Epoch [14][2100/4697]\tlr: 1.000e-02, eta: 14:50:11, time: 0.999, data_time: 0.013, memory: 8318, loss_rpn_cls: 0.0045, loss_rpn_bbox: 0.0057, loss_cls: 0.0773, acc: 96.9922, loss_bbox: 0.1020, loss: 0.1895\n",
      "2021-11-29 15:15:30,829 - mmdet - INFO - Epoch [14][2200/4697]\tlr: 1.000e-02, eta: 14:48:34, time: 0.995, data_time: 0.013, memory: 8318, loss_rpn_cls: 0.0045, loss_rpn_bbox: 0.0058, loss_cls: 0.0778, acc: 96.9526, loss_bbox: 0.1015, loss: 0.1896\n",
      "2021-11-29 15:17:10,566 - mmdet - INFO - Epoch [14][2300/4697]\tlr: 1.000e-02, eta: 14:46:56, time: 0.997, data_time: 0.013, memory: 8318, loss_rpn_cls: 0.0045, loss_rpn_bbox: 0.0054, loss_cls: 0.0760, acc: 97.0632, loss_bbox: 0.0960, loss: 0.1820\n",
      "2021-11-29 15:18:50,395 - mmdet - INFO - Epoch [14][2400/4697]\tlr: 1.000e-02, eta: 14:45:19, time: 0.998, data_time: 0.013, memory: 8318, loss_rpn_cls: 0.0040, loss_rpn_bbox: 0.0055, loss_cls: 0.0768, acc: 97.0129, loss_bbox: 0.1028, loss: 0.1891\n",
      "2021-11-29 15:20:30,083 - mmdet - INFO - Epoch [14][2500/4697]\tlr: 1.000e-02, eta: 14:43:42, time: 0.997, data_time: 0.013, memory: 8318, loss_rpn_cls: 0.0042, loss_rpn_bbox: 0.0056, loss_cls: 0.0768, acc: 97.0396, loss_bbox: 0.1008, loss: 0.1874\n",
      "2021-11-29 15:22:10,112 - mmdet - INFO - Epoch [14][2600/4697]\tlr: 1.000e-02, eta: 14:42:05, time: 1.000, data_time: 0.013, memory: 8318, loss_rpn_cls: 0.0047, loss_rpn_bbox: 0.0054, loss_cls: 0.0803, acc: 96.8838, loss_bbox: 0.1009, loss: 0.1913\n",
      "2021-11-29 15:23:49,903 - mmdet - INFO - Epoch [14][2700/4697]\tlr: 1.000e-02, eta: 14:40:27, time: 0.998, data_time: 0.013, memory: 8318, loss_rpn_cls: 0.0042, loss_rpn_bbox: 0.0054, loss_cls: 0.0763, acc: 97.0322, loss_bbox: 0.1008, loss: 0.1867\n",
      "2021-11-29 15:25:29,924 - mmdet - INFO - Epoch [14][2800/4697]\tlr: 1.000e-02, eta: 14:38:50, time: 1.000, data_time: 0.013, memory: 8318, loss_rpn_cls: 0.0039, loss_rpn_bbox: 0.0054, loss_cls: 0.0769, acc: 97.0203, loss_bbox: 0.1017, loss: 0.1879\n",
      "2021-11-29 15:27:09,975 - mmdet - INFO - Epoch [14][2900/4697]\tlr: 1.000e-02, eta: 14:37:13, time: 1.001, data_time: 0.013, memory: 8318, loss_rpn_cls: 0.0049, loss_rpn_bbox: 0.0055, loss_cls: 0.0771, acc: 97.0461, loss_bbox: 0.0986, loss: 0.1862\n",
      "2021-11-29 15:28:50,344 - mmdet - INFO - Epoch [14][3000/4697]\tlr: 1.000e-02, eta: 14:35:36, time: 1.004, data_time: 0.013, memory: 8318, loss_rpn_cls: 0.0054, loss_rpn_bbox: 0.0057, loss_cls: 0.0837, acc: 96.8225, loss_bbox: 0.1019, loss: 0.1967\n",
      "2021-11-29 15:30:30,792 - mmdet - INFO - Epoch [14][3100/4697]\tlr: 1.000e-02, eta: 14:34:00, time: 1.004, data_time: 0.013, memory: 8318, loss_rpn_cls: 0.0050, loss_rpn_bbox: 0.0057, loss_cls: 0.0826, acc: 96.9060, loss_bbox: 0.1039, loss: 0.1973\n",
      "2021-11-29 15:32:11,560 - mmdet - INFO - Epoch [14][3200/4697]\tlr: 1.000e-02, eta: 14:32:23, time: 1.008, data_time: 0.013, memory: 8318, loss_rpn_cls: 0.0041, loss_rpn_bbox: 0.0057, loss_cls: 0.0826, acc: 96.7844, loss_bbox: 0.1040, loss: 0.1964\n",
      "2021-11-29 15:33:51,966 - mmdet - INFO - Epoch [14][3300/4697]\tlr: 1.000e-02, eta: 14:30:46, time: 1.004, data_time: 0.013, memory: 8318, loss_rpn_cls: 0.0044, loss_rpn_bbox: 0.0054, loss_cls: 0.0805, acc: 96.8162, loss_bbox: 0.1043, loss: 0.1946\n",
      "2021-11-29 15:35:31,854 - mmdet - INFO - Epoch [14][3400/4697]\tlr: 1.000e-02, eta: 14:29:09, time: 0.999, data_time: 0.013, memory: 8318, loss_rpn_cls: 0.0046, loss_rpn_bbox: 0.0055, loss_cls: 0.0794, acc: 96.8936, loss_bbox: 0.1037, loss: 0.1933\n"
     ]
    },
    {
     "name": "stderr",
     "output_type": "stream",
     "text": [
      "2021-11-29 15:37:11,731 - mmdet - INFO - Epoch [14][3500/4697]\tlr: 1.000e-02, eta: 14:27:32, time: 0.999, data_time: 0.013, memory: 8318, loss_rpn_cls: 0.0046, loss_rpn_bbox: 0.0056, loss_cls: 0.0821, acc: 96.8289, loss_bbox: 0.1032, loss: 0.1956\n",
      "2021-11-29 15:38:52,987 - mmdet - INFO - Epoch [14][3600/4697]\tlr: 1.000e-02, eta: 14:25:55, time: 1.013, data_time: 0.013, memory: 8318, loss_rpn_cls: 0.0048, loss_rpn_bbox: 0.0056, loss_cls: 0.0798, acc: 96.9648, loss_bbox: 0.1000, loss: 0.1902\n",
      "2021-11-29 15:40:33,438 - mmdet - INFO - Epoch [14][3700/4697]\tlr: 1.000e-02, eta: 14:24:19, time: 1.005, data_time: 0.013, memory: 8318, loss_rpn_cls: 0.0045, loss_rpn_bbox: 0.0058, loss_cls: 0.0776, acc: 96.9998, loss_bbox: 0.1016, loss: 0.1895\n",
      "2021-11-29 15:42:14,611 - mmdet - INFO - Epoch [14][3800/4697]\tlr: 1.000e-02, eta: 14:22:42, time: 1.012, data_time: 0.013, memory: 8318, loss_rpn_cls: 0.0043, loss_rpn_bbox: 0.0055, loss_cls: 0.0791, acc: 96.9104, loss_bbox: 0.1010, loss: 0.1899\n",
      "2021-11-29 15:43:54,671 - mmdet - INFO - Epoch [14][3900/4697]\tlr: 1.000e-02, eta: 14:21:05, time: 1.001, data_time: 0.013, memory: 8318, loss_rpn_cls: 0.0047, loss_rpn_bbox: 0.0054, loss_cls: 0.0792, acc: 96.9834, loss_bbox: 0.1011, loss: 0.1903\n",
      "2021-11-29 15:45:34,566 - mmdet - INFO - Epoch [14][4000/4697]\tlr: 1.000e-02, eta: 14:19:28, time: 0.999, data_time: 0.013, memory: 8318, loss_rpn_cls: 0.0046, loss_rpn_bbox: 0.0056, loss_cls: 0.0842, acc: 96.7002, loss_bbox: 0.1042, loss: 0.1986\n",
      "2021-11-29 15:47:15,091 - mmdet - INFO - Epoch [14][4100/4697]\tlr: 1.000e-02, eta: 14:17:51, time: 1.005, data_time: 0.013, memory: 8318, loss_rpn_cls: 0.0048, loss_rpn_bbox: 0.0055, loss_cls: 0.0851, acc: 96.7837, loss_bbox: 0.1062, loss: 0.2016\n",
      "2021-11-29 15:48:55,283 - mmdet - INFO - Epoch [14][4200/4697]\tlr: 1.000e-02, eta: 14:16:14, time: 1.002, data_time: 0.013, memory: 8318, loss_rpn_cls: 0.0054, loss_rpn_bbox: 0.0054, loss_cls: 0.0836, acc: 96.8203, loss_bbox: 0.1051, loss: 0.1994\n",
      "2021-11-29 15:50:35,597 - mmdet - INFO - Epoch [14][4300/4697]\tlr: 1.000e-02, eta: 14:14:37, time: 1.003, data_time: 0.013, memory: 8318, loss_rpn_cls: 0.0049, loss_rpn_bbox: 0.0058, loss_cls: 0.0827, acc: 96.8262, loss_bbox: 0.1061, loss: 0.1995\n",
      "2021-11-29 15:52:15,461 - mmdet - INFO - Epoch [14][4400/4697]\tlr: 1.000e-02, eta: 14:12:59, time: 0.999, data_time: 0.013, memory: 8318, loss_rpn_cls: 0.0063, loss_rpn_bbox: 0.0061, loss_cls: 0.0827, acc: 96.8735, loss_bbox: 0.1087, loss: 0.2038\n",
      "2021-11-29 15:53:55,817 - mmdet - INFO - Epoch [14][4500/4697]\tlr: 1.000e-02, eta: 14:11:22, time: 1.004, data_time: 0.013, memory: 8318, loss_rpn_cls: 0.0041, loss_rpn_bbox: 0.0054, loss_cls: 0.0786, acc: 96.9089, loss_bbox: 0.1060, loss: 0.1940\n",
      "2021-11-29 15:55:35,826 - mmdet - INFO - Epoch [14][4600/4697]\tlr: 1.000e-02, eta: 14:09:45, time: 1.000, data_time: 0.013, memory: 8318, loss_rpn_cls: 0.0048, loss_rpn_bbox: 0.0055, loss_cls: 0.0811, acc: 96.8804, loss_bbox: 0.1013, loss: 0.1928\n",
      "2021-11-29 15:57:11,948 - mmdet - INFO - Saving checkpoint at 14 epochs\n"
     ]
    },
    {
     "name": "stdout",
     "output_type": "stream",
     "text": [
      "[>>>>>>>>>>>>>>>>>>>>>>>>] 12524/12524, 15.3 task/s, elapsed: 818s, ETA:     0s"
     ]
    },
    {
     "name": "stderr",
     "output_type": "stream",
     "text": [
      "2021-11-29 16:10:51,470 - mmdet - INFO - Evaluating bbox...\n"
     ]
    },
    {
     "name": "stdout",
     "output_type": "stream",
     "text": [
      "Loading and preparing results...\n",
      "DONE (t=0.24s)\n",
      "creating index...\n",
      "index created!\n",
      "Running per image evaluation...\n",
      "Evaluate annotation type *bbox*\n",
      "DONE (t=6.39s).\n",
      "Accumulating evaluation results...\n"
     ]
    },
    {
     "name": "stderr",
     "output_type": "stream",
     "text": [
      "2021-11-29 16:11:00,065 - mmdet - INFO - Epoch(val) [14][12524]\tbbox_mAP: 0.3930, bbox_mAP_50: 0.7330, bbox_mAP_75: 0.3790, bbox_mAP_s: 0.1250, bbox_mAP_m: 0.3850, bbox_mAP_l: 0.3760, bbox_mAP_copypaste: 0.393 0.733 0.379 0.125 0.385 0.376\n"
     ]
    },
    {
     "name": "stdout",
     "output_type": "stream",
     "text": [
      "DONE (t=1.65s).\n",
      " Average Precision  (AP) @[ IoU=0.50:0.95 | area=   all | maxDets=100 ] = 0.393\n",
      " Average Precision  (AP) @[ IoU=0.50      | area=   all | maxDets=1000 ] = 0.733\n",
      " Average Precision  (AP) @[ IoU=0.75      | area=   all | maxDets=1000 ] = 0.379\n",
      " Average Precision  (AP) @[ IoU=0.50:0.95 | area= small | maxDets=1000 ] = 0.125\n",
      " Average Precision  (AP) @[ IoU=0.50:0.95 | area=medium | maxDets=1000 ] = 0.385\n",
      " Average Precision  (AP) @[ IoU=0.50:0.95 | area= large | maxDets=1000 ] = 0.376\n",
      " Average Recall     (AR) @[ IoU=0.50:0.95 | area=   all | maxDets=100 ] = 0.539\n",
      " Average Recall     (AR) @[ IoU=0.50:0.95 | area=   all | maxDets=300 ] = 0.539\n",
      " Average Recall     (AR) @[ IoU=0.50:0.95 | area=   all | maxDets=1000 ] = 0.539\n",
      " Average Recall     (AR) @[ IoU=0.50:0.95 | area= small | maxDets=1000 ] = 0.243\n",
      " Average Recall     (AR) @[ IoU=0.50:0.95 | area=medium | maxDets=1000 ] = 0.536\n",
      " Average Recall     (AR) @[ IoU=0.50:0.95 | area= large | maxDets=1000 ] = 0.526\n"
     ]
    },
    {
     "name": "stderr",
     "output_type": "stream",
     "text": [
      "2021-11-29 16:12:42,808 - mmdet - INFO - Epoch [15][100/4697]\tlr: 1.000e-02, eta: 14:05:19, time: 1.025, data_time: 0.033, memory: 8318, loss_rpn_cls: 0.0042, loss_rpn_bbox: 0.0054, loss_cls: 0.0747, acc: 97.1221, loss_bbox: 0.0966, loss: 0.1808\n",
      "2021-11-29 16:14:22,188 - mmdet - INFO - Epoch [15][200/4697]\tlr: 1.000e-02, eta: 14:03:42, time: 0.994, data_time: 0.013, memory: 8318, loss_rpn_cls: 0.0049, loss_rpn_bbox: 0.0056, loss_cls: 0.0731, acc: 97.1499, loss_bbox: 0.0971, loss: 0.1807\n",
      "2021-11-29 16:16:02,059 - mmdet - INFO - Epoch [15][300/4697]\tlr: 1.000e-02, eta: 14:02:05, time: 0.999, data_time: 0.013, memory: 8318, loss_rpn_cls: 0.0039, loss_rpn_bbox: 0.0053, loss_cls: 0.0770, acc: 97.0369, loss_bbox: 0.1030, loss: 0.1891\n",
      "2021-11-29 16:17:42,120 - mmdet - INFO - Epoch [15][400/4697]\tlr: 1.000e-02, eta: 14:00:28, time: 1.001, data_time: 0.013, memory: 8318, loss_rpn_cls: 0.0040, loss_rpn_bbox: 0.0056, loss_cls: 0.0742, acc: 97.1213, loss_bbox: 0.0986, loss: 0.1823\n",
      "2021-11-29 16:19:22,099 - mmdet - INFO - Epoch [15][500/4697]\tlr: 1.000e-02, eta: 13:58:50, time: 1.000, data_time: 0.013, memory: 8318, loss_rpn_cls: 0.0044, loss_rpn_bbox: 0.0053, loss_cls: 0.0743, acc: 97.0662, loss_bbox: 0.0995, loss: 0.1835\n",
      "2021-11-29 16:21:01,927 - mmdet - INFO - Epoch [15][600/4697]\tlr: 1.000e-02, eta: 13:57:13, time: 0.998, data_time: 0.013, memory: 8318, loss_rpn_cls: 0.0046, loss_rpn_bbox: 0.0053, loss_cls: 0.0732, acc: 97.1243, loss_bbox: 0.0984, loss: 0.1814\n",
      "2021-11-29 16:22:41,785 - mmdet - INFO - Epoch [15][700/4697]\tlr: 1.000e-02, eta: 13:55:36, time: 0.999, data_time: 0.013, memory: 8318, loss_rpn_cls: 0.0043, loss_rpn_bbox: 0.0054, loss_cls: 0.0781, acc: 96.9829, loss_bbox: 0.1025, loss: 0.1904\n",
      "2021-11-29 16:24:22,097 - mmdet - INFO - Epoch [15][800/4697]\tlr: 1.000e-02, eta: 13:53:59, time: 1.003, data_time: 0.013, memory: 8318, loss_rpn_cls: 0.0044, loss_rpn_bbox: 0.0054, loss_cls: 0.0774, acc: 97.0322, loss_bbox: 0.1001, loss: 0.1872\n",
      "2021-11-29 16:26:02,207 - mmdet - INFO - Epoch [15][900/4697]\tlr: 1.000e-02, eta: 13:52:22, time: 1.001, data_time: 0.013, memory: 8318, loss_rpn_cls: 0.0037, loss_rpn_bbox: 0.0055, loss_cls: 0.0743, acc: 97.0352, loss_bbox: 0.1016, loss: 0.1851\n",
      "2021-11-29 16:27:42,151 - mmdet - INFO - Epoch [15][1000/4697]\tlr: 1.000e-02, eta: 13:50:45, time: 0.999, data_time: 0.013, memory: 8318, loss_rpn_cls: 0.0057, loss_rpn_bbox: 0.0061, loss_cls: 0.0796, acc: 96.9207, loss_bbox: 0.1005, loss: 0.1919\n",
      "2021-11-29 16:29:21,984 - mmdet - INFO - Epoch [15][1100/4697]\tlr: 1.000e-02, eta: 13:49:08, time: 0.998, data_time: 0.013, memory: 8318, loss_rpn_cls: 0.0040, loss_rpn_bbox: 0.0053, loss_cls: 0.0755, acc: 97.0505, loss_bbox: 0.0978, loss: 0.1826\n",
      "2021-11-29 16:31:02,301 - mmdet - INFO - Epoch [15][1200/4697]\tlr: 1.000e-02, eta: 13:47:31, time: 1.003, data_time: 0.013, memory: 8318, loss_rpn_cls: 0.0044, loss_rpn_bbox: 0.0054, loss_cls: 0.0791, acc: 96.9778, loss_bbox: 0.1015, loss: 0.1904\n",
      "2021-11-29 16:32:42,624 - mmdet - INFO - Epoch [15][1300/4697]\tlr: 1.000e-02, eta: 13:45:54, time: 1.003, data_time: 0.013, memory: 8318, loss_rpn_cls: 0.0040, loss_rpn_bbox: 0.0055, loss_cls: 0.0753, acc: 97.0669, loss_bbox: 0.0959, loss: 0.1808\n",
      "2021-11-29 16:34:24,189 - mmdet - INFO - Epoch [15][1400/4697]\tlr: 1.000e-02, eta: 13:44:18, time: 1.016, data_time: 0.013, memory: 8318, loss_rpn_cls: 0.0040, loss_rpn_bbox: 0.0055, loss_cls: 0.0755, acc: 97.0217, loss_bbox: 0.1030, loss: 0.1880\n",
      "2021-11-29 16:36:04,771 - mmdet - INFO - Epoch [15][1500/4697]\tlr: 1.000e-02, eta: 13:42:41, time: 1.006, data_time: 0.013, memory: 8318, loss_rpn_cls: 0.0045, loss_rpn_bbox: 0.0058, loss_cls: 0.0764, acc: 97.0347, loss_bbox: 0.0998, loss: 0.1865\n",
      "2021-11-29 16:37:45,133 - mmdet - INFO - Epoch [15][1600/4697]\tlr: 1.000e-02, eta: 13:41:04, time: 1.004, data_time: 0.013, memory: 8318, loss_rpn_cls: 0.0039, loss_rpn_bbox: 0.0056, loss_cls: 0.0749, acc: 97.0386, loss_bbox: 0.1004, loss: 0.1847\n",
      "2021-11-29 16:39:25,491 - mmdet - INFO - Epoch [15][1700/4697]\tlr: 1.000e-02, eta: 13:39:27, time: 1.004, data_time: 0.013, memory: 8318, loss_rpn_cls: 0.0046, loss_rpn_bbox: 0.0056, loss_cls: 0.0770, acc: 97.0269, loss_bbox: 0.0988, loss: 0.1860\n",
      "2021-11-29 16:41:05,565 - mmdet - INFO - Epoch [15][1800/4697]\tlr: 1.000e-02, eta: 13:37:50, time: 1.001, data_time: 0.013, memory: 8318, loss_rpn_cls: 0.0043, loss_rpn_bbox: 0.0052, loss_cls: 0.0728, acc: 97.1672, loss_bbox: 0.0969, loss: 0.1792\n",
      "2021-11-29 16:42:46,135 - mmdet - INFO - Epoch [15][1900/4697]\tlr: 1.000e-02, eta: 13:36:13, time: 1.006, data_time: 0.013, memory: 8318, loss_rpn_cls: 0.0040, loss_rpn_bbox: 0.0052, loss_cls: 0.0744, acc: 97.0725, loss_bbox: 0.0966, loss: 0.1802\n",
      "2021-11-29 16:44:26,325 - mmdet - INFO - Epoch [15][2000/4697]\tlr: 1.000e-02, eta: 13:34:36, time: 1.002, data_time: 0.013, memory: 8318, loss_rpn_cls: 0.0044, loss_rpn_bbox: 0.0054, loss_cls: 0.0735, acc: 97.1489, loss_bbox: 0.0979, loss: 0.1812\n",
      "2021-11-29 16:46:06,221 - mmdet - INFO - Epoch [15][2100/4697]\tlr: 1.000e-02, eta: 13:32:59, time: 0.999, data_time: 0.013, memory: 8318, loss_rpn_cls: 0.0048, loss_rpn_bbox: 0.0056, loss_cls: 0.0769, acc: 97.0532, loss_bbox: 0.0993, loss: 0.1866\n",
      "2021-11-29 16:47:45,956 - mmdet - INFO - Epoch [15][2200/4697]\tlr: 1.000e-02, eta: 13:31:21, time: 0.997, data_time: 0.013, memory: 8318, loss_rpn_cls: 0.0039, loss_rpn_bbox: 0.0055, loss_cls: 0.0729, acc: 97.1309, loss_bbox: 0.0985, loss: 0.1808\n",
      "2021-11-29 16:49:25,871 - mmdet - INFO - Epoch [15][2300/4697]\tlr: 1.000e-02, eta: 13:29:44, time: 0.999, data_time: 0.013, memory: 8318, loss_rpn_cls: 0.0042, loss_rpn_bbox: 0.0055, loss_cls: 0.0780, acc: 96.9724, loss_bbox: 0.1015, loss: 0.1892\n",
      "2021-11-29 16:51:06,417 - mmdet - INFO - Epoch [15][2400/4697]\tlr: 1.000e-02, eta: 13:28:07, time: 1.005, data_time: 0.013, memory: 8318, loss_rpn_cls: 0.0042, loss_rpn_bbox: 0.0056, loss_cls: 0.0781, acc: 96.8774, loss_bbox: 0.1021, loss: 0.1900\n",
      "2021-11-29 16:52:46,797 - mmdet - INFO - Epoch [15][2500/4697]\tlr: 1.000e-02, eta: 13:26:30, time: 1.004, data_time: 0.013, memory: 8318, loss_rpn_cls: 0.0045, loss_rpn_bbox: 0.0056, loss_cls: 0.0803, acc: 96.8743, loss_bbox: 0.1015, loss: 0.1919\n",
      "2021-11-29 16:54:27,121 - mmdet - INFO - Epoch [15][2600/4697]\tlr: 1.000e-02, eta: 13:24:53, time: 1.003, data_time: 0.013, memory: 8318, loss_rpn_cls: 0.0043, loss_rpn_bbox: 0.0054, loss_cls: 0.0806, acc: 96.8130, loss_bbox: 0.1049, loss: 0.1952\n",
      "2021-11-29 16:56:07,141 - mmdet - INFO - Epoch [15][2700/4697]\tlr: 1.000e-02, eta: 13:23:16, time: 1.000, data_time: 0.013, memory: 8318, loss_rpn_cls: 0.0045, loss_rpn_bbox: 0.0055, loss_cls: 0.0755, acc: 97.1113, loss_bbox: 0.0999, loss: 0.1854\n",
      "2021-11-29 16:57:47,427 - mmdet - INFO - Epoch [15][2800/4697]\tlr: 1.000e-02, eta: 13:21:39, time: 1.003, data_time: 0.013, memory: 8318, loss_rpn_cls: 0.0044, loss_rpn_bbox: 0.0054, loss_cls: 0.0733, acc: 97.1914, loss_bbox: 0.0995, loss: 0.1826\n",
      "2021-11-29 16:59:27,657 - mmdet - INFO - Epoch [15][2900/4697]\tlr: 1.000e-02, eta: 13:20:01, time: 1.002, data_time: 0.013, memory: 8318, loss_rpn_cls: 0.0047, loss_rpn_bbox: 0.0055, loss_cls: 0.0796, acc: 96.8972, loss_bbox: 0.1023, loss: 0.1921\n",
      "2021-11-29 17:01:08,385 - mmdet - INFO - Epoch [15][3000/4697]\tlr: 1.000e-02, eta: 13:18:25, time: 1.007, data_time: 0.013, memory: 8318, loss_rpn_cls: 0.0048, loss_rpn_bbox: 0.0054, loss_cls: 0.0793, acc: 96.9719, loss_bbox: 0.1006, loss: 0.1901\n",
      "2021-11-29 17:02:48,640 - mmdet - INFO - Epoch [15][3100/4697]\tlr: 1.000e-02, eta: 13:16:48, time: 1.003, data_time: 0.013, memory: 8318, loss_rpn_cls: 0.0042, loss_rpn_bbox: 0.0055, loss_cls: 0.0783, acc: 96.9778, loss_bbox: 0.1025, loss: 0.1906\n",
      "2021-11-29 17:04:28,899 - mmdet - INFO - Epoch [15][3200/4697]\tlr: 1.000e-02, eta: 13:15:10, time: 1.003, data_time: 0.013, memory: 8318, loss_rpn_cls: 0.0047, loss_rpn_bbox: 0.0055, loss_cls: 0.0771, acc: 97.0171, loss_bbox: 0.1013, loss: 0.1887\n",
      "2021-11-29 17:06:08,925 - mmdet - INFO - Epoch [15][3300/4697]\tlr: 1.000e-02, eta: 13:13:33, time: 1.000, data_time: 0.013, memory: 8318, loss_rpn_cls: 0.0046, loss_rpn_bbox: 0.0059, loss_cls: 0.0855, acc: 96.7124, loss_bbox: 0.1084, loss: 0.2044\n",
      "2021-11-29 17:07:49,467 - mmdet - INFO - Epoch [15][3400/4697]\tlr: 1.000e-02, eta: 13:11:56, time: 1.005, data_time: 0.013, memory: 8318, loss_rpn_cls: 0.0049, loss_rpn_bbox: 0.0058, loss_cls: 0.0819, acc: 96.7859, loss_bbox: 0.1048, loss: 0.1974\n"
     ]
    },
    {
     "name": "stderr",
     "output_type": "stream",
     "text": [
      "2021-11-29 17:09:29,783 - mmdet - INFO - Epoch [15][3500/4697]\tlr: 1.000e-02, eta: 13:10:19, time: 1.003, data_time: 0.013, memory: 8318, loss_rpn_cls: 0.0051, loss_rpn_bbox: 0.0056, loss_cls: 0.0819, acc: 96.8325, loss_bbox: 0.1006, loss: 0.1932\n",
      "2021-11-29 17:11:10,627 - mmdet - INFO - Epoch [15][3600/4697]\tlr: 1.000e-02, eta: 13:08:42, time: 1.008, data_time: 0.013, memory: 8318, loss_rpn_cls: 0.0041, loss_rpn_bbox: 0.0056, loss_cls: 0.0805, acc: 96.8684, loss_bbox: 0.1066, loss: 0.1969\n",
      "2021-11-29 17:12:51,639 - mmdet - INFO - Epoch [15][3700/4697]\tlr: 1.000e-02, eta: 13:07:05, time: 1.010, data_time: 0.013, memory: 8318, loss_rpn_cls: 0.0051, loss_rpn_bbox: 0.0059, loss_cls: 0.0801, acc: 96.8665, loss_bbox: 0.1027, loss: 0.1938\n",
      "2021-11-29 17:14:33,004 - mmdet - INFO - Epoch [15][3800/4697]\tlr: 1.000e-02, eta: 13:05:29, time: 1.014, data_time: 0.013, memory: 8318, loss_rpn_cls: 0.0043, loss_rpn_bbox: 0.0059, loss_cls: 0.0821, acc: 96.8057, loss_bbox: 0.1060, loss: 0.1983\n",
      "2021-11-29 17:16:13,622 - mmdet - INFO - Epoch [15][3900/4697]\tlr: 1.000e-02, eta: 13:03:52, time: 1.006, data_time: 0.013, memory: 8318, loss_rpn_cls: 0.0046, loss_rpn_bbox: 0.0056, loss_cls: 0.0829, acc: 96.8442, loss_bbox: 0.1062, loss: 0.1994\n",
      "2021-11-29 17:17:54,219 - mmdet - INFO - Epoch [15][4000/4697]\tlr: 1.000e-02, eta: 13:02:15, time: 1.006, data_time: 0.013, memory: 8318, loss_rpn_cls: 0.0048, loss_rpn_bbox: 0.0057, loss_cls: 0.0820, acc: 96.8674, loss_bbox: 0.1036, loss: 0.1961\n",
      "2021-11-29 17:19:34,413 - mmdet - INFO - Epoch [15][4100/4697]\tlr: 1.000e-02, eta: 13:00:38, time: 1.002, data_time: 0.013, memory: 8318, loss_rpn_cls: 0.0053, loss_rpn_bbox: 0.0058, loss_cls: 0.0821, acc: 96.8528, loss_bbox: 0.1033, loss: 0.1965\n",
      "2021-11-29 17:21:15,810 - mmdet - INFO - Epoch [15][4200/4697]\tlr: 1.000e-02, eta: 12:59:01, time: 1.014, data_time: 0.013, memory: 8318, loss_rpn_cls: 0.0046, loss_rpn_bbox: 0.0055, loss_cls: 0.0776, acc: 96.9895, loss_bbox: 0.1016, loss: 0.1893\n",
      "2021-11-29 17:22:57,027 - mmdet - INFO - Epoch [15][4300/4697]\tlr: 1.000e-02, eta: 12:57:25, time: 1.012, data_time: 0.013, memory: 8318, loss_rpn_cls: 0.0046, loss_rpn_bbox: 0.0056, loss_cls: 0.0809, acc: 96.8584, loss_bbox: 0.1048, loss: 0.1959\n",
      "2021-11-29 17:24:37,271 - mmdet - INFO - Epoch [15][4400/4697]\tlr: 1.000e-02, eta: 12:55:47, time: 1.002, data_time: 0.014, memory: 8318, loss_rpn_cls: 0.0047, loss_rpn_bbox: 0.0055, loss_cls: 0.0791, acc: 96.9675, loss_bbox: 0.1019, loss: 0.1912\n",
      "2021-11-29 17:26:17,335 - mmdet - INFO - Epoch [15][4500/4697]\tlr: 1.000e-02, eta: 12:54:10, time: 1.001, data_time: 0.013, memory: 8318, loss_rpn_cls: 0.0054, loss_rpn_bbox: 0.0058, loss_cls: 0.0769, acc: 97.0518, loss_bbox: 0.1011, loss: 0.1891\n",
      "2021-11-29 17:27:56,791 - mmdet - INFO - Epoch [15][4600/4697]\tlr: 1.000e-02, eta: 12:52:32, time: 0.995, data_time: 0.013, memory: 8318, loss_rpn_cls: 0.0053, loss_rpn_bbox: 0.0055, loss_cls: 0.0760, acc: 97.1003, loss_bbox: 0.0962, loss: 0.1830\n",
      "2021-11-29 17:29:33,586 - mmdet - INFO - Saving checkpoint at 15 epochs\n"
     ]
    },
    {
     "name": "stdout",
     "output_type": "stream",
     "text": [
      "[>>>>>>>>>>>>>>>>>>>>>>>>] 12524/12524, 16.5 task/s, elapsed: 761s, ETA:     0s"
     ]
    },
    {
     "name": "stderr",
     "output_type": "stream",
     "text": [
      "2021-11-29 17:42:15,402 - mmdet - INFO - Evaluating bbox...\n"
     ]
    },
    {
     "name": "stdout",
     "output_type": "stream",
     "text": [
      "Loading and preparing results...\n",
      "DONE (t=0.21s)\n",
      "creating index...\n",
      "index created!\n",
      "Running per image evaluation...\n",
      "Evaluate annotation type *bbox*\n",
      "DONE (t=5.98s).\n",
      "Accumulating evaluation results...\n"
     ]
    },
    {
     "name": "stderr",
     "output_type": "stream",
     "text": [
      "2021-11-29 17:42:23,407 - mmdet - INFO - Epoch(val) [15][12524]\tbbox_mAP: 0.3930, bbox_mAP_50: 0.7360, bbox_mAP_75: 0.3860, bbox_mAP_s: 0.1410, bbox_mAP_m: 0.3770, bbox_mAP_l: 0.3810, bbox_mAP_copypaste: 0.393 0.736 0.386 0.141 0.377 0.381\n"
     ]
    },
    {
     "name": "stdout",
     "output_type": "stream",
     "text": [
      "DONE (t=1.51s).\n",
      " Average Precision  (AP) @[ IoU=0.50:0.95 | area=   all | maxDets=100 ] = 0.393\n",
      " Average Precision  (AP) @[ IoU=0.50      | area=   all | maxDets=1000 ] = 0.736\n",
      " Average Precision  (AP) @[ IoU=0.75      | area=   all | maxDets=1000 ] = 0.386\n",
      " Average Precision  (AP) @[ IoU=0.50:0.95 | area= small | maxDets=1000 ] = 0.141\n",
      " Average Precision  (AP) @[ IoU=0.50:0.95 | area=medium | maxDets=1000 ] = 0.377\n",
      " Average Precision  (AP) @[ IoU=0.50:0.95 | area= large | maxDets=1000 ] = 0.381\n",
      " Average Recall     (AR) @[ IoU=0.50:0.95 | area=   all | maxDets=100 ] = 0.533\n",
      " Average Recall     (AR) @[ IoU=0.50:0.95 | area=   all | maxDets=300 ] = 0.533\n",
      " Average Recall     (AR) @[ IoU=0.50:0.95 | area=   all | maxDets=1000 ] = 0.533\n",
      " Average Recall     (AR) @[ IoU=0.50:0.95 | area= small | maxDets=1000 ] = 0.210\n",
      " Average Recall     (AR) @[ IoU=0.50:0.95 | area=medium | maxDets=1000 ] = 0.529\n",
      " Average Recall     (AR) @[ IoU=0.50:0.95 | area= large | maxDets=1000 ] = 0.522\n"
     ]
    },
    {
     "name": "stderr",
     "output_type": "stream",
     "text": [
      "2021-11-29 17:44:05,231 - mmdet - INFO - Epoch [16][100/4697]\tlr: 1.000e-02, eta: 12:48:17, time: 1.016, data_time: 0.033, memory: 8318, loss_rpn_cls: 0.0041, loss_rpn_bbox: 0.0056, loss_cls: 0.0743, acc: 97.0742, loss_bbox: 0.0995, loss: 0.1835\n",
      "2021-11-29 17:45:44,478 - mmdet - INFO - Epoch [16][200/4697]\tlr: 1.000e-02, eta: 12:46:39, time: 0.992, data_time: 0.012, memory: 8318, loss_rpn_cls: 0.0036, loss_rpn_bbox: 0.0058, loss_cls: 0.0742, acc: 97.0828, loss_bbox: 0.0993, loss: 0.1830\n",
      "2021-11-29 17:47:23,992 - mmdet - INFO - Epoch [16][300/4697]\tlr: 1.000e-02, eta: 12:45:01, time: 0.995, data_time: 0.013, memory: 8318, loss_rpn_cls: 0.0044, loss_rpn_bbox: 0.0055, loss_cls: 0.0765, acc: 96.9854, loss_bbox: 0.0999, loss: 0.1863\n",
      "2021-11-29 17:49:03,790 - mmdet - INFO - Epoch [16][400/4697]\tlr: 1.000e-02, eta: 12:43:24, time: 0.998, data_time: 0.013, memory: 8318, loss_rpn_cls: 0.0047, loss_rpn_bbox: 0.0056, loss_cls: 0.0800, acc: 96.9497, loss_bbox: 0.1032, loss: 0.1935\n",
      "2021-11-29 17:50:44,084 - mmdet - INFO - Epoch [16][500/4697]\tlr: 1.000e-02, eta: 12:41:47, time: 1.003, data_time: 0.013, memory: 8318, loss_rpn_cls: 0.0040, loss_rpn_bbox: 0.0054, loss_cls: 0.0758, acc: 97.0288, loss_bbox: 0.0988, loss: 0.1840\n",
      "2021-11-29 17:52:24,160 - mmdet - INFO - Epoch [16][600/4697]\tlr: 1.000e-02, eta: 12:40:10, time: 1.001, data_time: 0.013, memory: 8318, loss_rpn_cls: 0.0038, loss_rpn_bbox: 0.0052, loss_cls: 0.0748, acc: 97.0508, loss_bbox: 0.1007, loss: 0.1845\n",
      "2021-11-29 17:54:03,910 - mmdet - INFO - Epoch [16][700/4697]\tlr: 1.000e-02, eta: 12:38:32, time: 0.997, data_time: 0.013, memory: 8318, loss_rpn_cls: 0.0040, loss_rpn_bbox: 0.0056, loss_cls: 0.0751, acc: 97.0579, loss_bbox: 0.0985, loss: 0.1832\n",
      "2021-11-29 17:55:43,689 - mmdet - INFO - Epoch [16][800/4697]\tlr: 1.000e-02, eta: 12:36:55, time: 0.998, data_time: 0.013, memory: 8318, loss_rpn_cls: 0.0044, loss_rpn_bbox: 0.0055, loss_cls: 0.0754, acc: 97.1133, loss_bbox: 0.1013, loss: 0.1866\n",
      "2021-11-29 17:57:23,195 - mmdet - INFO - Epoch [16][900/4697]\tlr: 1.000e-02, eta: 12:35:17, time: 0.995, data_time: 0.013, memory: 8318, loss_rpn_cls: 0.0038, loss_rpn_bbox: 0.0056, loss_cls: 0.0750, acc: 97.0205, loss_bbox: 0.1030, loss: 0.1875\n",
      "2021-11-29 17:59:03,180 - mmdet - INFO - Epoch [16][1000/4697]\tlr: 1.000e-02, eta: 12:33:40, time: 1.000, data_time: 0.013, memory: 8318, loss_rpn_cls: 0.0043, loss_rpn_bbox: 0.0055, loss_cls: 0.0783, acc: 96.9534, loss_bbox: 0.1031, loss: 0.1912\n",
      "2021-11-29 18:00:43,050 - mmdet - INFO - Epoch [16][1100/4697]\tlr: 1.000e-02, eta: 12:32:02, time: 0.999, data_time: 0.013, memory: 8318, loss_rpn_cls: 0.0041, loss_rpn_bbox: 0.0054, loss_cls: 0.0767, acc: 96.9775, loss_bbox: 0.1000, loss: 0.1862\n",
      "2021-11-29 18:02:23,131 - mmdet - INFO - Epoch [16][1200/4697]\tlr: 1.000e-02, eta: 12:30:25, time: 1.001, data_time: 0.013, memory: 8318, loss_rpn_cls: 0.0041, loss_rpn_bbox: 0.0051, loss_cls: 0.0745, acc: 97.1289, loss_bbox: 0.0984, loss: 0.1821\n",
      "2021-11-29 18:04:02,833 - mmdet - INFO - Epoch [16][1300/4697]\tlr: 1.000e-02, eta: 12:28:48, time: 0.997, data_time: 0.013, memory: 8318, loss_rpn_cls: 0.0042, loss_rpn_bbox: 0.0057, loss_cls: 0.0776, acc: 96.9810, loss_bbox: 0.1025, loss: 0.1899\n",
      "2021-11-29 18:05:42,522 - mmdet - INFO - Epoch [16][1400/4697]\tlr: 1.000e-02, eta: 12:27:10, time: 0.997, data_time: 0.013, memory: 8318, loss_rpn_cls: 0.0050, loss_rpn_bbox: 0.0055, loss_cls: 0.0751, acc: 97.0938, loss_bbox: 0.0995, loss: 0.1852\n",
      "2021-11-29 18:07:21,809 - mmdet - INFO - Epoch [16][1500/4697]\tlr: 1.000e-02, eta: 12:25:32, time: 0.993, data_time: 0.013, memory: 8318, loss_rpn_cls: 0.0043, loss_rpn_bbox: 0.0054, loss_cls: 0.0775, acc: 96.9839, loss_bbox: 0.1012, loss: 0.1884\n",
      "2021-11-29 18:09:01,069 - mmdet - INFO - Epoch [16][1600/4697]\tlr: 1.000e-02, eta: 12:23:54, time: 0.993, data_time: 0.013, memory: 8318, loss_rpn_cls: 0.0042, loss_rpn_bbox: 0.0054, loss_cls: 0.0756, acc: 97.0654, loss_bbox: 0.0992, loss: 0.1844\n",
      "2021-11-29 18:10:40,631 - mmdet - INFO - Epoch [16][1700/4697]\tlr: 1.000e-02, eta: 12:22:17, time: 0.996, data_time: 0.013, memory: 8318, loss_rpn_cls: 0.0040, loss_rpn_bbox: 0.0051, loss_cls: 0.0727, acc: 97.1216, loss_bbox: 0.0998, loss: 0.1816\n",
      "2021-11-29 18:12:20,713 - mmdet - INFO - Epoch [16][1800/4697]\tlr: 1.000e-02, eta: 12:20:39, time: 1.001, data_time: 0.013, memory: 8318, loss_rpn_cls: 0.0047, loss_rpn_bbox: 0.0055, loss_cls: 0.0729, acc: 97.1448, loss_bbox: 0.0961, loss: 0.1791\n",
      "2021-11-29 18:14:00,877 - mmdet - INFO - Epoch [16][1900/4697]\tlr: 1.000e-02, eta: 12:19:02, time: 1.002, data_time: 0.013, memory: 8318, loss_rpn_cls: 0.0041, loss_rpn_bbox: 0.0054, loss_cls: 0.0752, acc: 97.0737, loss_bbox: 0.1005, loss: 0.1852\n",
      "2021-11-29 18:15:40,836 - mmdet - INFO - Epoch [16][2000/4697]\tlr: 1.000e-02, eta: 12:17:25, time: 1.000, data_time: 0.013, memory: 8318, loss_rpn_cls: 0.0039, loss_rpn_bbox: 0.0055, loss_cls: 0.0729, acc: 97.1121, loss_bbox: 0.1006, loss: 0.1828\n",
      "2021-11-29 18:17:20,600 - mmdet - INFO - Epoch [16][2100/4697]\tlr: 1.000e-02, eta: 12:15:47, time: 0.998, data_time: 0.013, memory: 8318, loss_rpn_cls: 0.0038, loss_rpn_bbox: 0.0054, loss_cls: 0.0732, acc: 97.1987, loss_bbox: 0.0952, loss: 0.1774\n",
      "2021-11-29 18:19:00,040 - mmdet - INFO - Epoch [16][2200/4697]\tlr: 1.000e-02, eta: 12:14:09, time: 0.994, data_time: 0.013, memory: 8318, loss_rpn_cls: 0.0048, loss_rpn_bbox: 0.0056, loss_cls: 0.0777, acc: 96.8792, loss_bbox: 0.1051, loss: 0.1932\n",
      "2021-11-29 18:20:39,275 - mmdet - INFO - Epoch [16][2300/4697]\tlr: 1.000e-02, eta: 12:12:32, time: 0.992, data_time: 0.013, memory: 8318, loss_rpn_cls: 0.0047, loss_rpn_bbox: 0.0054, loss_cls: 0.0741, acc: 97.1006, loss_bbox: 0.0988, loss: 0.1830\n",
      "2021-11-29 18:22:18,797 - mmdet - INFO - Epoch [16][2400/4697]\tlr: 1.000e-02, eta: 12:10:54, time: 0.995, data_time: 0.013, memory: 8318, loss_rpn_cls: 0.0044, loss_rpn_bbox: 0.0053, loss_cls: 0.0745, acc: 97.0471, loss_bbox: 0.1012, loss: 0.1853\n",
      "2021-11-29 18:23:58,563 - mmdet - INFO - Epoch [16][2500/4697]\tlr: 1.000e-02, eta: 12:09:16, time: 0.998, data_time: 0.013, memory: 8318, loss_rpn_cls: 0.0037, loss_rpn_bbox: 0.0055, loss_cls: 0.0775, acc: 96.9280, loss_bbox: 0.1066, loss: 0.1934\n",
      "2021-11-29 18:25:38,559 - mmdet - INFO - Epoch [16][2600/4697]\tlr: 1.000e-02, eta: 12:07:39, time: 1.000, data_time: 0.013, memory: 8318, loss_rpn_cls: 0.0046, loss_rpn_bbox: 0.0055, loss_cls: 0.0788, acc: 96.9021, loss_bbox: 0.1047, loss: 0.1936\n",
      "2021-11-29 18:27:18,230 - mmdet - INFO - Epoch [16][2700/4697]\tlr: 1.000e-02, eta: 12:06:01, time: 0.997, data_time: 0.013, memory: 8318, loss_rpn_cls: 0.0043, loss_rpn_bbox: 0.0053, loss_cls: 0.0776, acc: 97.0449, loss_bbox: 0.0991, loss: 0.1864\n",
      "2021-11-29 18:28:58,040 - mmdet - INFO - Epoch [16][2800/4697]\tlr: 1.000e-02, eta: 12:04:24, time: 0.998, data_time: 0.013, memory: 8318, loss_rpn_cls: 0.0047, loss_rpn_bbox: 0.0054, loss_cls: 0.0759, acc: 97.0664, loss_bbox: 0.1017, loss: 0.1877\n",
      "2021-11-29 18:30:37,948 - mmdet - INFO - Epoch [16][2900/4697]\tlr: 1.000e-02, eta: 12:02:46, time: 0.999, data_time: 0.013, memory: 8318, loss_rpn_cls: 0.0043, loss_rpn_bbox: 0.0055, loss_cls: 0.0754, acc: 97.1113, loss_bbox: 0.0978, loss: 0.1830\n",
      "2021-11-29 18:32:17,834 - mmdet - INFO - Epoch [16][3000/4697]\tlr: 1.000e-02, eta: 12:01:09, time: 0.999, data_time: 0.013, memory: 8318, loss_rpn_cls: 0.0045, loss_rpn_bbox: 0.0056, loss_cls: 0.0757, acc: 97.0078, loss_bbox: 0.1006, loss: 0.1865\n",
      "2021-11-29 18:33:57,419 - mmdet - INFO - Epoch [16][3100/4697]\tlr: 1.000e-02, eta: 11:59:31, time: 0.996, data_time: 0.013, memory: 8318, loss_rpn_cls: 0.0048, loss_rpn_bbox: 0.0054, loss_cls: 0.0763, acc: 97.0850, loss_bbox: 0.0995, loss: 0.1859\n",
      "2021-11-29 18:35:37,047 - mmdet - INFO - Epoch [16][3200/4697]\tlr: 1.000e-02, eta: 11:57:53, time: 0.996, data_time: 0.013, memory: 8318, loss_rpn_cls: 0.0045, loss_rpn_bbox: 0.0057, loss_cls: 0.0777, acc: 96.9966, loss_bbox: 0.0997, loss: 0.1876\n",
      "2021-11-29 18:37:16,079 - mmdet - INFO - Epoch [16][3300/4697]\tlr: 1.000e-02, eta: 11:56:15, time: 0.990, data_time: 0.013, memory: 8318, loss_rpn_cls: 0.0040, loss_rpn_bbox: 0.0054, loss_cls: 0.0790, acc: 96.9282, loss_bbox: 0.1002, loss: 0.1886\n",
      "2021-11-29 18:38:55,711 - mmdet - INFO - Epoch [16][3400/4697]\tlr: 1.000e-02, eta: 11:54:38, time: 0.996, data_time: 0.013, memory: 8318, loss_rpn_cls: 0.0049, loss_rpn_bbox: 0.0057, loss_cls: 0.0792, acc: 97.0308, loss_bbox: 0.0996, loss: 0.1893\n"
     ]
    },
    {
     "name": "stderr",
     "output_type": "stream",
     "text": [
      "2021-11-29 18:40:35,373 - mmdet - INFO - Epoch [16][3500/4697]\tlr: 1.000e-02, eta: 11:53:00, time: 0.997, data_time: 0.013, memory: 8318, loss_rpn_cls: 0.0038, loss_rpn_bbox: 0.0054, loss_cls: 0.0740, acc: 97.1111, loss_bbox: 0.0993, loss: 0.1825\n",
      "2021-11-29 18:42:15,118 - mmdet - INFO - Epoch [16][3600/4697]\tlr: 1.000e-02, eta: 11:51:22, time: 0.997, data_time: 0.013, memory: 8318, loss_rpn_cls: 0.0042, loss_rpn_bbox: 0.0058, loss_cls: 0.0786, acc: 96.9565, loss_bbox: 0.1026, loss: 0.1912\n",
      "2021-11-29 18:43:55,742 - mmdet - INFO - Epoch [16][3700/4697]\tlr: 1.000e-02, eta: 11:49:45, time: 1.006, data_time: 0.013, memory: 8318, loss_rpn_cls: 0.0044, loss_rpn_bbox: 0.0054, loss_cls: 0.0744, acc: 97.1189, loss_bbox: 0.1000, loss: 0.1842\n",
      "2021-11-29 18:45:35,746 - mmdet - INFO - Epoch [16][3800/4697]\tlr: 1.000e-02, eta: 11:48:08, time: 1.000, data_time: 0.013, memory: 8318, loss_rpn_cls: 0.0044, loss_rpn_bbox: 0.0055, loss_cls: 0.0780, acc: 96.8918, loss_bbox: 0.1030, loss: 0.1909\n",
      "2021-11-29 18:47:15,203 - mmdet - INFO - Epoch [16][3900/4697]\tlr: 1.000e-02, eta: 11:46:30, time: 0.995, data_time: 0.013, memory: 8318, loss_rpn_cls: 0.0046, loss_rpn_bbox: 0.0053, loss_cls: 0.0769, acc: 97.0396, loss_bbox: 0.0990, loss: 0.1857\n",
      "2021-11-29 18:48:54,700 - mmdet - INFO - Epoch [16][4000/4697]\tlr: 1.000e-02, eta: 11:44:52, time: 0.995, data_time: 0.013, memory: 8318, loss_rpn_cls: 0.0041, loss_rpn_bbox: 0.0056, loss_cls: 0.0762, acc: 96.9807, loss_bbox: 0.1018, loss: 0.1876\n",
      "2021-11-29 18:50:34,209 - mmdet - INFO - Epoch [16][4100/4697]\tlr: 1.000e-02, eta: 11:43:14, time: 0.995, data_time: 0.013, memory: 8318, loss_rpn_cls: 0.0042, loss_rpn_bbox: 0.0059, loss_cls: 0.0841, acc: 96.8074, loss_bbox: 0.1065, loss: 0.2007\n",
      "2021-11-29 18:52:13,896 - mmdet - INFO - Epoch [16][4200/4697]\tlr: 1.000e-02, eta: 11:41:37, time: 0.997, data_time: 0.013, memory: 8318, loss_rpn_cls: 0.0045, loss_rpn_bbox: 0.0054, loss_cls: 0.0764, acc: 97.0024, loss_bbox: 0.1007, loss: 0.1870\n",
      "2021-11-29 18:53:54,158 - mmdet - INFO - Epoch [16][4300/4697]\tlr: 1.000e-02, eta: 11:39:59, time: 1.003, data_time: 0.013, memory: 8318, loss_rpn_cls: 0.0044, loss_rpn_bbox: 0.0056, loss_cls: 0.0785, acc: 96.9375, loss_bbox: 0.1043, loss: 0.1928\n",
      "2021-11-29 18:55:34,187 - mmdet - INFO - Epoch [16][4400/4697]\tlr: 1.000e-02, eta: 11:38:22, time: 1.000, data_time: 0.013, memory: 8318, loss_rpn_cls: 0.0053, loss_rpn_bbox: 0.0055, loss_cls: 0.0785, acc: 96.9500, loss_bbox: 0.0996, loss: 0.1890\n",
      "2021-11-29 18:57:14,386 - mmdet - INFO - Epoch [16][4500/4697]\tlr: 1.000e-02, eta: 11:36:44, time: 1.002, data_time: 0.013, memory: 8318, loss_rpn_cls: 0.0042, loss_rpn_bbox: 0.0056, loss_cls: 0.0863, acc: 96.6494, loss_bbox: 0.1101, loss: 0.2063\n",
      "2021-11-29 18:58:54,633 - mmdet - INFO - Epoch [16][4600/4697]\tlr: 1.000e-02, eta: 11:35:07, time: 1.002, data_time: 0.013, memory: 8318, loss_rpn_cls: 0.0043, loss_rpn_bbox: 0.0056, loss_cls: 0.0814, acc: 96.8616, loss_bbox: 0.1056, loss: 0.1969\n",
      "2021-11-29 19:00:31,113 - mmdet - INFO - Saving checkpoint at 16 epochs\n"
     ]
    },
    {
     "name": "stdout",
     "output_type": "stream",
     "text": [
      "[>>>>>>>>>>>>>>>>>>>>>>>>] 12524/12524, 16.5 task/s, elapsed: 760s, ETA:     0s"
     ]
    },
    {
     "name": "stderr",
     "output_type": "stream",
     "text": [
      "2021-11-29 19:13:12,656 - mmdet - INFO - Evaluating bbox...\n"
     ]
    },
    {
     "name": "stdout",
     "output_type": "stream",
     "text": [
      "Loading and preparing results...\n",
      "DONE (t=0.24s)\n",
      "creating index...\n",
      "index created!\n",
      "Running per image evaluation...\n",
      "Evaluate annotation type *bbox*\n",
      "DONE (t=7.72s).\n",
      "Accumulating evaluation results...\n",
      "DONE (t=2.68s).\n",
      " Average Precision  (AP) @[ IoU=0.50:0.95 | area=   all | maxDets=100 ] = 0.387\n",
      " Average Precision  (AP) @[ IoU=0.50      | area=   all | maxDets=1000 ] = 0.729\n",
      " Average Precision  (AP) @[ IoU=0.75      | area=   all | maxDets=1000 ] = 0.369\n",
      " Average Precision  (AP) @[ IoU=0.50:0.95 | area= small | maxDets=1000 ] = 0.145\n",
      " Average Precision  (AP) @[ IoU=0.50:0.95 | area=medium | maxDets=1000 ] = 0.376\n",
      " Average Precision  (AP) @[ IoU=0.50:0.95 | area= large | maxDets=1000 ] = 0.377\n",
      " Average Recall     (AR) @[ IoU=0.50:0.95 | area=   all | maxDets=100 ] = 0.548\n",
      " Average Recall     (AR) @[ IoU=0.50:0.95 | area=   all | maxDets=300 ] = 0.548\n",
      " Average Recall     (AR) @[ IoU=0.50:0.95 | area=   all | maxDets=1000 ] = 0.548\n",
      " Average Recall     (AR) @[ IoU=0.50:0.95 | area= small | maxDets=1000 ] = 0.271\n",
      " Average Recall     (AR) @[ IoU=0.50:0.95 | area=medium | maxDets=1000 ] = 0.537\n",
      " Average Recall     (AR) @[ IoU=0.50:0.95 | area= large | maxDets=1000 ] = 0.551\n"
     ]
    },
    {
     "name": "stderr",
     "output_type": "stream",
     "text": [
      "2021-11-29 19:13:23,917 - mmdet - INFO - Epoch(val) [16][12524]\tbbox_mAP: 0.3870, bbox_mAP_50: 0.7290, bbox_mAP_75: 0.3690, bbox_mAP_s: 0.1450, bbox_mAP_m: 0.3760, bbox_mAP_l: 0.3770, bbox_mAP_copypaste: 0.387 0.729 0.369 0.145 0.376 0.377\n",
      "2021-11-29 19:15:05,872 - mmdet - INFO - Epoch [17][100/4697]\tlr: 1.000e-03, eta: 11:31:01, time: 1.018, data_time: 0.033, memory: 8318, loss_rpn_cls: 0.0035, loss_rpn_bbox: 0.0053, loss_cls: 0.0684, acc: 97.2888, loss_bbox: 0.0981, loss: 0.1753\n",
      "2021-11-29 19:16:45,252 - mmdet - INFO - Epoch [17][200/4697]\tlr: 1.000e-03, eta: 11:29:23, time: 0.994, data_time: 0.012, memory: 8318, loss_rpn_cls: 0.0029, loss_rpn_bbox: 0.0048, loss_cls: 0.0632, acc: 97.4717, loss_bbox: 0.0929, loss: 0.1638\n",
      "2021-11-29 19:18:24,665 - mmdet - INFO - Epoch [17][300/4697]\tlr: 1.000e-03, eta: 11:27:46, time: 0.994, data_time: 0.013, memory: 8318, loss_rpn_cls: 0.0026, loss_rpn_bbox: 0.0048, loss_cls: 0.0606, acc: 97.5283, loss_bbox: 0.0900, loss: 0.1580\n",
      "2021-11-29 19:20:04,038 - mmdet - INFO - Epoch [17][400/4697]\tlr: 1.000e-03, eta: 11:26:08, time: 0.994, data_time: 0.013, memory: 8318, loss_rpn_cls: 0.0027, loss_rpn_bbox: 0.0050, loss_cls: 0.0646, acc: 97.4255, loss_bbox: 0.0938, loss: 0.1661\n",
      "2021-11-29 19:21:43,536 - mmdet - INFO - Epoch [17][500/4697]\tlr: 1.000e-03, eta: 11:24:30, time: 0.995, data_time: 0.013, memory: 8318, loss_rpn_cls: 0.0026, loss_rpn_bbox: 0.0048, loss_cls: 0.0599, acc: 97.5735, loss_bbox: 0.0895, loss: 0.1569\n",
      "2021-11-29 19:23:22,960 - mmdet - INFO - Epoch [17][600/4697]\tlr: 1.000e-03, eta: 11:22:53, time: 0.994, data_time: 0.013, memory: 8318, loss_rpn_cls: 0.0025, loss_rpn_bbox: 0.0048, loss_cls: 0.0604, acc: 97.5901, loss_bbox: 0.0891, loss: 0.1567\n",
      "2021-11-29 19:25:02,496 - mmdet - INFO - Epoch [17][700/4697]\tlr: 1.000e-03, eta: 11:21:15, time: 0.995, data_time: 0.013, memory: 8318, loss_rpn_cls: 0.0026, loss_rpn_bbox: 0.0049, loss_cls: 0.0615, acc: 97.5391, loss_bbox: 0.0921, loss: 0.1610\n",
      "2021-11-29 19:26:41,955 - mmdet - INFO - Epoch [17][800/4697]\tlr: 1.000e-03, eta: 11:19:37, time: 0.995, data_time: 0.013, memory: 8318, loss_rpn_cls: 0.0027, loss_rpn_bbox: 0.0049, loss_cls: 0.0620, acc: 97.5425, loss_bbox: 0.0925, loss: 0.1621\n",
      "2021-11-29 19:28:21,310 - mmdet - INFO - Epoch [17][900/4697]\tlr: 1.000e-03, eta: 11:18:00, time: 0.994, data_time: 0.013, memory: 8318, loss_rpn_cls: 0.0026, loss_rpn_bbox: 0.0049, loss_cls: 0.0587, acc: 97.6296, loss_bbox: 0.0878, loss: 0.1539\n",
      "2021-11-29 19:30:00,697 - mmdet - INFO - Epoch [17][1000/4697]\tlr: 1.000e-03, eta: 11:16:22, time: 0.994, data_time: 0.013, memory: 8318, loss_rpn_cls: 0.0028, loss_rpn_bbox: 0.0048, loss_cls: 0.0591, acc: 97.6062, loss_bbox: 0.0896, loss: 0.1563\n",
      "2021-11-29 19:31:40,084 - mmdet - INFO - Epoch [17][1100/4697]\tlr: 1.000e-03, eta: 11:14:44, time: 0.994, data_time: 0.013, memory: 8318, loss_rpn_cls: 0.0025, loss_rpn_bbox: 0.0051, loss_cls: 0.0599, acc: 97.5916, loss_bbox: 0.0916, loss: 0.1591\n",
      "2021-11-29 19:33:19,437 - mmdet - INFO - Epoch [17][1200/4697]\tlr: 1.000e-03, eta: 11:13:06, time: 0.994, data_time: 0.013, memory: 8318, loss_rpn_cls: 0.0031, loss_rpn_bbox: 0.0047, loss_cls: 0.0584, acc: 97.6899, loss_bbox: 0.0895, loss: 0.1557\n",
      "2021-11-29 19:34:58,962 - mmdet - INFO - Epoch [17][1300/4697]\tlr: 1.000e-03, eta: 11:11:29, time: 0.995, data_time: 0.013, memory: 8318, loss_rpn_cls: 0.0029, loss_rpn_bbox: 0.0049, loss_cls: 0.0615, acc: 97.5081, loss_bbox: 0.0923, loss: 0.1616\n",
      "2021-11-29 19:36:38,328 - mmdet - INFO - Epoch [17][1400/4697]\tlr: 1.000e-03, eta: 11:09:51, time: 0.994, data_time: 0.013, memory: 8318, loss_rpn_cls: 0.0027, loss_rpn_bbox: 0.0047, loss_cls: 0.0587, acc: 97.6245, loss_bbox: 0.0893, loss: 0.1554\n",
      "2021-11-29 19:38:17,562 - mmdet - INFO - Epoch [17][1500/4697]\tlr: 1.000e-03, eta: 11:08:13, time: 0.992, data_time: 0.013, memory: 8318, loss_rpn_cls: 0.0029, loss_rpn_bbox: 0.0047, loss_cls: 0.0562, acc: 97.7737, loss_bbox: 0.0867, loss: 0.1506\n",
      "2021-11-29 19:39:56,916 - mmdet - INFO - Epoch [17][1600/4697]\tlr: 1.000e-03, eta: 11:06:35, time: 0.994, data_time: 0.013, memory: 8318, loss_rpn_cls: 0.0029, loss_rpn_bbox: 0.0048, loss_cls: 0.0588, acc: 97.6550, loss_bbox: 0.0891, loss: 0.1555\n",
      "2021-11-29 19:41:36,269 - mmdet - INFO - Epoch [17][1700/4697]\tlr: 1.000e-03, eta: 11:04:57, time: 0.994, data_time: 0.013, memory: 8318, loss_rpn_cls: 0.0027, loss_rpn_bbox: 0.0047, loss_cls: 0.0569, acc: 97.7529, loss_bbox: 0.0878, loss: 0.1521\n",
      "2021-11-29 19:43:15,550 - mmdet - INFO - Epoch [17][1800/4697]\tlr: 1.000e-03, eta: 11:03:20, time: 0.993, data_time: 0.013, memory: 8318, loss_rpn_cls: 0.0030, loss_rpn_bbox: 0.0048, loss_cls: 0.0574, acc: 97.7131, loss_bbox: 0.0868, loss: 0.1520\n",
      "2021-11-29 19:44:54,816 - mmdet - INFO - Epoch [17][1900/4697]\tlr: 1.000e-03, eta: 11:01:42, time: 0.993, data_time: 0.013, memory: 8318, loss_rpn_cls: 0.0021, loss_rpn_bbox: 0.0046, loss_cls: 0.0556, acc: 97.7764, loss_bbox: 0.0870, loss: 0.1493\n",
      "2021-11-29 19:46:34,213 - mmdet - INFO - Epoch [17][2000/4697]\tlr: 1.000e-03, eta: 11:00:04, time: 0.994, data_time: 0.013, memory: 8318, loss_rpn_cls: 0.0028, loss_rpn_bbox: 0.0046, loss_cls: 0.0584, acc: 97.6802, loss_bbox: 0.0887, loss: 0.1546\n",
      "2021-11-29 19:48:13,618 - mmdet - INFO - Epoch [17][2100/4697]\tlr: 1.000e-03, eta: 10:58:26, time: 0.994, data_time: 0.013, memory: 8318, loss_rpn_cls: 0.0024, loss_rpn_bbox: 0.0047, loss_cls: 0.0564, acc: 97.6958, loss_bbox: 0.0853, loss: 0.1488\n",
      "2021-11-29 19:49:52,999 - mmdet - INFO - Epoch [17][2200/4697]\tlr: 1.000e-03, eta: 10:56:48, time: 0.994, data_time: 0.013, memory: 8318, loss_rpn_cls: 0.0025, loss_rpn_bbox: 0.0047, loss_cls: 0.0597, acc: 97.5928, loss_bbox: 0.0906, loss: 0.1576\n",
      "2021-11-29 19:51:32,480 - mmdet - INFO - Epoch [17][2300/4697]\tlr: 1.000e-03, eta: 10:55:11, time: 0.995, data_time: 0.013, memory: 8318, loss_rpn_cls: 0.0024, loss_rpn_bbox: 0.0047, loss_cls: 0.0562, acc: 97.7542, loss_bbox: 0.0883, loss: 0.1516\n",
      "2021-11-29 19:53:13,103 - mmdet - INFO - Epoch [17][2400/4697]\tlr: 1.000e-03, eta: 10:53:33, time: 1.006, data_time: 0.013, memory: 8318, loss_rpn_cls: 0.0028, loss_rpn_bbox: 0.0049, loss_cls: 0.0543, acc: 97.7761, loss_bbox: 0.0880, loss: 0.1500\n",
      "2021-11-29 19:54:53,321 - mmdet - INFO - Epoch [17][2500/4697]\tlr: 1.000e-03, eta: 10:51:56, time: 1.002, data_time: 0.013, memory: 8318, loss_rpn_cls: 0.0026, loss_rpn_bbox: 0.0046, loss_cls: 0.0560, acc: 97.7993, loss_bbox: 0.0866, loss: 0.1497\n",
      "2021-11-29 19:56:32,696 - mmdet - INFO - Epoch [17][2600/4697]\tlr: 1.000e-03, eta: 10:50:18, time: 0.994, data_time: 0.013, memory: 8318, loss_rpn_cls: 0.0026, loss_rpn_bbox: 0.0047, loss_cls: 0.0565, acc: 97.7729, loss_bbox: 0.0860, loss: 0.1498\n",
      "2021-11-29 19:58:12,124 - mmdet - INFO - Epoch [17][2700/4697]\tlr: 1.000e-03, eta: 10:48:40, time: 0.994, data_time: 0.013, memory: 8318, loss_rpn_cls: 0.0022, loss_rpn_bbox: 0.0049, loss_cls: 0.0574, acc: 97.7092, loss_bbox: 0.0899, loss: 0.1544\n",
      "2021-11-29 19:59:51,558 - mmdet - INFO - Epoch [17][2800/4697]\tlr: 1.000e-03, eta: 10:47:03, time: 0.994, data_time: 0.013, memory: 8318, loss_rpn_cls: 0.0024, loss_rpn_bbox: 0.0047, loss_cls: 0.0542, acc: 97.8142, loss_bbox: 0.0865, loss: 0.1478\n",
      "2021-11-29 20:01:30,974 - mmdet - INFO - Epoch [17][2900/4697]\tlr: 1.000e-03, eta: 10:45:25, time: 0.994, data_time: 0.013, memory: 8318, loss_rpn_cls: 0.0023, loss_rpn_bbox: 0.0049, loss_cls: 0.0597, acc: 97.6409, loss_bbox: 0.0908, loss: 0.1577\n",
      "2021-11-29 20:03:10,571 - mmdet - INFO - Epoch [17][3000/4697]\tlr: 1.000e-03, eta: 10:43:47, time: 0.996, data_time: 0.013, memory: 8318, loss_rpn_cls: 0.0023, loss_rpn_bbox: 0.0046, loss_cls: 0.0564, acc: 97.7419, loss_bbox: 0.0860, loss: 0.1494\n",
      "2021-11-29 20:04:50,140 - mmdet - INFO - Epoch [17][3100/4697]\tlr: 1.000e-03, eta: 10:42:09, time: 0.996, data_time: 0.013, memory: 8318, loss_rpn_cls: 0.0028, loss_rpn_bbox: 0.0048, loss_cls: 0.0595, acc: 97.6655, loss_bbox: 0.0876, loss: 0.1548\n",
      "2021-11-29 20:06:29,621 - mmdet - INFO - Epoch [17][3200/4697]\tlr: 1.000e-03, eta: 10:40:31, time: 0.995, data_time: 0.013, memory: 8318, loss_rpn_cls: 0.0027, loss_rpn_bbox: 0.0048, loss_cls: 0.0571, acc: 97.7085, loss_bbox: 0.0852, loss: 0.1498\n",
      "2021-11-29 20:08:09,330 - mmdet - INFO - Epoch [17][3300/4697]\tlr: 1.000e-03, eta: 10:38:54, time: 0.997, data_time: 0.014, memory: 8318, loss_rpn_cls: 0.0021, loss_rpn_bbox: 0.0044, loss_cls: 0.0536, acc: 97.8506, loss_bbox: 0.0841, loss: 0.1442\n"
     ]
    },
    {
     "name": "stderr",
     "output_type": "stream",
     "text": [
      "2021-11-29 20:09:48,984 - mmdet - INFO - Epoch [17][3400/4697]\tlr: 1.000e-03, eta: 10:37:16, time: 0.997, data_time: 0.013, memory: 8318, loss_rpn_cls: 0.0027, loss_rpn_bbox: 0.0049, loss_cls: 0.0563, acc: 97.7563, loss_bbox: 0.0865, loss: 0.1503\n",
      "2021-11-29 20:11:28,542 - mmdet - INFO - Epoch [17][3500/4697]\tlr: 1.000e-03, eta: 10:35:38, time: 0.996, data_time: 0.013, memory: 8318, loss_rpn_cls: 0.0027, loss_rpn_bbox: 0.0048, loss_cls: 0.0584, acc: 97.6963, loss_bbox: 0.0879, loss: 0.1538\n",
      "2021-11-29 20:13:08,042 - mmdet - INFO - Epoch [17][3600/4697]\tlr: 1.000e-03, eta: 10:34:00, time: 0.995, data_time: 0.013, memory: 8318, loss_rpn_cls: 0.0021, loss_rpn_bbox: 0.0046, loss_cls: 0.0544, acc: 97.8345, loss_bbox: 0.0858, loss: 0.1468\n",
      "2021-11-29 20:14:47,552 - mmdet - INFO - Epoch [17][3700/4697]\tlr: 1.000e-03, eta: 10:32:23, time: 0.995, data_time: 0.013, memory: 8318, loss_rpn_cls: 0.0021, loss_rpn_bbox: 0.0050, loss_cls: 0.0557, acc: 97.7195, loss_bbox: 0.0884, loss: 0.1513\n",
      "2021-11-29 20:16:27,284 - mmdet - INFO - Epoch [17][3800/4697]\tlr: 1.000e-03, eta: 10:30:45, time: 0.997, data_time: 0.013, memory: 8318, loss_rpn_cls: 0.0025, loss_rpn_bbox: 0.0046, loss_cls: 0.0550, acc: 97.7522, loss_bbox: 0.0864, loss: 0.1484\n",
      "2021-11-29 20:18:07,355 - mmdet - INFO - Epoch [17][3900/4697]\tlr: 1.000e-03, eta: 10:29:07, time: 1.001, data_time: 0.013, memory: 8318, loss_rpn_cls: 0.0025, loss_rpn_bbox: 0.0048, loss_cls: 0.0562, acc: 97.7551, loss_bbox: 0.0889, loss: 0.1523\n",
      "2021-11-29 20:19:46,921 - mmdet - INFO - Epoch [17][4000/4697]\tlr: 1.000e-03, eta: 10:27:30, time: 0.996, data_time: 0.013, memory: 8318, loss_rpn_cls: 0.0024, loss_rpn_bbox: 0.0047, loss_cls: 0.0555, acc: 97.7588, loss_bbox: 0.0860, loss: 0.1486\n",
      "2021-11-29 20:21:26,386 - mmdet - INFO - Epoch [17][4100/4697]\tlr: 1.000e-03, eta: 10:25:52, time: 0.995, data_time: 0.013, memory: 8318, loss_rpn_cls: 0.0025, loss_rpn_bbox: 0.0046, loss_cls: 0.0552, acc: 97.7471, loss_bbox: 0.0864, loss: 0.1488\n",
      "2021-11-29 20:23:06,000 - mmdet - INFO - Epoch [17][4200/4697]\tlr: 1.000e-03, eta: 10:24:14, time: 0.996, data_time: 0.013, memory: 8318, loss_rpn_cls: 0.0024, loss_rpn_bbox: 0.0048, loss_cls: 0.0573, acc: 97.6851, loss_bbox: 0.0871, loss: 0.1516\n",
      "2021-11-29 20:24:45,423 - mmdet - INFO - Epoch [17][4300/4697]\tlr: 1.000e-03, eta: 10:22:36, time: 0.994, data_time: 0.013, memory: 8318, loss_rpn_cls: 0.0023, loss_rpn_bbox: 0.0045, loss_cls: 0.0523, acc: 97.8943, loss_bbox: 0.0826, loss: 0.1417\n",
      "2021-11-29 20:26:24,988 - mmdet - INFO - Epoch [17][4400/4697]\tlr: 1.000e-03, eta: 10:20:58, time: 0.996, data_time: 0.013, memory: 8318, loss_rpn_cls: 0.0023, loss_rpn_bbox: 0.0046, loss_cls: 0.0572, acc: 97.6721, loss_bbox: 0.0879, loss: 0.1520\n",
      "2021-11-29 20:28:04,565 - mmdet - INFO - Epoch [17][4500/4697]\tlr: 1.000e-03, eta: 10:19:20, time: 0.996, data_time: 0.013, memory: 8318, loss_rpn_cls: 0.0026, loss_rpn_bbox: 0.0043, loss_cls: 0.0536, acc: 97.8862, loss_bbox: 0.0808, loss: 0.1413\n",
      "2021-11-29 20:29:44,050 - mmdet - INFO - Epoch [17][4600/4697]\tlr: 1.000e-03, eta: 10:17:43, time: 0.995, data_time: 0.013, memory: 8318, loss_rpn_cls: 0.0026, loss_rpn_bbox: 0.0047, loss_cls: 0.0543, acc: 97.8416, loss_bbox: 0.0838, loss: 0.1454\n",
      "2021-11-29 20:31:20,304 - mmdet - INFO - Saving checkpoint at 17 epochs\n"
     ]
    },
    {
     "name": "stdout",
     "output_type": "stream",
     "text": [
      "[>>>>>>>>>>>>>>>>>>>>>>>>] 12524/12524, 16.5 task/s, elapsed: 758s, ETA:     0s"
     ]
    },
    {
     "name": "stderr",
     "output_type": "stream",
     "text": [
      "2021-11-29 20:43:59,596 - mmdet - INFO - Evaluating bbox...\n"
     ]
    },
    {
     "name": "stdout",
     "output_type": "stream",
     "text": [
      "Loading and preparing results...\n",
      "DONE (t=0.04s)\n",
      "creating index...\n",
      "index created!\n",
      "Running per image evaluation...\n",
      "Evaluate annotation type *bbox*\n",
      "DONE (t=5.78s).\n",
      "Accumulating evaluation results...\n"
     ]
    },
    {
     "name": "stderr",
     "output_type": "stream",
     "text": [
      "2021-11-29 20:44:07,051 - mmdet - INFO - Epoch(val) [17][12524]\tbbox_mAP: 0.4480, bbox_mAP_50: 0.7940, bbox_mAP_75: 0.4460, bbox_mAP_s: 0.1670, bbox_mAP_m: 0.4310, bbox_mAP_l: 0.4360, bbox_mAP_copypaste: 0.448 0.794 0.446 0.167 0.431 0.436\n"
     ]
    },
    {
     "name": "stdout",
     "output_type": "stream",
     "text": [
      "DONE (t=1.36s).\n",
      " Average Precision  (AP) @[ IoU=0.50:0.95 | area=   all | maxDets=100 ] = 0.448\n",
      " Average Precision  (AP) @[ IoU=0.50      | area=   all | maxDets=1000 ] = 0.794\n",
      " Average Precision  (AP) @[ IoU=0.75      | area=   all | maxDets=1000 ] = 0.446\n",
      " Average Precision  (AP) @[ IoU=0.50:0.95 | area= small | maxDets=1000 ] = 0.167\n",
      " Average Precision  (AP) @[ IoU=0.50:0.95 | area=medium | maxDets=1000 ] = 0.431\n",
      " Average Precision  (AP) @[ IoU=0.50:0.95 | area= large | maxDets=1000 ] = 0.436\n",
      " Average Recall     (AR) @[ IoU=0.50:0.95 | area=   all | maxDets=100 ] = 0.568\n",
      " Average Recall     (AR) @[ IoU=0.50:0.95 | area=   all | maxDets=300 ] = 0.568\n",
      " Average Recall     (AR) @[ IoU=0.50:0.95 | area=   all | maxDets=1000 ] = 0.568\n",
      " Average Recall     (AR) @[ IoU=0.50:0.95 | area= small | maxDets=1000 ] = 0.247\n",
      " Average Recall     (AR) @[ IoU=0.50:0.95 | area=medium | maxDets=1000 ] = 0.555\n",
      " Average Recall     (AR) @[ IoU=0.50:0.95 | area= large | maxDets=1000 ] = 0.565\n"
     ]
    },
    {
     "name": "stderr",
     "output_type": "stream",
     "text": [
      "2021-11-29 20:45:49,400 - mmdet - INFO - Epoch [18][100/4697]\tlr: 1.000e-03, eta: 10:13:46, time: 1.021, data_time: 0.034, memory: 8318, loss_rpn_cls: 0.0023, loss_rpn_bbox: 0.0045, loss_cls: 0.0504, acc: 98.0144, loss_bbox: 0.0820, loss: 0.1391\n",
      "2021-11-29 20:47:29,156 - mmdet - INFO - Epoch [18][200/4697]\tlr: 1.000e-03, eta: 10:12:08, time: 0.998, data_time: 0.013, memory: 8318, loss_rpn_cls: 0.0023, loss_rpn_bbox: 0.0048, loss_cls: 0.0526, acc: 97.8503, loss_bbox: 0.0854, loss: 0.1451\n",
      "2021-11-29 20:49:08,632 - mmdet - INFO - Epoch [18][300/4697]\tlr: 1.000e-03, eta: 10:10:31, time: 0.995, data_time: 0.013, memory: 8318, loss_rpn_cls: 0.0021, loss_rpn_bbox: 0.0045, loss_cls: 0.0508, acc: 97.9441, loss_bbox: 0.0830, loss: 0.1404\n",
      "2021-11-29 20:50:48,244 - mmdet - INFO - Epoch [18][400/4697]\tlr: 1.000e-03, eta: 10:08:53, time: 0.996, data_time: 0.013, memory: 8318, loss_rpn_cls: 0.0023, loss_rpn_bbox: 0.0047, loss_cls: 0.0542, acc: 97.8582, loss_bbox: 0.0860, loss: 0.1472\n",
      "2021-11-29 20:52:27,992 - mmdet - INFO - Epoch [18][500/4697]\tlr: 1.000e-03, eta: 10:07:15, time: 0.997, data_time: 0.013, memory: 8318, loss_rpn_cls: 0.0022, loss_rpn_bbox: 0.0045, loss_cls: 0.0536, acc: 97.8291, loss_bbox: 0.0858, loss: 0.1462\n",
      "2021-11-29 20:54:07,771 - mmdet - INFO - Epoch [18][600/4697]\tlr: 1.000e-03, eta: 10:05:38, time: 0.998, data_time: 0.013, memory: 8318, loss_rpn_cls: 0.0021, loss_rpn_bbox: 0.0047, loss_cls: 0.0547, acc: 97.8494, loss_bbox: 0.0859, loss: 0.1474\n",
      "2021-11-29 20:55:47,444 - mmdet - INFO - Epoch [18][700/4697]\tlr: 1.000e-03, eta: 10:04:00, time: 0.997, data_time: 0.013, memory: 8318, loss_rpn_cls: 0.0023, loss_rpn_bbox: 0.0047, loss_cls: 0.0519, acc: 97.9153, loss_bbox: 0.0814, loss: 0.1403\n",
      "2021-11-29 20:57:27,131 - mmdet - INFO - Epoch [18][800/4697]\tlr: 1.000e-03, eta: 10:02:22, time: 0.997, data_time: 0.013, memory: 8318, loss_rpn_cls: 0.0023, loss_rpn_bbox: 0.0046, loss_cls: 0.0518, acc: 97.9143, loss_bbox: 0.0843, loss: 0.1429\n",
      "2021-11-29 20:59:06,671 - mmdet - INFO - Epoch [18][900/4697]\tlr: 1.000e-03, eta: 10:00:45, time: 0.995, data_time: 0.013, memory: 8318, loss_rpn_cls: 0.0021, loss_rpn_bbox: 0.0046, loss_cls: 0.0514, acc: 97.9304, loss_bbox: 0.0838, loss: 0.1420\n",
      "2021-11-29 21:00:46,275 - mmdet - INFO - Epoch [18][1000/4697]\tlr: 1.000e-03, eta: 9:59:07, time: 0.996, data_time: 0.013, memory: 8318, loss_rpn_cls: 0.0024, loss_rpn_bbox: 0.0046, loss_cls: 0.0522, acc: 97.9036, loss_bbox: 0.0850, loss: 0.1442\n",
      "2021-11-29 21:02:26,450 - mmdet - INFO - Epoch [18][1100/4697]\tlr: 1.000e-03, eta: 9:57:30, time: 1.002, data_time: 0.013, memory: 8318, loss_rpn_cls: 0.0023, loss_rpn_bbox: 0.0047, loss_cls: 0.0508, acc: 97.9204, loss_bbox: 0.0820, loss: 0.1398\n",
      "2021-11-29 21:04:06,141 - mmdet - INFO - Epoch [18][1200/4697]\tlr: 1.000e-03, eta: 9:55:52, time: 0.997, data_time: 0.013, memory: 8318, loss_rpn_cls: 0.0023, loss_rpn_bbox: 0.0046, loss_cls: 0.0546, acc: 97.8105, loss_bbox: 0.0858, loss: 0.1474\n",
      "2021-11-29 21:05:45,947 - mmdet - INFO - Epoch [18][1300/4697]\tlr: 1.000e-03, eta: 9:54:14, time: 0.998, data_time: 0.013, memory: 8318, loss_rpn_cls: 0.0022, loss_rpn_bbox: 0.0047, loss_cls: 0.0540, acc: 97.8230, loss_bbox: 0.0863, loss: 0.1472\n",
      "2021-11-29 21:07:25,777 - mmdet - INFO - Epoch [18][1400/4697]\tlr: 1.000e-03, eta: 9:52:37, time: 0.998, data_time: 0.013, memory: 8318, loss_rpn_cls: 0.0022, loss_rpn_bbox: 0.0047, loss_cls: 0.0521, acc: 97.8992, loss_bbox: 0.0841, loss: 0.1431\n",
      "2021-11-29 21:09:05,700 - mmdet - INFO - Epoch [18][1500/4697]\tlr: 1.000e-03, eta: 9:50:59, time: 0.999, data_time: 0.013, memory: 8318, loss_rpn_cls: 0.0025, loss_rpn_bbox: 0.0045, loss_cls: 0.0527, acc: 97.8931, loss_bbox: 0.0805, loss: 0.1402\n",
      "2021-11-29 21:10:45,368 - mmdet - INFO - Epoch [18][1600/4697]\tlr: 1.000e-03, eta: 9:49:22, time: 0.997, data_time: 0.013, memory: 8318, loss_rpn_cls: 0.0025, loss_rpn_bbox: 0.0046, loss_cls: 0.0536, acc: 97.8557, loss_bbox: 0.0819, loss: 0.1427\n",
      "2021-11-29 21:12:24,964 - mmdet - INFO - Epoch [18][1700/4697]\tlr: 1.000e-03, eta: 9:47:44, time: 0.996, data_time: 0.013, memory: 8318, loss_rpn_cls: 0.0023, loss_rpn_bbox: 0.0046, loss_cls: 0.0516, acc: 97.8948, loss_bbox: 0.0824, loss: 0.1409\n",
      "2021-11-29 21:14:04,817 - mmdet - INFO - Epoch [18][1800/4697]\tlr: 1.000e-03, eta: 9:46:06, time: 0.999, data_time: 0.013, memory: 8318, loss_rpn_cls: 0.0024, loss_rpn_bbox: 0.0047, loss_cls: 0.0541, acc: 97.8467, loss_bbox: 0.0854, loss: 0.1465\n",
      "2021-11-29 21:15:44,574 - mmdet - INFO - Epoch [18][1900/4697]\tlr: 1.000e-03, eta: 9:44:29, time: 0.998, data_time: 0.013, memory: 8318, loss_rpn_cls: 0.0021, loss_rpn_bbox: 0.0045, loss_cls: 0.0531, acc: 97.8284, loss_bbox: 0.0837, loss: 0.1433\n",
      "2021-11-29 21:17:24,217 - mmdet - INFO - Epoch [18][2000/4697]\tlr: 1.000e-03, eta: 9:42:51, time: 0.996, data_time: 0.013, memory: 8318, loss_rpn_cls: 0.0027, loss_rpn_bbox: 0.0046, loss_cls: 0.0534, acc: 97.8838, loss_bbox: 0.0833, loss: 0.1440\n",
      "2021-11-29 21:19:04,051 - mmdet - INFO - Epoch [18][2100/4697]\tlr: 1.000e-03, eta: 9:41:13, time: 0.998, data_time: 0.013, memory: 8318, loss_rpn_cls: 0.0023, loss_rpn_bbox: 0.0047, loss_cls: 0.0522, acc: 97.8538, loss_bbox: 0.0855, loss: 0.1447\n",
      "2021-11-29 21:20:43,734 - mmdet - INFO - Epoch [18][2200/4697]\tlr: 1.000e-03, eta: 9:39:36, time: 0.997, data_time: 0.013, memory: 8318, loss_rpn_cls: 0.0021, loss_rpn_bbox: 0.0046, loss_cls: 0.0513, acc: 97.9419, loss_bbox: 0.0827, loss: 0.1407\n",
      "2021-11-29 21:22:23,444 - mmdet - INFO - Epoch [18][2300/4697]\tlr: 1.000e-03, eta: 9:37:58, time: 0.997, data_time: 0.013, memory: 8318, loss_rpn_cls: 0.0023, loss_rpn_bbox: 0.0045, loss_cls: 0.0518, acc: 97.9250, loss_bbox: 0.0812, loss: 0.1398\n",
      "2021-11-29 21:24:03,086 - mmdet - INFO - Epoch [18][2400/4697]\tlr: 1.000e-03, eta: 9:36:20, time: 0.996, data_time: 0.013, memory: 8318, loss_rpn_cls: 0.0022, loss_rpn_bbox: 0.0047, loss_cls: 0.0516, acc: 97.9087, loss_bbox: 0.0840, loss: 0.1425\n",
      "2021-11-29 21:25:42,700 - mmdet - INFO - Epoch [18][2500/4697]\tlr: 1.000e-03, eta: 9:34:42, time: 0.996, data_time: 0.013, memory: 8318, loss_rpn_cls: 0.0019, loss_rpn_bbox: 0.0045, loss_cls: 0.0542, acc: 97.8250, loss_bbox: 0.0855, loss: 0.1460\n",
      "2021-11-29 21:27:22,245 - mmdet - INFO - Epoch [18][2600/4697]\tlr: 1.000e-03, eta: 9:33:05, time: 0.995, data_time: 0.013, memory: 8318, loss_rpn_cls: 0.0021, loss_rpn_bbox: 0.0045, loss_cls: 0.0522, acc: 97.8997, loss_bbox: 0.0825, loss: 0.1413\n",
      "2021-11-29 21:29:01,927 - mmdet - INFO - Epoch [18][2700/4697]\tlr: 1.000e-03, eta: 9:31:27, time: 0.997, data_time: 0.013, memory: 8318, loss_rpn_cls: 0.0022, loss_rpn_bbox: 0.0046, loss_cls: 0.0527, acc: 97.9043, loss_bbox: 0.0829, loss: 0.1424\n",
      "2021-11-29 21:30:41,439 - mmdet - INFO - Epoch [18][2800/4697]\tlr: 1.000e-03, eta: 9:29:49, time: 0.995, data_time: 0.013, memory: 8318, loss_rpn_cls: 0.0022, loss_rpn_bbox: 0.0046, loss_cls: 0.0516, acc: 97.9324, loss_bbox: 0.0848, loss: 0.1433\n",
      "2021-11-29 21:32:22,462 - mmdet - INFO - Epoch [18][2900/4697]\tlr: 1.000e-03, eta: 9:28:12, time: 1.010, data_time: 0.013, memory: 8318, loss_rpn_cls: 0.0020, loss_rpn_bbox: 0.0046, loss_cls: 0.0526, acc: 97.9033, loss_bbox: 0.0830, loss: 0.1422\n",
      "2021-11-29 21:34:02,031 - mmdet - INFO - Epoch [18][3000/4697]\tlr: 1.000e-03, eta: 9:26:34, time: 0.996, data_time: 0.013, memory: 8318, loss_rpn_cls: 0.0024, loss_rpn_bbox: 0.0046, loss_cls: 0.0536, acc: 97.8340, loss_bbox: 0.0857, loss: 0.1463\n",
      "2021-11-29 21:35:41,605 - mmdet - INFO - Epoch [18][3100/4697]\tlr: 1.000e-03, eta: 9:24:56, time: 0.996, data_time: 0.013, memory: 8318, loss_rpn_cls: 0.0023, loss_rpn_bbox: 0.0045, loss_cls: 0.0518, acc: 97.9253, loss_bbox: 0.0835, loss: 0.1421\n",
      "2021-11-29 21:37:21,255 - mmdet - INFO - Epoch [18][3200/4697]\tlr: 1.000e-03, eta: 9:23:18, time: 0.996, data_time: 0.013, memory: 8318, loss_rpn_cls: 0.0023, loss_rpn_bbox: 0.0046, loss_cls: 0.0535, acc: 97.8789, loss_bbox: 0.0832, loss: 0.1436\n",
      "2021-11-29 21:39:00,963 - mmdet - INFO - Epoch [18][3300/4697]\tlr: 1.000e-03, eta: 9:21:41, time: 0.997, data_time: 0.014, memory: 8318, loss_rpn_cls: 0.0020, loss_rpn_bbox: 0.0044, loss_cls: 0.0507, acc: 97.9724, loss_bbox: 0.0825, loss: 0.1395\n",
      "2021-11-29 21:40:40,710 - mmdet - INFO - Epoch [18][3400/4697]\tlr: 1.000e-03, eta: 9:20:03, time: 0.997, data_time: 0.013, memory: 8318, loss_rpn_cls: 0.0021, loss_rpn_bbox: 0.0045, loss_cls: 0.0522, acc: 97.8579, loss_bbox: 0.0824, loss: 0.1413\n"
     ]
    },
    {
     "name": "stderr",
     "output_type": "stream",
     "text": [
      "2021-11-29 21:42:20,526 - mmdet - INFO - Epoch [18][3500/4697]\tlr: 1.000e-03, eta: 9:18:25, time: 0.998, data_time: 0.013, memory: 8318, loss_rpn_cls: 0.0021, loss_rpn_bbox: 0.0045, loss_cls: 0.0504, acc: 97.9392, loss_bbox: 0.0832, loss: 0.1403\n",
      "2021-11-29 21:44:00,299 - mmdet - INFO - Epoch [18][3600/4697]\tlr: 1.000e-03, eta: 9:16:48, time: 0.998, data_time: 0.013, memory: 8318, loss_rpn_cls: 0.0022, loss_rpn_bbox: 0.0045, loss_cls: 0.0530, acc: 97.8853, loss_bbox: 0.0835, loss: 0.1432\n",
      "2021-11-29 21:45:39,921 - mmdet - INFO - Epoch [18][3700/4697]\tlr: 1.000e-03, eta: 9:15:10, time: 0.996, data_time: 0.013, memory: 8318, loss_rpn_cls: 0.0025, loss_rpn_bbox: 0.0048, loss_cls: 0.0529, acc: 97.8699, loss_bbox: 0.0839, loss: 0.1442\n",
      "2021-11-29 21:47:19,665 - mmdet - INFO - Epoch [18][3800/4697]\tlr: 1.000e-03, eta: 9:13:32, time: 0.997, data_time: 0.013, memory: 8318, loss_rpn_cls: 0.0019, loss_rpn_bbox: 0.0041, loss_cls: 0.0502, acc: 97.9619, loss_bbox: 0.0801, loss: 0.1363\n",
      "2021-11-29 21:48:59,428 - mmdet - INFO - Epoch [18][3900/4697]\tlr: 1.000e-03, eta: 9:11:54, time: 0.998, data_time: 0.013, memory: 8318, loss_rpn_cls: 0.0019, loss_rpn_bbox: 0.0042, loss_cls: 0.0504, acc: 97.9697, loss_bbox: 0.0796, loss: 0.1361\n",
      "2021-11-29 21:50:39,122 - mmdet - INFO - Epoch [18][4000/4697]\tlr: 1.000e-03, eta: 9:10:16, time: 0.997, data_time: 0.013, memory: 8318, loss_rpn_cls: 0.0022, loss_rpn_bbox: 0.0047, loss_cls: 0.0502, acc: 97.9426, loss_bbox: 0.0824, loss: 0.1396\n",
      "2021-11-29 21:52:18,797 - mmdet - INFO - Epoch [18][4100/4697]\tlr: 1.000e-03, eta: 9:08:39, time: 0.997, data_time: 0.014, memory: 8318, loss_rpn_cls: 0.0020, loss_rpn_bbox: 0.0045, loss_cls: 0.0535, acc: 97.8601, loss_bbox: 0.0854, loss: 0.1455\n",
      "2021-11-29 21:53:58,649 - mmdet - INFO - Epoch [18][4200/4697]\tlr: 1.000e-03, eta: 9:07:01, time: 0.999, data_time: 0.013, memory: 8318, loss_rpn_cls: 0.0020, loss_rpn_bbox: 0.0044, loss_cls: 0.0510, acc: 97.9316, loss_bbox: 0.0811, loss: 0.1385\n",
      "2021-11-29 21:55:38,301 - mmdet - INFO - Epoch [18][4300/4697]\tlr: 1.000e-03, eta: 9:05:23, time: 0.997, data_time: 0.013, memory: 8318, loss_rpn_cls: 0.0022, loss_rpn_bbox: 0.0045, loss_cls: 0.0521, acc: 97.9177, loss_bbox: 0.0841, loss: 0.1429\n",
      "2021-11-29 21:57:18,103 - mmdet - INFO - Epoch [18][4400/4697]\tlr: 1.000e-03, eta: 9:03:45, time: 0.998, data_time: 0.013, memory: 8318, loss_rpn_cls: 0.0025, loss_rpn_bbox: 0.0046, loss_cls: 0.0521, acc: 97.9241, loss_bbox: 0.0839, loss: 0.1431\n",
      "2021-11-29 21:58:57,739 - mmdet - INFO - Epoch [18][4500/4697]\tlr: 1.000e-03, eta: 9:02:07, time: 0.996, data_time: 0.013, memory: 8318, loss_rpn_cls: 0.0021, loss_rpn_bbox: 0.0044, loss_cls: 0.0517, acc: 97.9243, loss_bbox: 0.0815, loss: 0.1398\n",
      "2021-11-29 22:00:37,425 - mmdet - INFO - Epoch [18][4600/4697]\tlr: 1.000e-03, eta: 9:00:30, time: 0.997, data_time: 0.013, memory: 8318, loss_rpn_cls: 0.0021, loss_rpn_bbox: 0.0044, loss_cls: 0.0516, acc: 97.9175, loss_bbox: 0.0816, loss: 0.1396\n",
      "2021-11-29 22:02:14,037 - mmdet - INFO - Saving checkpoint at 18 epochs\n"
     ]
    },
    {
     "name": "stdout",
     "output_type": "stream",
     "text": [
      "[>>>>>>>>>>>>>>>>>>>>>>>>] 12524/12524, 16.4 task/s, elapsed: 764s, ETA:     0s"
     ]
    },
    {
     "name": "stderr",
     "output_type": "stream",
     "text": [
      "2021-11-29 22:14:59,383 - mmdet - INFO - Evaluating bbox...\n"
     ]
    },
    {
     "name": "stdout",
     "output_type": "stream",
     "text": [
      "Loading and preparing results...\n",
      "DONE (t=0.20s)\n",
      "creating index...\n",
      "index created!\n",
      "Running per image evaluation...\n",
      "Evaluate annotation type *bbox*\n",
      "DONE (t=5.47s).\n",
      "Accumulating evaluation results...\n"
     ]
    },
    {
     "name": "stderr",
     "output_type": "stream",
     "text": [
      "2021-11-29 22:15:06,587 - mmdet - INFO - Epoch(val) [18][12524]\tbbox_mAP: 0.4460, bbox_mAP_50: 0.7910, bbox_mAP_75: 0.4490, bbox_mAP_s: 0.1550, bbox_mAP_m: 0.4300, bbox_mAP_l: 0.4340, bbox_mAP_copypaste: 0.446 0.791 0.449 0.155 0.430 0.434\n"
     ]
    },
    {
     "name": "stdout",
     "output_type": "stream",
     "text": [
      "DONE (t=1.28s).\n",
      " Average Precision  (AP) @[ IoU=0.50:0.95 | area=   all | maxDets=100 ] = 0.446\n",
      " Average Precision  (AP) @[ IoU=0.50      | area=   all | maxDets=1000 ] = 0.791\n",
      " Average Precision  (AP) @[ IoU=0.75      | area=   all | maxDets=1000 ] = 0.449\n",
      " Average Precision  (AP) @[ IoU=0.50:0.95 | area= small | maxDets=1000 ] = 0.155\n",
      " Average Precision  (AP) @[ IoU=0.50:0.95 | area=medium | maxDets=1000 ] = 0.430\n",
      " Average Precision  (AP) @[ IoU=0.50:0.95 | area= large | maxDets=1000 ] = 0.434\n",
      " Average Recall     (AR) @[ IoU=0.50:0.95 | area=   all | maxDets=100 ] = 0.562\n",
      " Average Recall     (AR) @[ IoU=0.50:0.95 | area=   all | maxDets=300 ] = 0.562\n",
      " Average Recall     (AR) @[ IoU=0.50:0.95 | area=   all | maxDets=1000 ] = 0.562\n",
      " Average Recall     (AR) @[ IoU=0.50:0.95 | area= small | maxDets=1000 ] = 0.222\n",
      " Average Recall     (AR) @[ IoU=0.50:0.95 | area=medium | maxDets=1000 ] = 0.548\n",
      " Average Recall     (AR) @[ IoU=0.50:0.95 | area= large | maxDets=1000 ] = 0.559\n"
     ]
    },
    {
     "name": "stderr",
     "output_type": "stream",
     "text": [
      "2021-11-29 22:16:49,807 - mmdet - INFO - Epoch [19][100/4697]\tlr: 1.000e-03, eta: 8:56:41, time: 1.030, data_time: 0.033, memory: 8318, loss_rpn_cls: 0.0020, loss_rpn_bbox: 0.0043, loss_cls: 0.0504, acc: 97.9661, loss_bbox: 0.0804, loss: 0.1371\n",
      "2021-11-29 22:18:29,688 - mmdet - INFO - Epoch [19][200/4697]\tlr: 1.000e-03, eta: 8:55:03, time: 0.999, data_time: 0.013, memory: 8318, loss_rpn_cls: 0.0025, loss_rpn_bbox: 0.0046, loss_cls: 0.0498, acc: 98.0017, loss_bbox: 0.0815, loss: 0.1384\n",
      "2021-11-29 22:20:09,506 - mmdet - INFO - Epoch [19][300/4697]\tlr: 1.000e-03, eta: 8:53:26, time: 0.998, data_time: 0.013, memory: 8318, loss_rpn_cls: 0.0019, loss_rpn_bbox: 0.0045, loss_cls: 0.0497, acc: 98.0049, loss_bbox: 0.0808, loss: 0.1370\n",
      "2021-11-29 22:21:49,376 - mmdet - INFO - Epoch [19][400/4697]\tlr: 1.000e-03, eta: 8:51:48, time: 0.999, data_time: 0.013, memory: 8318, loss_rpn_cls: 0.0019, loss_rpn_bbox: 0.0048, loss_cls: 0.0507, acc: 97.9307, loss_bbox: 0.0837, loss: 0.1410\n",
      "2021-11-29 22:23:29,001 - mmdet - INFO - Epoch [19][500/4697]\tlr: 1.000e-03, eta: 8:50:10, time: 0.996, data_time: 0.013, memory: 8318, loss_rpn_cls: 0.0019, loss_rpn_bbox: 0.0046, loss_cls: 0.0476, acc: 98.0566, loss_bbox: 0.0805, loss: 0.1347\n",
      "2021-11-29 22:25:08,765 - mmdet - INFO - Epoch [19][600/4697]\tlr: 1.000e-03, eta: 8:48:33, time: 0.998, data_time: 0.013, memory: 8318, loss_rpn_cls: 0.0020, loss_rpn_bbox: 0.0043, loss_cls: 0.0479, acc: 98.0913, loss_bbox: 0.0793, loss: 0.1335\n",
      "2021-11-29 22:26:48,599 - mmdet - INFO - Epoch [19][700/4697]\tlr: 1.000e-03, eta: 8:46:55, time: 0.998, data_time: 0.013, memory: 8318, loss_rpn_cls: 0.0020, loss_rpn_bbox: 0.0044, loss_cls: 0.0496, acc: 97.9734, loss_bbox: 0.0803, loss: 0.1363\n",
      "2021-11-29 22:28:28,312 - mmdet - INFO - Epoch [19][800/4697]\tlr: 1.000e-03, eta: 8:45:17, time: 0.997, data_time: 0.013, memory: 8318, loss_rpn_cls: 0.0020, loss_rpn_bbox: 0.0046, loss_cls: 0.0495, acc: 97.9526, loss_bbox: 0.0808, loss: 0.1369\n",
      "2021-11-29 22:30:07,988 - mmdet - INFO - Epoch [19][900/4697]\tlr: 1.000e-03, eta: 8:43:39, time: 0.997, data_time: 0.013, memory: 8318, loss_rpn_cls: 0.0022, loss_rpn_bbox: 0.0047, loss_cls: 0.0514, acc: 97.8796, loss_bbox: 0.0848, loss: 0.1430\n",
      "2021-11-29 22:31:47,775 - mmdet - INFO - Epoch [19][1000/4697]\tlr: 1.000e-03, eta: 8:42:02, time: 0.998, data_time: 0.013, memory: 8318, loss_rpn_cls: 0.0019, loss_rpn_bbox: 0.0044, loss_cls: 0.0488, acc: 98.0510, loss_bbox: 0.0785, loss: 0.1336\n",
      "2021-11-29 22:33:27,202 - mmdet - INFO - Epoch [19][1100/4697]\tlr: 1.000e-03, eta: 8:40:24, time: 0.994, data_time: 0.013, memory: 8318, loss_rpn_cls: 0.0022, loss_rpn_bbox: 0.0043, loss_cls: 0.0509, acc: 97.9338, loss_bbox: 0.0826, loss: 0.1401\n",
      "2021-11-29 22:35:06,633 - mmdet - INFO - Epoch [19][1200/4697]\tlr: 1.000e-03, eta: 8:38:46, time: 0.994, data_time: 0.013, memory: 8318, loss_rpn_cls: 0.0023, loss_rpn_bbox: 0.0043, loss_cls: 0.0510, acc: 97.9905, loss_bbox: 0.0797, loss: 0.1373\n",
      "2021-11-29 22:36:46,105 - mmdet - INFO - Epoch [19][1300/4697]\tlr: 1.000e-03, eta: 8:37:08, time: 0.995, data_time: 0.013, memory: 8318, loss_rpn_cls: 0.0021, loss_rpn_bbox: 0.0044, loss_cls: 0.0514, acc: 97.9377, loss_bbox: 0.0822, loss: 0.1401\n",
      "2021-11-29 22:38:25,770 - mmdet - INFO - Epoch [19][1400/4697]\tlr: 1.000e-03, eta: 8:35:31, time: 0.997, data_time: 0.013, memory: 8318, loss_rpn_cls: 0.0021, loss_rpn_bbox: 0.0045, loss_cls: 0.0496, acc: 98.0056, loss_bbox: 0.0795, loss: 0.1358\n",
      "2021-11-29 22:40:05,415 - mmdet - INFO - Epoch [19][1500/4697]\tlr: 1.000e-03, eta: 8:33:53, time: 0.996, data_time: 0.013, memory: 8318, loss_rpn_cls: 0.0017, loss_rpn_bbox: 0.0043, loss_cls: 0.0486, acc: 98.0522, loss_bbox: 0.0778, loss: 0.1324\n",
      "2021-11-29 22:41:45,298 - mmdet - INFO - Epoch [19][1600/4697]\tlr: 1.000e-03, eta: 8:32:15, time: 0.999, data_time: 0.013, memory: 8318, loss_rpn_cls: 0.0023, loss_rpn_bbox: 0.0045, loss_cls: 0.0502, acc: 98.0178, loss_bbox: 0.0823, loss: 0.1393\n",
      "2021-11-29 22:43:27,100 - mmdet - INFO - Epoch [19][1700/4697]\tlr: 1.000e-03, eta: 8:30:38, time: 1.018, data_time: 0.013, memory: 8318, loss_rpn_cls: 0.0021, loss_rpn_bbox: 0.0045, loss_cls: 0.0518, acc: 97.9380, loss_bbox: 0.0833, loss: 0.1417\n",
      "2021-11-29 22:45:06,793 - mmdet - INFO - Epoch [19][1800/4697]\tlr: 1.000e-03, eta: 8:29:00, time: 0.997, data_time: 0.013, memory: 8318, loss_rpn_cls: 0.0018, loss_rpn_bbox: 0.0043, loss_cls: 0.0476, acc: 98.0754, loss_bbox: 0.0792, loss: 0.1330\n",
      "2021-11-29 22:46:46,513 - mmdet - INFO - Epoch [19][1900/4697]\tlr: 1.000e-03, eta: 8:27:23, time: 0.997, data_time: 0.013, memory: 8318, loss_rpn_cls: 0.0019, loss_rpn_bbox: 0.0043, loss_cls: 0.0467, acc: 98.0725, loss_bbox: 0.0788, loss: 0.1317\n",
      "2021-11-29 22:48:26,135 - mmdet - INFO - Epoch [19][2000/4697]\tlr: 1.000e-03, eta: 8:25:45, time: 0.996, data_time: 0.013, memory: 8318, loss_rpn_cls: 0.0020, loss_rpn_bbox: 0.0043, loss_cls: 0.0463, acc: 98.1360, loss_bbox: 0.0771, loss: 0.1297\n",
      "2021-11-29 22:50:05,729 - mmdet - INFO - Epoch [19][2100/4697]\tlr: 1.000e-03, eta: 8:24:07, time: 0.996, data_time: 0.013, memory: 8318, loss_rpn_cls: 0.0019, loss_rpn_bbox: 0.0044, loss_cls: 0.0497, acc: 98.0044, loss_bbox: 0.0796, loss: 0.1355\n",
      "2021-11-29 22:51:45,711 - mmdet - INFO - Epoch [19][2200/4697]\tlr: 1.000e-03, eta: 8:22:29, time: 1.000, data_time: 0.013, memory: 8318, loss_rpn_cls: 0.0022, loss_rpn_bbox: 0.0045, loss_cls: 0.0494, acc: 98.0178, loss_bbox: 0.0810, loss: 0.1371\n",
      "2021-11-29 22:53:25,295 - mmdet - INFO - Epoch [19][2300/4697]\tlr: 1.000e-03, eta: 8:20:52, time: 0.996, data_time: 0.013, memory: 8318, loss_rpn_cls: 0.0021, loss_rpn_bbox: 0.0043, loss_cls: 0.0490, acc: 98.0115, loss_bbox: 0.0816, loss: 0.1370\n",
      "2021-11-29 22:55:05,124 - mmdet - INFO - Epoch [19][2400/4697]\tlr: 1.000e-03, eta: 8:19:14, time: 0.998, data_time: 0.013, memory: 8318, loss_rpn_cls: 0.0020, loss_rpn_bbox: 0.0046, loss_cls: 0.0523, acc: 97.9111, loss_bbox: 0.0841, loss: 0.1431\n",
      "2021-11-29 22:56:45,995 - mmdet - INFO - Epoch [19][2500/4697]\tlr: 1.000e-03, eta: 8:17:36, time: 1.009, data_time: 0.013, memory: 8318, loss_rpn_cls: 0.0019, loss_rpn_bbox: 0.0043, loss_cls: 0.0514, acc: 97.9377, loss_bbox: 0.0812, loss: 0.1388\n",
      "2021-11-29 22:58:25,727 - mmdet - INFO - Epoch [19][2600/4697]\tlr: 1.000e-03, eta: 8:15:59, time: 0.997, data_time: 0.013, memory: 8318, loss_rpn_cls: 0.0020, loss_rpn_bbox: 0.0045, loss_cls: 0.0498, acc: 97.9346, loss_bbox: 0.0814, loss: 0.1378\n",
      "2021-11-29 23:00:05,395 - mmdet - INFO - Epoch [19][2700/4697]\tlr: 1.000e-03, eta: 8:14:21, time: 0.997, data_time: 0.013, memory: 8318, loss_rpn_cls: 0.0020, loss_rpn_bbox: 0.0048, loss_cls: 0.0514, acc: 97.9187, loss_bbox: 0.0853, loss: 0.1435\n",
      "2021-11-29 23:01:45,024 - mmdet - INFO - Epoch [19][2800/4697]\tlr: 1.000e-03, eta: 8:12:43, time: 0.996, data_time: 0.013, memory: 8318, loss_rpn_cls: 0.0021, loss_rpn_bbox: 0.0044, loss_cls: 0.0490, acc: 98.0151, loss_bbox: 0.0788, loss: 0.1343\n",
      "2021-11-29 23:03:24,562 - mmdet - INFO - Epoch [19][2900/4697]\tlr: 1.000e-03, eta: 8:11:05, time: 0.995, data_time: 0.013, memory: 8318, loss_rpn_cls: 0.0021, loss_rpn_bbox: 0.0044, loss_cls: 0.0518, acc: 97.9358, loss_bbox: 0.0830, loss: 0.1412\n",
      "2021-11-29 23:05:04,350 - mmdet - INFO - Epoch [19][3000/4697]\tlr: 1.000e-03, eta: 8:09:27, time: 0.998, data_time: 0.013, memory: 8318, loss_rpn_cls: 0.0021, loss_rpn_bbox: 0.0044, loss_cls: 0.0508, acc: 97.9705, loss_bbox: 0.0804, loss: 0.1377\n",
      "2021-11-29 23:06:44,012 - mmdet - INFO - Epoch [19][3100/4697]\tlr: 1.000e-03, eta: 8:07:50, time: 0.997, data_time: 0.013, memory: 8318, loss_rpn_cls: 0.0019, loss_rpn_bbox: 0.0043, loss_cls: 0.0486, acc: 98.0115, loss_bbox: 0.0802, loss: 0.1351\n",
      "2021-11-29 23:08:23,640 - mmdet - INFO - Epoch [19][3200/4697]\tlr: 1.000e-03, eta: 8:06:12, time: 0.996, data_time: 0.013, memory: 8318, loss_rpn_cls: 0.0022, loss_rpn_bbox: 0.0046, loss_cls: 0.0513, acc: 97.9336, loss_bbox: 0.0822, loss: 0.1403\n",
      "2021-11-29 23:10:03,268 - mmdet - INFO - Epoch [19][3300/4697]\tlr: 1.000e-03, eta: 8:04:34, time: 0.996, data_time: 0.013, memory: 8318, loss_rpn_cls: 0.0019, loss_rpn_bbox: 0.0044, loss_cls: 0.0474, acc: 98.1106, loss_bbox: 0.0782, loss: 0.1318\n",
      "2021-11-29 23:11:43,091 - mmdet - INFO - Epoch [19][3400/4697]\tlr: 1.000e-03, eta: 8:02:56, time: 0.998, data_time: 0.013, memory: 8318, loss_rpn_cls: 0.0022, loss_rpn_bbox: 0.0046, loss_cls: 0.0509, acc: 97.9861, loss_bbox: 0.0805, loss: 0.1382\n"
     ]
    },
    {
     "name": "stderr",
     "output_type": "stream",
     "text": [
      "2021-11-29 23:13:23,002 - mmdet - INFO - Epoch [19][3500/4697]\tlr: 1.000e-03, eta: 8:01:18, time: 0.999, data_time: 0.013, memory: 8318, loss_rpn_cls: 0.0025, loss_rpn_bbox: 0.0046, loss_cls: 0.0497, acc: 97.9927, loss_bbox: 0.0837, loss: 0.1404\n",
      "2021-11-29 23:15:02,789 - mmdet - INFO - Epoch [19][3600/4697]\tlr: 1.000e-03, eta: 7:59:41, time: 0.998, data_time: 0.013, memory: 8318, loss_rpn_cls: 0.0023, loss_rpn_bbox: 0.0044, loss_cls: 0.0496, acc: 98.0083, loss_bbox: 0.0800, loss: 0.1363\n",
      "2021-11-29 23:16:42,404 - mmdet - INFO - Epoch [19][3700/4697]\tlr: 1.000e-03, eta: 7:58:03, time: 0.996, data_time: 0.013, memory: 8318, loss_rpn_cls: 0.0021, loss_rpn_bbox: 0.0045, loss_cls: 0.0496, acc: 98.0081, loss_bbox: 0.0814, loss: 0.1376\n",
      "2021-11-29 23:18:22,200 - mmdet - INFO - Epoch [19][3800/4697]\tlr: 1.000e-03, eta: 7:56:25, time: 0.998, data_time: 0.013, memory: 8318, loss_rpn_cls: 0.0021, loss_rpn_bbox: 0.0044, loss_cls: 0.0492, acc: 98.0405, loss_bbox: 0.0801, loss: 0.1359\n",
      "2021-11-29 23:20:01,933 - mmdet - INFO - Epoch [19][3900/4697]\tlr: 1.000e-03, eta: 7:54:47, time: 0.997, data_time: 0.013, memory: 8318, loss_rpn_cls: 0.0022, loss_rpn_bbox: 0.0046, loss_cls: 0.0491, acc: 98.0225, loss_bbox: 0.0835, loss: 0.1394\n",
      "2021-11-29 23:21:41,752 - mmdet - INFO - Epoch [19][4000/4697]\tlr: 1.000e-03, eta: 7:53:09, time: 0.998, data_time: 0.013, memory: 8318, loss_rpn_cls: 0.0019, loss_rpn_bbox: 0.0044, loss_cls: 0.0478, acc: 98.0532, loss_bbox: 0.0800, loss: 0.1342\n",
      "2021-11-29 23:23:21,392 - mmdet - INFO - Epoch [19][4100/4697]\tlr: 1.000e-03, eta: 7:51:31, time: 0.996, data_time: 0.013, memory: 8318, loss_rpn_cls: 0.0021, loss_rpn_bbox: 0.0043, loss_cls: 0.0473, acc: 98.0457, loss_bbox: 0.0787, loss: 0.1324\n",
      "2021-11-29 23:25:01,061 - mmdet - INFO - Epoch [19][4200/4697]\tlr: 1.000e-03, eta: 7:49:54, time: 0.997, data_time: 0.013, memory: 8318, loss_rpn_cls: 0.0021, loss_rpn_bbox: 0.0046, loss_cls: 0.0497, acc: 98.0122, loss_bbox: 0.0839, loss: 0.1402\n",
      "2021-11-29 23:26:40,582 - mmdet - INFO - Epoch [19][4300/4697]\tlr: 1.000e-03, eta: 7:48:16, time: 0.995, data_time: 0.013, memory: 8318, loss_rpn_cls: 0.0018, loss_rpn_bbox: 0.0043, loss_cls: 0.0484, acc: 98.0249, loss_bbox: 0.0809, loss: 0.1353\n",
      "2021-11-29 23:28:20,168 - mmdet - INFO - Epoch [19][4400/4697]\tlr: 1.000e-03, eta: 7:46:38, time: 0.996, data_time: 0.013, memory: 8318, loss_rpn_cls: 0.0020, loss_rpn_bbox: 0.0046, loss_cls: 0.0490, acc: 98.0181, loss_bbox: 0.0828, loss: 0.1384\n",
      "2021-11-29 23:29:59,836 - mmdet - INFO - Epoch [19][4500/4697]\tlr: 1.000e-03, eta: 7:45:00, time: 0.997, data_time: 0.013, memory: 8318, loss_rpn_cls: 0.0020, loss_rpn_bbox: 0.0047, loss_cls: 0.0474, acc: 98.0598, loss_bbox: 0.0809, loss: 0.1349\n",
      "2021-11-29 23:31:39,607 - mmdet - INFO - Epoch [19][4600/4697]\tlr: 1.000e-03, eta: 7:43:22, time: 0.998, data_time: 0.013, memory: 8318, loss_rpn_cls: 0.0020, loss_rpn_bbox: 0.0044, loss_cls: 0.0513, acc: 97.9480, loss_bbox: 0.0821, loss: 0.1398\n",
      "2021-11-29 23:33:16,462 - mmdet - INFO - Saving checkpoint at 19 epochs\n"
     ]
    },
    {
     "name": "stdout",
     "output_type": "stream",
     "text": [
      "[>>>>>>>>>>>>>>>>>>>>>>>>] 12524/12524, 16.4 task/s, elapsed: 763s, ETA:     0s"
     ]
    },
    {
     "name": "stderr",
     "output_type": "stream",
     "text": [
      "2021-11-29 23:46:00,869 - mmdet - INFO - Evaluating bbox...\n"
     ]
    },
    {
     "name": "stdout",
     "output_type": "stream",
     "text": [
      "Loading and preparing results...\n",
      "DONE (t=0.20s)\n",
      "creating index...\n",
      "index created!\n",
      "Running per image evaluation...\n",
      "Evaluate annotation type *bbox*\n",
      "DONE (t=5.55s).\n",
      "Accumulating evaluation results...\n"
     ]
    },
    {
     "name": "stderr",
     "output_type": "stream",
     "text": [
      "2021-11-29 23:46:08,191 - mmdet - INFO - Epoch(val) [19][12524]\tbbox_mAP: 0.4410, bbox_mAP_50: 0.7870, bbox_mAP_75: 0.4450, bbox_mAP_s: 0.1600, bbox_mAP_m: 0.4270, bbox_mAP_l: 0.4250, bbox_mAP_copypaste: 0.441 0.787 0.445 0.160 0.427 0.425\n"
     ]
    },
    {
     "name": "stdout",
     "output_type": "stream",
     "text": [
      "DONE (t=1.31s).\n",
      " Average Precision  (AP) @[ IoU=0.50:0.95 | area=   all | maxDets=100 ] = 0.441\n",
      " Average Precision  (AP) @[ IoU=0.50      | area=   all | maxDets=1000 ] = 0.787\n",
      " Average Precision  (AP) @[ IoU=0.75      | area=   all | maxDets=1000 ] = 0.445\n",
      " Average Precision  (AP) @[ IoU=0.50:0.95 | area= small | maxDets=1000 ] = 0.160\n",
      " Average Precision  (AP) @[ IoU=0.50:0.95 | area=medium | maxDets=1000 ] = 0.427\n",
      " Average Precision  (AP) @[ IoU=0.50:0.95 | area= large | maxDets=1000 ] = 0.425\n",
      " Average Recall     (AR) @[ IoU=0.50:0.95 | area=   all | maxDets=100 ] = 0.557\n",
      " Average Recall     (AR) @[ IoU=0.50:0.95 | area=   all | maxDets=300 ] = 0.557\n",
      " Average Recall     (AR) @[ IoU=0.50:0.95 | area=   all | maxDets=1000 ] = 0.557\n",
      " Average Recall     (AR) @[ IoU=0.50:0.95 | area= small | maxDets=1000 ] = 0.219\n",
      " Average Recall     (AR) @[ IoU=0.50:0.95 | area=medium | maxDets=1000 ] = 0.548\n",
      " Average Recall     (AR) @[ IoU=0.50:0.95 | area= large | maxDets=1000 ] = 0.547\n"
     ]
    },
    {
     "name": "stderr",
     "output_type": "stream",
     "text": [
      "2021-11-29 23:47:50,546 - mmdet - INFO - Epoch [20][100/4697]\tlr: 1.000e-03, eta: 7:39:40, time: 1.022, data_time: 0.033, memory: 8318, loss_rpn_cls: 0.0020, loss_rpn_bbox: 0.0044, loss_cls: 0.0472, acc: 98.1165, loss_bbox: 0.0777, loss: 0.1312\n",
      "2021-11-29 23:49:30,491 - mmdet - INFO - Epoch [20][200/4697]\tlr: 1.000e-03, eta: 7:38:02, time: 0.999, data_time: 0.013, memory: 8318, loss_rpn_cls: 0.0021, loss_rpn_bbox: 0.0044, loss_cls: 0.0474, acc: 98.1526, loss_bbox: 0.0779, loss: 0.1318\n",
      "2021-11-29 23:51:10,159 - mmdet - INFO - Epoch [20][300/4697]\tlr: 1.000e-03, eta: 7:36:24, time: 0.997, data_time: 0.013, memory: 8318, loss_rpn_cls: 0.0020, loss_rpn_bbox: 0.0044, loss_cls: 0.0486, acc: 98.0356, loss_bbox: 0.0786, loss: 0.1336\n",
      "2021-11-29 23:52:50,075 - mmdet - INFO - Epoch [20][400/4697]\tlr: 1.000e-03, eta: 7:34:46, time: 0.999, data_time: 0.013, memory: 8318, loss_rpn_cls: 0.0018, loss_rpn_bbox: 0.0043, loss_cls: 0.0485, acc: 98.0803, loss_bbox: 0.0806, loss: 0.1353\n",
      "2021-11-29 23:54:29,941 - mmdet - INFO - Epoch [20][500/4697]\tlr: 1.000e-03, eta: 7:33:09, time: 0.999, data_time: 0.013, memory: 8318, loss_rpn_cls: 0.0019, loss_rpn_bbox: 0.0044, loss_cls: 0.0472, acc: 98.1086, loss_bbox: 0.0776, loss: 0.1311\n",
      "2021-11-29 23:56:09,677 - mmdet - INFO - Epoch [20][600/4697]\tlr: 1.000e-03, eta: 7:31:31, time: 0.997, data_time: 0.013, memory: 8318, loss_rpn_cls: 0.0019, loss_rpn_bbox: 0.0045, loss_cls: 0.0470, acc: 98.0959, loss_bbox: 0.0786, loss: 0.1319\n",
      "2021-11-29 23:57:49,354 - mmdet - INFO - Epoch [20][700/4697]\tlr: 1.000e-03, eta: 7:29:53, time: 0.997, data_time: 0.013, memory: 8318, loss_rpn_cls: 0.0021, loss_rpn_bbox: 0.0044, loss_cls: 0.0470, acc: 98.1165, loss_bbox: 0.0791, loss: 0.1326\n",
      "2021-11-29 23:59:28,873 - mmdet - INFO - Epoch [20][800/4697]\tlr: 1.000e-03, eta: 7:28:15, time: 0.995, data_time: 0.013, memory: 8318, loss_rpn_cls: 0.0020, loss_rpn_bbox: 0.0049, loss_cls: 0.0465, acc: 98.1475, loss_bbox: 0.0797, loss: 0.1331\n",
      "2021-11-30 00:01:08,546 - mmdet - INFO - Epoch [20][900/4697]\tlr: 1.000e-03, eta: 7:26:38, time: 0.997, data_time: 0.013, memory: 8318, loss_rpn_cls: 0.0018, loss_rpn_bbox: 0.0040, loss_cls: 0.0466, acc: 98.1255, loss_bbox: 0.0763, loss: 0.1287\n",
      "2021-11-30 00:02:48,361 - mmdet - INFO - Epoch [20][1000/4697]\tlr: 1.000e-03, eta: 7:25:00, time: 0.998, data_time: 0.013, memory: 8318, loss_rpn_cls: 0.0021, loss_rpn_bbox: 0.0045, loss_cls: 0.0469, acc: 98.1021, loss_bbox: 0.0790, loss: 0.1325\n",
      "2021-11-30 00:04:28,292 - mmdet - INFO - Epoch [20][1100/4697]\tlr: 1.000e-03, eta: 7:23:22, time: 0.999, data_time: 0.014, memory: 8318, loss_rpn_cls: 0.0017, loss_rpn_bbox: 0.0043, loss_cls: 0.0477, acc: 98.0803, loss_bbox: 0.0795, loss: 0.1332\n",
      "2021-11-30 00:06:08,019 - mmdet - INFO - Epoch [20][1200/4697]\tlr: 1.000e-03, eta: 7:21:44, time: 0.997, data_time: 0.013, memory: 8318, loss_rpn_cls: 0.0019, loss_rpn_bbox: 0.0045, loss_cls: 0.0485, acc: 98.0823, loss_bbox: 0.0785, loss: 0.1333\n",
      "2021-11-30 00:07:47,776 - mmdet - INFO - Epoch [20][1300/4697]\tlr: 1.000e-03, eta: 7:20:07, time: 0.998, data_time: 0.013, memory: 8318, loss_rpn_cls: 0.0018, loss_rpn_bbox: 0.0043, loss_cls: 0.0444, acc: 98.1836, loss_bbox: 0.0763, loss: 0.1269\n",
      "2021-11-30 00:09:27,549 - mmdet - INFO - Epoch [20][1400/4697]\tlr: 1.000e-03, eta: 7:18:29, time: 0.998, data_time: 0.013, memory: 8318, loss_rpn_cls: 0.0023, loss_rpn_bbox: 0.0041, loss_cls: 0.0477, acc: 98.0745, loss_bbox: 0.0785, loss: 0.1326\n",
      "2021-11-30 00:11:07,415 - mmdet - INFO - Epoch [20][1500/4697]\tlr: 1.000e-03, eta: 7:16:51, time: 0.999, data_time: 0.013, memory: 8318, loss_rpn_cls: 0.0017, loss_rpn_bbox: 0.0045, loss_cls: 0.0480, acc: 98.0422, loss_bbox: 0.0805, loss: 0.1348\n",
      "2021-11-30 00:12:47,338 - mmdet - INFO - Epoch [20][1600/4697]\tlr: 1.000e-03, eta: 7:15:13, time: 0.999, data_time: 0.013, memory: 8318, loss_rpn_cls: 0.0019, loss_rpn_bbox: 0.0044, loss_cls: 0.0480, acc: 98.0383, loss_bbox: 0.0801, loss: 0.1344\n",
      "2021-11-30 00:14:27,239 - mmdet - INFO - Epoch [20][1700/4697]\tlr: 1.000e-03, eta: 7:13:36, time: 0.999, data_time: 0.013, memory: 8318, loss_rpn_cls: 0.0018, loss_rpn_bbox: 0.0041, loss_cls: 0.0443, acc: 98.2102, loss_bbox: 0.0777, loss: 0.1280\n",
      "2021-11-30 00:16:07,154 - mmdet - INFO - Epoch [20][1800/4697]\tlr: 1.000e-03, eta: 7:11:58, time: 0.999, data_time: 0.013, memory: 8318, loss_rpn_cls: 0.0021, loss_rpn_bbox: 0.0043, loss_cls: 0.0485, acc: 98.0479, loss_bbox: 0.0802, loss: 0.1350\n",
      "2021-11-30 00:17:46,783 - mmdet - INFO - Epoch [20][1900/4697]\tlr: 1.000e-03, eta: 7:10:20, time: 0.996, data_time: 0.013, memory: 8318, loss_rpn_cls: 0.0017, loss_rpn_bbox: 0.0043, loss_cls: 0.0485, acc: 98.0383, loss_bbox: 0.0795, loss: 0.1340\n",
      "2021-11-30 00:19:26,470 - mmdet - INFO - Epoch [20][2000/4697]\tlr: 1.000e-03, eta: 7:08:42, time: 0.997, data_time: 0.013, memory: 8318, loss_rpn_cls: 0.0016, loss_rpn_bbox: 0.0045, loss_cls: 0.0455, acc: 98.1414, loss_bbox: 0.0781, loss: 0.1297\n",
      "2021-11-30 00:21:06,655 - mmdet - INFO - Epoch [20][2100/4697]\tlr: 1.000e-03, eta: 7:07:04, time: 1.002, data_time: 0.013, memory: 8318, loss_rpn_cls: 0.0019, loss_rpn_bbox: 0.0046, loss_cls: 0.0476, acc: 98.0955, loss_bbox: 0.0796, loss: 0.1337\n",
      "2021-11-30 00:22:46,600 - mmdet - INFO - Epoch [20][2200/4697]\tlr: 1.000e-03, eta: 7:05:27, time: 0.999, data_time: 0.013, memory: 8318, loss_rpn_cls: 0.0020, loss_rpn_bbox: 0.0045, loss_cls: 0.0484, acc: 98.0215, loss_bbox: 0.0794, loss: 0.1343\n",
      "2021-11-30 00:24:26,451 - mmdet - INFO - Epoch [20][2300/4697]\tlr: 1.000e-03, eta: 7:03:49, time: 0.998, data_time: 0.013, memory: 8318, loss_rpn_cls: 0.0024, loss_rpn_bbox: 0.0045, loss_cls: 0.0505, acc: 97.9907, loss_bbox: 0.0817, loss: 0.1390\n",
      "2021-11-30 00:26:06,353 - mmdet - INFO - Epoch [20][2400/4697]\tlr: 1.000e-03, eta: 7:02:11, time: 0.999, data_time: 0.013, memory: 8318, loss_rpn_cls: 0.0019, loss_rpn_bbox: 0.0044, loss_cls: 0.0487, acc: 98.0178, loss_bbox: 0.0818, loss: 0.1368\n",
      "2021-11-30 00:27:46,169 - mmdet - INFO - Epoch [20][2500/4697]\tlr: 1.000e-03, eta: 7:00:33, time: 0.998, data_time: 0.013, memory: 8318, loss_rpn_cls: 0.0016, loss_rpn_bbox: 0.0044, loss_cls: 0.0501, acc: 97.9900, loss_bbox: 0.0830, loss: 0.1391\n",
      "2021-11-30 00:29:26,399 - mmdet - INFO - Epoch [20][2600/4697]\tlr: 1.000e-03, eta: 6:58:56, time: 1.002, data_time: 0.013, memory: 8318, loss_rpn_cls: 0.0018, loss_rpn_bbox: 0.0046, loss_cls: 0.0492, acc: 98.0256, loss_bbox: 0.0811, loss: 0.1368\n",
      "2021-11-30 00:31:06,537 - mmdet - INFO - Epoch [20][2700/4697]\tlr: 1.000e-03, eta: 6:57:18, time: 1.001, data_time: 0.013, memory: 8318, loss_rpn_cls: 0.0020, loss_rpn_bbox: 0.0044, loss_cls: 0.0496, acc: 98.0183, loss_bbox: 0.0821, loss: 0.1381\n",
      "2021-11-30 00:32:46,837 - mmdet - INFO - Epoch [20][2800/4697]\tlr: 1.000e-03, eta: 6:55:40, time: 1.003, data_time: 0.013, memory: 8318, loss_rpn_cls: 0.0022, loss_rpn_bbox: 0.0042, loss_cls: 0.0485, acc: 98.0891, loss_bbox: 0.0775, loss: 0.1324\n",
      "2021-11-30 00:34:27,012 - mmdet - INFO - Epoch [20][2900/4697]\tlr: 1.000e-03, eta: 6:54:02, time: 1.002, data_time: 0.013, memory: 8318, loss_rpn_cls: 0.0021, loss_rpn_bbox: 0.0043, loss_cls: 0.0492, acc: 98.0337, loss_bbox: 0.0826, loss: 0.1381\n",
      "2021-11-30 00:36:06,898 - mmdet - INFO - Epoch [20][3000/4697]\tlr: 1.000e-03, eta: 6:52:25, time: 0.999, data_time: 0.013, memory: 8318, loss_rpn_cls: 0.0017, loss_rpn_bbox: 0.0045, loss_cls: 0.0467, acc: 98.1145, loss_bbox: 0.0796, loss: 0.1324\n",
      "2021-11-30 00:37:46,550 - mmdet - INFO - Epoch [20][3100/4697]\tlr: 1.000e-03, eta: 6:50:47, time: 0.997, data_time: 0.013, memory: 8318, loss_rpn_cls: 0.0018, loss_rpn_bbox: 0.0043, loss_cls: 0.0464, acc: 98.1411, loss_bbox: 0.0784, loss: 0.1309\n",
      "2021-11-30 00:39:26,212 - mmdet - INFO - Epoch [20][3200/4697]\tlr: 1.000e-03, eta: 6:49:09, time: 0.997, data_time: 0.013, memory: 8318, loss_rpn_cls: 0.0019, loss_rpn_bbox: 0.0042, loss_cls: 0.0459, acc: 98.1208, loss_bbox: 0.0771, loss: 0.1291\n",
      "2021-11-30 00:41:05,741 - mmdet - INFO - Epoch [20][3300/4697]\tlr: 1.000e-03, eta: 6:47:31, time: 0.995, data_time: 0.013, memory: 8318, loss_rpn_cls: 0.0021, loss_rpn_bbox: 0.0043, loss_cls: 0.0490, acc: 98.0442, loss_bbox: 0.0804, loss: 0.1358\n",
      "2021-11-30 00:42:45,535 - mmdet - INFO - Epoch [20][3400/4697]\tlr: 1.000e-03, eta: 6:45:53, time: 0.998, data_time: 0.013, memory: 8318, loss_rpn_cls: 0.0019, loss_rpn_bbox: 0.0043, loss_cls: 0.0491, acc: 97.9785, loss_bbox: 0.0815, loss: 0.1368\n"
     ]
    },
    {
     "name": "stderr",
     "output_type": "stream",
     "text": [
      "2021-11-30 00:44:25,285 - mmdet - INFO - Epoch [20][3500/4697]\tlr: 1.000e-03, eta: 6:44:15, time: 0.997, data_time: 0.013, memory: 8318, loss_rpn_cls: 0.0019, loss_rpn_bbox: 0.0043, loss_cls: 0.0494, acc: 98.0273, loss_bbox: 0.0806, loss: 0.1361\n",
      "2021-11-30 00:46:05,227 - mmdet - INFO - Epoch [20][3600/4697]\tlr: 1.000e-03, eta: 6:42:37, time: 0.999, data_time: 0.013, memory: 8318, loss_rpn_cls: 0.0018, loss_rpn_bbox: 0.0046, loss_cls: 0.0487, acc: 98.0466, loss_bbox: 0.0819, loss: 0.1371\n",
      "2021-11-30 00:47:45,068 - mmdet - INFO - Epoch [20][3700/4697]\tlr: 1.000e-03, eta: 6:40:59, time: 0.998, data_time: 0.013, memory: 8318, loss_rpn_cls: 0.0017, loss_rpn_bbox: 0.0043, loss_cls: 0.0464, acc: 98.1226, loss_bbox: 0.0789, loss: 0.1313\n",
      "2021-11-30 00:49:24,790 - mmdet - INFO - Epoch [20][3800/4697]\tlr: 1.000e-03, eta: 6:39:22, time: 0.997, data_time: 0.013, memory: 8318, loss_rpn_cls: 0.0022, loss_rpn_bbox: 0.0043, loss_cls: 0.0468, acc: 98.1152, loss_bbox: 0.0777, loss: 0.1309\n",
      "2021-11-30 00:51:04,511 - mmdet - INFO - Epoch [20][3900/4697]\tlr: 1.000e-03, eta: 6:37:44, time: 0.997, data_time: 0.013, memory: 8318, loss_rpn_cls: 0.0020, loss_rpn_bbox: 0.0042, loss_cls: 0.0479, acc: 98.0828, loss_bbox: 0.0791, loss: 0.1332\n",
      "2021-11-30 00:52:44,357 - mmdet - INFO - Epoch [20][4000/4697]\tlr: 1.000e-03, eta: 6:36:06, time: 0.998, data_time: 0.013, memory: 8318, loss_rpn_cls: 0.0017, loss_rpn_bbox: 0.0043, loss_cls: 0.0470, acc: 98.0938, loss_bbox: 0.0798, loss: 0.1327\n",
      "2021-11-30 00:54:24,467 - mmdet - INFO - Epoch [20][4100/4697]\tlr: 1.000e-03, eta: 6:34:28, time: 1.001, data_time: 0.013, memory: 8318, loss_rpn_cls: 0.0022, loss_rpn_bbox: 0.0044, loss_cls: 0.0493, acc: 98.0264, loss_bbox: 0.0798, loss: 0.1357\n",
      "2021-11-30 00:56:04,440 - mmdet - INFO - Epoch [20][4200/4697]\tlr: 1.000e-03, eta: 6:32:50, time: 1.000, data_time: 0.013, memory: 8318, loss_rpn_cls: 0.0018, loss_rpn_bbox: 0.0043, loss_cls: 0.0477, acc: 98.0532, loss_bbox: 0.0785, loss: 0.1323\n",
      "2021-11-30 00:57:44,371 - mmdet - INFO - Epoch [20][4300/4697]\tlr: 1.000e-03, eta: 6:31:12, time: 0.999, data_time: 0.013, memory: 8318, loss_rpn_cls: 0.0015, loss_rpn_bbox: 0.0046, loss_cls: 0.0485, acc: 98.0012, loss_bbox: 0.0817, loss: 0.1364\n",
      "2021-11-30 00:59:24,402 - mmdet - INFO - Epoch [20][4400/4697]\tlr: 1.000e-03, eta: 6:29:34, time: 1.000, data_time: 0.013, memory: 8318, loss_rpn_cls: 0.0026, loss_rpn_bbox: 0.0045, loss_cls: 0.0484, acc: 98.0356, loss_bbox: 0.0798, loss: 0.1352\n",
      "2021-11-30 01:01:04,636 - mmdet - INFO - Epoch [20][4500/4697]\tlr: 1.000e-03, eta: 6:27:57, time: 1.002, data_time: 0.013, memory: 8318, loss_rpn_cls: 0.0017, loss_rpn_bbox: 0.0042, loss_cls: 0.0467, acc: 98.1174, loss_bbox: 0.0778, loss: 0.1305\n",
      "2021-11-30 01:02:46,932 - mmdet - INFO - Epoch [20][4600/4697]\tlr: 1.000e-03, eta: 6:26:19, time: 1.023, data_time: 0.013, memory: 8318, loss_rpn_cls: 0.0020, loss_rpn_bbox: 0.0046, loss_cls: 0.0474, acc: 98.0906, loss_bbox: 0.0806, loss: 0.1347\n",
      "2021-11-30 01:04:23,859 - mmdet - INFO - Saving checkpoint at 20 epochs\n"
     ]
    },
    {
     "name": "stdout",
     "output_type": "stream",
     "text": [
      "[>>>>>>>>>>>>>>>>>>>>>>>>] 12524/12524, 16.4 task/s, elapsed: 763s, ETA:     0s"
     ]
    },
    {
     "name": "stderr",
     "output_type": "stream",
     "text": [
      "2021-11-30 01:17:07,925 - mmdet - INFO - Evaluating bbox...\n"
     ]
    },
    {
     "name": "stdout",
     "output_type": "stream",
     "text": [
      "Loading and preparing results...\n",
      "DONE (t=0.20s)\n",
      "creating index...\n",
      "index created!\n",
      "Running per image evaluation...\n",
      "Evaluate annotation type *bbox*\n",
      "DONE (t=5.30s).\n",
      "Accumulating evaluation results...\n"
     ]
    },
    {
     "name": "stderr",
     "output_type": "stream",
     "text": [
      "2021-11-30 01:17:14,843 - mmdet - INFO - Epoch(val) [20][12524]\tbbox_mAP: 0.4400, bbox_mAP_50: 0.7840, bbox_mAP_75: 0.4420, bbox_mAP_s: 0.1650, bbox_mAP_m: 0.4250, bbox_mAP_l: 0.4270, bbox_mAP_copypaste: 0.440 0.784 0.442 0.165 0.425 0.427\n"
     ]
    },
    {
     "name": "stdout",
     "output_type": "stream",
     "text": [
      "DONE (t=1.19s).\n",
      " Average Precision  (AP) @[ IoU=0.50:0.95 | area=   all | maxDets=100 ] = 0.440\n",
      " Average Precision  (AP) @[ IoU=0.50      | area=   all | maxDets=1000 ] = 0.784\n",
      " Average Precision  (AP) @[ IoU=0.75      | area=   all | maxDets=1000 ] = 0.442\n",
      " Average Precision  (AP) @[ IoU=0.50:0.95 | area= small | maxDets=1000 ] = 0.165\n",
      " Average Precision  (AP) @[ IoU=0.50:0.95 | area=medium | maxDets=1000 ] = 0.425\n",
      " Average Precision  (AP) @[ IoU=0.50:0.95 | area= large | maxDets=1000 ] = 0.427\n",
      " Average Recall     (AR) @[ IoU=0.50:0.95 | area=   all | maxDets=100 ] = 0.552\n",
      " Average Recall     (AR) @[ IoU=0.50:0.95 | area=   all | maxDets=300 ] = 0.552\n",
      " Average Recall     (AR) @[ IoU=0.50:0.95 | area=   all | maxDets=1000 ] = 0.552\n",
      " Average Recall     (AR) @[ IoU=0.50:0.95 | area= small | maxDets=1000 ] = 0.238\n",
      " Average Recall     (AR) @[ IoU=0.50:0.95 | area=medium | maxDets=1000 ] = 0.541\n",
      " Average Recall     (AR) @[ IoU=0.50:0.95 | area= large | maxDets=1000 ] = 0.547\n"
     ]
    },
    {
     "name": "stderr",
     "output_type": "stream",
     "text": [
      "2021-11-30 01:18:58,230 - mmdet - INFO - Epoch [21][100/4697]\tlr: 1.000e-03, eta: 6:22:43, time: 1.032, data_time: 0.034, memory: 8318, loss_rpn_cls: 0.0018, loss_rpn_bbox: 0.0043, loss_cls: 0.0444, acc: 98.1792, loss_bbox: 0.0758, loss: 0.1264\n",
      "2021-11-30 01:20:38,133 - mmdet - INFO - Epoch [21][200/4697]\tlr: 1.000e-03, eta: 6:21:05, time: 0.999, data_time: 0.013, memory: 8318, loss_rpn_cls: 0.0016, loss_rpn_bbox: 0.0043, loss_cls: 0.0446, acc: 98.2197, loss_bbox: 0.0784, loss: 0.1289\n",
      "2021-11-30 01:22:17,823 - mmdet - INFO - Epoch [21][300/4697]\tlr: 1.000e-03, eta: 6:19:28, time: 0.997, data_time: 0.013, memory: 8318, loss_rpn_cls: 0.0016, loss_rpn_bbox: 0.0041, loss_cls: 0.0455, acc: 98.1453, loss_bbox: 0.0761, loss: 0.1274\n",
      "2021-11-30 01:23:57,694 - mmdet - INFO - Epoch [21][400/4697]\tlr: 1.000e-03, eta: 6:17:50, time: 0.999, data_time: 0.013, memory: 8318, loss_rpn_cls: 0.0015, loss_rpn_bbox: 0.0043, loss_cls: 0.0458, acc: 98.1570, loss_bbox: 0.0780, loss: 0.1295\n",
      "2021-11-30 01:25:37,508 - mmdet - INFO - Epoch [21][500/4697]\tlr: 1.000e-03, eta: 6:16:12, time: 0.998, data_time: 0.013, memory: 8318, loss_rpn_cls: 0.0018, loss_rpn_bbox: 0.0043, loss_cls: 0.0446, acc: 98.1797, loss_bbox: 0.0761, loss: 0.1268\n",
      "2021-11-30 01:27:17,573 - mmdet - INFO - Epoch [21][600/4697]\tlr: 1.000e-03, eta: 6:14:34, time: 1.001, data_time: 0.013, memory: 8318, loss_rpn_cls: 0.0017, loss_rpn_bbox: 0.0043, loss_cls: 0.0451, acc: 98.1667, loss_bbox: 0.0786, loss: 0.1297\n",
      "2021-11-30 01:28:57,331 - mmdet - INFO - Epoch [21][700/4697]\tlr: 1.000e-03, eta: 6:12:56, time: 0.998, data_time: 0.013, memory: 8318, loss_rpn_cls: 0.0018, loss_rpn_bbox: 0.0043, loss_cls: 0.0456, acc: 98.1731, loss_bbox: 0.0773, loss: 0.1290\n",
      "2021-11-30 01:30:37,411 - mmdet - INFO - Epoch [21][800/4697]\tlr: 1.000e-03, eta: 6:11:19, time: 1.001, data_time: 0.013, memory: 8318, loss_rpn_cls: 0.0019, loss_rpn_bbox: 0.0044, loss_cls: 0.0458, acc: 98.1274, loss_bbox: 0.0804, loss: 0.1325\n",
      "2021-11-30 01:32:17,247 - mmdet - INFO - Epoch [21][900/4697]\tlr: 1.000e-03, eta: 6:09:41, time: 0.998, data_time: 0.013, memory: 8318, loss_rpn_cls: 0.0016, loss_rpn_bbox: 0.0040, loss_cls: 0.0445, acc: 98.1599, loss_bbox: 0.0764, loss: 0.1266\n",
      "2021-11-30 01:33:57,226 - mmdet - INFO - Epoch [21][1000/4697]\tlr: 1.000e-03, eta: 6:08:03, time: 1.000, data_time: 0.013, memory: 8318, loss_rpn_cls: 0.0018, loss_rpn_bbox: 0.0041, loss_cls: 0.0472, acc: 98.1426, loss_bbox: 0.0762, loss: 0.1294\n",
      "2021-11-30 01:35:36,917 - mmdet - INFO - Epoch [21][1100/4697]\tlr: 1.000e-03, eta: 6:06:25, time: 0.997, data_time: 0.013, memory: 8318, loss_rpn_cls: 0.0019, loss_rpn_bbox: 0.0043, loss_cls: 0.0455, acc: 98.1670, loss_bbox: 0.0774, loss: 0.1291\n",
      "2021-11-30 01:37:16,547 - mmdet - INFO - Epoch [21][1200/4697]\tlr: 1.000e-03, eta: 6:04:47, time: 0.996, data_time: 0.013, memory: 8318, loss_rpn_cls: 0.0019, loss_rpn_bbox: 0.0043, loss_cls: 0.0452, acc: 98.1606, loss_bbox: 0.0781, loss: 0.1294\n",
      "2021-11-30 01:38:56,335 - mmdet - INFO - Epoch [21][1300/4697]\tlr: 1.000e-03, eta: 6:03:09, time: 0.998, data_time: 0.013, memory: 8318, loss_rpn_cls: 0.0017, loss_rpn_bbox: 0.0043, loss_cls: 0.0478, acc: 98.0657, loss_bbox: 0.0800, loss: 0.1337\n",
      "2021-11-30 01:40:36,243 - mmdet - INFO - Epoch [21][1400/4697]\tlr: 1.000e-03, eta: 6:01:32, time: 0.999, data_time: 0.013, memory: 8318, loss_rpn_cls: 0.0022, loss_rpn_bbox: 0.0043, loss_cls: 0.0470, acc: 98.1406, loss_bbox: 0.0788, loss: 0.1323\n",
      "2021-11-30 01:42:15,992 - mmdet - INFO - Epoch [21][1500/4697]\tlr: 1.000e-03, eta: 5:59:54, time: 0.997, data_time: 0.013, memory: 8318, loss_rpn_cls: 0.0018, loss_rpn_bbox: 0.0043, loss_cls: 0.0452, acc: 98.2080, loss_bbox: 0.0766, loss: 0.1279\n",
      "2021-11-30 01:43:55,696 - mmdet - INFO - Epoch [21][1600/4697]\tlr: 1.000e-03, eta: 5:58:16, time: 0.997, data_time: 0.013, memory: 8318, loss_rpn_cls: 0.0017, loss_rpn_bbox: 0.0044, loss_cls: 0.0461, acc: 98.1326, loss_bbox: 0.0789, loss: 0.1312\n",
      "2021-11-30 01:45:35,395 - mmdet - INFO - Epoch [21][1700/4697]\tlr: 1.000e-03, eta: 5:56:38, time: 0.997, data_time: 0.013, memory: 8318, loss_rpn_cls: 0.0015, loss_rpn_bbox: 0.0042, loss_cls: 0.0464, acc: 98.1208, loss_bbox: 0.0781, loss: 0.1303\n",
      "2021-11-30 01:47:15,108 - mmdet - INFO - Epoch [21][1800/4697]\tlr: 1.000e-03, eta: 5:55:00, time: 0.997, data_time: 0.013, memory: 8318, loss_rpn_cls: 0.0017, loss_rpn_bbox: 0.0041, loss_cls: 0.0441, acc: 98.2278, loss_bbox: 0.0737, loss: 0.1236\n",
      "2021-11-30 01:48:54,848 - mmdet - INFO - Epoch [21][1900/4697]\tlr: 1.000e-03, eta: 5:53:22, time: 0.997, data_time: 0.013, memory: 8318, loss_rpn_cls: 0.0018, loss_rpn_bbox: 0.0042, loss_cls: 0.0460, acc: 98.1599, loss_bbox: 0.0759, loss: 0.1279\n",
      "2021-11-30 01:50:34,724 - mmdet - INFO - Epoch [21][2000/4697]\tlr: 1.000e-03, eta: 5:51:44, time: 0.999, data_time: 0.013, memory: 8318, loss_rpn_cls: 0.0016, loss_rpn_bbox: 0.0042, loss_cls: 0.0450, acc: 98.1677, loss_bbox: 0.0765, loss: 0.1273\n",
      "2021-11-30 01:52:14,668 - mmdet - INFO - Epoch [21][2100/4697]\tlr: 1.000e-03, eta: 5:50:06, time: 0.999, data_time: 0.013, memory: 8318, loss_rpn_cls: 0.0017, loss_rpn_bbox: 0.0043, loss_cls: 0.0466, acc: 98.1472, loss_bbox: 0.0770, loss: 0.1296\n",
      "2021-11-30 01:53:54,558 - mmdet - INFO - Epoch [21][2200/4697]\tlr: 1.000e-03, eta: 5:48:29, time: 0.999, data_time: 0.013, memory: 8318, loss_rpn_cls: 0.0018, loss_rpn_bbox: 0.0041, loss_cls: 0.0444, acc: 98.1892, loss_bbox: 0.0758, loss: 0.1262\n",
      "2021-11-30 01:55:34,295 - mmdet - INFO - Epoch [21][2300/4697]\tlr: 1.000e-03, eta: 5:46:51, time: 0.997, data_time: 0.013, memory: 8318, loss_rpn_cls: 0.0019, loss_rpn_bbox: 0.0043, loss_cls: 0.0462, acc: 98.0991, loss_bbox: 0.0764, loss: 0.1288\n",
      "2021-11-30 01:57:14,232 - mmdet - INFO - Epoch [21][2400/4697]\tlr: 1.000e-03, eta: 5:45:13, time: 0.999, data_time: 0.013, memory: 8318, loss_rpn_cls: 0.0020, loss_rpn_bbox: 0.0043, loss_cls: 0.0454, acc: 98.1614, loss_bbox: 0.0786, loss: 0.1302\n",
      "2021-11-30 01:58:54,133 - mmdet - INFO - Epoch [21][2500/4697]\tlr: 1.000e-03, eta: 5:43:35, time: 0.999, data_time: 0.013, memory: 8318, loss_rpn_cls: 0.0018, loss_rpn_bbox: 0.0042, loss_cls: 0.0467, acc: 98.1230, loss_bbox: 0.0767, loss: 0.1294\n",
      "2021-11-30 02:00:34,004 - mmdet - INFO - Epoch [21][2600/4697]\tlr: 1.000e-03, eta: 5:41:57, time: 0.999, data_time: 0.013, memory: 8318, loss_rpn_cls: 0.0018, loss_rpn_bbox: 0.0042, loss_cls: 0.0459, acc: 98.1567, loss_bbox: 0.0777, loss: 0.1297\n",
      "2021-11-30 02:02:13,746 - mmdet - INFO - Epoch [21][2700/4697]\tlr: 1.000e-03, eta: 5:40:19, time: 0.997, data_time: 0.013, memory: 8318, loss_rpn_cls: 0.0025, loss_rpn_bbox: 0.0046, loss_cls: 0.0466, acc: 98.1208, loss_bbox: 0.0782, loss: 0.1318\n",
      "2021-11-30 02:03:53,546 - mmdet - INFO - Epoch [21][2800/4697]\tlr: 1.000e-03, eta: 5:38:41, time: 0.998, data_time: 0.013, memory: 8318, loss_rpn_cls: 0.0019, loss_rpn_bbox: 0.0043, loss_cls: 0.0470, acc: 98.0945, loss_bbox: 0.0789, loss: 0.1322\n",
      "2021-11-30 02:05:33,222 - mmdet - INFO - Epoch [21][2900/4697]\tlr: 1.000e-03, eta: 5:37:03, time: 0.997, data_time: 0.013, memory: 8318, loss_rpn_cls: 0.0015, loss_rpn_bbox: 0.0046, loss_cls: 0.0455, acc: 98.1477, loss_bbox: 0.0780, loss: 0.1295\n",
      "2021-11-30 02:07:12,958 - mmdet - INFO - Epoch [21][3000/4697]\tlr: 1.000e-03, eta: 5:35:25, time: 0.997, data_time: 0.013, memory: 8318, loss_rpn_cls: 0.0018, loss_rpn_bbox: 0.0044, loss_cls: 0.0451, acc: 98.1453, loss_bbox: 0.0782, loss: 0.1295\n",
      "2021-11-30 02:08:52,697 - mmdet - INFO - Epoch [21][3100/4697]\tlr: 1.000e-03, eta: 5:33:47, time: 0.997, data_time: 0.013, memory: 8318, loss_rpn_cls: 0.0018, loss_rpn_bbox: 0.0044, loss_cls: 0.0473, acc: 98.0862, loss_bbox: 0.0814, loss: 0.1349\n",
      "2021-11-30 02:10:32,435 - mmdet - INFO - Epoch [21][3200/4697]\tlr: 1.000e-03, eta: 5:32:09, time: 0.997, data_time: 0.013, memory: 8318, loss_rpn_cls: 0.0018, loss_rpn_bbox: 0.0042, loss_cls: 0.0485, acc: 98.0383, loss_bbox: 0.0799, loss: 0.1344\n",
      "2021-11-30 02:12:12,020 - mmdet - INFO - Epoch [21][3300/4697]\tlr: 1.000e-03, eta: 5:30:31, time: 0.996, data_time: 0.014, memory: 8318, loss_rpn_cls: 0.0019, loss_rpn_bbox: 0.0045, loss_cls: 0.0479, acc: 98.0977, loss_bbox: 0.0798, loss: 0.1342\n",
      "2021-11-30 02:13:51,772 - mmdet - INFO - Epoch [21][3400/4697]\tlr: 1.000e-03, eta: 5:28:54, time: 0.998, data_time: 0.013, memory: 8318, loss_rpn_cls: 0.0018, loss_rpn_bbox: 0.0042, loss_cls: 0.0473, acc: 98.1028, loss_bbox: 0.0799, loss: 0.1333\n"
     ]
    },
    {
     "name": "stderr",
     "output_type": "stream",
     "text": [
      "2021-11-30 02:15:31,439 - mmdet - INFO - Epoch [21][3500/4697]\tlr: 1.000e-03, eta: 5:27:16, time: 0.997, data_time: 0.013, memory: 8318, loss_rpn_cls: 0.0017, loss_rpn_bbox: 0.0043, loss_cls: 0.0467, acc: 98.1331, loss_bbox: 0.0772, loss: 0.1298\n",
      "2021-11-30 02:17:11,066 - mmdet - INFO - Epoch [21][3600/4697]\tlr: 1.000e-03, eta: 5:25:38, time: 0.996, data_time: 0.013, memory: 8318, loss_rpn_cls: 0.0017, loss_rpn_bbox: 0.0041, loss_cls: 0.0452, acc: 98.1711, loss_bbox: 0.0782, loss: 0.1292\n",
      "2021-11-30 02:18:50,733 - mmdet - INFO - Epoch [21][3700/4697]\tlr: 1.000e-03, eta: 5:24:00, time: 0.997, data_time: 0.013, memory: 8318, loss_rpn_cls: 0.0016, loss_rpn_bbox: 0.0043, loss_cls: 0.0451, acc: 98.2063, loss_bbox: 0.0765, loss: 0.1275\n",
      "2021-11-30 02:20:30,278 - mmdet - INFO - Epoch [21][3800/4697]\tlr: 1.000e-03, eta: 5:22:22, time: 0.995, data_time: 0.013, memory: 8318, loss_rpn_cls: 0.0019, loss_rpn_bbox: 0.0043, loss_cls: 0.0462, acc: 98.1331, loss_bbox: 0.0775, loss: 0.1299\n",
      "2021-11-30 02:22:09,993 - mmdet - INFO - Epoch [21][3900/4697]\tlr: 1.000e-03, eta: 5:20:44, time: 0.997, data_time: 0.013, memory: 8318, loss_rpn_cls: 0.0022, loss_rpn_bbox: 0.0043, loss_cls: 0.0479, acc: 98.0813, loss_bbox: 0.0786, loss: 0.1330\n",
      "2021-11-30 02:23:49,851 - mmdet - INFO - Epoch [21][4000/4697]\tlr: 1.000e-03, eta: 5:19:06, time: 0.999, data_time: 0.013, memory: 8318, loss_rpn_cls: 0.0017, loss_rpn_bbox: 0.0042, loss_cls: 0.0448, acc: 98.2031, loss_bbox: 0.0777, loss: 0.1284\n",
      "2021-11-30 02:25:29,634 - mmdet - INFO - Epoch [21][4100/4697]\tlr: 1.000e-03, eta: 5:17:28, time: 0.998, data_time: 0.013, memory: 8318, loss_rpn_cls: 0.0018, loss_rpn_bbox: 0.0043, loss_cls: 0.0471, acc: 98.1196, loss_bbox: 0.0783, loss: 0.1316\n",
      "2021-11-30 02:27:09,588 - mmdet - INFO - Epoch [21][4200/4697]\tlr: 1.000e-03, eta: 5:15:50, time: 1.000, data_time: 0.013, memory: 8318, loss_rpn_cls: 0.0020, loss_rpn_bbox: 0.0043, loss_cls: 0.0469, acc: 98.1270, loss_bbox: 0.0783, loss: 0.1315\n",
      "2021-11-30 02:28:49,592 - mmdet - INFO - Epoch [21][4300/4697]\tlr: 1.000e-03, eta: 5:14:12, time: 1.000, data_time: 0.013, memory: 8318, loss_rpn_cls: 0.0017, loss_rpn_bbox: 0.0044, loss_cls: 0.0473, acc: 98.0835, loss_bbox: 0.0775, loss: 0.1309\n",
      "2021-11-30 02:30:29,471 - mmdet - INFO - Epoch [21][4400/4697]\tlr: 1.000e-03, eta: 5:12:34, time: 0.999, data_time: 0.013, memory: 8318, loss_rpn_cls: 0.0019, loss_rpn_bbox: 0.0045, loss_cls: 0.0468, acc: 98.0925, loss_bbox: 0.0780, loss: 0.1312\n",
      "2021-11-30 02:32:09,489 - mmdet - INFO - Epoch [21][4500/4697]\tlr: 1.000e-03, eta: 5:10:56, time: 1.000, data_time: 0.013, memory: 8318, loss_rpn_cls: 0.0017, loss_rpn_bbox: 0.0043, loss_cls: 0.0477, acc: 98.0828, loss_bbox: 0.0793, loss: 0.1330\n",
      "2021-11-30 02:33:49,468 - mmdet - INFO - Epoch [21][4600/4697]\tlr: 1.000e-03, eta: 5:09:18, time: 1.000, data_time: 0.013, memory: 8318, loss_rpn_cls: 0.0023, loss_rpn_bbox: 0.0046, loss_cls: 0.0491, acc: 98.0181, loss_bbox: 0.0808, loss: 0.1369\n",
      "2021-11-30 02:35:26,447 - mmdet - INFO - Saving checkpoint at 21 epochs\n"
     ]
    },
    {
     "name": "stdout",
     "output_type": "stream",
     "text": [
      "[>>>>>>>>>>>>>>>>>>>>>>>>] 12524/12524, 16.4 task/s, elapsed: 762s, ETA:     0s"
     ]
    },
    {
     "name": "stderr",
     "output_type": "stream",
     "text": [
      "2021-11-30 02:48:09,180 - mmdet - INFO - Evaluating bbox...\n"
     ]
    },
    {
     "name": "stdout",
     "output_type": "stream",
     "text": [
      "Loading and preparing results...\n",
      "DONE (t=0.20s)\n",
      "creating index...\n",
      "index created!\n",
      "Running per image evaluation...\n",
      "Evaluate annotation type *bbox*\n",
      "DONE (t=5.29s).\n",
      "Accumulating evaluation results...\n"
     ]
    },
    {
     "name": "stderr",
     "output_type": "stream",
     "text": [
      "2021-11-30 02:48:16,143 - mmdet - INFO - Epoch(val) [21][12524]\tbbox_mAP: 0.4370, bbox_mAP_50: 0.7760, bbox_mAP_75: 0.4390, bbox_mAP_s: 0.1550, bbox_mAP_m: 0.4220, bbox_mAP_l: 0.4220, bbox_mAP_copypaste: 0.437 0.776 0.439 0.155 0.422 0.422\n"
     ]
    },
    {
     "name": "stdout",
     "output_type": "stream",
     "text": [
      "DONE (t=1.23s).\n",
      " Average Precision  (AP) @[ IoU=0.50:0.95 | area=   all | maxDets=100 ] = 0.437\n",
      " Average Precision  (AP) @[ IoU=0.50      | area=   all | maxDets=1000 ] = 0.776\n",
      " Average Precision  (AP) @[ IoU=0.75      | area=   all | maxDets=1000 ] = 0.439\n",
      " Average Precision  (AP) @[ IoU=0.50:0.95 | area= small | maxDets=1000 ] = 0.155\n",
      " Average Precision  (AP) @[ IoU=0.50:0.95 | area=medium | maxDets=1000 ] = 0.422\n",
      " Average Precision  (AP) @[ IoU=0.50:0.95 | area= large | maxDets=1000 ] = 0.422\n",
      " Average Recall     (AR) @[ IoU=0.50:0.95 | area=   all | maxDets=100 ] = 0.546\n",
      " Average Recall     (AR) @[ IoU=0.50:0.95 | area=   all | maxDets=300 ] = 0.546\n",
      " Average Recall     (AR) @[ IoU=0.50:0.95 | area=   all | maxDets=1000 ] = 0.546\n",
      " Average Recall     (AR) @[ IoU=0.50:0.95 | area= small | maxDets=1000 ] = 0.211\n",
      " Average Recall     (AR) @[ IoU=0.50:0.95 | area=medium | maxDets=1000 ] = 0.530\n",
      " Average Recall     (AR) @[ IoU=0.50:0.95 | area= large | maxDets=1000 ] = 0.541\n"
     ]
    },
    {
     "name": "stderr",
     "output_type": "stream",
     "text": [
      "2021-11-30 02:49:58,433 - mmdet - INFO - Epoch [22][100/4697]\tlr: 1.000e-03, eta: 5:05:47, time: 1.021, data_time: 0.034, memory: 8318, loss_rpn_cls: 0.0017, loss_rpn_bbox: 0.0042, loss_cls: 0.0420, acc: 98.2993, loss_bbox: 0.0737, loss: 0.1216\n",
      "2021-11-30 02:51:38,397 - mmdet - INFO - Epoch [22][200/4697]\tlr: 1.000e-03, eta: 5:04:09, time: 1.000, data_time: 0.013, memory: 8318, loss_rpn_cls: 0.0014, loss_rpn_bbox: 0.0041, loss_cls: 0.0432, acc: 98.2556, loss_bbox: 0.0762, loss: 0.1249\n",
      "2021-11-30 02:53:18,323 - mmdet - INFO - Epoch [22][300/4697]\tlr: 1.000e-03, eta: 5:02:31, time: 0.999, data_time: 0.013, memory: 8318, loss_rpn_cls: 0.0017, loss_rpn_bbox: 0.0043, loss_cls: 0.0441, acc: 98.1948, loss_bbox: 0.0767, loss: 0.1268\n",
      "2021-11-30 02:54:58,053 - mmdet - INFO - Epoch [22][400/4697]\tlr: 1.000e-03, eta: 5:00:54, time: 0.997, data_time: 0.013, memory: 8318, loss_rpn_cls: 0.0022, loss_rpn_bbox: 0.0043, loss_cls: 0.0442, acc: 98.2166, loss_bbox: 0.0742, loss: 0.1249\n",
      "2021-11-30 02:56:37,678 - mmdet - INFO - Epoch [22][500/4697]\tlr: 1.000e-03, eta: 4:59:16, time: 0.996, data_time: 0.013, memory: 8318, loss_rpn_cls: 0.0015, loss_rpn_bbox: 0.0042, loss_cls: 0.0445, acc: 98.2207, loss_bbox: 0.0765, loss: 0.1267\n",
      "2021-11-30 02:58:17,506 - mmdet - INFO - Epoch [22][600/4697]\tlr: 1.000e-03, eta: 4:57:38, time: 0.998, data_time: 0.013, memory: 8318, loss_rpn_cls: 0.0018, loss_rpn_bbox: 0.0043, loss_cls: 0.0450, acc: 98.1733, loss_bbox: 0.0776, loss: 0.1288\n",
      "2021-11-30 02:59:57,220 - mmdet - INFO - Epoch [22][700/4697]\tlr: 1.000e-03, eta: 4:56:00, time: 0.997, data_time: 0.013, memory: 8318, loss_rpn_cls: 0.0018, loss_rpn_bbox: 0.0044, loss_cls: 0.0462, acc: 98.1707, loss_bbox: 0.0767, loss: 0.1290\n",
      "2021-11-30 03:01:36,930 - mmdet - INFO - Epoch [22][800/4697]\tlr: 1.000e-03, eta: 4:54:22, time: 0.997, data_time: 0.013, memory: 8318, loss_rpn_cls: 0.0014, loss_rpn_bbox: 0.0041, loss_cls: 0.0426, acc: 98.2979, loss_bbox: 0.0753, loss: 0.1234\n",
      "2021-11-30 03:03:16,556 - mmdet - INFO - Epoch [22][900/4697]\tlr: 1.000e-03, eta: 4:52:44, time: 0.996, data_time: 0.013, memory: 8318, loss_rpn_cls: 0.0021, loss_rpn_bbox: 0.0044, loss_cls: 0.0462, acc: 98.1465, loss_bbox: 0.0783, loss: 0.1310\n",
      "2021-11-30 03:04:56,352 - mmdet - INFO - Epoch [22][1000/4697]\tlr: 1.000e-03, eta: 4:51:06, time: 0.998, data_time: 0.013, memory: 8318, loss_rpn_cls: 0.0018, loss_rpn_bbox: 0.0043, loss_cls: 0.0442, acc: 98.2263, loss_bbox: 0.0761, loss: 0.1264\n",
      "2021-11-30 03:06:36,136 - mmdet - INFO - Epoch [22][1100/4697]\tlr: 1.000e-03, eta: 4:49:28, time: 0.998, data_time: 0.013, memory: 8318, loss_rpn_cls: 0.0016, loss_rpn_bbox: 0.0040, loss_cls: 0.0441, acc: 98.2063, loss_bbox: 0.0770, loss: 0.1266\n",
      "2021-11-30 03:08:15,777 - mmdet - INFO - Epoch [22][1200/4697]\tlr: 1.000e-03, eta: 4:47:50, time: 0.996, data_time: 0.013, memory: 8318, loss_rpn_cls: 0.0020, loss_rpn_bbox: 0.0045, loss_cls: 0.0447, acc: 98.1980, loss_bbox: 0.0777, loss: 0.1289\n",
      "2021-11-30 03:09:55,478 - mmdet - INFO - Epoch [22][1300/4697]\tlr: 1.000e-03, eta: 4:46:12, time: 0.997, data_time: 0.013, memory: 8318, loss_rpn_cls: 0.0016, loss_rpn_bbox: 0.0041, loss_cls: 0.0420, acc: 98.3044, loss_bbox: 0.0728, loss: 0.1205\n",
      "2021-11-30 03:11:35,410 - mmdet - INFO - Epoch [22][1400/4697]\tlr: 1.000e-03, eta: 4:44:34, time: 0.999, data_time: 0.013, memory: 8318, loss_rpn_cls: 0.0016, loss_rpn_bbox: 0.0041, loss_cls: 0.0435, acc: 98.2576, loss_bbox: 0.0761, loss: 0.1253\n",
      "2021-11-30 03:13:15,235 - mmdet - INFO - Epoch [22][1500/4697]\tlr: 1.000e-03, eta: 4:42:57, time: 0.998, data_time: 0.013, memory: 8318, loss_rpn_cls: 0.0016, loss_rpn_bbox: 0.0041, loss_cls: 0.0441, acc: 98.2107, loss_bbox: 0.0771, loss: 0.1268\n",
      "2021-11-30 03:14:54,930 - mmdet - INFO - Epoch [22][1600/4697]\tlr: 1.000e-03, eta: 4:41:19, time: 0.997, data_time: 0.013, memory: 8318, loss_rpn_cls: 0.0019, loss_rpn_bbox: 0.0041, loss_cls: 0.0419, acc: 98.3325, loss_bbox: 0.0727, loss: 0.1205\n",
      "2021-11-30 03:16:34,684 - mmdet - INFO - Epoch [22][1700/4697]\tlr: 1.000e-03, eta: 4:39:41, time: 0.998, data_time: 0.013, memory: 8318, loss_rpn_cls: 0.0016, loss_rpn_bbox: 0.0043, loss_cls: 0.0433, acc: 98.2302, loss_bbox: 0.0750, loss: 0.1242\n",
      "2021-11-30 03:18:14,321 - mmdet - INFO - Epoch [22][1800/4697]\tlr: 1.000e-03, eta: 4:38:03, time: 0.996, data_time: 0.013, memory: 8318, loss_rpn_cls: 0.0017, loss_rpn_bbox: 0.0042, loss_cls: 0.0436, acc: 98.2144, loss_bbox: 0.0764, loss: 0.1259\n",
      "2021-11-30 03:19:54,073 - mmdet - INFO - Epoch [22][1900/4697]\tlr: 1.000e-03, eta: 4:36:25, time: 0.998, data_time: 0.014, memory: 8318, loss_rpn_cls: 0.0016, loss_rpn_bbox: 0.0039, loss_cls: 0.0419, acc: 98.2852, loss_bbox: 0.0729, loss: 0.1203\n",
      "2021-11-30 03:21:33,767 - mmdet - INFO - Epoch [22][2000/4697]\tlr: 1.000e-03, eta: 4:34:47, time: 0.997, data_time: 0.013, memory: 8318, loss_rpn_cls: 0.0017, loss_rpn_bbox: 0.0043, loss_cls: 0.0462, acc: 98.1433, loss_bbox: 0.0770, loss: 0.1293\n",
      "2021-11-30 03:23:13,476 - mmdet - INFO - Epoch [22][2100/4697]\tlr: 1.000e-03, eta: 4:33:09, time: 0.997, data_time: 0.013, memory: 8318, loss_rpn_cls: 0.0019, loss_rpn_bbox: 0.0043, loss_cls: 0.0437, acc: 98.2139, loss_bbox: 0.0757, loss: 0.1257\n",
      "2021-11-30 03:24:53,250 - mmdet - INFO - Epoch [22][2200/4697]\tlr: 1.000e-03, eta: 4:31:31, time: 0.998, data_time: 0.013, memory: 8318, loss_rpn_cls: 0.0015, loss_rpn_bbox: 0.0042, loss_cls: 0.0438, acc: 98.2346, loss_bbox: 0.0750, loss: 0.1244\n",
      "2021-11-30 03:26:32,979 - mmdet - INFO - Epoch [22][2300/4697]\tlr: 1.000e-03, eta: 4:29:53, time: 0.997, data_time: 0.013, memory: 8318, loss_rpn_cls: 0.0017, loss_rpn_bbox: 0.0039, loss_cls: 0.0417, acc: 98.3247, loss_bbox: 0.0743, loss: 0.1217\n",
      "2021-11-30 03:28:12,701 - mmdet - INFO - Epoch [22][2400/4697]\tlr: 1.000e-03, eta: 4:28:15, time: 0.997, data_time: 0.014, memory: 8318, loss_rpn_cls: 0.0016, loss_rpn_bbox: 0.0042, loss_cls: 0.0440, acc: 98.2126, loss_bbox: 0.0769, loss: 0.1267\n",
      "2021-11-30 03:29:52,630 - mmdet - INFO - Epoch [22][2500/4697]\tlr: 1.000e-03, eta: 4:26:37, time: 0.999, data_time: 0.013, memory: 8318, loss_rpn_cls: 0.0016, loss_rpn_bbox: 0.0041, loss_cls: 0.0424, acc: 98.2908, loss_bbox: 0.0743, loss: 0.1225\n",
      "2021-11-30 03:31:32,408 - mmdet - INFO - Epoch [22][2600/4697]\tlr: 1.000e-03, eta: 4:24:59, time: 0.998, data_time: 0.013, memory: 8318, loss_rpn_cls: 0.0017, loss_rpn_bbox: 0.0042, loss_cls: 0.0437, acc: 98.2583, loss_bbox: 0.0741, loss: 0.1236\n",
      "2021-11-30 03:33:12,255 - mmdet - INFO - Epoch [22][2700/4697]\tlr: 1.000e-03, eta: 4:23:21, time: 0.998, data_time: 0.013, memory: 8318, loss_rpn_cls: 0.0019, loss_rpn_bbox: 0.0043, loss_cls: 0.0450, acc: 98.2092, loss_bbox: 0.0774, loss: 0.1286\n",
      "2021-11-30 03:34:52,263 - mmdet - INFO - Epoch [22][2800/4697]\tlr: 1.000e-03, eta: 4:21:43, time: 1.000, data_time: 0.013, memory: 8318, loss_rpn_cls: 0.0015, loss_rpn_bbox: 0.0041, loss_cls: 0.0445, acc: 98.1951, loss_bbox: 0.0757, loss: 0.1259\n",
      "2021-11-30 03:36:32,180 - mmdet - INFO - Epoch [22][2900/4697]\tlr: 1.000e-03, eta: 4:20:05, time: 0.999, data_time: 0.013, memory: 8318, loss_rpn_cls: 0.0017, loss_rpn_bbox: 0.0044, loss_cls: 0.0454, acc: 98.1909, loss_bbox: 0.0764, loss: 0.1279\n",
      "2021-11-30 03:38:12,096 - mmdet - INFO - Epoch [22][3000/4697]\tlr: 1.000e-03, eta: 4:18:27, time: 0.999, data_time: 0.013, memory: 8318, loss_rpn_cls: 0.0017, loss_rpn_bbox: 0.0041, loss_cls: 0.0444, acc: 98.1851, loss_bbox: 0.0761, loss: 0.1263\n",
      "2021-11-30 03:39:52,185 - mmdet - INFO - Epoch [22][3100/4697]\tlr: 1.000e-03, eta: 4:16:49, time: 1.001, data_time: 0.013, memory: 8318, loss_rpn_cls: 0.0017, loss_rpn_bbox: 0.0041, loss_cls: 0.0447, acc: 98.2090, loss_bbox: 0.0759, loss: 0.1264\n",
      "2021-11-30 03:41:32,220 - mmdet - INFO - Epoch [22][3200/4697]\tlr: 1.000e-03, eta: 4:15:11, time: 1.000, data_time: 0.013, memory: 8318, loss_rpn_cls: 0.0018, loss_rpn_bbox: 0.0044, loss_cls: 0.0451, acc: 98.1929, loss_bbox: 0.0775, loss: 0.1288\n",
      "2021-11-30 03:43:12,086 - mmdet - INFO - Epoch [22][3300/4697]\tlr: 1.000e-03, eta: 4:13:33, time: 0.999, data_time: 0.013, memory: 8318, loss_rpn_cls: 0.0018, loss_rpn_bbox: 0.0045, loss_cls: 0.0453, acc: 98.1636, loss_bbox: 0.0762, loss: 0.1277\n",
      "2021-11-30 03:44:51,869 - mmdet - INFO - Epoch [22][3400/4697]\tlr: 1.000e-03, eta: 4:11:55, time: 0.998, data_time: 0.013, memory: 8318, loss_rpn_cls: 0.0020, loss_rpn_bbox: 0.0043, loss_cls: 0.0445, acc: 98.2073, loss_bbox: 0.0756, loss: 0.1264\n"
     ]
    },
    {
     "name": "stderr",
     "output_type": "stream",
     "text": [
      "2021-11-30 03:46:31,617 - mmdet - INFO - Epoch [22][3500/4697]\tlr: 1.000e-03, eta: 4:10:17, time: 0.997, data_time: 0.013, memory: 8318, loss_rpn_cls: 0.0021, loss_rpn_bbox: 0.0044, loss_cls: 0.0475, acc: 98.1194, loss_bbox: 0.0786, loss: 0.1326\n",
      "2021-11-30 03:48:11,401 - mmdet - INFO - Epoch [22][3600/4697]\tlr: 1.000e-03, eta: 4:08:39, time: 0.998, data_time: 0.013, memory: 8318, loss_rpn_cls: 0.0016, loss_rpn_bbox: 0.0044, loss_cls: 0.0460, acc: 98.1455, loss_bbox: 0.0793, loss: 0.1313\n",
      "2021-11-30 03:49:51,250 - mmdet - INFO - Epoch [22][3700/4697]\tlr: 1.000e-03, eta: 4:07:01, time: 0.998, data_time: 0.013, memory: 8318, loss_rpn_cls: 0.0019, loss_rpn_bbox: 0.0042, loss_cls: 0.0441, acc: 98.2354, loss_bbox: 0.0755, loss: 0.1256\n",
      "2021-11-30 03:51:31,268 - mmdet - INFO - Epoch [22][3800/4697]\tlr: 1.000e-03, eta: 4:05:23, time: 1.000, data_time: 0.013, memory: 8318, loss_rpn_cls: 0.0016, loss_rpn_bbox: 0.0043, loss_cls: 0.0438, acc: 98.2256, loss_bbox: 0.0772, loss: 0.1269\n",
      "2021-11-30 03:53:11,230 - mmdet - INFO - Epoch [22][3900/4697]\tlr: 1.000e-03, eta: 4:03:45, time: 1.000, data_time: 0.013, memory: 8318, loss_rpn_cls: 0.0018, loss_rpn_bbox: 0.0045, loss_cls: 0.0461, acc: 98.1511, loss_bbox: 0.0786, loss: 0.1309\n",
      "2021-11-30 03:54:50,958 - mmdet - INFO - Epoch [22][4000/4697]\tlr: 1.000e-03, eta: 4:02:07, time: 0.997, data_time: 0.013, memory: 8318, loss_rpn_cls: 0.0021, loss_rpn_bbox: 0.0042, loss_cls: 0.0445, acc: 98.2014, loss_bbox: 0.0758, loss: 0.1265\n",
      "2021-11-30 03:56:30,885 - mmdet - INFO - Epoch [22][4100/4697]\tlr: 1.000e-03, eta: 4:00:29, time: 0.999, data_time: 0.013, memory: 8318, loss_rpn_cls: 0.0017, loss_rpn_bbox: 0.0041, loss_cls: 0.0450, acc: 98.1890, loss_bbox: 0.0765, loss: 0.1274\n",
      "2021-11-30 03:58:10,878 - mmdet - INFO - Epoch [22][4200/4697]\tlr: 1.000e-03, eta: 3:58:51, time: 1.000, data_time: 0.013, memory: 8318, loss_rpn_cls: 0.0017, loss_rpn_bbox: 0.0044, loss_cls: 0.0450, acc: 98.1550, loss_bbox: 0.0777, loss: 0.1289\n",
      "2021-11-30 03:59:50,777 - mmdet - INFO - Epoch [22][4300/4697]\tlr: 1.000e-03, eta: 3:57:13, time: 0.999, data_time: 0.013, memory: 8318, loss_rpn_cls: 0.0015, loss_rpn_bbox: 0.0044, loss_cls: 0.0454, acc: 98.1687, loss_bbox: 0.0791, loss: 0.1304\n",
      "2021-11-30 04:01:30,684 - mmdet - INFO - Epoch [22][4400/4697]\tlr: 1.000e-03, eta: 3:55:35, time: 0.999, data_time: 0.013, memory: 8318, loss_rpn_cls: 0.0019, loss_rpn_bbox: 0.0043, loss_cls: 0.0450, acc: 98.1624, loss_bbox: 0.0768, loss: 0.1278\n",
      "2021-11-30 04:03:10,626 - mmdet - INFO - Epoch [22][4500/4697]\tlr: 1.000e-03, eta: 3:53:57, time: 0.999, data_time: 0.013, memory: 8318, loss_rpn_cls: 0.0017, loss_rpn_bbox: 0.0042, loss_cls: 0.0453, acc: 98.1895, loss_bbox: 0.0775, loss: 0.1287\n",
      "2021-11-30 04:04:50,620 - mmdet - INFO - Epoch [22][4600/4697]\tlr: 1.000e-03, eta: 3:52:19, time: 1.000, data_time: 0.013, memory: 8318, loss_rpn_cls: 0.0020, loss_rpn_bbox: 0.0042, loss_cls: 0.0439, acc: 98.1943, loss_bbox: 0.0755, loss: 0.1256\n",
      "2021-11-30 04:06:27,449 - mmdet - INFO - Saving checkpoint at 22 epochs\n"
     ]
    },
    {
     "name": "stdout",
     "output_type": "stream",
     "text": [
      "[>>>>>>>>>>>>>>>>>>>>>>>>] 12524/12524, 16.5 task/s, elapsed: 761s, ETA:     0s"
     ]
    },
    {
     "name": "stderr",
     "output_type": "stream",
     "text": [
      "2021-11-30 04:19:09,093 - mmdet - INFO - Evaluating bbox...\n"
     ]
    },
    {
     "name": "stdout",
     "output_type": "stream",
     "text": [
      "Loading and preparing results...\n",
      "DONE (t=0.03s)\n",
      "creating index...\n",
      "index created!\n",
      "Running per image evaluation...\n",
      "Evaluate annotation type *bbox*\n",
      "DONE (t=5.16s).\n",
      "Accumulating evaluation results...\n"
     ]
    },
    {
     "name": "stderr",
     "output_type": "stream",
     "text": [
      "2021-11-30 04:19:15,799 - mmdet - INFO - Epoch(val) [22][12524]\tbbox_mAP: 0.4350, bbox_mAP_50: 0.7750, bbox_mAP_75: 0.4370, bbox_mAP_s: 0.1630, bbox_mAP_m: 0.4190, bbox_mAP_l: 0.4220, bbox_mAP_copypaste: 0.435 0.775 0.437 0.163 0.419 0.422\n"
     ]
    },
    {
     "name": "stdout",
     "output_type": "stream",
     "text": [
      "DONE (t=1.13s).\n",
      " Average Precision  (AP) @[ IoU=0.50:0.95 | area=   all | maxDets=100 ] = 0.435\n",
      " Average Precision  (AP) @[ IoU=0.50      | area=   all | maxDets=1000 ] = 0.775\n",
      " Average Precision  (AP) @[ IoU=0.75      | area=   all | maxDets=1000 ] = 0.437\n",
      " Average Precision  (AP) @[ IoU=0.50:0.95 | area= small | maxDets=1000 ] = 0.163\n",
      " Average Precision  (AP) @[ IoU=0.50:0.95 | area=medium | maxDets=1000 ] = 0.419\n",
      " Average Precision  (AP) @[ IoU=0.50:0.95 | area= large | maxDets=1000 ] = 0.422\n",
      " Average Recall     (AR) @[ IoU=0.50:0.95 | area=   all | maxDets=100 ] = 0.545\n",
      " Average Recall     (AR) @[ IoU=0.50:0.95 | area=   all | maxDets=300 ] = 0.545\n",
      " Average Recall     (AR) @[ IoU=0.50:0.95 | area=   all | maxDets=1000 ] = 0.545\n",
      " Average Recall     (AR) @[ IoU=0.50:0.95 | area= small | maxDets=1000 ] = 0.229\n",
      " Average Recall     (AR) @[ IoU=0.50:0.95 | area=medium | maxDets=1000 ] = 0.532\n",
      " Average Recall     (AR) @[ IoU=0.50:0.95 | area= large | maxDets=1000 ] = 0.539\n"
     ]
    },
    {
     "name": "stderr",
     "output_type": "stream",
     "text": [
      "2021-11-30 04:20:58,062 - mmdet - INFO - Epoch [23][100/4697]\tlr: 1.000e-04, eta: 3:48:53, time: 1.021, data_time: 0.034, memory: 8318, loss_rpn_cls: 0.0017, loss_rpn_bbox: 0.0041, loss_cls: 0.0430, acc: 98.2808, loss_bbox: 0.0744, loss: 0.1232\n",
      "2021-11-30 04:22:37,979 - mmdet - INFO - Epoch [23][200/4697]\tlr: 1.000e-04, eta: 3:47:15, time: 0.999, data_time: 0.013, memory: 8318, loss_rpn_cls: 0.0014, loss_rpn_bbox: 0.0039, loss_cls: 0.0401, acc: 98.3684, loss_bbox: 0.0727, loss: 0.1182\n",
      "2021-11-30 04:24:18,048 - mmdet - INFO - Epoch [23][300/4697]\tlr: 1.000e-04, eta: 3:45:38, time: 1.001, data_time: 0.013, memory: 8318, loss_rpn_cls: 0.0016, loss_rpn_bbox: 0.0042, loss_cls: 0.0428, acc: 98.2881, loss_bbox: 0.0759, loss: 0.1244\n",
      "2021-11-30 04:25:58,032 - mmdet - INFO - Epoch [23][400/4697]\tlr: 1.000e-04, eta: 3:44:00, time: 1.000, data_time: 0.013, memory: 8318, loss_rpn_cls: 0.0017, loss_rpn_bbox: 0.0042, loss_cls: 0.0426, acc: 98.2700, loss_bbox: 0.0754, loss: 0.1239\n",
      "2021-11-30 04:27:37,965 - mmdet - INFO - Epoch [23][500/4697]\tlr: 1.000e-04, eta: 3:42:22, time: 0.999, data_time: 0.013, memory: 8318, loss_rpn_cls: 0.0015, loss_rpn_bbox: 0.0040, loss_cls: 0.0405, acc: 98.3735, loss_bbox: 0.0708, loss: 0.1168\n",
      "2021-11-30 04:29:17,913 - mmdet - INFO - Epoch [23][600/4697]\tlr: 1.000e-04, eta: 3:40:44, time: 0.999, data_time: 0.013, memory: 8318, loss_rpn_cls: 0.0015, loss_rpn_bbox: 0.0040, loss_cls: 0.0392, acc: 98.4006, loss_bbox: 0.0714, loss: 0.1161\n",
      "2021-11-30 04:30:57,833 - mmdet - INFO - Epoch [23][700/4697]\tlr: 1.000e-04, eta: 3:39:06, time: 0.999, data_time: 0.013, memory: 8318, loss_rpn_cls: 0.0017, loss_rpn_bbox: 0.0041, loss_cls: 0.0434, acc: 98.2822, loss_bbox: 0.0751, loss: 0.1242\n",
      "2021-11-30 04:32:37,882 - mmdet - INFO - Epoch [23][800/4697]\tlr: 1.000e-04, eta: 3:37:28, time: 1.000, data_time: 0.013, memory: 8318, loss_rpn_cls: 0.0018, loss_rpn_bbox: 0.0041, loss_cls: 0.0435, acc: 98.2651, loss_bbox: 0.0768, loss: 0.1261\n",
      "2021-11-30 04:34:17,930 - mmdet - INFO - Epoch [23][900/4697]\tlr: 1.000e-04, eta: 3:35:50, time: 1.000, data_time: 0.013, memory: 8318, loss_rpn_cls: 0.0019, loss_rpn_bbox: 0.0044, loss_cls: 0.0409, acc: 98.3613, loss_bbox: 0.0746, loss: 0.1218\n",
      "2021-11-30 04:35:57,893 - mmdet - INFO - Epoch [23][1000/4697]\tlr: 1.000e-04, eta: 3:34:12, time: 1.000, data_time: 0.013, memory: 8318, loss_rpn_cls: 0.0013, loss_rpn_bbox: 0.0041, loss_cls: 0.0409, acc: 98.3748, loss_bbox: 0.0720, loss: 0.1183\n",
      "2021-11-30 04:37:37,904 - mmdet - INFO - Epoch [23][1100/4697]\tlr: 1.000e-04, eta: 3:32:34, time: 1.000, data_time: 0.013, memory: 8318, loss_rpn_cls: 0.0015, loss_rpn_bbox: 0.0042, loss_cls: 0.0442, acc: 98.2671, loss_bbox: 0.0768, loss: 0.1266\n",
      "2021-11-30 04:39:17,841 - mmdet - INFO - Epoch [23][1200/4697]\tlr: 1.000e-04, eta: 3:30:56, time: 0.999, data_time: 0.013, memory: 8318, loss_rpn_cls: 0.0013, loss_rpn_bbox: 0.0041, loss_cls: 0.0408, acc: 98.3574, loss_bbox: 0.0726, loss: 0.1188\n",
      "2021-11-30 04:40:57,779 - mmdet - INFO - Epoch [23][1300/4697]\tlr: 1.000e-04, eta: 3:29:18, time: 0.999, data_time: 0.013, memory: 8318, loss_rpn_cls: 0.0016, loss_rpn_bbox: 0.0040, loss_cls: 0.0410, acc: 98.3608, loss_bbox: 0.0709, loss: 0.1175\n",
      "2021-11-30 04:42:37,719 - mmdet - INFO - Epoch [23][1400/4697]\tlr: 1.000e-04, eta: 3:27:40, time: 0.999, data_time: 0.013, memory: 8318, loss_rpn_cls: 0.0017, loss_rpn_bbox: 0.0044, loss_cls: 0.0417, acc: 98.3035, loss_bbox: 0.0729, loss: 0.1207\n",
      "2021-11-30 04:44:17,847 - mmdet - INFO - Epoch [23][1500/4697]\tlr: 1.000e-04, eta: 3:26:02, time: 1.001, data_time: 0.013, memory: 8318, loss_rpn_cls: 0.0014, loss_rpn_bbox: 0.0040, loss_cls: 0.0427, acc: 98.3000, loss_bbox: 0.0731, loss: 0.1212\n",
      "2021-11-30 04:45:57,744 - mmdet - INFO - Epoch [23][1600/4697]\tlr: 1.000e-04, eta: 3:24:24, time: 0.999, data_time: 0.013, memory: 8318, loss_rpn_cls: 0.0017, loss_rpn_bbox: 0.0041, loss_cls: 0.0455, acc: 98.2085, loss_bbox: 0.0772, loss: 0.1286\n",
      "2021-11-30 04:47:37,670 - mmdet - INFO - Epoch [23][1700/4697]\tlr: 1.000e-04, eta: 3:22:46, time: 0.999, data_time: 0.013, memory: 8318, loss_rpn_cls: 0.0014, loss_rpn_bbox: 0.0040, loss_cls: 0.0422, acc: 98.3157, loss_bbox: 0.0734, loss: 0.1210\n",
      "2021-11-30 04:49:17,504 - mmdet - INFO - Epoch [23][1800/4697]\tlr: 1.000e-04, eta: 3:21:08, time: 0.998, data_time: 0.013, memory: 8318, loss_rpn_cls: 0.0014, loss_rpn_bbox: 0.0040, loss_cls: 0.0395, acc: 98.4146, loss_bbox: 0.0697, loss: 0.1146\n",
      "2021-11-30 04:50:57,455 - mmdet - INFO - Epoch [23][1900/4697]\tlr: 1.000e-04, eta: 3:19:30, time: 1.000, data_time: 0.013, memory: 8318, loss_rpn_cls: 0.0015, loss_rpn_bbox: 0.0040, loss_cls: 0.0410, acc: 98.3333, loss_bbox: 0.0728, loss: 0.1193\n",
      "2021-11-30 04:52:37,337 - mmdet - INFO - Epoch [23][2000/4697]\tlr: 1.000e-04, eta: 3:17:52, time: 0.999, data_time: 0.013, memory: 8318, loss_rpn_cls: 0.0015, loss_rpn_bbox: 0.0041, loss_cls: 0.0411, acc: 98.3604, loss_bbox: 0.0725, loss: 0.1193\n",
      "2021-11-30 04:54:17,287 - mmdet - INFO - Epoch [23][2100/4697]\tlr: 1.000e-04, eta: 3:16:14, time: 1.000, data_time: 0.013, memory: 8318, loss_rpn_cls: 0.0015, loss_rpn_bbox: 0.0043, loss_cls: 0.0400, acc: 98.3918, loss_bbox: 0.0730, loss: 0.1188\n",
      "2021-11-30 04:55:57,217 - mmdet - INFO - Epoch [23][2200/4697]\tlr: 1.000e-04, eta: 3:14:36, time: 0.999, data_time: 0.013, memory: 8318, loss_rpn_cls: 0.0015, loss_rpn_bbox: 0.0041, loss_cls: 0.0402, acc: 98.3994, loss_bbox: 0.0727, loss: 0.1185\n",
      "2021-11-30 04:57:37,083 - mmdet - INFO - Epoch [23][2300/4697]\tlr: 1.000e-04, eta: 3:12:58, time: 0.999, data_time: 0.013, memory: 8318, loss_rpn_cls: 0.0017, loss_rpn_bbox: 0.0041, loss_cls: 0.0420, acc: 98.3037, loss_bbox: 0.0756, loss: 0.1234\n",
      "2021-11-30 04:59:17,063 - mmdet - INFO - Epoch [23][2400/4697]\tlr: 1.000e-04, eta: 3:11:20, time: 1.000, data_time: 0.013, memory: 8318, loss_rpn_cls: 0.0017, loss_rpn_bbox: 0.0042, loss_cls: 0.0416, acc: 98.3347, loss_bbox: 0.0728, loss: 0.1204\n",
      "2021-11-30 05:00:57,041 - mmdet - INFO - Epoch [23][2500/4697]\tlr: 1.000e-04, eta: 3:09:42, time: 1.000, data_time: 0.014, memory: 8318, loss_rpn_cls: 0.0013, loss_rpn_bbox: 0.0041, loss_cls: 0.0418, acc: 98.2991, loss_bbox: 0.0737, loss: 0.1210\n",
      "2021-11-30 05:02:36,943 - mmdet - INFO - Epoch [23][2600/4697]\tlr: 1.000e-04, eta: 3:08:04, time: 0.999, data_time: 0.013, memory: 8318, loss_rpn_cls: 0.0016, loss_rpn_bbox: 0.0041, loss_cls: 0.0417, acc: 98.3408, loss_bbox: 0.0723, loss: 0.1197\n",
      "2021-11-30 05:04:16,994 - mmdet - INFO - Epoch [23][2700/4697]\tlr: 1.000e-04, eta: 3:06:26, time: 1.001, data_time: 0.013, memory: 8318, loss_rpn_cls: 0.0018, loss_rpn_bbox: 0.0040, loss_cls: 0.0400, acc: 98.3975, loss_bbox: 0.0706, loss: 0.1164\n",
      "2021-11-30 05:05:56,936 - mmdet - INFO - Epoch [23][2800/4697]\tlr: 1.000e-04, eta: 3:04:48, time: 0.999, data_time: 0.013, memory: 8318, loss_rpn_cls: 0.0015, loss_rpn_bbox: 0.0042, loss_cls: 0.0413, acc: 98.3359, loss_bbox: 0.0751, loss: 0.1221\n",
      "2021-11-30 05:07:36,858 - mmdet - INFO - Epoch [23][2900/4697]\tlr: 1.000e-04, eta: 3:03:10, time: 0.999, data_time: 0.013, memory: 8318, loss_rpn_cls: 0.0012, loss_rpn_bbox: 0.0039, loss_cls: 0.0382, acc: 98.4678, loss_bbox: 0.0709, loss: 0.1143\n",
      "2021-11-30 05:09:16,784 - mmdet - INFO - Epoch [23][3000/4697]\tlr: 1.000e-04, eta: 3:01:32, time: 0.999, data_time: 0.013, memory: 8318, loss_rpn_cls: 0.0015, loss_rpn_bbox: 0.0039, loss_cls: 0.0400, acc: 98.4016, loss_bbox: 0.0733, loss: 0.1187\n",
      "2021-11-30 05:10:56,652 - mmdet - INFO - Epoch [23][3100/4697]\tlr: 1.000e-04, eta: 2:59:54, time: 0.999, data_time: 0.013, memory: 8318, loss_rpn_cls: 0.0018, loss_rpn_bbox: 0.0041, loss_cls: 0.0425, acc: 98.3076, loss_bbox: 0.0739, loss: 0.1221\n",
      "2021-11-30 05:12:36,482 - mmdet - INFO - Epoch [23][3200/4697]\tlr: 1.000e-04, eta: 2:58:16, time: 0.998, data_time: 0.013, memory: 8318, loss_rpn_cls: 0.0016, loss_rpn_bbox: 0.0039, loss_cls: 0.0404, acc: 98.3584, loss_bbox: 0.0721, loss: 0.1180\n",
      "2021-11-30 05:14:16,337 - mmdet - INFO - Epoch [23][3300/4697]\tlr: 1.000e-04, eta: 2:56:38, time: 0.999, data_time: 0.013, memory: 8318, loss_rpn_cls: 0.0016, loss_rpn_bbox: 0.0042, loss_cls: 0.0421, acc: 98.3118, loss_bbox: 0.0726, loss: 0.1205\n",
      "2021-11-30 05:15:56,176 - mmdet - INFO - Epoch [23][3400/4697]\tlr: 1.000e-04, eta: 2:55:00, time: 0.998, data_time: 0.013, memory: 8318, loss_rpn_cls: 0.0015, loss_rpn_bbox: 0.0041, loss_cls: 0.0406, acc: 98.3931, loss_bbox: 0.0718, loss: 0.1180\n"
     ]
    },
    {
     "name": "stderr",
     "output_type": "stream",
     "text": [
      "2021-11-30 05:17:36,103 - mmdet - INFO - Epoch [23][3500/4697]\tlr: 1.000e-04, eta: 2:53:22, time: 0.999, data_time: 0.013, memory: 8318, loss_rpn_cls: 0.0014, loss_rpn_bbox: 0.0041, loss_cls: 0.0412, acc: 98.3601, loss_bbox: 0.0723, loss: 0.1191\n",
      "2021-11-30 05:19:16,132 - mmdet - INFO - Epoch [23][3600/4697]\tlr: 1.000e-04, eta: 2:51:44, time: 1.000, data_time: 0.013, memory: 8318, loss_rpn_cls: 0.0016, loss_rpn_bbox: 0.0042, loss_cls: 0.0422, acc: 98.2832, loss_bbox: 0.0744, loss: 0.1224\n",
      "2021-11-30 05:20:56,028 - mmdet - INFO - Epoch [23][3700/4697]\tlr: 1.000e-04, eta: 2:50:06, time: 0.999, data_time: 0.013, memory: 8318, loss_rpn_cls: 0.0013, loss_rpn_bbox: 0.0040, loss_cls: 0.0421, acc: 98.3062, loss_bbox: 0.0745, loss: 0.1220\n",
      "2021-11-30 05:22:35,992 - mmdet - INFO - Epoch [23][3800/4697]\tlr: 1.000e-04, eta: 2:48:28, time: 1.000, data_time: 0.013, memory: 8318, loss_rpn_cls: 0.0015, loss_rpn_bbox: 0.0040, loss_cls: 0.0401, acc: 98.3862, loss_bbox: 0.0723, loss: 0.1178\n",
      "2021-11-30 05:24:15,887 - mmdet - INFO - Epoch [23][3900/4697]\tlr: 1.000e-04, eta: 2:46:50, time: 0.999, data_time: 0.013, memory: 8318, loss_rpn_cls: 0.0013, loss_rpn_bbox: 0.0039, loss_cls: 0.0388, acc: 98.4392, loss_bbox: 0.0703, loss: 0.1143\n",
      "2021-11-30 05:25:55,893 - mmdet - INFO - Epoch [23][4000/4697]\tlr: 1.000e-04, eta: 2:45:12, time: 1.000, data_time: 0.013, memory: 8318, loss_rpn_cls: 0.0015, loss_rpn_bbox: 0.0041, loss_cls: 0.0431, acc: 98.2817, loss_bbox: 0.0755, loss: 0.1242\n",
      "2021-11-30 05:27:35,818 - mmdet - INFO - Epoch [23][4100/4697]\tlr: 1.000e-04, eta: 2:43:34, time: 0.999, data_time: 0.013, memory: 8318, loss_rpn_cls: 0.0018, loss_rpn_bbox: 0.0041, loss_cls: 0.0410, acc: 98.3267, loss_bbox: 0.0727, loss: 0.1196\n",
      "2021-11-30 05:29:15,797 - mmdet - INFO - Epoch [23][4200/4697]\tlr: 1.000e-04, eta: 2:41:55, time: 1.000, data_time: 0.013, memory: 8318, loss_rpn_cls: 0.0016, loss_rpn_bbox: 0.0040, loss_cls: 0.0388, acc: 98.4126, loss_bbox: 0.0707, loss: 0.1150\n",
      "2021-11-30 05:30:55,670 - mmdet - INFO - Epoch [23][4300/4697]\tlr: 1.000e-04, eta: 2:40:17, time: 0.999, data_time: 0.013, memory: 8318, loss_rpn_cls: 0.0014, loss_rpn_bbox: 0.0039, loss_cls: 0.0404, acc: 98.3467, loss_bbox: 0.0716, loss: 0.1173\n",
      "2021-11-30 05:32:35,691 - mmdet - INFO - Epoch [23][4400/4697]\tlr: 1.000e-04, eta: 2:38:39, time: 1.000, data_time: 0.013, memory: 8318, loss_rpn_cls: 0.0013, loss_rpn_bbox: 0.0039, loss_cls: 0.0403, acc: 98.3755, loss_bbox: 0.0721, loss: 0.1176\n",
      "2021-11-30 05:34:15,659 - mmdet - INFO - Epoch [23][4500/4697]\tlr: 1.000e-04, eta: 2:37:01, time: 1.000, data_time: 0.013, memory: 8318, loss_rpn_cls: 0.0014, loss_rpn_bbox: 0.0041, loss_cls: 0.0405, acc: 98.3613, loss_bbox: 0.0711, loss: 0.1171\n",
      "2021-11-30 05:35:55,474 - mmdet - INFO - Epoch [23][4600/4697]\tlr: 1.000e-04, eta: 2:35:23, time: 0.998, data_time: 0.013, memory: 8318, loss_rpn_cls: 0.0015, loss_rpn_bbox: 0.0039, loss_cls: 0.0403, acc: 98.3762, loss_bbox: 0.0734, loss: 0.1191\n",
      "2021-11-30 05:37:32,231 - mmdet - INFO - Saving checkpoint at 23 epochs\n"
     ]
    },
    {
     "name": "stdout",
     "output_type": "stream",
     "text": [
      "[>>>>>>>>>>>>>>>>>>>>>>>>] 12524/12524, 16.5 task/s, elapsed: 760s, ETA:     0s"
     ]
    },
    {
     "name": "stderr",
     "output_type": "stream",
     "text": [
      "2021-11-30 05:50:13,773 - mmdet - INFO - Evaluating bbox...\n"
     ]
    },
    {
     "name": "stdout",
     "output_type": "stream",
     "text": [
      "Loading and preparing results...\n",
      "DONE (t=0.03s)\n",
      "creating index...\n",
      "index created!\n",
      "Running per image evaluation...\n",
      "Evaluate annotation type *bbox*\n",
      "DONE (t=5.24s).\n",
      "Accumulating evaluation results...\n"
     ]
    },
    {
     "name": "stderr",
     "output_type": "stream",
     "text": [
      "2021-11-30 05:50:20,614 - mmdet - INFO - Epoch(val) [23][12524]\tbbox_mAP: 0.4360, bbox_mAP_50: 0.7740, bbox_mAP_75: 0.4400, bbox_mAP_s: 0.1650, bbox_mAP_m: 0.4190, bbox_mAP_l: 0.4230, bbox_mAP_copypaste: 0.436 0.774 0.440 0.165 0.419 0.423\n"
     ]
    },
    {
     "name": "stdout",
     "output_type": "stream",
     "text": [
      "DONE (t=1.35s).\n",
      " Average Precision  (AP) @[ IoU=0.50:0.95 | area=   all | maxDets=100 ] = 0.436\n",
      " Average Precision  (AP) @[ IoU=0.50      | area=   all | maxDets=1000 ] = 0.774\n",
      " Average Precision  (AP) @[ IoU=0.75      | area=   all | maxDets=1000 ] = 0.440\n",
      " Average Precision  (AP) @[ IoU=0.50:0.95 | area= small | maxDets=1000 ] = 0.165\n",
      " Average Precision  (AP) @[ IoU=0.50:0.95 | area=medium | maxDets=1000 ] = 0.419\n",
      " Average Precision  (AP) @[ IoU=0.50:0.95 | area= large | maxDets=1000 ] = 0.423\n",
      " Average Recall     (AR) @[ IoU=0.50:0.95 | area=   all | maxDets=100 ] = 0.544\n",
      " Average Recall     (AR) @[ IoU=0.50:0.95 | area=   all | maxDets=300 ] = 0.544\n",
      " Average Recall     (AR) @[ IoU=0.50:0.95 | area=   all | maxDets=1000 ] = 0.544\n",
      " Average Recall     (AR) @[ IoU=0.50:0.95 | area= small | maxDets=1000 ] = 0.230\n",
      " Average Recall     (AR) @[ IoU=0.50:0.95 | area=medium | maxDets=1000 ] = 0.528\n",
      " Average Recall     (AR) @[ IoU=0.50:0.95 | area= large | maxDets=1000 ] = 0.540\n"
     ]
    },
    {
     "name": "stderr",
     "output_type": "stream",
     "text": [
      "2021-11-30 05:52:02,841 - mmdet - INFO - Epoch [24][100/4697]\tlr: 1.000e-04, eta: 2:32:02, time: 1.020, data_time: 0.034, memory: 8318, loss_rpn_cls: 0.0018, loss_rpn_bbox: 0.0040, loss_cls: 0.0405, acc: 98.4299, loss_bbox: 0.0700, loss: 0.1163\n",
      "2021-11-30 05:53:42,690 - mmdet - INFO - Epoch [24][200/4697]\tlr: 1.000e-04, eta: 2:30:24, time: 0.998, data_time: 0.013, memory: 8318, loss_rpn_cls: 0.0019, loss_rpn_bbox: 0.0039, loss_cls: 0.0419, acc: 98.3372, loss_bbox: 0.0727, loss: 0.1204\n",
      "2021-11-30 05:55:22,567 - mmdet - INFO - Epoch [24][300/4697]\tlr: 1.000e-04, eta: 2:28:46, time: 0.999, data_time: 0.013, memory: 8318, loss_rpn_cls: 0.0013, loss_rpn_bbox: 0.0040, loss_cls: 0.0404, acc: 98.3672, loss_bbox: 0.0720, loss: 0.1177\n",
      "2021-11-30 05:57:02,511 - mmdet - INFO - Epoch [24][400/4697]\tlr: 1.000e-04, eta: 2:27:08, time: 0.999, data_time: 0.013, memory: 8318, loss_rpn_cls: 0.0015, loss_rpn_bbox: 0.0042, loss_cls: 0.0406, acc: 98.3596, loss_bbox: 0.0736, loss: 0.1199\n",
      "2021-11-30 05:58:42,353 - mmdet - INFO - Epoch [24][500/4697]\tlr: 1.000e-04, eta: 2:25:30, time: 0.998, data_time: 0.013, memory: 8318, loss_rpn_cls: 0.0016, loss_rpn_bbox: 0.0043, loss_cls: 0.0416, acc: 98.3496, loss_bbox: 0.0741, loss: 0.1216\n",
      "2021-11-30 06:00:22,143 - mmdet - INFO - Epoch [24][600/4697]\tlr: 1.000e-04, eta: 2:23:52, time: 0.998, data_time: 0.013, memory: 8318, loss_rpn_cls: 0.0016, loss_rpn_bbox: 0.0039, loss_cls: 0.0403, acc: 98.4011, loss_bbox: 0.0704, loss: 0.1162\n",
      "2021-11-30 06:02:02,115 - mmdet - INFO - Epoch [24][700/4697]\tlr: 1.000e-04, eta: 2:22:14, time: 1.000, data_time: 0.013, memory: 8318, loss_rpn_cls: 0.0015, loss_rpn_bbox: 0.0041, loss_cls: 0.0417, acc: 98.3279, loss_bbox: 0.0728, loss: 0.1202\n",
      "2021-11-30 06:03:42,074 - mmdet - INFO - Epoch [24][800/4697]\tlr: 1.000e-04, eta: 2:20:36, time: 1.000, data_time: 0.013, memory: 8318, loss_rpn_cls: 0.0018, loss_rpn_bbox: 0.0040, loss_cls: 0.0387, acc: 98.4087, loss_bbox: 0.0702, loss: 0.1148\n",
      "2021-11-30 06:05:21,831 - mmdet - INFO - Epoch [24][900/4697]\tlr: 1.000e-04, eta: 2:18:58, time: 0.998, data_time: 0.013, memory: 8318, loss_rpn_cls: 0.0016, loss_rpn_bbox: 0.0041, loss_cls: 0.0400, acc: 98.4080, loss_bbox: 0.0707, loss: 0.1165\n",
      "2021-11-30 06:07:01,763 - mmdet - INFO - Epoch [24][1000/4697]\tlr: 1.000e-04, eta: 2:17:20, time: 0.999, data_time: 0.013, memory: 8318, loss_rpn_cls: 0.0015, loss_rpn_bbox: 0.0040, loss_cls: 0.0421, acc: 98.2874, loss_bbox: 0.0741, loss: 0.1218\n",
      "2021-11-30 06:08:41,636 - mmdet - INFO - Epoch [24][1100/4697]\tlr: 1.000e-04, eta: 2:15:42, time: 0.999, data_time: 0.013, memory: 8318, loss_rpn_cls: 0.0016, loss_rpn_bbox: 0.0041, loss_cls: 0.0419, acc: 98.3174, loss_bbox: 0.0738, loss: 0.1213\n",
      "2021-11-30 06:10:21,576 - mmdet - INFO - Epoch [24][1200/4697]\tlr: 1.000e-04, eta: 2:14:03, time: 0.999, data_time: 0.013, memory: 8318, loss_rpn_cls: 0.0014, loss_rpn_bbox: 0.0041, loss_cls: 0.0420, acc: 98.3494, loss_bbox: 0.0728, loss: 0.1202\n",
      "2021-11-30 06:12:01,326 - mmdet - INFO - Epoch [24][1300/4697]\tlr: 1.000e-04, eta: 2:12:25, time: 0.997, data_time: 0.013, memory: 8318, loss_rpn_cls: 0.0017, loss_rpn_bbox: 0.0042, loss_cls: 0.0408, acc: 98.3635, loss_bbox: 0.0734, loss: 0.1201\n",
      "2021-11-30 06:13:41,211 - mmdet - INFO - Epoch [24][1400/4697]\tlr: 1.000e-04, eta: 2:10:47, time: 0.999, data_time: 0.013, memory: 8318, loss_rpn_cls: 0.0014, loss_rpn_bbox: 0.0041, loss_cls: 0.0408, acc: 98.3496, loss_bbox: 0.0731, loss: 0.1193\n",
      "2021-11-30 06:15:21,075 - mmdet - INFO - Epoch [24][1500/4697]\tlr: 1.000e-04, eta: 2:09:09, time: 0.999, data_time: 0.013, memory: 8318, loss_rpn_cls: 0.0014, loss_rpn_bbox: 0.0040, loss_cls: 0.0388, acc: 98.4377, loss_bbox: 0.0714, loss: 0.1157\n",
      "2021-11-30 06:17:00,922 - mmdet - INFO - Epoch [24][1600/4697]\tlr: 1.000e-04, eta: 2:07:31, time: 0.998, data_time: 0.013, memory: 8318, loss_rpn_cls: 0.0014, loss_rpn_bbox: 0.0038, loss_cls: 0.0390, acc: 98.4441, loss_bbox: 0.0689, loss: 0.1132\n",
      "2021-11-30 06:18:40,694 - mmdet - INFO - Epoch [24][1700/4697]\tlr: 1.000e-04, eta: 2:05:53, time: 0.998, data_time: 0.013, memory: 8318, loss_rpn_cls: 0.0014, loss_rpn_bbox: 0.0040, loss_cls: 0.0396, acc: 98.3955, loss_bbox: 0.0704, loss: 0.1154\n",
      "2021-11-30 06:20:20,380 - mmdet - INFO - Epoch [24][1800/4697]\tlr: 1.000e-04, eta: 2:04:15, time: 0.997, data_time: 0.013, memory: 8318, loss_rpn_cls: 0.0012, loss_rpn_bbox: 0.0039, loss_cls: 0.0391, acc: 98.4302, loss_bbox: 0.0705, loss: 0.1147\n",
      "2021-11-30 06:22:00,150 - mmdet - INFO - Epoch [24][1900/4697]\tlr: 1.000e-04, eta: 2:02:37, time: 0.998, data_time: 0.013, memory: 8318, loss_rpn_cls: 0.0016, loss_rpn_bbox: 0.0043, loss_cls: 0.0412, acc: 98.3083, loss_bbox: 0.0744, loss: 0.1215\n",
      "2021-11-30 06:23:40,117 - mmdet - INFO - Epoch [24][2000/4697]\tlr: 1.000e-04, eta: 2:00:59, time: 1.000, data_time: 0.013, memory: 8318, loss_rpn_cls: 0.0016, loss_rpn_bbox: 0.0040, loss_cls: 0.0408, acc: 98.3853, loss_bbox: 0.0711, loss: 0.1176\n",
      "2021-11-30 06:25:19,947 - mmdet - INFO - Epoch [24][2100/4697]\tlr: 1.000e-04, eta: 1:59:21, time: 0.998, data_time: 0.013, memory: 8318, loss_rpn_cls: 0.0013, loss_rpn_bbox: 0.0041, loss_cls: 0.0401, acc: 98.3960, loss_bbox: 0.0741, loss: 0.1196\n",
      "2021-11-30 06:26:59,862 - mmdet - INFO - Epoch [24][2200/4697]\tlr: 1.000e-04, eta: 1:57:43, time: 0.999, data_time: 0.013, memory: 8318, loss_rpn_cls: 0.0013, loss_rpn_bbox: 0.0037, loss_cls: 0.0381, acc: 98.4988, loss_bbox: 0.0680, loss: 0.1111\n",
      "2021-11-30 06:28:39,815 - mmdet - INFO - Epoch [24][2300/4697]\tlr: 1.000e-04, eta: 1:56:05, time: 1.000, data_time: 0.013, memory: 8318, loss_rpn_cls: 0.0013, loss_rpn_bbox: 0.0041, loss_cls: 0.0392, acc: 98.4019, loss_bbox: 0.0730, loss: 0.1175\n",
      "2021-11-30 06:30:19,560 - mmdet - INFO - Epoch [24][2400/4697]\tlr: 1.000e-04, eta: 1:54:27, time: 0.997, data_time: 0.013, memory: 8318, loss_rpn_cls: 0.0015, loss_rpn_bbox: 0.0041, loss_cls: 0.0386, acc: 98.4309, loss_bbox: 0.0710, loss: 0.1152\n",
      "2021-11-30 06:31:59,410 - mmdet - INFO - Epoch [24][2500/4697]\tlr: 1.000e-04, eta: 1:52:49, time: 0.998, data_time: 0.013, memory: 8318, loss_rpn_cls: 0.0016, loss_rpn_bbox: 0.0038, loss_cls: 0.0392, acc: 98.4319, loss_bbox: 0.0683, loss: 0.1130\n",
      "2021-11-30 06:33:39,295 - mmdet - INFO - Epoch [24][2600/4697]\tlr: 1.000e-04, eta: 1:51:11, time: 0.999, data_time: 0.013, memory: 8318, loss_rpn_cls: 0.0017, loss_rpn_bbox: 0.0039, loss_cls: 0.0399, acc: 98.4067, loss_bbox: 0.0723, loss: 0.1179\n",
      "2021-11-30 06:35:21,340 - mmdet - INFO - Epoch [24][2700/4697]\tlr: 1.000e-04, eta: 1:49:33, time: 1.020, data_time: 0.017, memory: 8318, loss_rpn_cls: 0.0014, loss_rpn_bbox: 0.0039, loss_cls: 0.0396, acc: 98.4014, loss_bbox: 0.0725, loss: 0.1174\n",
      "2021-11-30 06:37:01,384 - mmdet - INFO - Epoch [24][2800/4697]\tlr: 1.000e-04, eta: 1:47:55, time: 1.000, data_time: 0.013, memory: 8318, loss_rpn_cls: 0.0016, loss_rpn_bbox: 0.0039, loss_cls: 0.0416, acc: 98.3528, loss_bbox: 0.0722, loss: 0.1193\n",
      "2021-11-30 06:38:41,321 - mmdet - INFO - Epoch [24][2900/4697]\tlr: 1.000e-04, eta: 1:46:16, time: 0.999, data_time: 0.014, memory: 8318, loss_rpn_cls: 0.0013, loss_rpn_bbox: 0.0040, loss_cls: 0.0406, acc: 98.3591, loss_bbox: 0.0716, loss: 0.1175\n",
      "2021-11-30 06:40:21,259 - mmdet - INFO - Epoch [24][3000/4697]\tlr: 1.000e-04, eta: 1:44:38, time: 0.999, data_time: 0.013, memory: 8318, loss_rpn_cls: 0.0013, loss_rpn_bbox: 0.0039, loss_cls: 0.0388, acc: 98.4504, loss_bbox: 0.0703, loss: 0.1143\n",
      "2021-11-30 06:42:01,221 - mmdet - INFO - Epoch [24][3100/4697]\tlr: 1.000e-04, eta: 1:43:00, time: 1.000, data_time: 0.013, memory: 8318, loss_rpn_cls: 0.0015, loss_rpn_bbox: 0.0040, loss_cls: 0.0411, acc: 98.3438, loss_bbox: 0.0730, loss: 0.1197\n",
      "2021-11-30 06:43:41,114 - mmdet - INFO - Epoch [24][3200/4697]\tlr: 1.000e-04, eta: 1:41:22, time: 0.999, data_time: 0.014, memory: 8318, loss_rpn_cls: 0.0012, loss_rpn_bbox: 0.0040, loss_cls: 0.0411, acc: 98.3518, loss_bbox: 0.0743, loss: 0.1207\n",
      "2021-11-30 06:45:20,961 - mmdet - INFO - Epoch [24][3300/4697]\tlr: 1.000e-04, eta: 1:39:44, time: 0.998, data_time: 0.013, memory: 8318, loss_rpn_cls: 0.0018, loss_rpn_bbox: 0.0039, loss_cls: 0.0396, acc: 98.3979, loss_bbox: 0.0704, loss: 0.1157\n",
      "2021-11-30 06:47:00,940 - mmdet - INFO - Epoch [24][3400/4697]\tlr: 1.000e-04, eta: 1:38:06, time: 1.000, data_time: 0.013, memory: 8318, loss_rpn_cls: 0.0016, loss_rpn_bbox: 0.0040, loss_cls: 0.0408, acc: 98.3787, loss_bbox: 0.0737, loss: 0.1201\n"
     ]
    },
    {
     "name": "stderr",
     "output_type": "stream",
     "text": [
      "2021-11-30 06:48:40,886 - mmdet - INFO - Epoch [24][3500/4697]\tlr: 1.000e-04, eta: 1:36:28, time: 0.999, data_time: 0.013, memory: 8318, loss_rpn_cls: 0.0018, loss_rpn_bbox: 0.0041, loss_cls: 0.0414, acc: 98.3655, loss_bbox: 0.0727, loss: 0.1200\n",
      "2021-11-30 06:50:20,792 - mmdet - INFO - Epoch [24][3600/4697]\tlr: 1.000e-04, eta: 1:34:50, time: 0.999, data_time: 0.013, memory: 8318, loss_rpn_cls: 0.0015, loss_rpn_bbox: 0.0042, loss_cls: 0.0410, acc: 98.3750, loss_bbox: 0.0718, loss: 0.1184\n",
      "2021-11-30 06:52:00,609 - mmdet - INFO - Epoch [24][3700/4697]\tlr: 1.000e-04, eta: 1:33:12, time: 0.998, data_time: 0.013, memory: 8318, loss_rpn_cls: 0.0016, loss_rpn_bbox: 0.0040, loss_cls: 0.0413, acc: 98.3445, loss_bbox: 0.0724, loss: 0.1193\n",
      "2021-11-30 06:53:40,535 - mmdet - INFO - Epoch [24][3800/4697]\tlr: 1.000e-04, eta: 1:31:33, time: 0.999, data_time: 0.013, memory: 8318, loss_rpn_cls: 0.0013, loss_rpn_bbox: 0.0040, loss_cls: 0.0407, acc: 98.3640, loss_bbox: 0.0727, loss: 0.1186\n",
      "2021-11-30 06:55:20,384 - mmdet - INFO - Epoch [24][3900/4697]\tlr: 1.000e-04, eta: 1:29:55, time: 0.998, data_time: 0.013, memory: 8318, loss_rpn_cls: 0.0016, loss_rpn_bbox: 0.0044, loss_cls: 0.0423, acc: 98.3174, loss_bbox: 0.0740, loss: 0.1223\n",
      "2021-11-30 06:57:00,294 - mmdet - INFO - Epoch [24][4000/4697]\tlr: 1.000e-04, eta: 1:28:17, time: 0.999, data_time: 0.013, memory: 8318, loss_rpn_cls: 0.0013, loss_rpn_bbox: 0.0041, loss_cls: 0.0417, acc: 98.3198, loss_bbox: 0.0756, loss: 0.1228\n",
      "2021-11-30 06:58:40,272 - mmdet - INFO - Epoch [24][4100/4697]\tlr: 1.000e-04, eta: 1:26:39, time: 1.000, data_time: 0.013, memory: 8318, loss_rpn_cls: 0.0016, loss_rpn_bbox: 0.0041, loss_cls: 0.0409, acc: 98.3933, loss_bbox: 0.0720, loss: 0.1187\n",
      "2021-11-30 07:00:20,198 - mmdet - INFO - Epoch [24][4200/4697]\tlr: 1.000e-04, eta: 1:25:01, time: 0.999, data_time: 0.013, memory: 8318, loss_rpn_cls: 0.0015, loss_rpn_bbox: 0.0041, loss_cls: 0.0422, acc: 98.3281, loss_bbox: 0.0747, loss: 0.1224\n",
      "2021-11-30 07:02:00,110 - mmdet - INFO - Epoch [24][4300/4697]\tlr: 1.000e-04, eta: 1:23:23, time: 0.999, data_time: 0.013, memory: 8318, loss_rpn_cls: 0.0012, loss_rpn_bbox: 0.0039, loss_cls: 0.0389, acc: 98.4358, loss_bbox: 0.0710, loss: 0.1151\n",
      "2021-11-30 07:03:39,986 - mmdet - INFO - Epoch [24][4400/4697]\tlr: 1.000e-04, eta: 1:21:45, time: 0.999, data_time: 0.013, memory: 8318, loss_rpn_cls: 0.0019, loss_rpn_bbox: 0.0041, loss_cls: 0.0409, acc: 98.3792, loss_bbox: 0.0710, loss: 0.1179\n",
      "2021-11-30 07:05:19,984 - mmdet - INFO - Epoch [24][4500/4697]\tlr: 1.000e-04, eta: 1:20:06, time: 1.000, data_time: 0.013, memory: 8318, loss_rpn_cls: 0.0015, loss_rpn_bbox: 0.0040, loss_cls: 0.0414, acc: 98.3167, loss_bbox: 0.0748, loss: 0.1218\n",
      "2021-11-30 07:07:02,905 - mmdet - INFO - Epoch [24][4600/4697]\tlr: 1.000e-04, eta: 1:18:28, time: 1.029, data_time: 0.014, memory: 8318, loss_rpn_cls: 0.0016, loss_rpn_bbox: 0.0040, loss_cls: 0.0420, acc: 98.3298, loss_bbox: 0.0726, loss: 0.1203\n",
      "2021-11-30 07:08:39,740 - mmdet - INFO - Saving checkpoint at 24 epochs\n"
     ]
    },
    {
     "name": "stdout",
     "output_type": "stream",
     "text": [
      "[>>>>>>>>>>>>>>>>>>>>>>>>] 12524/12524, 16.5 task/s, elapsed: 761s, ETA:     0s"
     ]
    },
    {
     "name": "stderr",
     "output_type": "stream",
     "text": [
      "2021-11-30 07:21:21,499 - mmdet - INFO - Evaluating bbox...\n"
     ]
    },
    {
     "name": "stdout",
     "output_type": "stream",
     "text": [
      "Loading and preparing results...\n",
      "DONE (t=0.03s)\n",
      "creating index...\n",
      "index created!\n",
      "Running per image evaluation...\n",
      "Evaluate annotation type *bbox*\n",
      "DONE (t=5.10s).\n",
      "Accumulating evaluation results...\n"
     ]
    },
    {
     "name": "stderr",
     "output_type": "stream",
     "text": [
      "2021-11-30 07:21:27,977 - mmdet - INFO - Epoch(val) [24][12524]\tbbox_mAP: 0.4350, bbox_mAP_50: 0.7740, bbox_mAP_75: 0.4400, bbox_mAP_s: 0.1670, bbox_mAP_m: 0.4190, bbox_mAP_l: 0.4230, bbox_mAP_copypaste: 0.435 0.774 0.440 0.167 0.419 0.423\n"
     ]
    },
    {
     "name": "stdout",
     "output_type": "stream",
     "text": [
      "DONE (t=1.12s).\n",
      " Average Precision  (AP) @[ IoU=0.50:0.95 | area=   all | maxDets=100 ] = 0.435\n",
      " Average Precision  (AP) @[ IoU=0.50      | area=   all | maxDets=1000 ] = 0.774\n",
      " Average Precision  (AP) @[ IoU=0.75      | area=   all | maxDets=1000 ] = 0.440\n",
      " Average Precision  (AP) @[ IoU=0.50:0.95 | area= small | maxDets=1000 ] = 0.167\n",
      " Average Precision  (AP) @[ IoU=0.50:0.95 | area=medium | maxDets=1000 ] = 0.419\n",
      " Average Precision  (AP) @[ IoU=0.50:0.95 | area= large | maxDets=1000 ] = 0.423\n",
      " Average Recall     (AR) @[ IoU=0.50:0.95 | area=   all | maxDets=100 ] = 0.543\n",
      " Average Recall     (AR) @[ IoU=0.50:0.95 | area=   all | maxDets=300 ] = 0.543\n",
      " Average Recall     (AR) @[ IoU=0.50:0.95 | area=   all | maxDets=1000 ] = 0.543\n",
      " Average Recall     (AR) @[ IoU=0.50:0.95 | area= small | maxDets=1000 ] = 0.230\n",
      " Average Recall     (AR) @[ IoU=0.50:0.95 | area=medium | maxDets=1000 ] = 0.527\n",
      " Average Recall     (AR) @[ IoU=0.50:0.95 | area= large | maxDets=1000 ] = 0.540\n"
     ]
    },
    {
     "name": "stderr",
     "output_type": "stream",
     "text": [
      "2021-11-30 07:23:10,159 - mmdet - INFO - Epoch [25][100/4697]\tlr: 1.000e-04, eta: 1:15:11, time: 1.020, data_time: 0.034, memory: 8318, loss_rpn_cls: 0.0015, loss_rpn_bbox: 0.0043, loss_cls: 0.0394, acc: 98.4214, loss_bbox: 0.0716, loss: 0.1168\n",
      "2021-11-30 07:24:50,595 - mmdet - INFO - Epoch [25][200/4697]\tlr: 1.000e-04, eta: 1:13:33, time: 1.004, data_time: 0.013, memory: 8318, loss_rpn_cls: 0.0013, loss_rpn_bbox: 0.0039, loss_cls: 0.0393, acc: 98.4387, loss_bbox: 0.0713, loss: 0.1158\n",
      "2021-11-30 07:26:34,981 - mmdet - INFO - Epoch [25][300/4697]\tlr: 1.000e-04, eta: 1:11:55, time: 1.044, data_time: 0.014, memory: 8318, loss_rpn_cls: 0.0015, loss_rpn_bbox: 0.0042, loss_cls: 0.0403, acc: 98.3845, loss_bbox: 0.0735, loss: 0.1196\n",
      "2021-11-30 07:28:14,911 - mmdet - INFO - Epoch [25][400/4697]\tlr: 1.000e-04, eta: 1:10:17, time: 0.999, data_time: 0.013, memory: 8318, loss_rpn_cls: 0.0017, loss_rpn_bbox: 0.0042, loss_cls: 0.0399, acc: 98.4175, loss_bbox: 0.0717, loss: 0.1175\n",
      "2021-11-30 07:29:54,959 - mmdet - INFO - Epoch [25][500/4697]\tlr: 1.000e-04, eta: 1:08:39, time: 1.000, data_time: 0.013, memory: 8318, loss_rpn_cls: 0.0013, loss_rpn_bbox: 0.0040, loss_cls: 0.0410, acc: 98.3359, loss_bbox: 0.0729, loss: 0.1191\n",
      "2021-11-30 07:31:34,890 - mmdet - INFO - Epoch [25][600/4697]\tlr: 1.000e-04, eta: 1:07:01, time: 0.999, data_time: 0.013, memory: 8318, loss_rpn_cls: 0.0014, loss_rpn_bbox: 0.0039, loss_cls: 0.0396, acc: 98.4333, loss_bbox: 0.0704, loss: 0.1153\n",
      "2021-11-30 07:33:14,704 - mmdet - INFO - Epoch [25][700/4697]\tlr: 1.000e-04, eta: 1:05:23, time: 0.998, data_time: 0.013, memory: 8318, loss_rpn_cls: 0.0017, loss_rpn_bbox: 0.0040, loss_cls: 0.0397, acc: 98.3975, loss_bbox: 0.0704, loss: 0.1157\n",
      "2021-11-30 07:34:54,587 - mmdet - INFO - Epoch [25][800/4697]\tlr: 1.000e-04, eta: 1:03:45, time: 0.999, data_time: 0.013, memory: 8318, loss_rpn_cls: 0.0015, loss_rpn_bbox: 0.0038, loss_cls: 0.0412, acc: 98.3389, loss_bbox: 0.0717, loss: 0.1182\n",
      "2021-11-30 07:36:34,416 - mmdet - INFO - Epoch [25][900/4697]\tlr: 1.000e-04, eta: 1:02:07, time: 0.998, data_time: 0.013, memory: 8318, loss_rpn_cls: 0.0017, loss_rpn_bbox: 0.0040, loss_cls: 0.0394, acc: 98.4453, loss_bbox: 0.0725, loss: 0.1177\n",
      "2021-11-30 07:38:14,322 - mmdet - INFO - Epoch [25][1000/4697]\tlr: 1.000e-04, eta: 1:00:29, time: 0.999, data_time: 0.013, memory: 8318, loss_rpn_cls: 0.0015, loss_rpn_bbox: 0.0040, loss_cls: 0.0387, acc: 98.4492, loss_bbox: 0.0711, loss: 0.1153\n",
      "2021-11-30 07:39:54,296 - mmdet - INFO - Epoch [25][1100/4697]\tlr: 1.000e-04, eta: 0:58:50, time: 1.000, data_time: 0.013, memory: 8318, loss_rpn_cls: 0.0015, loss_rpn_bbox: 0.0040, loss_cls: 0.0407, acc: 98.3804, loss_bbox: 0.0709, loss: 0.1171\n",
      "2021-11-30 07:41:34,099 - mmdet - INFO - Epoch [25][1200/4697]\tlr: 1.000e-04, eta: 0:57:12, time: 0.998, data_time: 0.013, memory: 8318, loss_rpn_cls: 0.0013, loss_rpn_bbox: 0.0039, loss_cls: 0.0391, acc: 98.4341, loss_bbox: 0.0702, loss: 0.1144\n",
      "2021-11-30 07:43:13,995 - mmdet - INFO - Epoch [25][1300/4697]\tlr: 1.000e-04, eta: 0:55:34, time: 0.999, data_time: 0.013, memory: 8318, loss_rpn_cls: 0.0014, loss_rpn_bbox: 0.0041, loss_cls: 0.0387, acc: 98.4285, loss_bbox: 0.0703, loss: 0.1145\n",
      "2021-11-30 07:44:53,931 - mmdet - INFO - Epoch [25][1400/4697]\tlr: 1.000e-04, eta: 0:53:56, time: 0.999, data_time: 0.013, memory: 8318, loss_rpn_cls: 0.0012, loss_rpn_bbox: 0.0039, loss_cls: 0.0408, acc: 98.3477, loss_bbox: 0.0738, loss: 0.1197\n",
      "2021-11-30 07:46:33,788 - mmdet - INFO - Epoch [25][1500/4697]\tlr: 1.000e-04, eta: 0:52:18, time: 0.999, data_time: 0.013, memory: 8318, loss_rpn_cls: 0.0015, loss_rpn_bbox: 0.0039, loss_cls: 0.0394, acc: 98.4211, loss_bbox: 0.0719, loss: 0.1166\n",
      "2021-11-30 07:48:13,697 - mmdet - INFO - Epoch [25][1600/4697]\tlr: 1.000e-04, eta: 0:50:40, time: 0.999, data_time: 0.013, memory: 8318, loss_rpn_cls: 0.0014, loss_rpn_bbox: 0.0041, loss_cls: 0.0398, acc: 98.3584, loss_bbox: 0.0725, loss: 0.1177\n",
      "2021-11-30 07:49:53,526 - mmdet - INFO - Epoch [25][1700/4697]\tlr: 1.000e-04, eta: 0:49:02, time: 0.998, data_time: 0.013, memory: 8318, loss_rpn_cls: 0.0014, loss_rpn_bbox: 0.0041, loss_cls: 0.0422, acc: 98.3301, loss_bbox: 0.0740, loss: 0.1217\n",
      "2021-11-30 07:51:33,306 - mmdet - INFO - Epoch [25][1800/4697]\tlr: 1.000e-04, eta: 0:47:24, time: 0.998, data_time: 0.013, memory: 8318, loss_rpn_cls: 0.0014, loss_rpn_bbox: 0.0039, loss_cls: 0.0394, acc: 98.4031, loss_bbox: 0.0707, loss: 0.1155\n",
      "2021-11-30 07:53:13,139 - mmdet - INFO - Epoch [25][1900/4697]\tlr: 1.000e-04, eta: 0:45:45, time: 0.998, data_time: 0.013, memory: 8318, loss_rpn_cls: 0.0015, loss_rpn_bbox: 0.0040, loss_cls: 0.0417, acc: 98.3250, loss_bbox: 0.0745, loss: 0.1217\n",
      "2021-11-30 07:54:52,957 - mmdet - INFO - Epoch [25][2000/4697]\tlr: 1.000e-04, eta: 0:44:07, time: 0.998, data_time: 0.013, memory: 8318, loss_rpn_cls: 0.0015, loss_rpn_bbox: 0.0040, loss_cls: 0.0407, acc: 98.3547, loss_bbox: 0.0711, loss: 0.1174\n",
      "2021-11-30 07:56:32,798 - mmdet - INFO - Epoch [25][2100/4697]\tlr: 1.000e-04, eta: 0:42:29, time: 0.998, data_time: 0.013, memory: 8318, loss_rpn_cls: 0.0015, loss_rpn_bbox: 0.0041, loss_cls: 0.0425, acc: 98.2925, loss_bbox: 0.0738, loss: 0.1220\n",
      "2021-11-30 07:58:12,631 - mmdet - INFO - Epoch [25][2200/4697]\tlr: 1.000e-04, eta: 0:40:51, time: 0.998, data_time: 0.013, memory: 8318, loss_rpn_cls: 0.0015, loss_rpn_bbox: 0.0040, loss_cls: 0.0386, acc: 98.4397, loss_bbox: 0.0724, loss: 0.1164\n",
      "2021-11-30 07:59:52,402 - mmdet - INFO - Epoch [25][2300/4697]\tlr: 1.000e-04, eta: 0:39:13, time: 0.998, data_time: 0.013, memory: 8318, loss_rpn_cls: 0.0013, loss_rpn_bbox: 0.0041, loss_cls: 0.0420, acc: 98.3154, loss_bbox: 0.0740, loss: 0.1215\n",
      "2021-11-30 08:01:32,292 - mmdet - INFO - Epoch [25][2400/4697]\tlr: 1.000e-04, eta: 0:37:35, time: 0.999, data_time: 0.013, memory: 8318, loss_rpn_cls: 0.0017, loss_rpn_bbox: 0.0040, loss_cls: 0.0418, acc: 98.3691, loss_bbox: 0.0715, loss: 0.1191\n",
      "2021-11-30 08:03:12,097 - mmdet - INFO - Epoch [25][2500/4697]\tlr: 1.000e-04, eta: 0:35:57, time: 0.998, data_time: 0.013, memory: 8318, loss_rpn_cls: 0.0018, loss_rpn_bbox: 0.0041, loss_cls: 0.0418, acc: 98.3345, loss_bbox: 0.0754, loss: 0.1231\n",
      "2021-11-30 08:04:51,913 - mmdet - INFO - Epoch [25][2600/4697]\tlr: 1.000e-04, eta: 0:34:18, time: 0.998, data_time: 0.014, memory: 8318, loss_rpn_cls: 0.0017, loss_rpn_bbox: 0.0042, loss_cls: 0.0398, acc: 98.3889, loss_bbox: 0.0722, loss: 0.1179\n",
      "2021-11-30 08:06:31,668 - mmdet - INFO - Epoch [25][2700/4697]\tlr: 1.000e-04, eta: 0:32:40, time: 0.998, data_time: 0.013, memory: 8318, loss_rpn_cls: 0.0012, loss_rpn_bbox: 0.0041, loss_cls: 0.0405, acc: 98.3589, loss_bbox: 0.0738, loss: 0.1196\n",
      "2021-11-30 08:08:11,469 - mmdet - INFO - Epoch [25][2800/4697]\tlr: 1.000e-04, eta: 0:31:02, time: 0.998, data_time: 0.013, memory: 8318, loss_rpn_cls: 0.0016, loss_rpn_bbox: 0.0041, loss_cls: 0.0403, acc: 98.3682, loss_bbox: 0.0713, loss: 0.1172\n",
      "2021-11-30 08:09:51,468 - mmdet - INFO - Epoch [25][2900/4697]\tlr: 1.000e-04, eta: 0:29:24, time: 1.000, data_time: 0.013, memory: 8318, loss_rpn_cls: 0.0015, loss_rpn_bbox: 0.0041, loss_cls: 0.0410, acc: 98.3779, loss_bbox: 0.0727, loss: 0.1192\n",
      "2021-11-30 08:11:31,371 - mmdet - INFO - Epoch [25][3000/4697]\tlr: 1.000e-04, eta: 0:27:46, time: 0.999, data_time: 0.013, memory: 8318, loss_rpn_cls: 0.0016, loss_rpn_bbox: 0.0040, loss_cls: 0.0405, acc: 98.3706, loss_bbox: 0.0713, loss: 0.1174\n",
      "2021-11-30 08:13:11,142 - mmdet - INFO - Epoch [25][3100/4697]\tlr: 1.000e-04, eta: 0:26:08, time: 0.998, data_time: 0.013, memory: 8318, loss_rpn_cls: 0.0013, loss_rpn_bbox: 0.0039, loss_cls: 0.0388, acc: 98.4570, loss_bbox: 0.0710, loss: 0.1150\n",
      "2021-11-30 08:14:51,041 - mmdet - INFO - Epoch [25][3200/4697]\tlr: 1.000e-04, eta: 0:24:29, time: 0.999, data_time: 0.013, memory: 8318, loss_rpn_cls: 0.0016, loss_rpn_bbox: 0.0041, loss_cls: 0.0397, acc: 98.3831, loss_bbox: 0.0715, loss: 0.1169\n",
      "2021-11-30 08:16:30,920 - mmdet - INFO - Epoch [25][3300/4697]\tlr: 1.000e-04, eta: 0:22:51, time: 0.999, data_time: 0.013, memory: 8318, loss_rpn_cls: 0.0014, loss_rpn_bbox: 0.0039, loss_cls: 0.0405, acc: 98.3911, loss_bbox: 0.0728, loss: 0.1187\n",
      "2021-11-30 08:18:10,791 - mmdet - INFO - Epoch [25][3400/4697]\tlr: 1.000e-04, eta: 0:21:13, time: 0.999, data_time: 0.013, memory: 8318, loss_rpn_cls: 0.0012, loss_rpn_bbox: 0.0039, loss_cls: 0.0405, acc: 98.3857, loss_bbox: 0.0718, loss: 0.1174\n"
     ]
    },
    {
     "name": "stderr",
     "output_type": "stream",
     "text": [
      "2021-11-30 08:19:50,610 - mmdet - INFO - Epoch [25][3500/4697]\tlr: 1.000e-04, eta: 0:19:35, time: 0.998, data_time: 0.013, memory: 8318, loss_rpn_cls: 0.0014, loss_rpn_bbox: 0.0041, loss_cls: 0.0404, acc: 98.3638, loss_bbox: 0.0723, loss: 0.1182\n",
      "2021-11-30 08:21:30,365 - mmdet - INFO - Epoch [25][3600/4697]\tlr: 1.000e-04, eta: 0:17:57, time: 0.998, data_time: 0.013, memory: 8318, loss_rpn_cls: 0.0014, loss_rpn_bbox: 0.0039, loss_cls: 0.0380, acc: 98.4827, loss_bbox: 0.0685, loss: 0.1118\n",
      "2021-11-30 08:23:10,138 - mmdet - INFO - Epoch [25][3700/4697]\tlr: 1.000e-04, eta: 0:16:19, time: 0.998, data_time: 0.013, memory: 8318, loss_rpn_cls: 0.0013, loss_rpn_bbox: 0.0040, loss_cls: 0.0398, acc: 98.3691, loss_bbox: 0.0724, loss: 0.1175\n",
      "2021-11-30 08:24:49,984 - mmdet - INFO - Epoch [25][3800/4697]\tlr: 1.000e-04, eta: 0:14:40, time: 0.998, data_time: 0.014, memory: 8318, loss_rpn_cls: 0.0016, loss_rpn_bbox: 0.0041, loss_cls: 0.0418, acc: 98.3281, loss_bbox: 0.0747, loss: 0.1221\n",
      "2021-11-30 08:26:29,763 - mmdet - INFO - Epoch [25][3900/4697]\tlr: 1.000e-04, eta: 0:13:02, time: 0.998, data_time: 0.013, memory: 8318, loss_rpn_cls: 0.0018, loss_rpn_bbox: 0.0040, loss_cls: 0.0399, acc: 98.3931, loss_bbox: 0.0703, loss: 0.1161\n",
      "2021-11-30 08:28:09,526 - mmdet - INFO - Epoch [25][4000/4697]\tlr: 1.000e-04, eta: 0:11:24, time: 0.998, data_time: 0.013, memory: 8318, loss_rpn_cls: 0.0016, loss_rpn_bbox: 0.0040, loss_cls: 0.0398, acc: 98.3862, loss_bbox: 0.0710, loss: 0.1164\n",
      "2021-11-30 08:29:49,228 - mmdet - INFO - Epoch [25][4100/4697]\tlr: 1.000e-04, eta: 0:09:46, time: 0.997, data_time: 0.013, memory: 8318, loss_rpn_cls: 0.0015, loss_rpn_bbox: 0.0039, loss_cls: 0.0384, acc: 98.4360, loss_bbox: 0.0707, loss: 0.1146\n",
      "2021-11-30 08:31:28,898 - mmdet - INFO - Epoch [25][4200/4697]\tlr: 1.000e-04, eta: 0:08:08, time: 0.997, data_time: 0.013, memory: 8318, loss_rpn_cls: 0.0013, loss_rpn_bbox: 0.0040, loss_cls: 0.0416, acc: 98.3127, loss_bbox: 0.0727, loss: 0.1196\n",
      "2021-11-30 08:33:08,593 - mmdet - INFO - Epoch [25][4300/4697]\tlr: 1.000e-04, eta: 0:06:29, time: 0.997, data_time: 0.013, memory: 8318, loss_rpn_cls: 0.0015, loss_rpn_bbox: 0.0038, loss_cls: 0.0406, acc: 98.3801, loss_bbox: 0.0732, loss: 0.1191\n",
      "2021-11-30 08:34:48,287 - mmdet - INFO - Epoch [25][4400/4697]\tlr: 1.000e-04, eta: 0:04:51, time: 0.997, data_time: 0.014, memory: 8318, loss_rpn_cls: 0.0015, loss_rpn_bbox: 0.0039, loss_cls: 0.0404, acc: 98.4055, loss_bbox: 0.0707, loss: 0.1165\n",
      "2021-11-30 08:36:27,997 - mmdet - INFO - Epoch [25][4500/4697]\tlr: 1.000e-04, eta: 0:03:13, time: 0.997, data_time: 0.013, memory: 8318, loss_rpn_cls: 0.0018, loss_rpn_bbox: 0.0043, loss_cls: 0.0403, acc: 98.4019, loss_bbox: 0.0693, loss: 0.1156\n",
      "2021-11-30 08:38:07,777 - mmdet - INFO - Epoch [25][4600/4697]\tlr: 1.000e-04, eta: 0:01:35, time: 0.998, data_time: 0.013, memory: 8318, loss_rpn_cls: 0.0014, loss_rpn_bbox: 0.0039, loss_cls: 0.0403, acc: 98.3762, loss_bbox: 0.0711, loss: 0.1166\n",
      "2021-11-30 08:39:44,479 - mmdet - INFO - Saving checkpoint at 25 epochs\n"
     ]
    },
    {
     "name": "stdout",
     "output_type": "stream",
     "text": [
      "[>>>>>>>>>>>>>>>>>>>>>>>>] 12524/12524, 15.7 task/s, elapsed: 798s, ETA:     0s"
     ]
    },
    {
     "name": "stderr",
     "output_type": "stream",
     "text": [
      "2021-11-30 08:53:03,652 - mmdet - INFO - Evaluating bbox...\n"
     ]
    },
    {
     "name": "stdout",
     "output_type": "stream",
     "text": [
      "Loading and preparing results...\n",
      "DONE (t=0.20s)\n",
      "creating index...\n",
      "index created!\n",
      "Running per image evaluation...\n",
      "Evaluate annotation type *bbox*\n",
      "DONE (t=5.16s).\n",
      "Accumulating evaluation results...\n"
     ]
    },
    {
     "name": "stderr",
     "output_type": "stream",
     "text": [
      "2021-11-30 08:53:10,398 - mmdet - INFO - Epoch(val) [25][12524]\tbbox_mAP: 0.4350, bbox_mAP_50: 0.7730, bbox_mAP_75: 0.4380, bbox_mAP_s: 0.1590, bbox_mAP_m: 0.4190, bbox_mAP_l: 0.4220, bbox_mAP_copypaste: 0.435 0.773 0.438 0.159 0.419 0.422\n"
     ]
    },
    {
     "name": "stdout",
     "output_type": "stream",
     "text": [
      "DONE (t=1.15s).\n",
      " Average Precision  (AP) @[ IoU=0.50:0.95 | area=   all | maxDets=100 ] = 0.435\n",
      " Average Precision  (AP) @[ IoU=0.50      | area=   all | maxDets=1000 ] = 0.773\n",
      " Average Precision  (AP) @[ IoU=0.75      | area=   all | maxDets=1000 ] = 0.438\n",
      " Average Precision  (AP) @[ IoU=0.50:0.95 | area= small | maxDets=1000 ] = 0.159\n",
      " Average Precision  (AP) @[ IoU=0.50:0.95 | area=medium | maxDets=1000 ] = 0.419\n",
      " Average Precision  (AP) @[ IoU=0.50:0.95 | area= large | maxDets=1000 ] = 0.422\n",
      " Average Recall     (AR) @[ IoU=0.50:0.95 | area=   all | maxDets=100 ] = 0.543\n",
      " Average Recall     (AR) @[ IoU=0.50:0.95 | area=   all | maxDets=300 ] = 0.543\n",
      " Average Recall     (AR) @[ IoU=0.50:0.95 | area=   all | maxDets=1000 ] = 0.543\n",
      " Average Recall     (AR) @[ IoU=0.50:0.95 | area= small | maxDets=1000 ] = 0.223\n",
      " Average Recall     (AR) @[ IoU=0.50:0.95 | area=medium | maxDets=1000 ] = 0.528\n",
      " Average Recall     (AR) @[ IoU=0.50:0.95 | area= large | maxDets=1000 ] = 0.538\n"
     ]
    }
   ],
   "source": [
    "train_detector(model, datasets, cfg, distributed=False, validate=True)"
   ]
  },
  {
   "cell_type": "code",
   "execution_count": 12,
   "id": "91653155",
   "metadata": {},
   "outputs": [],
   "source": [
    "cfg.dump(\"/home/bgw2001/mmdetection/work_dir/faster_rcnn_resnet50_conf.py\")"
   ]
  },
  {
   "cell_type": "markdown",
   "id": "c54f64c5",
   "metadata": {},
   "source": [
    "## import"
   ]
  },
  {
   "cell_type": "code",
   "execution_count": 6,
   "id": "2b241c92",
   "metadata": {},
   "outputs": [],
   "source": [
    "import json\n",
    "import json\n",
    "import base64\n",
    "import numpy as np\n",
    "import cv2\n",
    "import pandas as pd\n",
    "import os\n",
    "\n",
    "from PIL import Image\n",
    "from io import BytesIO\n",
    "from mmdet.apis import init_detector, inference_detector, show_result_pyplot\n",
    "from mmdet.apis import multi_gpu_test, single_gpu_test\n",
    "from mmcv.parallel import MMDataParallel, MMDistributedDataParallel\n",
    "from mmdet.datasets import (build_dataloader, build_dataset, replace_ImageToTensor)\n",
    "from mmdet.datasets.builder import DATASETS\n",
    "from mmdet.datasets import CocoDataset\n",
    "from tqdm import tqdm\n",
    "from glob import glob\n",
    "from mmcv import Config"
   ]
  },
  {
   "cell_type": "code",
   "execution_count": 2,
   "id": "24217ff7",
   "metadata": {},
   "outputs": [],
   "source": [
    "# 데이터 셋 등록\n",
    "@DATASETS.register_module(force = True)\n",
    "class CapsuleDataset(CocoDataset):\n",
    "    CLASSES = (\"01_ulcer\", \"02_mass\", \"04_lymph\", \"05_bleeding\")\n",
    "\n",
    "config_file = \"/home/bgw2001/mmdetection/work_dir/Faster_RCNN_Resnet50_v1/faster_rcnn_resnet50_conf.py\"\n",
    "checkpoint_file = \"/home/bgw2001/mmdetection/work_dir/Faster_RCNN_Resnet50_v1/epoch_17.pth\""
   ]
  },
  {
   "cell_type": "code",
   "execution_count": 3,
   "id": "d6b40d38",
   "metadata": {},
   "outputs": [],
   "source": [
    "def submission(model, paths, score_thr = 0.5):\n",
    "    file_names = []\n",
    "    class_ids = []\n",
    "    confidences = []\n",
    "    \n",
    "    point1_x = []\n",
    "    point1_y = []\n",
    "    \n",
    "    point2_x = []\n",
    "    point2_y = []\n",
    "\n",
    "    point3_x = []\n",
    "    point3_y = []\n",
    "\n",
    "    point4_x = []\n",
    "    point4_y = []\n",
    "    \n",
    "    for path in tqdm(paths):\n",
    "        \n",
    "        with open(path, \"r\") as f:\n",
    "            data = json.load(f)\n",
    "        \n",
    "        img = Image.open(BytesIO(base64.b64decode(data['imageData'])))\n",
    "        img = np.array(img, np.uint8)\n",
    "        img = cv2.cvtColor(img, cv2.COLOR_RGB2BGR)\n",
    "        \n",
    "        results = inference_detector(model, img)\n",
    "        \n",
    "        index = path.rfind(\"/\")\n",
    "        file_name = path[index + 1:]\n",
    "        \n",
    "        for ind,result in enumerate(results):\n",
    "            for i in range(len(result)):\n",
    "                if result[i,4] > score_thr:\n",
    "                    file_names.append(file_name)\n",
    "                    xmin = result[i,0]\n",
    "                    ymin = result[i,1]\n",
    "                    xmax = result[i,2]\n",
    "                    ymax = result[i,3]\n",
    "            \n",
    "                    point1_x.append(xmin)\n",
    "                    point1_y.append(ymin)\n",
    "            \n",
    "                    point2_x.append(xmax)\n",
    "                    point2_y.append(ymin)\n",
    "            \n",
    "                    point3_x.append(xmax)\n",
    "                    point3_y.append(ymax)\n",
    "            \n",
    "                    point4_x.append(xmin)\n",
    "                    point4_y.append(ymax)\n",
    "            \n",
    "                    class_ids.append(ind)\n",
    "                    confidences.append(result[i,4])\n",
    "    \n",
    "    submission = pd.DataFrame({\"file_name\":file_names,\n",
    "                               \"class_id\":class_ids,\n",
    "                               \"confidence\":confidences,\n",
    "                               \"point1_x\":point1_x,\n",
    "                               \"point1_y\":point1_y,\n",
    "                               \"point2_x\":point2_x,\n",
    "                               \"point2_y\":point2_y,\n",
    "                               \"point3_x\":point3_x,\n",
    "                               \"point3_y\":point3_y,\n",
    "                               \"point4_x\":point4_x,\n",
    "                               \"point4_y\":point4_y})\n",
    "    return submission"
   ]
  },
  {
   "cell_type": "code",
   "execution_count": 4,
   "id": "be9439e3",
   "metadata": {},
   "outputs": [
    {
     "name": "stdout",
     "output_type": "stream",
     "text": [
      "/media/bgw2001/One Touch/project/HardCover_ObjectDetection/code/faster_rcnn\r\n"
     ]
    }
   ],
   "source": [
    "!pwd"
   ]
  },
  {
   "cell_type": "code",
   "execution_count": 7,
   "id": "e2fe8e75",
   "metadata": {},
   "outputs": [
    {
     "name": "stdout",
     "output_type": "stream",
     "text": [
      "total 1792\r\n",
      "715 drwxr-xr-x  7 bgw2001 bgw2001 262144 11월 28 00:32 .\r\n",
      "683 drwxr-xr-x 18 bgw2001 bgw2001 262144 11월 17 17:26 ..\r\n",
      "723 drwxr-xr-x  5 bgw2001 bgw2001 262144 11월 28 18:52 code\r\n",
      "721 drwxr-xr-x  8 bgw2001 bgw2001 262144 11월 25 11:24 data\r\n",
      "726 drwxr-xr-x  2 bgw2001 bgw2001 262144 11월 25 11:40 .ipynb_checkpoints\r\n",
      "724 drwxr-xr-x  3 bgw2001 bgw2001 262144 11월 28 18:52 practice_code\r\n",
      "722 drwxr-xr-x  3 bgw2001 bgw2001 262144 11월 19 14:50 ref\r\n"
     ]
    }
   ],
   "source": [
    "os.chdir(\"/media/bgw2001/One Touch/project/HardCover_ObjectDetection/\")\n",
    "!ls -ail"
   ]
  },
  {
   "cell_type": "code",
   "execution_count": 8,
   "id": "abca5fdd",
   "metadata": {},
   "outputs": [
    {
     "name": "stdout",
     "output_type": "stream",
     "text": [
      "Use load_from_local loader\n"
     ]
    }
   ],
   "source": [
    "model = init_detector(config_file, checkpoint_file)\n",
    "\n",
    "paths = glob(\"./data/test/*.json\")"
   ]
  },
  {
   "cell_type": "code",
   "execution_count": 9,
   "id": "cd35f81b",
   "metadata": {},
   "outputs": [
    {
     "name": "stdout",
     "output_type": "stream",
     "text": [
      "20874\n"
     ]
    }
   ],
   "source": [
    "print(len(paths))"
   ]
  },
  {
   "cell_type": "code",
   "execution_count": 16,
   "id": "2f91082f",
   "metadata": {},
   "outputs": [
    {
     "name": "stderr",
     "output_type": "stream",
     "text": [
      "100%|███████████████████████████████████████████████████████████████████████████████████████████████████████| 20874/20874 [29:04<00:00, 11.96it/s]\n"
     ]
    }
   ],
   "source": [
    "df = submission(model, paths, score_thr = 0.6)"
   ]
  },
  {
   "cell_type": "code",
   "execution_count": 17,
   "id": "2626fa2d",
   "metadata": {
    "scrolled": true
   },
   "outputs": [
    {
     "name": "stdout",
     "output_type": "stream",
     "text": [
      "데이터 프레임 모양: (25355, 11)\n"
     ]
    },
    {
     "data": {
      "text/html": [
       "<div>\n",
       "<style scoped>\n",
       "    .dataframe tbody tr th:only-of-type {\n",
       "        vertical-align: middle;\n",
       "    }\n",
       "\n",
       "    .dataframe tbody tr th {\n",
       "        vertical-align: top;\n",
       "    }\n",
       "\n",
       "    .dataframe thead th {\n",
       "        text-align: right;\n",
       "    }\n",
       "</style>\n",
       "<table border=\"1\" class=\"dataframe\">\n",
       "  <thead>\n",
       "    <tr style=\"text-align: right;\">\n",
       "      <th></th>\n",
       "      <th>file_name</th>\n",
       "      <th>class_id</th>\n",
       "      <th>confidence</th>\n",
       "      <th>point1_x</th>\n",
       "      <th>point1_y</th>\n",
       "      <th>point2_x</th>\n",
       "      <th>point2_y</th>\n",
       "      <th>point3_x</th>\n",
       "      <th>point3_y</th>\n",
       "      <th>point4_x</th>\n",
       "      <th>point4_y</th>\n",
       "    </tr>\n",
       "  </thead>\n",
       "  <tbody>\n",
       "    <tr>\n",
       "      <th>0</th>\n",
       "      <td>test_200000.json</td>\n",
       "      <td>3</td>\n",
       "      <td>0.786032</td>\n",
       "      <td>377.178467</td>\n",
       "      <td>346.110779</td>\n",
       "      <td>402.156799</td>\n",
       "      <td>346.110779</td>\n",
       "      <td>402.156799</td>\n",
       "      <td>373.104889</td>\n",
       "      <td>377.178467</td>\n",
       "      <td>373.104889</td>\n",
       "    </tr>\n",
       "    <tr>\n",
       "      <th>1</th>\n",
       "      <td>test_200001.json</td>\n",
       "      <td>0</td>\n",
       "      <td>0.985296</td>\n",
       "      <td>115.345901</td>\n",
       "      <td>328.685059</td>\n",
       "      <td>267.444366</td>\n",
       "      <td>328.685059</td>\n",
       "      <td>267.444366</td>\n",
       "      <td>467.771942</td>\n",
       "      <td>115.345901</td>\n",
       "      <td>467.771942</td>\n",
       "    </tr>\n",
       "    <tr>\n",
       "      <th>2</th>\n",
       "      <td>test_200001.json</td>\n",
       "      <td>0</td>\n",
       "      <td>0.962814</td>\n",
       "      <td>407.581421</td>\n",
       "      <td>193.116669</td>\n",
       "      <td>520.224670</td>\n",
       "      <td>193.116669</td>\n",
       "      <td>520.224670</td>\n",
       "      <td>312.753479</td>\n",
       "      <td>407.581421</td>\n",
       "      <td>312.753479</td>\n",
       "    </tr>\n",
       "    <tr>\n",
       "      <th>3</th>\n",
       "      <td>test_200002.json</td>\n",
       "      <td>1</td>\n",
       "      <td>0.748694</td>\n",
       "      <td>221.077362</td>\n",
       "      <td>345.081451</td>\n",
       "      <td>345.777252</td>\n",
       "      <td>345.081451</td>\n",
       "      <td>345.777252</td>\n",
       "      <td>490.763245</td>\n",
       "      <td>221.077362</td>\n",
       "      <td>490.763245</td>\n",
       "    </tr>\n",
       "    <tr>\n",
       "      <th>4</th>\n",
       "      <td>test_200003.json</td>\n",
       "      <td>1</td>\n",
       "      <td>0.997235</td>\n",
       "      <td>227.892868</td>\n",
       "      <td>139.104950</td>\n",
       "      <td>318.544739</td>\n",
       "      <td>139.104950</td>\n",
       "      <td>318.544739</td>\n",
       "      <td>255.933640</td>\n",
       "      <td>227.892868</td>\n",
       "      <td>255.933640</td>\n",
       "    </tr>\n",
       "  </tbody>\n",
       "</table>\n",
       "</div>"
      ],
      "text/plain": [
       "          file_name  class_id  confidence    point1_x    point1_y    point2_x  \\\n",
       "0  test_200000.json         3    0.786032  377.178467  346.110779  402.156799   \n",
       "1  test_200001.json         0    0.985296  115.345901  328.685059  267.444366   \n",
       "2  test_200001.json         0    0.962814  407.581421  193.116669  520.224670   \n",
       "3  test_200002.json         1    0.748694  221.077362  345.081451  345.777252   \n",
       "4  test_200003.json         1    0.997235  227.892868  139.104950  318.544739   \n",
       "\n",
       "     point2_y    point3_x    point3_y    point4_x    point4_y  \n",
       "0  346.110779  402.156799  373.104889  377.178467  373.104889  \n",
       "1  328.685059  267.444366  467.771942  115.345901  467.771942  \n",
       "2  193.116669  520.224670  312.753479  407.581421  312.753479  \n",
       "3  345.081451  345.777252  490.763245  221.077362  490.763245  \n",
       "4  139.104950  318.544739  255.933640  227.892868  255.933640  "
      ]
     },
     "execution_count": 17,
     "metadata": {},
     "output_type": "execute_result"
    }
   ],
   "source": [
    "print(\"데이터 프레임 모양:\",df.shape)\n",
    "df.head()"
   ]
  },
  {
   "cell_type": "code",
   "execution_count": 18,
   "id": "87e993dd",
   "metadata": {},
   "outputs": [
    {
     "data": {
      "text/html": [
       "<div>\n",
       "<style scoped>\n",
       "    .dataframe tbody tr th:only-of-type {\n",
       "        vertical-align: middle;\n",
       "    }\n",
       "\n",
       "    .dataframe tbody tr th {\n",
       "        vertical-align: top;\n",
       "    }\n",
       "\n",
       "    .dataframe thead th {\n",
       "        text-align: right;\n",
       "    }\n",
       "</style>\n",
       "<table border=\"1\" class=\"dataframe\">\n",
       "  <thead>\n",
       "    <tr style=\"text-align: right;\">\n",
       "      <th></th>\n",
       "      <th>file_name</th>\n",
       "      <th>class_id</th>\n",
       "      <th>confidence</th>\n",
       "      <th>point1_x</th>\n",
       "      <th>point1_y</th>\n",
       "      <th>point2_x</th>\n",
       "      <th>point2_y</th>\n",
       "      <th>point3_x</th>\n",
       "      <th>point3_y</th>\n",
       "      <th>point4_x</th>\n",
       "      <th>point4_y</th>\n",
       "    </tr>\n",
       "  </thead>\n",
       "  <tbody>\n",
       "    <tr>\n",
       "      <th>1</th>\n",
       "      <td>test_200001.json</td>\n",
       "      <td>1</td>\n",
       "      <td>0.985296</td>\n",
       "      <td>115.345901</td>\n",
       "      <td>328.685059</td>\n",
       "      <td>267.444366</td>\n",
       "      <td>328.685059</td>\n",
       "      <td>267.444366</td>\n",
       "      <td>467.771942</td>\n",
       "      <td>115.345901</td>\n",
       "      <td>467.771942</td>\n",
       "    </tr>\n",
       "    <tr>\n",
       "      <th>2</th>\n",
       "      <td>test_200001.json</td>\n",
       "      <td>1</td>\n",
       "      <td>0.962814</td>\n",
       "      <td>407.581421</td>\n",
       "      <td>193.116669</td>\n",
       "      <td>520.224670</td>\n",
       "      <td>193.116669</td>\n",
       "      <td>520.224670</td>\n",
       "      <td>312.753479</td>\n",
       "      <td>407.581421</td>\n",
       "      <td>312.753479</td>\n",
       "    </tr>\n",
       "  </tbody>\n",
       "</table>\n",
       "</div>"
      ],
      "text/plain": [
       "          file_name  class_id  confidence    point1_x    point1_y    point2_x  \\\n",
       "1  test_200001.json         1    0.985296  115.345901  328.685059  267.444366   \n",
       "2  test_200001.json         1    0.962814  407.581421  193.116669  520.224670   \n",
       "\n",
       "     point2_y    point3_x    point3_y    point4_x    point4_y  \n",
       "1  328.685059  267.444366  467.771942  115.345901  467.771942  \n",
       "2  193.116669  520.224670  312.753479  407.581421  312.753479  "
      ]
     },
     "execution_count": 18,
     "metadata": {},
     "output_type": "execute_result"
    }
   ],
   "source": [
    "df['class_id'] = df['class_id'] + 1\n",
    "df[df['file_name'] == \"test_200001.json\"]"
   ]
  },
  {
   "cell_type": "code",
   "execution_count": 19,
   "id": "1ca55990",
   "metadata": {},
   "outputs": [],
   "source": [
    "df.to_csv(\"/media/bgw2001/One Touch/project/HardCover_ObjectDetection/data/submission/faster_rcnn_resnet50_submission_v1_2.csv\",index=False)"
   ]
  },
  {
   "cell_type": "code",
   "execution_count": null,
   "id": "cfcc4d19",
   "metadata": {},
   "outputs": [],
   "source": []
  }
 ],
 "metadata": {
  "kernelspec": {
   "display_name": "Python 3 (ipykernel)",
   "language": "python",
   "name": "python3"
  },
  "language_info": {
   "codemirror_mode": {
    "name": "ipython",
    "version": 3
   },
   "file_extension": ".py",
   "mimetype": "text/x-python",
   "name": "python",
   "nbconvert_exporter": "python",
   "pygments_lexer": "ipython3",
   "version": "3.8.11"
  }
 },
 "nbformat": 4,
 "nbformat_minor": 5
}
